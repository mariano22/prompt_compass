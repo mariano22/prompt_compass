{
 "cells": [
  {
   "cell_type": "code",
   "execution_count": 2,
   "id": "f5974acf-81fa-428f-b02a-7962df000d61",
   "metadata": {},
   "outputs": [],
   "source": [
    "import dspy\n",
    "\n",
    "lm = dspy.LM('openai/gpt-4.1-nano')\n",
    "dspy.configure(lm=lm)"
   ]
  },
  {
   "cell_type": "code",
   "execution_count": 40,
   "id": "987afa1c-0801-4606-bb44-256844283f47",
   "metadata": {},
   "outputs": [
    {
     "name": "stdout",
     "output_type": "stream",
     "text": [
      "In Linux, \"high memory\" and \"low memory\" refer to different regions of the system's memory address space, particularly in the context of how the kernel manages memory for processes.\n",
      "\n",
      "- **Low Memory**: This typically refers to the memory that is directly accessible by the kernel and can be used by processes without any special handling. In a 32-bit system, this is usually the first 896 MB of RAM (though this can vary based on the architecture and configuration). Low memory is used for kernel data structures and for user processes that require direct access to memory.\n",
      "\n",
      "- **High Memory**: This refers to memory that is above the low memory limit and is not directly accessible by the kernel in a 32-bit system. Processes can use this memory, but the kernel must use special mechanisms (like paging) to access it. High memory is often used in systems with large amounts of RAM, allowing more memory to be allocated to user processes while still maintaining a smaller footprint for the kernel.\n",
      "\n",
      "In summary, low memory is directly accessible by the kernel, while high memory requires additional handling for access by the kernel, especially in 32-bit systems.\n"
     ]
    }
   ],
   "source": [
    "qa = dspy.Predict('question: str -> response: str')\n",
    "response = qa(question=\"what are high memory and low memory on linux?\")\n",
    "\n",
    "print(response.response)"
   ]
  },
  {
   "cell_type": "code",
   "execution_count": 41,
   "id": "3cf461b1-2084-43b1-951a-b8589e3760e5",
   "metadata": {},
   "outputs": [
    {
     "name": "stdout",
     "output_type": "stream",
     "text": [
      "\n",
      "\n",
      "\n",
      "\n",
      "\u001b[34m[2025-05-18T10:39:49.439604]\u001b[0m\n",
      "\n",
      "\u001b[31mSystem message:\u001b[0m\n",
      "\n",
      "Your input fields are:\n",
      "1. `question` (str)\n",
      "Your output fields are:\n",
      "1. `response` (str)\n",
      "All interactions will be structured in the following way, with the appropriate values filled in.\n",
      "\n",
      "[[ ## question ## ]]\n",
      "{question}\n",
      "\n",
      "[[ ## response ## ]]\n",
      "{response}\n",
      "\n",
      "[[ ## completed ## ]]\n",
      "In adhering to this structure, your objective is: \n",
      "        Given the fields `question`, produce the fields `response`.\n",
      "\n",
      "\n",
      "\u001b[31mUser message:\u001b[0m\n",
      "\n",
      "[[ ## question ## ]]\n",
      "what are high memory and low memory on linux?\n",
      "\n",
      "Respond with the corresponding output fields, starting with the field `[[ ## response ## ]]`, and then ending with the marker for `[[ ## completed ## ]]`.\n",
      "\n",
      "\n",
      "\u001b[31mResponse:\u001b[0m\n",
      "\n",
      "\u001b[32m[[ ## response ## ]]\n",
      "In Linux, \"high memory\" and \"low memory\" refer to different regions of the system's memory address space, particularly in the context of how the kernel manages memory for processes.\n",
      "\n",
      "- **Low Memory**: This typically refers to the memory that is directly accessible by the kernel and can be used by processes without any special handling. In a 32-bit system, this is usually the first 896 MB of RAM (though this can vary based on the architecture and configuration). Low memory is used for kernel data structures and for user processes that require direct access to memory.\n",
      "\n",
      "- **High Memory**: This refers to memory that is above the low memory limit and is not directly accessible by the kernel in a 32-bit system. Processes can use this memory, but the kernel must use special mechanisms (like paging) to access it. High memory is often used in systems with large amounts of RAM, allowing more memory to be allocated to user processes while still maintaining a smaller footprint for the kernel.\n",
      "\n",
      "In summary, low memory is directly accessible by the kernel, while high memory requires additional handling for access by the kernel, especially in 32-bit systems.\n",
      "\n",
      "[[ ## completed ## ]]\u001b[0m\n",
      "\n",
      "\n",
      "\n",
      "\n",
      "\n"
     ]
    }
   ],
   "source": [
    "dspy.inspect_history(n=1)\n"
   ]
  },
  {
   "cell_type": "code",
   "execution_count": 42,
   "id": "2f10af7a-faed-4ace-b0b4-8ca5ee7fdf13",
   "metadata": {},
   "outputs": [
    {
     "data": {
      "text/plain": [
       "\"Curly braces can either appear on their own line or on the same line as the preceding statement, depending on the coding style you choose to follow. It's important to maintain consistency throughout your codebase.\""
      ]
     },
     "execution_count": 42,
     "metadata": {},
     "output_type": "execute_result"
    }
   ],
   "source": [
    "cot = dspy.ChainOfThought('question -> response')\n",
    "r=cot(question=\"should curly braces appear on their own line?\")\n",
    "r.response"
   ]
  },
  {
   "cell_type": "code",
   "execution_count": 43,
   "id": "558141d9-99fd-4834-aea2-3f419a2bfc6f",
   "metadata": {},
   "outputs": [
    {
     "name": "stdout",
     "output_type": "stream",
     "text": [
      "\n",
      "\n",
      "\n",
      "\n",
      "\u001b[34m[2025-05-18T10:42:11.263307]\u001b[0m\n",
      "\n",
      "\u001b[31mSystem message:\u001b[0m\n",
      "\n",
      "Your input fields are:\n",
      "1. `question` (str)\n",
      "Your output fields are:\n",
      "1. `reasoning` (str)\n",
      "2. `response` (str)\n",
      "All interactions will be structured in the following way, with the appropriate values filled in.\n",
      "\n",
      "[[ ## question ## ]]\n",
      "{question}\n",
      "\n",
      "[[ ## reasoning ## ]]\n",
      "{reasoning}\n",
      "\n",
      "[[ ## response ## ]]\n",
      "{response}\n",
      "\n",
      "[[ ## completed ## ]]\n",
      "In adhering to this structure, your objective is: \n",
      "        Given the fields `question`, produce the fields `response`.\n",
      "\n",
      "\n",
      "\u001b[31mUser message:\u001b[0m\n",
      "\n",
      "[[ ## question ## ]]\n",
      "should curly braces appear on their own line?\n",
      "\n",
      "Respond with the corresponding output fields, starting with the field `[[ ## reasoning ## ]]`, then `[[ ## response ## ]]`, and then ending with the marker for `[[ ## completed ## ]]`.\n",
      "\n",
      "\n",
      "\u001b[31mResponse:\u001b[0m\n",
      "\n",
      "\u001b[32m[[ ## reasoning ## ]]\n",
      "The placement of curly braces on their own line is largely a matter of coding style and conventions. In some programming languages and style guides, such as those used in C, Java, and JavaScript, it is common to place opening curly braces on the same line as the statement that precedes them, while closing braces are often placed on a new line. This style is known as \"K&R style.\" However, other conventions, like the Allman style, advocate for placing both opening and closing braces on their own lines. Ultimately, the choice depends on the team's coding standards or personal preference, but consistency within a project is key.\n",
      "\n",
      "[[ ## response ## ]]\n",
      "Curly braces can either appear on their own line or on the same line as the preceding statement, depending on the coding style you choose to follow. It's important to maintain consistency throughout your codebase. \n",
      "\n",
      "[[ ## completed ## ]]\u001b[0m\n",
      "\n",
      "\n",
      "\n",
      "\n",
      "\n"
     ]
    }
   ],
   "source": [
    "dspy.inspect_history(n=1)\n"
   ]
  },
  {
   "cell_type": "code",
   "execution_count": 44,
   "id": "50ed0e31-737d-465e-9312-2600d0365784",
   "metadata": {},
   "outputs": [
    {
     "name": "stdout",
     "output_type": "stream",
     "text": [
      "Downloading 'ragqa_arena_tech_examples.jsonl'...\n"
     ]
    }
   ],
   "source": [
    "import ujson\n",
    "from dspy.utils import download\n",
    "\n",
    "# Download question--answer pairs from the RAG-QA Arena \"Tech\" dataset.\n",
    "download(\"https://huggingface.co/dspy/cache/resolve/main/ragqa_arena_tech_examples.jsonl\")\n",
    "\n",
    "with open(\"ragqa_arena_tech_examples.jsonl\") as f:\n",
    "    data = [ujson.loads(line) for line in f]"
   ]
  },
  {
   "cell_type": "code",
   "execution_count": 45,
   "id": "1afb9c58-88b7-4a80-b620-d12314412429",
   "metadata": {},
   "outputs": [
    {
     "data": {
      "text/plain": [
       "{'question': 'why igp is used in mpls?',\n",
       " 'response': \"An IGP exchanges routing prefixes between gateways/routers.  \\nWithout a routing protocol, you'd have to configure each route on every router and you'd have no dynamic updates when routes change because of link failures. \\nFuthermore, within an MPLS network, an IGP is vital for advertising the internal topology and ensuring connectivity for MP-BGP inside the network.\",\n",
       " 'gold_doc_ids': [2822, 2823]}"
      ]
     },
     "execution_count": 45,
     "metadata": {},
     "output_type": "execute_result"
    }
   ],
   "source": [
    "data[0]"
   ]
  },
  {
   "cell_type": "code",
   "execution_count": 46,
   "id": "4625330b-d26c-45b7-91d1-0105b87fd48d",
   "metadata": {},
   "outputs": [
    {
     "data": {
      "text/plain": [
       "Example({'question': 'why are my text messages coming up as maybe?', 'response': 'This is part of the Proactivity features new with iOS 9: It looks at info in emails to see if anyone with this number sent you an email and if it finds the phone number associated with a contact from your email, it will show you \"Maybe\". \\n\\nHowever, it has been suggested there is a bug in iOS 11.2 that can result in \"Maybe\" being displayed even when \"Find Contacts in Other Apps\" is disabled.', 'gold_doc_ids': [3956, 3957, 8034]}) (input_keys={'question'})"
      ]
     },
     "execution_count": 46,
     "metadata": {},
     "output_type": "execute_result"
    }
   ],
   "source": [
    "data = [dspy.Example(**d).with_inputs('question') for d in data]\n",
    "\n",
    "# Let's pick an `example` here from the data.\n",
    "example = data[2]\n",
    "example"
   ]
  },
  {
   "cell_type": "code",
   "execution_count": 47,
   "id": "58e036a7-6cc3-4715-a26d-40cc98e2e031",
   "metadata": {},
   "outputs": [
    {
     "data": {
      "text/plain": [
       "(200, 300, 500)"
      ]
     },
     "execution_count": 47,
     "metadata": {},
     "output_type": "execute_result"
    }
   ],
   "source": [
    "import random\n",
    "\n",
    "random.Random(0).shuffle(data)\n",
    "trainset, devset, testset = data[:200], data[200:500], data[500:1000]\n",
    "\n",
    "len(trainset), len(devset), len(testset)"
   ]
  },
  {
   "cell_type": "code",
   "execution_count": 48,
   "id": "7a1896c7-948f-42fe-b02c-9124aac015b1",
   "metadata": {},
   "outputs": [
    {
     "data": {
      "text/plain": [
       "Example({'question': 'why are my text messages coming up as maybe?'}) (input_keys={'question'})"
      ]
     },
     "execution_count": 48,
     "metadata": {},
     "output_type": "execute_result"
    }
   ],
   "source": [
    "example.inputs()"
   ]
  },
  {
   "cell_type": "code",
   "execution_count": 49,
   "id": "297a9bc7-df8e-438f-9da5-2c4cd546d801",
   "metadata": {},
   "outputs": [
    {
     "name": "stdout",
     "output_type": "stream",
     "text": [
      "Question: \t why are my text messages coming up as maybe?\n",
      "\n",
      "Gold Response: \t This is part of the Proactivity features new with iOS 9: It looks at info in emails to see if anyone with this number sent you an email and if it finds the phone number associated with a contact from your email, it will show you \"Maybe\". \n",
      "\n",
      "However, it has been suggested there is a bug in iOS 11.2 that can result in \"Maybe\" being displayed even when \"Find Contacts in Other Apps\" is disabled.\n",
      "\n",
      "Predicted Response: \t Your text messages are showing up as \"maybe\" because your messaging app is uncertain about the sender's identity. This typically happens when the sender's number is not saved in your contacts or if the message is coming from an unknown or unrecognized number. Check your contacts to see if the sender is listed, or consider saving their number to avoid this issue in the future.\n",
      "\n",
      "Semantic F1 Score: 0.28\n"
     ]
    }
   ],
   "source": [
    "from dspy.evaluate import SemanticF1\n",
    "\n",
    "# Instantiate the metric.\n",
    "metric = SemanticF1(decompositional=True)\n",
    "\n",
    "# Produce a prediction from our `cot` module, using the `example` above as input.\n",
    "pred = cot(**example.inputs())\n",
    "\n",
    "# Compute the metric score for the prediction.\n",
    "score = metric(example, pred)\n",
    "\n",
    "print(f\"Question: \\t {example.question}\\n\")\n",
    "print(f\"Gold Response: \\t {example.response}\\n\")\n",
    "print(f\"Predicted Response: \\t {pred.response}\\n\")\n",
    "print(f\"Semantic F1 Score: {score:.2f}\")"
   ]
  },
  {
   "cell_type": "code",
   "execution_count": 50,
   "id": "da8383a8-1f1e-4eb0-bc0c-1e1655371d73",
   "metadata": {},
   "outputs": [
    {
     "name": "stdout",
     "output_type": "stream",
     "text": [
      "\n",
      "\n",
      "\n",
      "\n",
      "\u001b[34m[2025-05-18T10:44:40.956373]\u001b[0m\n",
      "\n",
      "\u001b[31mSystem message:\u001b[0m\n",
      "\n",
      "Your input fields are:\n",
      "1. `question` (str)\n",
      "2. `ground_truth` (str)\n",
      "3. `system_response` (str)\n",
      "Your output fields are:\n",
      "1. `reasoning` (str)\n",
      "2. `ground_truth_key_ideas` (str): enumeration of key ideas in the ground truth\n",
      "3. `system_response_key_ideas` (str): enumeration of key ideas in the system response\n",
      "4. `discussion` (str): discussion of the overlap between ground truth and system response\n",
      "5. `recall` (float): fraction (out of 1.0) of ground truth covered by the system response\n",
      "6. `precision` (float): fraction (out of 1.0) of system response covered by the ground truth\n",
      "All interactions will be structured in the following way, with the appropriate values filled in.\n",
      "\n",
      "[[ ## question ## ]]\n",
      "{question}\n",
      "\n",
      "[[ ## ground_truth ## ]]\n",
      "{ground_truth}\n",
      "\n",
      "[[ ## system_response ## ]]\n",
      "{system_response}\n",
      "\n",
      "[[ ## reasoning ## ]]\n",
      "{reasoning}\n",
      "\n",
      "[[ ## ground_truth_key_ideas ## ]]\n",
      "{ground_truth_key_ideas}\n",
      "\n",
      "[[ ## system_response_key_ideas ## ]]\n",
      "{system_response_key_ideas}\n",
      "\n",
      "[[ ## discussion ## ]]\n",
      "{discussion}\n",
      "\n",
      "[[ ## recall ## ]]\n",
      "{recall}        # note: the value you produce must be a single float value\n",
      "\n",
      "[[ ## precision ## ]]\n",
      "{precision}        # note: the value you produce must be a single float value\n",
      "\n",
      "[[ ## completed ## ]]\n",
      "In adhering to this structure, your objective is: \n",
      "        Compare a system's response to the ground truth to compute recall and precision of key ideas.\n",
      "        You will first enumerate key ideas in each response, discuss their overlap, and then report recall and precision.\n",
      "\n",
      "\n",
      "\u001b[31mUser message:\u001b[0m\n",
      "\n",
      "[[ ## question ## ]]\n",
      "why are my text messages coming up as maybe?\n",
      "\n",
      "[[ ## ground_truth ## ]]\n",
      "This is part of the Proactivity features new with iOS 9: It looks at info in emails to see if anyone with this number sent you an email and if it finds the phone number associated with a contact from your email, it will show you \"Maybe\". \n",
      "\n",
      "However, it has been suggested there is a bug in iOS 11.2 that can result in \"Maybe\" being displayed even when \"Find Contacts in Other Apps\" is disabled.\n",
      "\n",
      "[[ ## system_response ## ]]\n",
      "Your text messages are showing up as \"maybe\" because your messaging app is uncertain about the sender's identity. This typically happens when the sender's number is not saved in your contacts or if the message is coming from an unknown or unrecognized number. Check your contacts to see if the sender is listed, or consider saving their number to avoid this issue in the future.\n",
      "\n",
      "Respond with the corresponding output fields, starting with the field `[[ ## reasoning ## ]]`, then `[[ ## ground_truth_key_ideas ## ]]`, then `[[ ## system_response_key_ideas ## ]]`, then `[[ ## discussion ## ]]`, then `[[ ## recall ## ]]` (must be formatted as a valid Python float), then `[[ ## precision ## ]]` (must be formatted as a valid Python float), and then ending with the marker for `[[ ## completed ## ]]`.\n",
      "\n",
      "\n",
      "\u001b[31mResponse:\u001b[0m\n",
      "\n",
      "\u001b[32m[[ ## reasoning ## ]]\n",
      "The system response provides a general explanation for why text messages may show up as \"maybe,\" focusing on the sender's identity and contact status. However, it does not mention the specific iOS feature related to email contacts or the potential bug in iOS 11.2 that is highlighted in the ground truth. Therefore, while the system response captures some relevant ideas, it lacks the specific context and details provided in the ground truth.\n",
      "\n",
      "[[ ## ground_truth_key_ideas ## ]]\n",
      "1. Proactivity features in iOS 9.\n",
      "2. Looks at info in emails to identify contacts.\n",
      "3. Displays \"Maybe\" if the number is associated with an email contact.\n",
      "4. Possible bug in iOS 11.2 causing \"Maybe\" to show even when disabled.\n",
      "\n",
      "[[ ## system_response_key_ideas ## ]]\n",
      "1. Text messages show as \"maybe\" due to uncertainty about sender's identity.\n",
      "2. Sender's number not saved in contacts.\n",
      "3. Suggestion to check contacts or save the number.\n",
      "\n",
      "[[ ## discussion ## ]]\n",
      "The ground truth discusses specific features of iOS related to how messages are identified and the potential bug in iOS 11.2, which is not addressed in the system response. The system response focuses on the general idea of sender identity and contact status but misses the detailed explanation of the iOS feature and the bug. Therefore, there is limited overlap between the two, with the system response lacking key ideas from the ground truth.\n",
      "\n",
      "[[ ## recall ## ]]\n",
      "0.25\n",
      "\n",
      "[[ ## precision ## ]]\n",
      "0.33\n",
      "\n",
      "[[ ## completed ## ]]\u001b[0m\n",
      "\n",
      "\n",
      "\n",
      "\n",
      "\n"
     ]
    }
   ],
   "source": [
    "dspy.inspect_history(n=1)\n"
   ]
  },
  {
   "cell_type": "code",
   "execution_count": 55,
   "id": "b3039da9-f6ea-4300-9f99-e28eaabc1bfb",
   "metadata": {},
   "outputs": [
    {
     "name": "stdout",
     "output_type": "stream",
     "text": [
      "Average Metric: 39.11 / 63 (62.1%):  21%|█▋      | 63/300 [00:14<00:57,  4.12it/s]"
     ]
    },
    {
     "name": "stderr",
     "output_type": "stream",
     "text": [
      "2025/05/18 10:51:59 WARNING dspy.adapters.json_adapter: Failed to use structured output format. Falling back to JSON mode. Error: 'type' object is not iterable\n"
     ]
    },
    {
     "name": "stdout",
     "output_type": "stream",
     "text": [
      "Average Metric: 40.91 / 66 (62.0%):  22%|█▊      | 66/300 [00:15<01:05,  3.56it/s]"
     ]
    },
    {
     "name": "stderr",
     "output_type": "stream",
     "text": [
      "2025/05/18 10:52:00 WARNING dspy.adapters.json_adapter: Failed to use structured output format. Falling back to JSON mode. Error: 'type' object is not iterable\n"
     ]
    },
    {
     "name": "stdout",
     "output_type": "stream",
     "text": [
      "Average Metric: 48.20 / 77 (62.6%):  26%|██      | 77/300 [00:18<00:58,  3.78it/s]"
     ]
    },
    {
     "name": "stderr",
     "output_type": "stream",
     "text": [
      "2025/05/18 10:52:03 WARNING dspy.adapters.json_adapter: Failed to use structured output format. Falling back to JSON mode. Error: 'type' object is not iterable\n"
     ]
    },
    {
     "name": "stdout",
     "output_type": "stream",
     "text": [
      "Average Metric: 52.58 / 84 (62.6%):  28%|██▏     | 84/300 [00:19<00:33,  6.38it/s]"
     ]
    },
    {
     "name": "stderr",
     "output_type": "stream",
     "text": [
      "2025/05/18 10:52:04 WARNING dspy.adapters.json_adapter: Failed to use structured output format. Falling back to JSON mode. Error: 'type' object is not iterable\n"
     ]
    },
    {
     "name": "stdout",
     "output_type": "stream",
     "text": [
      "Average Metric: 66.59 / 104 (64.0%):  35%|██    | 104/300 [00:23<00:32,  6.01it/s]"
     ]
    },
    {
     "name": "stderr",
     "output_type": "stream",
     "text": [
      "2025/05/18 10:52:09 WARNING dspy.adapters.json_adapter: Failed to use structured output format. Falling back to JSON mode. Error: 'type' object is not iterable\n",
      "2025/05/18 10:52:09 WARNING dspy.adapters.json_adapter: Failed to use structured output format. Falling back to JSON mode. Error: 'type' object is not iterable\n"
     ]
    },
    {
     "name": "stdout",
     "output_type": "stream",
     "text": [
      "Average Metric: 81.72 / 129 (63.3%):  43%|██▌   | 128/300 [00:28<00:31,  5.45it/s]"
     ]
    },
    {
     "name": "stderr",
     "output_type": "stream",
     "text": [
      "2025/05/18 10:52:14 WARNING dspy.adapters.json_adapter: Failed to use structured output format. Falling back to JSON mode. Error: 'type' object is not iterable\n"
     ]
    },
    {
     "name": "stdout",
     "output_type": "stream",
     "text": [
      "Average Metric: 103.40 / 162 (63.8%):  54%|██▋  | 162/300 [00:35<00:29,  4.70it/s]"
     ]
    },
    {
     "name": "stderr",
     "output_type": "stream",
     "text": [
      "2025/05/18 10:52:21 WARNING dspy.adapters.json_adapter: Failed to use structured output format. Falling back to JSON mode. Error: 'type' object is not iterable\n"
     ]
    },
    {
     "name": "stdout",
     "output_type": "stream",
     "text": [
      "Average Metric: 135.72 / 212 (64.0%):  71%|███▌ | 212/300 [00:44<00:14,  6.06it/s]"
     ]
    },
    {
     "name": "stderr",
     "output_type": "stream",
     "text": [
      "2025/05/18 10:52:29 WARNING dspy.adapters.json_adapter: Failed to use structured output format. Falling back to JSON mode. Error: 'type' object is not iterable\n"
     ]
    },
    {
     "name": "stdout",
     "output_type": "stream",
     "text": [
      "Average Metric: 144.83 / 225 (64.4%):  75%|███▊ | 225/300 [00:47<00:13,  5.69it/s]"
     ]
    },
    {
     "name": "stderr",
     "output_type": "stream",
     "text": [
      "2025/05/18 10:52:32 WARNING dspy.adapters.json_adapter: Failed to use structured output format. Falling back to JSON mode. Error: 'type' object is not iterable\n"
     ]
    },
    {
     "name": "stdout",
     "output_type": "stream",
     "text": [
      "Average Metric: 152.39 / 239 (63.8%):  79%|███▉ | 238/300 [00:49<00:10,  5.86it/s]"
     ]
    },
    {
     "name": "stderr",
     "output_type": "stream",
     "text": [
      "2025/05/18 10:52:35 WARNING dspy.adapters.json_adapter: Failed to use structured output format. Falling back to JSON mode. Error: 'type' object is not iterable\n"
     ]
    },
    {
     "name": "stdout",
     "output_type": "stream",
     "text": [
      "Average Metric: 164.80 / 258 (63.9%):  86%|████▎| 258/300 [00:54<00:10,  3.84it/s]"
     ]
    },
    {
     "name": "stderr",
     "output_type": "stream",
     "text": [
      "2025/05/18 10:52:39 WARNING dspy.adapters.json_adapter: Failed to use structured output format. Falling back to JSON mode. Error: 'type' object is not iterable\n"
     ]
    },
    {
     "name": "stdout",
     "output_type": "stream",
     "text": [
      "Average Metric: 165.80 / 259 (64.0%):  86%|████▎| 259/300 [00:54<00:15,  2.60it/s]"
     ]
    },
    {
     "name": "stderr",
     "output_type": "stream",
     "text": [
      "2025/05/18 10:52:40 WARNING dspy.adapters.json_adapter: Failed to use structured output format. Falling back to JSON mode. Error: 'type' object is not iterable\n"
     ]
    },
    {
     "name": "stdout",
     "output_type": "stream",
     "text": [
      "Average Metric: 189.70 / 295 (64.3%):  98%|████▉| 294/300 [01:01<00:01,  4.92it/s]"
     ]
    },
    {
     "name": "stderr",
     "output_type": "stream",
     "text": [
      "2025/05/18 10:52:46 WARNING dspy.adapters.json_adapter: Failed to use structured output format. Falling back to JSON mode. Error: 'type' object is not iterable\n"
     ]
    },
    {
     "name": "stdout",
     "output_type": "stream",
     "text": [
      "Average Metric: 193.19 / 300 (64.4%): 100%|█████| 300/300 [01:05<00:00,  4.61it/s]"
     ]
    },
    {
     "name": "stderr",
     "output_type": "stream",
     "text": [
      "2025/05/18 10:52:50 INFO dspy.evaluate.evaluate: Average Metric: 193.1869318525495 / 300 (64.4%)\n"
     ]
    },
    {
     "name": "stdout",
     "output_type": "stream",
     "text": [
      "\n"
     ]
    },
    {
     "data": {
      "text/html": [
       "<div>\n",
       "<style scoped>\n",
       "    .dataframe tbody tr th:only-of-type {\n",
       "        vertical-align: middle;\n",
       "    }\n",
       "\n",
       "    .dataframe tbody tr th {\n",
       "        vertical-align: top;\n",
       "    }\n",
       "\n",
       "    .dataframe thead th {\n",
       "        text-align: right;\n",
       "    }\n",
       "</style>\n",
       "<table border=\"1\" class=\"dataframe\">\n",
       "  <thead>\n",
       "    <tr style=\"text-align: right;\">\n",
       "      <th></th>\n",
       "      <th>question</th>\n",
       "      <th>example_response</th>\n",
       "      <th>gold_doc_ids</th>\n",
       "      <th>reasoning</th>\n",
       "      <th>pred_response</th>\n",
       "      <th>SemanticF1</th>\n",
       "    </tr>\n",
       "  </thead>\n",
       "  <tbody>\n",
       "    <tr>\n",
       "      <th>0</th>\n",
       "      <td>when to use c over c++, and c++ over c?</td>\n",
       "      <td>If you are equally familiar with both C++ and C, it's advisable to...</td>\n",
       "      <td>[733]</td>\n",
       "      <td>Choosing between C and C++ depends on the specific requirements of...</td>\n",
       "      <td>Use C over C++ when you need a lightweight, procedural language wi...</td>\n",
       "      <td>✔️ [0.774]</td>\n",
       "    </tr>\n",
       "    <tr>\n",
       "      <th>1</th>\n",
       "      <td>should images be stored in a git repository?</td>\n",
       "      <td>One viewpoint expresses that there is no significant downside, esp...</td>\n",
       "      <td>[6253, 6254, 6275, 6278, 8215]</td>\n",
       "      <td>Storing images in a git repository depends on the context and the ...</td>\n",
       "      <td>It depends on the size and number of images. For small projects wi...</td>\n",
       "      <td>✔️ [0.750]</td>\n",
       "    </tr>\n",
       "  </tbody>\n",
       "</table>\n",
       "</div>"
      ],
      "text/plain": [
       "                                       question  \\\n",
       "0       when to use c over c++, and c++ over c?   \n",
       "1  should images be stored in a git repository?   \n",
       "\n",
       "                                                        example_response  \\\n",
       "0  If you are equally familiar with both C++ and C, it's advisable to...   \n",
       "1  One viewpoint expresses that there is no significant downside, esp...   \n",
       "\n",
       "                     gold_doc_ids  \\\n",
       "0                           [733]   \n",
       "1  [6253, 6254, 6275, 6278, 8215]   \n",
       "\n",
       "                                                               reasoning  \\\n",
       "0  Choosing between C and C++ depends on the specific requirements of...   \n",
       "1  Storing images in a git repository depends on the context and the ...   \n",
       "\n",
       "                                                           pred_response  \\\n",
       "0  Use C over C++ when you need a lightweight, procedural language wi...   \n",
       "1  It depends on the size and number of images. For small projects wi...   \n",
       "\n",
       "   SemanticF1  \n",
       "0  ✔️ [0.774]  \n",
       "1  ✔️ [0.750]  "
      ]
     },
     "metadata": {},
     "output_type": "display_data"
    },
    {
     "data": {
      "text/html": [
       "\n",
       "            <div style='\n",
       "                text-align: center;\n",
       "                font-size: 16px;\n",
       "                font-weight: bold;\n",
       "                color: #555;\n",
       "                margin: 10px 0;'>\n",
       "                ... 298 more rows not displayed ...\n",
       "            </div>\n",
       "            "
      ],
      "text/plain": [
       "<IPython.core.display.HTML object>"
      ]
     },
     "metadata": {},
     "output_type": "display_data"
    },
    {
     "data": {
      "text/plain": [
       "64.4"
      ]
     },
     "execution_count": 55,
     "metadata": {},
     "output_type": "execute_result"
    }
   ],
   "source": [
    "# Define an evaluator that we can re-use.\n",
    "evaluate = dspy.Evaluate(devset=devset, metric=metric, num_threads=24,\n",
    "                         display_progress=True, display_table=2)\n",
    "\n",
    "# Evaluate the Chain-of-Thought program.\n",
    "evaluate(cot)"
   ]
  },
  {
   "cell_type": "code",
   "execution_count": 57,
   "id": "0a0313d4-4099-4475-b485-df4047beba89",
   "metadata": {},
   "outputs": [
    {
     "name": "stdout",
     "output_type": "stream",
     "text": [
      "Downloading 'ragqa_arena_tech_corpus.jsonl'...\n"
     ]
    }
   ],
   "source": [
    "download(\"https://huggingface.co/dspy/cache/resolve/main/ragqa_arena_tech_corpus.jsonl\")\n"
   ]
  },
  {
   "cell_type": "code",
   "execution_count": 59,
   "id": "3b7a9ac2-6145-44a4-abca-aff8721e126e",
   "metadata": {},
   "outputs": [
    {
     "name": "stdout",
     "output_type": "stream",
     "text": [
      "Loaded 28436 documents. Will encode them below.\n"
     ]
    },
    {
     "data": {
      "text/plain": [
       "28436"
      ]
     },
     "execution_count": 59,
     "metadata": {},
     "output_type": "execute_result"
    }
   ],
   "source": [
    "max_characters = 6000  # for truncating >99th percentile of documents\n",
    "topk_docs_to_retrieve = 5  # number of documents to retrieve per search query\n",
    "\n",
    "with open(\"ragqa_arena_tech_corpus.jsonl\") as f:\n",
    "    corpus = [ujson.loads(line)['text'][:max_characters] for line in f]\n",
    "    print(f\"Loaded {len(corpus)} documents. Will encode them below.\")\n",
    "\n",
    "len(corpus)"
   ]
  },
  {
   "cell_type": "code",
   "execution_count": 60,
   "id": "cc32de61-35c2-466f-be3f-bf80c6bfd7e9",
   "metadata": {},
   "outputs": [
    {
     "name": "stdout",
     "output_type": "stream",
     "text": [
      "Training a 32-byte FAISS index with 337 partitions, based on 28436 x 512-dim embeddings\n"
     ]
    }
   ],
   "source": [
    "embedder = dspy.Embedder('openai/text-embedding-3-small', dimensions=512)\n",
    "search = dspy.retrievers.Embeddings(embedder=embedder, corpus=corpus, k=topk_docs_to_retrieve)"
   ]
  },
  {
   "cell_type": "code",
   "execution_count": 64,
   "id": "86f2fef6-0a55-4ffb-8b0e-4e48fdffaa58",
   "metadata": {},
   "outputs": [
    {
     "data": {
      "text/plain": [
       "['As far as I remember, High Memory is used for application space and Low Memory for the kernel. Advantage is that (user-space) applications cant access kernel-space memory.',\n",
       " 'HIGHMEM is a range of kernels memory space, but it is NOT memory you access but its a place where you put what you want to access. A typical 32bit Linux virtual memory map is like: 0x00000000-0xbfffffff: user process (3GB) 0xc0000000-0xffffffff: kernel space (1GB) (CPU-specific vector and whatsoever are ignored here). Linux splits the 1GB kernel space into 2 pieces, LOWMEM and HIGHMEM. The split varies from installation to installation. If an installation chooses, say, 512MB-512MB for LOW and HIGH mems, the 512MB LOWMEM (0xc0000000-0xdfffffff) is statically mapped at the kernel boot time; usually the first so many bytes of the physical memory is used for this so that virtual and physical addresses in this range have a constant offset of, say, 0xc0000000. On the other hand, the latter 512MB (HIGHMEM) has no static mapping (although you could leave pages semi-permanently mapped there, but you must do so explicitly in your driver code). Instead, pages are temporarily mapped and unmapped here so that virtual and physical addresses in this range have no consistent mapping. Typical uses of HIGHMEM include single-time data buffers.',\n",
       " 'This is relevant to the Linux kernel; Im not sure how any Unix kernel handles this. The High Memory is the segment of memory that user-space programs can address. It cannot touch Low Memory. Low Memory is the segment of memory that the Linux kernel can address directly. If the kernel must access High Memory, it has to map it into its own address space first. There was a patch introduced recently that lets you control where the segment is. The tradeoff is that you can take addressable memory away from user space so that the kernel can have more memory that it does not have to map before using. Additional resources: http://tldp.org/HOWTO/KernelAnalysis-HOWTO-7.html http://linux-mm.org/HighMemory',\n",
       " 'The first reference to turn to is Linux Device Drivers (available both online and in book form), particularly chapter 15 which has a section on the topic. In an ideal world, every system component would be able to map all the memory it ever needs to access. And this is the case for processes on Linux and most operating systems: a 32-bit process can only access a little less than 2^32 bytes of virtual memory (in fact about 3GB on a typical Linux 32-bit architecture). It gets difficult for the kernel, which needs to be able to map the full memory of the process whose system call its executing, plus the whole physical memory, plus any other memory-mapped hardware device. So when a 32-bit kernel needs to map more than 4GB of memory, it must be compiled with high memory support. High memory is memory which is not permanently mapped in the kernels address space. (Low memory is the opposite: it is always mapped, so you can access it in the kernel simply by dereferencing a pointer.) When you access high memory from kernel code, you need to call kmap first, to obtain a pointer from a page data structure (struct page). Calling kmap works whether the page is in high or low memory. There is also kmap_atomic which has added constraints but is more efficient on multiprocessor machines because it uses finer-grained locking. The pointer obtained through kmap is a resource: it uses up address space. Once youve finished with it, you must call kunmap (or kunmap_atomic) to free that resource; then the pointer is no longer valid, and the contents of the page cant be accessed until you call kmap again.',\n",
       " '/proc/meminfo will tell you how free works, but /proc/kcore can tell you what the kernel uses. From the same page: /proc/kcore This file represents the physical memory of the system and is stored in the ELF core file format. With this pseudo-file, and an unstripped kernel (/usr/src/linux/vmlinux) binary, GDB can be used to examine the current state of any kernel data structures. The total length of the file is the size of physical memory (RAM) plus 4KB. /proc/meminfo This file reports statistics about memory usage on the system. It is used by free(1) to report the amount of free and used memory (both physical and swap) on the system as well as the shared memory and buffers used by the kernel. Each line of the file consists of a parameter name, followed by a colon, the value of the parameter, and an option unit of measurement (e.g., kB). The list below describes the parameter names and the format specifier required to read the field value. Except as noted below, all of the fields have been present since at least Linux 2.6.0. Some fileds are displayed only if the kernel was configured with various options; those dependencies are noted in the list. MemTotal %lu Total usable RAM (i.e., physical RAM minus a few reserved bits and the kernel binary code). MemFree %lu The sum of LowFree+HighFree. Buffers %lu Relatively temporary storage for raw disk blocks that shouldnt get tremendously large (20MB or so). Cached %lu In-memory cache for files read from the disk (the page cache). Doesnt include SwapCached. SwapCached %lu Memory that once was swapped out, is swapped back in but still also is in the swap file. (If memory pressure is high, these pages dont need to be swapped out again because they are already in the swap file. This saves I/O.) Active %lu Memory that has been used more recently and usually not reclaimed unless absolutely necessary. Inactive %lu Memory which has been less recently used. It is more eligible to be reclaimed for other purposes. Active(anon) %lu (since Linux 2.6.28) [To be documented.] Inactive(anon) %lu (since Linux 2.6.28) [To be documented.] Active(file) %lu (since Linux 2.6.28) [To be documented.] Inactive(file) %lu (since Linux 2.6.28) [To be documented.] Unevictable %lu (since Linux 2.6.28) (From Linux 2.6.28 to 2.6.30, CONFIG_UNEVICTABLE_LRU was required.) [To be documented.] Mlocked %lu (since Linux 2.6.28) (From Linux 2.6.28 to 2.6.30, CONFIG_UNEVICTABLE_LRU was required.) [To be documented.] HighTotal %lu (Starting with Linux 2.6.19, CONFIG_HIGHMEM is required.) Total amount of highmem. Highmem is all memory above ~860MB of physical memory. Highmem areas are for use by user-space programs, or for the page cache. The kernel must use tricks to access this memory, making it slower to access than lowmem. HighFree %lu (Starting with Linux 2.6.19, CONFIG_HIGHMEM is required.) Amount of free highmem. LowTotal %lu (Starting with Linux 2.6.19, CONFIG_HIGHMEM is required.) Total amount of lowmem. Lowmem is memory which can be used for everything that highmem can be used for, but it is also available for the kernels use for its own data structures. Among many other things, it is where everything from Slab is allocated. Bad things happen when youre out of lowmem. LowFree %lu (Starting with Linux 2.6.19, CONFIG_HIGHMEM is required.) Amount of free lowmem. MmapCopy %lu (since Linux 2.6.29) (CONFIG_MMU is required.) [To be documented.] SwapTotal %lu Total amount of swap space available. SwapFree %lu Amount of swap space that is currently unused. Dirty %lu Memory which is waiting to get written back to the disk. Writeback %lu Memory which is actively being written back to the disk. AnonPages %lu (since Linux 2.6.18) Non-file backed pages mapped into user-space page tables. Mapped %lu Files which have been mmaped, such as libraries. Shmem %lu (since Linux 2.6.32) [To be documented.] Slab %lu In-kernel data structures cache. SReclaimable %lu (since Linux 2.6.19) Part of Slab, that might be reclaimed, such as caches. SUnreclaim %lu (since Linux 2.6.19) Part of Slab, that cannot be reclaimed on memory pressure. KernelStack %lu (since Linux 2.6.32) Amount of memory allocated to kernel stacks. PageTables %lu (since Linux 2.6.18) Amount of memory dedicated to the lowest level of page tables. Quicklists %lu (since Linux 2.6.27) (CONFIG_QUICKLIST is required.) [To be documented.] NFS_Unstable %lu (since Linux 2.6.18) NFS pages sent to the server, but not yet committed to stable storage. Bounce %lu (since Linux 2.6.18) Memory used for block device bounce buffers. WritebackTmp %lu (since Linux 2.6.26) Memory used by FUSE for temporary writeback buffers. CommitLimit %lu (since Linux 2.6.10) Based on the overcommit ratio (vm.overcommit_ratio), this is the total amount of memory currently available to be allocated on the system. This limit is adhered to only if strict overcommit accounting is enabled (mode 2 in /proc/sys/vm/overcommit_ratio). The CommitLimit is calculated using the following formula: CommitLimit = ([total RAM pages] - [total huge TLB pages]) * overcommit_ratio / 100 + [total swap pages] For example, on a system with 1GB of physical RAM and 7GB of swap with a overcommit_ratio of 30, this formula yields a CommitLimit of 7.3GB. For more details, see the memory overcommit documentation in the kernel source file Documentation/vm/overcommit-accounting. Committed_AS %lu The amount of memory presently allocated on the system. The committed memory is a sum of all of the memory which has been allocated by processes, even if it has not been used by them as of yet. A process which allocates 1GB of memory (using malloc(3) or similar), but touches only 300MB of that memory will show up as using only 300MB of memory even if it has the address space allocated for the entire 1GB. This 1GB is memory which has been committed to by the VM and can be used at any time by the allocating application. With strict overcommit enabled on the system (mode 2 /proc/sys/vm/overcommit_memory), allocations w']"
      ]
     },
     "execution_count": 64,
     "metadata": {},
     "output_type": "execute_result"
    }
   ],
   "source": [
    "p=search(\"what are high memory and low memory on linux?\")\n",
    "p.passages"
   ]
  },
  {
   "cell_type": "code",
   "execution_count": 65,
   "id": "0cea0ca8-4209-46d0-a372-8adb3636ff1d",
   "metadata": {},
   "outputs": [],
   "source": [
    "class RAG(dspy.Module):\n",
    "    def __init__(self):\n",
    "        self.respond = dspy.ChainOfThought('context, question -> response')\n",
    "\n",
    "    def forward(self, question):\n",
    "        context = search(question).passages\n",
    "        return self.respond(context=context, question=question)"
   ]
  },
  {
   "cell_type": "code",
   "execution_count": 66,
   "id": "222954a9-1910-4014-af4b-cbd69979c709",
   "metadata": {},
   "outputs": [
    {
     "data": {
      "text/plain": [
       "Prediction(\n",
       "    reasoning=\"High memory (HighMem) and low memory (LowMem) are segments of physical memory in Linux systems, particularly relevant in 32-bit architectures. Low memory is always mapped into the kernel's address space, allowing the kernel to access it directly at all times. High memory, on the other hand, is memory above a certain threshold (around 860MB in some systems) that is not permanently mapped into the kernel's address space. To access high memory, the kernel must explicitly map pages into its address space using functions like kmap, which makes high memory slower to access compared to low memory. User-space programs can directly access high memory, but the kernel must perform special steps to access it when needed. This division helps optimize memory management and system performance, especially when physical memory exceeds the kernel's direct mapping capacity.\",\n",
       "    response=\"High memory in Linux refers to the segment of physical memory that is not permanently mapped into the kernel's address space and requires explicit mapping to access. It is typically memory above a certain threshold (around 860MB) and is used by user-space programs or for caching. Low memory, on the other hand, is the portion of memory that the kernel can access directly at all times because it is always mapped into the kernel's address space. This division allows the kernel to manage large amounts of memory efficiently, with low memory being quickly accessible and high memory requiring additional steps to access.\"\n",
       ")"
      ]
     },
     "execution_count": 66,
     "metadata": {},
     "output_type": "execute_result"
    }
   ],
   "source": [
    "rag = RAG()\n",
    "rag(question=\"what are high memory and low memory on linux?\")"
   ]
  },
  {
   "cell_type": "code",
   "execution_count": 67,
   "id": "c7909fdf-5c86-4841-9103-9eac9eec6461",
   "metadata": {},
   "outputs": [
    {
     "name": "stdout",
     "output_type": "stream",
     "text": [
      "Average Metric: 23.26 / 35 (66.5%):  11%|▉       | 34/300 [00:15<00:50,  5.30it/s]"
     ]
    },
    {
     "name": "stderr",
     "output_type": "stream",
     "text": [
      "2025/05/18 11:18:38 WARNING dspy.adapters.json_adapter: Failed to use structured output format. Falling back to JSON mode. Error: 'type' object is not iterable\n"
     ]
    },
    {
     "name": "stdout",
     "output_type": "stream",
     "text": [
      "Average Metric: 59.64 / 84 (71.0%):  28%|██▏     | 84/300 [00:27<00:58,  3.69it/s]"
     ]
    },
    {
     "name": "stderr",
     "output_type": "stream",
     "text": [
      "2025/05/18 11:18:50 WARNING dspy.adapters.json_adapter: Failed to use structured output format. Falling back to JSON mode. Error: 'type' object is not iterable\n"
     ]
    },
    {
     "name": "stdout",
     "output_type": "stream",
     "text": [
      "Average Metric: 77.81 / 107 (72.7%):  36%|██▏   | 107/300 [00:32<00:36,  5.31it/s]"
     ]
    },
    {
     "name": "stderr",
     "output_type": "stream",
     "text": [
      "2025/05/18 11:18:55 WARNING dspy.adapters.json_adapter: Failed to use structured output format. Falling back to JSON mode. Error: 'type' object is not iterable\n"
     ]
    },
    {
     "name": "stdout",
     "output_type": "stream",
     "text": [
      "Average Metric: 86.66 / 120 (72.2%):  40%|██▍   | 120/300 [00:36<00:59,  3.00it/s]"
     ]
    },
    {
     "name": "stderr",
     "output_type": "stream",
     "text": [
      "2025/05/18 11:18:59 WARNING dspy.adapters.json_adapter: Failed to use structured output format. Falling back to JSON mode. Error: 'type' object is not iterable\n"
     ]
    },
    {
     "name": "stdout",
     "output_type": "stream",
     "text": [
      "Average Metric: 86.66 / 121 (71.6%):  40%|██▍   | 121/300 [00:36<01:02,  2.85it/s]"
     ]
    },
    {
     "name": "stderr",
     "output_type": "stream",
     "text": [
      "2025/05/18 11:18:59 WARNING dspy.adapters.json_adapter: Failed to use structured output format. Falling back to JSON mode. Error: 'type' object is not iterable\n"
     ]
    },
    {
     "name": "stdout",
     "output_type": "stream",
     "text": [
      "Average Metric: 94.97 / 132 (71.9%):  44%|██▋   | 132/300 [00:39<00:22,  7.62it/s]"
     ]
    },
    {
     "name": "stderr",
     "output_type": "stream",
     "text": [
      "2025/05/18 11:19:01 WARNING dspy.adapters.json_adapter: Failed to use structured output format. Falling back to JSON mode. Error: 'type' object is not iterable\n"
     ]
    },
    {
     "name": "stdout",
     "output_type": "stream",
     "text": [
      "Average Metric: 128.83 / 179 (72.0%):  60%|██▉  | 179/300 [00:50<00:40,  2.98it/s]"
     ]
    },
    {
     "name": "stderr",
     "output_type": "stream",
     "text": [
      "2025/05/18 11:19:13 WARNING dspy.adapters.json_adapter: Failed to use structured output format. Falling back to JSON mode. Error: 'type' object is not iterable\n"
     ]
    },
    {
     "name": "stdout",
     "output_type": "stream",
     "text": [
      "Average Metric: 148.35 / 207 (71.7%):  69%|███▍ | 207/300 [00:58<00:32,  2.84it/s]"
     ]
    },
    {
     "name": "stderr",
     "output_type": "stream",
     "text": [
      "2025/05/18 11:19:21 WARNING dspy.adapters.json_adapter: Failed to use structured output format. Falling back to JSON mode. Error: 'type' object is not iterable\n",
      "2025/05/18 11:19:21 WARNING dspy.adapters.json_adapter: Failed to use structured output format. Falling back to JSON mode. Error: 'type' object is not iterable\n"
     ]
    },
    {
     "name": "stdout",
     "output_type": "stream",
     "text": [
      "Average Metric: 205.44 / 284 (72.3%):  95%|████▋| 284/300 [01:16<00:03,  4.11it/s]"
     ]
    },
    {
     "name": "stderr",
     "output_type": "stream",
     "text": [
      "2025/05/18 11:19:39 WARNING dspy.adapters.json_adapter: Failed to use structured output format. Falling back to JSON mode. Error: 'type' object is not iterable\n"
     ]
    },
    {
     "name": "stdout",
     "output_type": "stream",
     "text": [
      "Average Metric: 215.59 / 297 (72.6%):  99%|████▉| 297/300 [01:18<00:00,  5.88it/s]"
     ]
    },
    {
     "name": "stderr",
     "output_type": "stream",
     "text": [
      "2025/05/18 11:19:41 WARNING dspy.adapters.json_adapter: Failed to use structured output format. Falling back to JSON mode. Error: 'type' object is not iterable\n"
     ]
    },
    {
     "name": "stdout",
     "output_type": "stream",
     "text": [
      "Average Metric: 218.15 / 300 (72.7%): 100%|█████| 300/300 [01:21<00:00,  3.68it/s]"
     ]
    },
    {
     "name": "stderr",
     "output_type": "stream",
     "text": [
      "2025/05/18 11:19:44 INFO dspy.evaluate.evaluate: Average Metric: 218.15210245486182 / 300 (72.7%)\n"
     ]
    },
    {
     "name": "stdout",
     "output_type": "stream",
     "text": [
      "\n"
     ]
    },
    {
     "data": {
      "text/html": [
       "<div>\n",
       "<style scoped>\n",
       "    .dataframe tbody tr th:only-of-type {\n",
       "        vertical-align: middle;\n",
       "    }\n",
       "\n",
       "    .dataframe tbody tr th {\n",
       "        vertical-align: top;\n",
       "    }\n",
       "\n",
       "    .dataframe thead th {\n",
       "        text-align: right;\n",
       "    }\n",
       "</style>\n",
       "<table border=\"1\" class=\"dataframe\">\n",
       "  <thead>\n",
       "    <tr style=\"text-align: right;\">\n",
       "      <th></th>\n",
       "      <th>question</th>\n",
       "      <th>example_response</th>\n",
       "      <th>gold_doc_ids</th>\n",
       "      <th>reasoning</th>\n",
       "      <th>pred_response</th>\n",
       "      <th>SemanticF1</th>\n",
       "    </tr>\n",
       "  </thead>\n",
       "  <tbody>\n",
       "    <tr>\n",
       "      <th>0</th>\n",
       "      <td>when to use c over c++, and c++ over c?</td>\n",
       "      <td>If you are equally familiar with both C++ and C, it's advisable to...</td>\n",
       "      <td>[733]</td>\n",
       "      <td>The context provides insights into the advantages and typical use ...</td>\n",
       "      <td>Use C over C++ primarily in embedded systems or environments where...</td>\n",
       "      <td>✔️ [0.500]</td>\n",
       "    </tr>\n",
       "    <tr>\n",
       "      <th>1</th>\n",
       "      <td>should images be stored in a git repository?</td>\n",
       "      <td>One viewpoint expresses that there is no significant downside, esp...</td>\n",
       "      <td>[6253, 6254, 6275, 6278, 8215]</td>\n",
       "      <td>The context provides multiple perspectives on storing images in a ...</td>\n",
       "      <td>Images can be stored in a git repository, but it is generally not ...</td>\n",
       "      <td>✔️ [0.750]</td>\n",
       "    </tr>\n",
       "  </tbody>\n",
       "</table>\n",
       "</div>"
      ],
      "text/plain": [
       "                                       question  \\\n",
       "0       when to use c over c++, and c++ over c?   \n",
       "1  should images be stored in a git repository?   \n",
       "\n",
       "                                                        example_response  \\\n",
       "0  If you are equally familiar with both C++ and C, it's advisable to...   \n",
       "1  One viewpoint expresses that there is no significant downside, esp...   \n",
       "\n",
       "                     gold_doc_ids  \\\n",
       "0                           [733]   \n",
       "1  [6253, 6254, 6275, 6278, 8215]   \n",
       "\n",
       "                                                               reasoning  \\\n",
       "0  The context provides insights into the advantages and typical use ...   \n",
       "1  The context provides multiple perspectives on storing images in a ...   \n",
       "\n",
       "                                                           pred_response  \\\n",
       "0  Use C over C++ primarily in embedded systems or environments where...   \n",
       "1  Images can be stored in a git repository, but it is generally not ...   \n",
       "\n",
       "   SemanticF1  \n",
       "0  ✔️ [0.500]  \n",
       "1  ✔️ [0.750]  "
      ]
     },
     "metadata": {},
     "output_type": "display_data"
    },
    {
     "data": {
      "text/html": [
       "\n",
       "            <div style='\n",
       "                text-align: center;\n",
       "                font-size: 16px;\n",
       "                font-weight: bold;\n",
       "                color: #555;\n",
       "                margin: 10px 0;'>\n",
       "                ... 298 more rows not displayed ...\n",
       "            </div>\n",
       "            "
      ],
      "text/plain": [
       "<IPython.core.display.HTML object>"
      ]
     },
     "metadata": {},
     "output_type": "display_data"
    },
    {
     "data": {
      "text/plain": [
       "72.72"
      ]
     },
     "execution_count": 67,
     "metadata": {},
     "output_type": "execute_result"
    }
   ],
   "source": [
    "evaluate(rag)\n"
   ]
  },
  {
   "cell_type": "code",
   "execution_count": null,
   "id": "b984dfa1-82d7-4076-ba1f-54d2c77cb8c5",
   "metadata": {},
   "outputs": [],
   "source": [
    "tp = dspy.MIPROv2(metric=metric, auto=\"medium\", num_threads=24)  # use fewer threads if your rate limit is small\n",
    "\n",
    "optimized_rag = tp.compile(RAG(), trainset=trainset,\n",
    "                           max_bootstrapped_demos=3, max_labeled_demos=3,\n",
    "                           requires_permission_to_run=False)"
   ]
  },
  {
   "cell_type": "code",
   "execution_count": null,
   "id": "6d1bf693-4dc9-43a4-80c5-b7aa4da58597",
   "metadata": {},
   "outputs": [],
   "source": [
    "evaluate(optimized_rag)"
   ]
  },
  {
   "cell_type": "code",
   "execution_count": 3,
   "id": "81c04952-365d-4938-8fb7-e829c540ad36",
   "metadata": {},
   "outputs": [],
   "source": [
    "import random\n",
    "import json\n",
    "import asyncio\n",
    "\n",
    "import pandas as pd\n",
    "from collections import defaultdict\n",
    "from datasets import load_dataset\n",
    "from tqdm.asyncio import tqdm_asyncio\n",
    "import pickle\n",
    "\n",
    "from predictors import *\n",
    "from llm import *\n",
    "from prompts import *\n",
    "from tools import *\n",
    "from evaluations import *\n",
    "\n",
    "dataset = load_dataset(\"gsm8k\", \"main\")\n",
    "training, validation = build_datasets(dataset, 1000, 0.7)\n"
   ]
  },
  {
   "cell_type": "code",
   "execution_count": 4,
   "id": "7c6f3387-0428-4771-88f9-677f357e0f6a",
   "metadata": {},
   "outputs": [],
   "source": [
    "for x in training:\n",
    "    x['answer']=int(x['answer'].replace(',', ''))"
   ]
  },
  {
   "cell_type": "code",
   "execution_count": 5,
   "id": "b3e6a459-8873-428e-abea-9f97f902fe11",
   "metadata": {},
   "outputs": [
    {
     "data": {
      "text/plain": [
       "700"
      ]
     },
     "execution_count": 5,
     "metadata": {},
     "output_type": "execute_result"
    }
   ],
   "source": [
    "data = [dspy.Example(**d).with_inputs('question') for d in training]\n",
    "len(data)\n"
   ]
  },
  {
   "cell_type": "code",
   "execution_count": 6,
   "id": "08ee0a80-6b5b-46cf-9852-6a51e848fec5",
   "metadata": {},
   "outputs": [],
   "source": [
    "trainset, devset = data[:300], data[300:500]"
   ]
  },
  {
   "cell_type": "code",
   "execution_count": 32,
   "id": "13eae7af-800d-46f6-8c5b-839754d7b524",
   "metadata": {},
   "outputs": [],
   "source": [
    "class Solver(dspy.Module):\n",
    "    def __init__(self):\n",
    "        self.guess = dspy.ChainOfThought('question -> answer : int')\n",
    "        self.critic = [dspy.ChainOfThought('question, last_reasoning, last_answer -> corrected_answer : int') for _ in range(3)]\n",
    "\n",
    "    def forward(self, question):\n",
    "        pred = self.guess(question=question)\n",
    "        last_answer, last_reasoning = pred.answer, pred.reasoning\n",
    "        for k in range(3):\n",
    "            newpred = self.critic[k](question=question,\n",
    "                                  last_reasoning=last_reasoning,\n",
    "                                  last_answer=last_answer)\n",
    "            last_answer, last_reasoning = newpred.corrected_answer, last_reasoning +\" ==> \"+ newpred.reasoning\n",
    "        return dspy.Prediction(reasoning = last_reasoning, answer = last_answer)\n",
    "\n",
    "solver = Solver()"
   ]
  },
  {
   "cell_type": "code",
   "execution_count": 35,
   "id": "47cebd40-2ec2-4f80-bbdb-174051dedda3",
   "metadata": {},
   "outputs": [
    {
     "data": {
      "text/plain": [
       "Prediction(\n",
       "    reasoning='Natalia sold 48 clips in April. In May, she sold half as many clips, which is 48 divided by 2, resulting in 24 clips. To find the total number of clips sold in April and May, add the clips sold in both months: 48 + 24 = 72. ==> Natalia sold 48 clips in April. In May, she sold half as many clips, which is 48 divided by 2, resulting in 24 clips. To find the total number of clips sold in April and May, add the clips sold in both months: 48 + 24 = 72. ==> The problem states that Natalia sold 48 clips in April. In May, she sold half as many clips, which is 48 divided by 2, resulting in 24 clips. To find the total number of clips sold in April and May, add the clips sold in both months: 48 + 24 = 72. The calculation is correct, and the total clips sold is 72. ==> The problem states that Natalia sold 48 clips in April. In May, she sold half as many clips, which is 48 divided by 2, resulting in 24 clips. To find the total number of clips sold in April and May, add the clips sold in both months: 48 + 24 = 72. The calculation is correct, and the total clips sold is 72.',\n",
       "    answer=72\n",
       ")"
      ]
     },
     "execution_count": 35,
     "metadata": {},
     "output_type": "execute_result"
    }
   ],
   "source": [
    "solver(**data[0].inputs())"
   ]
  },
  {
   "cell_type": "code",
   "execution_count": 36,
   "id": "22709a54-008d-433b-89e5-3d41bb12b5e2",
   "metadata": {},
   "outputs": [
    {
     "data": {
      "text/plain": [
       "Prediction(\n",
       "    reasoning='Natalia sold 48 clips in April. In May, she sold half as many clips, which is 48 divided by 2, resulting in 24 clips. To find the total number of clips sold in April and May, add the clips sold in both months: 48 + 24 = 72.',\n",
       "    answer=72\n",
       ")"
      ]
     },
     "execution_count": 36,
     "metadata": {},
     "output_type": "execute_result"
    }
   ],
   "source": [
    "solver.guess(question=data[0].question)"
   ]
  },
  {
   "cell_type": "code",
   "execution_count": 37,
   "id": "c779c32b-7aa6-4a43-8fc1-71c7b25a4769",
   "metadata": {},
   "outputs": [],
   "source": [
    "def match(example, pred):\n",
    "    return example.answer == pred.answer\n",
    "\n",
    "\n",
    "evaluate = dspy.Evaluate(devset=devset, metric=match, num_threads=24,\n",
    "                         display_progress=True, display_table=2)"
   ]
  },
  {
   "cell_type": "code",
   "execution_count": 38,
   "id": "2cc852a7-1158-4815-ad7d-c035b6dd31e4",
   "metadata": {},
   "outputs": [
    {
     "name": "stdout",
     "output_type": "stream",
     "text": [
      "Average Metric: 36.00 / 38 (94.7%):  18%|█▍      | 37/200 [00:08<00:28,  5.72it/s]"
     ]
    },
    {
     "name": "stderr",
     "output_type": "stream",
     "text": [
      "2025/05/18 13:37:40 WARNING dspy.adapters.json_adapter: Failed to use structured output format. Falling back to JSON mode. Error: 'type' object is not iterable\n"
     ]
    },
    {
     "name": "stdout",
     "output_type": "stream",
     "text": [
      "Average Metric: 70.00 / 75 (93.3%):  38%|███     | 75/200 [00:14<00:21,  5.83it/s]"
     ]
    },
    {
     "name": "stderr",
     "output_type": "stream",
     "text": [
      "2025/05/18 13:37:46 WARNING dspy.adapters.json_adapter: Failed to use structured output format. Falling back to JSON mode. Error: 'type' object is not iterable\n"
     ]
    },
    {
     "name": "stdout",
     "output_type": "stream",
     "text": [
      "Average Metric: 71.00 / 76 (93.4%):  38%|███     | 75/200 [00:14<00:21,  5.83it/s]"
     ]
    },
    {
     "name": "stderr",
     "output_type": "stream",
     "text": [
      "2025/05/18 13:37:46 ERROR dspy.utils.parallelizer: Error for Example({'question': \"Sam works at the Widget Factory, assembling Widgets. He can assemble 1 widget every 10 minutes. Jack from the loading dock can help assemble widgets when he doesn't have anything else to do. When he helps, they put together 2 complete widgets every 15 minutes. Recently the factory hired Tony to help assemble widgets. Being new to the job, he doesn't work as fast as Sam or Jack. Yesterday Sam worked for 6 hours before he had to leave work early for a dentist appointment. Jack was able to help out for 4 hours before he had to go back to the loading dock to unload a new shipment of widget materials. Tony worked the entire 8-hour shift. At the end of the day, they had completed 68 widgets. How long does it take Tony to assemble a Widget, in minutes?\", 'thoughts': 'Sam completes a widget every 10 minutes.\\nWhen Jack helps they finish 2 in 15 minutes. Sam has finished 1 widget and has begun working on another one, and Jack finishes the second one at 15 minutes. So it takes Jack 15 minutes to complete a widget.\\nSam worked for 6 hours yesterday, so he was able to complete 6 hours * 60 minutes per hour / 10 minutes per widget = <<6*60/10=36>>36 widgets.\\nJack worked for 4 hours, so he was able to complete 4 hours * 60 minutes per hour / 15 minutes per widget = <<4*60/15=16>>16 widgets.\\nSam, Jack, and Tony were able to complete 68 widgets together. So of those, Tony personally completed 68 widgets - 36 widgets - 16 widgets = <<68-36-16=16>>16 widgets.\\nIt took Tony 8 hours to complete those 16 widgets, so he takes 8 hours * 60 minutes per hour / 16 widgets = <<8*60/16=30>>30 minutes per widget.', 'answer': 30}) (input_keys={'question'}): Both structured output format and JSON mode failed. Please choose a model that supports `response_format` argument. Original error: Expected dict_keys(['reasoning', 'answer']) but got dict_keys(['reasoning']). Set `provide_traceback=True` for traceback.\n"
     ]
    },
    {
     "name": "stdout",
     "output_type": "stream",
     "text": [
      "Average Metric: 174.00 / 199 (87.4%): 100%|█████| 200/200 [00:33<00:00,  5.98it/s]"
     ]
    },
    {
     "name": "stderr",
     "output_type": "stream",
     "text": [
      "2025/05/18 13:38:06 INFO dspy.evaluate.evaluate: Average Metric: 174.0 / 200 (87.0%)\n"
     ]
    },
    {
     "name": "stdout",
     "output_type": "stream",
     "text": [
      "\n"
     ]
    },
    {
     "data": {
      "text/html": [
       "<div>\n",
       "<style scoped>\n",
       "    .dataframe tbody tr th:only-of-type {\n",
       "        vertical-align: middle;\n",
       "    }\n",
       "\n",
       "    .dataframe tbody tr th {\n",
       "        vertical-align: top;\n",
       "    }\n",
       "\n",
       "    .dataframe thead th {\n",
       "        text-align: right;\n",
       "    }\n",
       "</style>\n",
       "<table border=\"1\" class=\"dataframe\">\n",
       "  <thead>\n",
       "    <tr style=\"text-align: right;\">\n",
       "      <th></th>\n",
       "      <th>question</th>\n",
       "      <th>thoughts</th>\n",
       "      <th>example_answer</th>\n",
       "      <th>reasoning</th>\n",
       "      <th>pred_answer</th>\n",
       "      <th>match</th>\n",
       "      <th>answer</th>\n",
       "    </tr>\n",
       "  </thead>\n",
       "  <tbody>\n",
       "    <tr>\n",
       "      <th>0</th>\n",
       "      <td>It costs $.10 to print one page. Jenny wants to print 7 copies of ...</td>\n",
       "      <td>Jenny needs to print 7*25= &lt;&lt;7*25=175&gt;&gt;175 pages. This will cost 1...</td>\n",
       "      <td>12.0</td>\n",
       "      <td>First, calculate the cost to print 7 copies of a 25-page essay. Ea...</td>\n",
       "      <td>12.0</td>\n",
       "      <td>✔️ [True]</td>\n",
       "      <td>NaN</td>\n",
       "    </tr>\n",
       "    <tr>\n",
       "      <th>1</th>\n",
       "      <td>240 sixth-grade students were asked about the number of novels the...</td>\n",
       "      <td>1/6 * 240 students = &lt;&lt;1/6*240=40&gt;&gt;40 students. So 40 students rea...</td>\n",
       "      <td>16.0</td>\n",
       "      <td>First, find the number of students in each category based on the g...</td>\n",
       "      <td>16.0</td>\n",
       "      <td>✔️ [True]</td>\n",
       "      <td>NaN</td>\n",
       "    </tr>\n",
       "  </tbody>\n",
       "</table>\n",
       "</div>"
      ],
      "text/plain": [
       "                                                                question  \\\n",
       "0  It costs $.10 to print one page. Jenny wants to print 7 copies of ...   \n",
       "1  240 sixth-grade students were asked about the number of novels the...   \n",
       "\n",
       "                                                                thoughts  \\\n",
       "0  Jenny needs to print 7*25= <<7*25=175>>175 pages. This will cost 1...   \n",
       "1  1/6 * 240 students = <<1/6*240=40>>40 students. So 40 students rea...   \n",
       "\n",
       "   example_answer  \\\n",
       "0            12.0   \n",
       "1            16.0   \n",
       "\n",
       "                                                               reasoning  \\\n",
       "0  First, calculate the cost to print 7 copies of a 25-page essay. Ea...   \n",
       "1  First, find the number of students in each category based on the g...   \n",
       "\n",
       "   pred_answer      match  answer  \n",
       "0         12.0  ✔️ [True]     NaN  \n",
       "1         16.0  ✔️ [True]     NaN  "
      ]
     },
     "metadata": {},
     "output_type": "display_data"
    },
    {
     "data": {
      "text/html": [
       "\n",
       "            <div style='\n",
       "                text-align: center;\n",
       "                font-size: 16px;\n",
       "                font-weight: bold;\n",
       "                color: #555;\n",
       "                margin: 10px 0;'>\n",
       "                ... 198 more rows not displayed ...\n",
       "            </div>\n",
       "            "
      ],
      "text/plain": [
       "<IPython.core.display.HTML object>"
      ]
     },
     "metadata": {},
     "output_type": "display_data"
    },
    {
     "data": {
      "text/plain": [
       "87.0"
      ]
     },
     "execution_count": 38,
     "metadata": {},
     "output_type": "execute_result"
    }
   ],
   "source": [
    "evaluate(solver)"
   ]
  },
  {
   "cell_type": "code",
   "execution_count": 39,
   "id": "415c1e1f-ea57-4f5f-82e3-403818c06d28",
   "metadata": {},
   "outputs": [
    {
     "name": "stderr",
     "output_type": "stream",
     "text": [
      "2025/05/18 13:38:20 INFO dspy.teleprompt.mipro_optimizer_v2: \n",
      "RUNNING WITH THE FOLLOWING MEDIUM AUTO RUN SETTINGS:\n",
      "num_trials: 57\n",
      "minibatch: True\n",
      "num_fewshot_candidates: 12\n",
      "num_instruct_candidates: 6\n",
      "valset size: 240\n",
      "\n",
      "2025/05/18 13:38:20 INFO dspy.teleprompt.mipro_optimizer_v2: \n",
      "==> STEP 1: BOOTSTRAP FEWSHOT EXAMPLES <==\n",
      "2025/05/18 13:38:20 INFO dspy.teleprompt.mipro_optimizer_v2: These will be used for informing instruction proposal.\n",
      "\n",
      "2025/05/18 13:38:20 INFO dspy.teleprompt.mipro_optimizer_v2: Bootstrapping N=12 sets of demonstrations...\n"
     ]
    },
    {
     "name": "stdout",
     "output_type": "stream",
     "text": [
      "Bootstrapping set 1/12\n",
      "Bootstrapping set 2/12\n"
     ]
    },
    {
     "name": "stderr",
     "output_type": "stream",
     "text": [
      "  0%|                                                      | 0/60 [00:00<?, ?it/s]2025/05/18 13:38:25 ERROR dspy.teleprompt.bootstrap: Failed to run or to evaluate example Example({'question': 'Ken created a care package to send to his brother, who was away at boarding school.  Ken placed a box on a scale, and then he poured into the box enough jelly beans to bring the weight to 2 pounds.  Then, he added enough brownies to cause the weight to triple.  Next, he added another 2 pounds of jelly beans.  And finally, he added enough gummy worms to double the weight once again.  What was the final weight of the box of goodies, in pounds?', 'thoughts': 'To the initial 2 pounds of jelly beans, he added enough brownies to cause the weight to triple, bringing the weight to 2*3=<<2*3=6>>6 pounds.\\nNext, he added another 2 pounds of jelly beans, bringing the weight to 6+2=<<6+2=8>>8 pounds.\\nAnd finally, he added enough gummy worms to double the weight once again, to a final weight of 8*2=<<8*2=16>>16 pounds.', 'answer': 16}) (input_keys={'question'}) with <function match at 0x30cb02a20> due to match() takes 2 positional arguments but 3 were given.\n",
      "  2%|▊                                             | 1/60 [00:05<04:58,  5.06s/it]2025/05/18 13:38:32 ERROR dspy.teleprompt.bootstrap: Failed to run or to evaluate example Example({'question': 'Samantha’s last name has three fewer letters than Bobbie’s last name. If Bobbie took two letters off her last name, she would have a last name twice the length of Jamie’s. Jamie’s full name is Jamie Grey. How many letters are in Samantha’s last name?', 'thoughts': 'There are 4 letters in Jamie’s last name, so Bobbie’s name is 4*2 +2 = <<4*2+2=10>>10 letters long.\\nSamantha’s last name is 3 letters shorter than Bobbie’s, so there are 10 - 3 = <<10-3=7>>7 letters in Samantha’s last name.', 'answer': 7}) (input_keys={'question'}) with <function match at 0x30cb02a20> due to match() takes 2 positional arguments but 3 were given.\n",
      "  3%|█▌                                            | 2/60 [00:11<05:45,  5.96s/it]2025/05/18 13:38:36 ERROR dspy.teleprompt.bootstrap: Failed to run or to evaluate example Example({'question': 'There are 25 roses in a garden. There are 40 tulips. There are 35 daisies. What percentage of flowers are not roses?', 'thoughts': 'There are 25+40+35=<<25+40+35=100>>100 flowers total.\\nThere are 40+35=<<40+35=75>>75 flowers that are not roses.\\nTherefore, (75/100)*100=<<(75/100)*100=75>>75% of the flowers are not roses.', 'answer': 75}) (input_keys={'question'}) with <function match at 0x30cb02a20> due to match() takes 2 positional arguments but 3 were given.\n",
      "  5%|██▎                                           | 3/60 [00:16<05:04,  5.34s/it]2025/05/18 13:38:42 ERROR dspy.teleprompt.bootstrap: Failed to run or to evaluate example Example({'question': 'Tina makes $18.00 an hour.  If she works more than 8 hours per shift, she is eligible for overtime, which is paid by your hourly wage + 1/2 your hourly wage.  If she works 10 hours every day for 5 days, how much money does she make?', 'thoughts': 'She works 8 hours a day for $18 per hour so she makes 8*18 = $<<8*18=144.00>>144.00 per 8-hour shift\\nShe works 10 hours a day and anything over 8 hours is eligible for overtime, so she gets 10-8 = <<10-8=2>>2 hours of overtime\\nOvertime is calculated as time and a half so and she makes $18/hour so her overtime pay is 18*.5 = $<<18*.5=9.00>>9.00\\nHer overtime pay is 18+9 = $<<18+9=27.00>>27.00\\nHer base pay is $144.00 per 8-hour shift and she works 5 days and makes 5 * $144 = $<<144*5=720.00>>720.00\\nHer overtime pay is $27.00 per hour and she works 2 hours of overtime per day and makes 27*2 = $<<27*2=54.00>>54.00 in overtime pay\\n2 hours of overtime pay for 5 days means she makes 54*5 = $270.00\\nIn 5 days her base pay is $720.00 and she makes $270.00 in overtime pay so she makes $720 + $270 = $<<720+270=990.00>>990.00', 'answer': 990}) (input_keys={'question'}) with <function match at 0x30cb02a20> due to match() takes 2 positional arguments but 3 were given.\n",
      "  7%|███                                           | 4/60 [00:22<05:09,  5.52s/it]2025/05/18 13:38:47 ERROR dspy.teleprompt.bootstrap: Failed to run or to evaluate example Example({'question': 'Every hour Joanne has to collect the coins out of the fountain inside the mall. During the first hour, she collected 15 coins. For the next two hours, she collected 35 coins from the fountain. In the fourth hour, she collected 50 coins from the fountain but she gave 15 of them to her coworker so she could buy a soda. How many coins did she have after the fourth hour?', 'thoughts': '15 coins collected in hour one\\n35 coins collected in hour two\\n35 coins collected in hour three\\n50 coins collected in hour four\\nBefore giving her coworker some coins there were 15+35+35+50=<<15+35+35+50=135>>135 coins\\nThe number of coins after given 15 to her coworker is 135-15=<<135-15=120>>120', 'answer': 120}) (input_keys={'question'}) with <function match at 0x30cb02a20> due to match() takes 2 positional arguments but 3 were given.\n",
      "  8%|███▊                                          | 5/60 [00:26<04:46,  5.22s/it]2025/05/18 13:38:52 ERROR dspy.teleprompt.bootstrap: Failed to run or to evaluate example Example({'question': 'Mary does her grocery shopping on Saturday. She does her shopping only at a specific store where she is allowed a credit of $100, which must be paid in full before her next shopping trip. That week she spent the full credit limit and paid $15 of it on Tuesday and $23 of it on Thursday. How much credit will Mary need to pay before her next shopping trip?', 'thoughts': 'So far, Mary has paid back $15 +$23=$<<15+23=38>>38 of the credit.\\nSo she still needs to pay $100-$38=$<<100-38=62>>62', 'answer': 62}) (input_keys={'question'}) with <function match at 0x30cb02a20> due to match() takes 2 positional arguments but 3 were given.\n",
      " 10%|████▌                                         | 6/60 [00:31<04:36,  5.12s/it]2025/05/18 13:38:55 ERROR dspy.teleprompt.bootstrap: Failed to run or to evaluate example Example({'question': 'Mr. Sanchez found out that 40% of his Grade 5  students got a final grade below B. How many of his students got a final grade of B and above if he has 60 students in Grade 5?', 'thoughts': \"Since 40% of his students got below B, 100% - 40% = 60% of Mr. Sanchez's students got B and above.\\nThus, 60 x 60/100 = <<60*60/100=36>>36 students got B and above in their final grade.\", 'answer': 36}) (input_keys={'question'}) with <function match at 0x30cb02a20> due to match() takes 2 positional arguments but 3 were given.\n",
      " 12%|█████▎                                        | 7/60 [00:34<04:00,  4.54s/it]2025/05/18 13:39:00 ERROR dspy.teleprompt.bootstrap: Failed to run or to evaluate example Example({'question': 'Arnel had ten boxes of pencils with the same number of pencils in each box.  He kept ten pencils and shared the remaining pencils equally with his five friends. If his friends got eight pencils each, how many pencils are in each box?', 'thoughts': 'Arnel shared 5 x 8 = <<5*8=40>>40 pencils with his friends.\\nSo, he had 10 + 40 = <<10+40=50>>50 pencils in all.\\nTherefore, each box had 50/10 = <<50/10=5>>5 pencils inside.', 'answer': 5}) (input_keys={'question'}) with <function match at 0x30cb02a20> due to match() takes 2 positional arguments but 3 were given.\n",
      " 13%|██████▏                                       | 8/60 [00:40<04:03,  4.69s/it]2025/05/18 13:39:04 ERROR dspy.teleprompt.bootstrap: Failed to run or to evaluate example Example({'question': 'A deep-sea monster rises from the waters once every hundred years to feast on a ship and sate its hunger. Over three hundred years, it has consumed 847 people. Ships have been built larger over time, so each new ship has twice as many people as the last ship. How many people were on the ship the monster ate in the first hundred years?', 'thoughts': 'Let S be the number of people on the first hundred years’ ship.\\nThe second hundred years’ ship had twice as many as the first, so it had 2S people.\\nThe third hundred years’ ship had twice as many as the second, so it had 2 * 2S = <<2*2=4>>4S people.\\nAll the ships had S + 2S + 4S = 7S = 847 people.\\nThus, the ship that the monster ate in the first hundred years had S = 847 / 7 = <<847/7=121>>121 people on it.', 'answer': 121}) (input_keys={'question'}) with <function match at 0x30cb02a20> due to match() takes 2 positional arguments but 3 were given.\n",
      " 15%|██████▉                                       | 9/60 [00:48<04:34,  5.39s/it]\n",
      "2025/05/18 13:39:08 INFO dspy.teleprompt.mipro_optimizer_v2: Error generating few-shot examples: match() takes 2 positional arguments but 3 were given\n",
      "2025/05/18 13:39:08 INFO dspy.teleprompt.mipro_optimizer_v2: Running without few-shot examples.\n",
      "2025/05/18 13:39:08 INFO dspy.teleprompt.mipro_optimizer_v2: \n",
      "==> STEP 2: PROPOSE INSTRUCTION CANDIDATES <==\n",
      "2025/05/18 13:39:08 INFO dspy.teleprompt.mipro_optimizer_v2: We will use the few-shot examples from the previous step, a generated dataset summary, a summary of the program code, and a randomly selected prompting tip to propose instructions.\n",
      "2025/05/18 13:39:08 INFO dspy.teleprompt.mipro_optimizer_v2: \n",
      "Proposing N=6 instructions...\n",
      "\n",
      "2025/05/18 13:40:26 INFO dspy.teleprompt.mipro_optimizer_v2: Proposed Instructions for Predictor 0:\n",
      "\n",
      "2025/05/18 13:40:26 INFO dspy.teleprompt.mipro_optimizer_v2: 0: Given the fields `question`, produce the fields `answer`.\n",
      "\n",
      "2025/05/18 13:40:26 INFO dspy.teleprompt.mipro_optimizer_v2: 1: You are a math reasoning expert specializing in solving multi-step word problems involving real-world scenarios such as money, time, and quantities. Given a question that describes a practical situation, analyze the problem carefully, think through the steps logically, and generate a detailed reasoning process. Based on this reasoning, provide a precise answer as an integer. Ensure your explanation clearly outlines each step, so the solution is transparent and easy to follow. Use your expertise to interpret the context accurately and perform the necessary calculations to arrive at the correct answer.\n",
      "\n",
      "2025/05/18 13:40:26 INFO dspy.teleprompt.mipro_optimizer_v2: 2: Generate a clear, detailed instruction for a language model to solve multi-step word problems involving basic arithmetic in real-world contexts. The instruction should emphasize understanding the problem, translating descriptive language into quantitative reasoning, and ensuring step-by-step logical thinking. Incorporate the idea of iterative self-checking or correction to improve accuracy, and encourage the model to explain its reasoning process thoroughly. Highlight the importance of accuracy and clarity in reasoning, especially when dealing with practical scenarios like money, time, and quantities. Be creative in framing the instruction to promote careful, logical, and comprehensive problem-solving approaches.\n",
      "\n",
      "2025/05/18 13:40:26 INFO dspy.teleprompt.mipro_optimizer_v2: 3: Carefully analyze the given multi-step word problem question involving real-world scenarios such as money, time, or quantities. Break down the problem into logical steps, perform the necessary calculations, and clearly explain your reasoning process. Finally, determine the correct numerical answer based on your reasoning. Your explanation should be detailed enough to demonstrate a clear understanding of the problem-solving process, and your answer should be the result of this step-by-step reasoning. Remember to consider all relevant information and double-check your calculations to ensure accuracy.\n",
      "\n",
      "2025/05/18 13:40:26 INFO dspy.teleprompt.mipro_optimizer_v2: 4: Given a multi-step word problem question involving real-world scenarios such as money, time, or quantities, generate a detailed reasoning process that logically breaks down the problem step-by-step, followed by the final numerical answer. The reasoning should be clear, systematic, and demonstrate the application of basic arithmetic operations to arrive at the solution. Use the provided question as input and produce the reasoning and answer as output fields.\n",
      "\n",
      "2025/05/18 13:40:26 INFO dspy.teleprompt.mipro_optimizer_v2: 5: You are a knowledgeable math tutor specializing in solving multi-step word problems involving real-world scenarios such as money, time, and quantities. Given a question, analyze it carefully, then generate a clear, logical, step-by-step reasoning process that leads to the final answer. Ensure your explanation reflects thorough understanding and accurate application of basic arithmetic operations. Present the reasoning first, followed by the final answer. Use the provided question as input and produce the reasoning and answer as output fields. Remember to be precise and explanatory to facilitate understanding and verification of the solution.\n",
      "\n",
      "2025/05/18 13:40:26 INFO dspy.teleprompt.mipro_optimizer_v2: \n",
      "\n",
      "2025/05/18 13:40:26 INFO dspy.teleprompt.mipro_optimizer_v2: Proposed Instructions for Predictor 1:\n",
      "\n",
      "2025/05/18 13:40:26 INFO dspy.teleprompt.mipro_optimizer_v2: 0: Given the fields `question`, `last_reasoning`, `last_answer`, produce the fields `corrected_answer`.\n",
      "\n",
      "2025/05/18 13:40:26 INFO dspy.teleprompt.mipro_optimizer_v2: 1: Given the fields `question`, `last_reasoning`, and `last_answer`, generate the fields `corrected_answer` and an updated `reasoning` that reflect a step-by-step, logical critique and refinement of the initial answer. The process should involve analyzing the previous reasoning and answer to identify potential errors or inconsistencies, then providing a corrected answer along with an explanation of the reasoning. Ensure that the final output improves accuracy and clarity, adhering to the multi-step reasoning approach suitable for solving multi-step word problems involving basic arithmetic in real-world contexts.\n",
      "\n",
      "2025/05/18 13:40:26 INFO dspy.teleprompt.mipro_optimizer_v2: 2: Imagine you are an expert accountant tasked with verifying complex financial calculations in real-world scenarios. Your job is to carefully analyze each question involving multi-step reasoning about money, time, or quantities. Given a question, along with a previous reasoning process and answer, critically evaluate and improve the answer by identifying any errors or oversights. Produce a corrected answer and an updated reasoning explanation that clearly justifies the correction. This rigorous self-critique ensures the final answer is as accurate and logical as possible, reflecting the high stakes of financial accuracy in practical situations. Your response must include the corrected answer and a detailed reasoning process that demonstrates careful review and refinement.\n",
      "\n",
      "2025/05/18 13:40:26 INFO dspy.teleprompt.mipro_optimizer_v2: 3: You are an experienced math tutor specializing in solving multi-step word problems involving real-world scenarios such as money, time, and quantities. Given a question, along with previous reasoning and answers if available, generate an initial detailed reasoning process and a preliminary answer. Then, critically evaluate and refine this answer through up to three iterations, each time considering the previous reasoning and answer, to produce an improved, more accurate final answer. Ensure your explanations are clear, logical, and step-by-step, helping students understand the reasoning process behind the solution.\n",
      "\n",
      "2025/05/18 13:40:26 INFO dspy.teleprompt.mipro_optimizer_v2: 4: Given the fields `question`, `last_reasoning`, and `last_answer`, generate the fields `reasoning` and `corrected_answer`. The `reasoning` should be a detailed, step-by-step explanation of how to solve the question, starting with \"Let's think step by step in order to\". The `corrected_answer` should be an integer that represents the final answer after review and correction. Ensure that the reasoning logically leads to the corrected answer, and that the answer is accurate and supported by the reasoning.\n",
      "\n",
      "2025/05/18 13:40:26 INFO dspy.teleprompt.mipro_optimizer_v2: 5: You are a highly accurate and detail-oriented math reasoning assistant tasked with solving complex multi-step word problems involving real-world scenarios such as money, time, and quantities. Given a question, along with your previous reasoning and answer, carefully review and evaluate the previous answer for correctness. Think critically about the logic and calculations involved, considering potential errors or oversights. If you identify mistakes, correct them and provide a revised answer with an improved reasoning explanation. Remember, the stakes are high: your corrections can significantly impact real-world decisions based on these calculations. Carefully analyze the problem, ensure your reasoning is sound, and produce a final, accurate answer with a clear, step-by-step explanation.\n",
      "\n",
      "2025/05/18 13:40:26 INFO dspy.teleprompt.mipro_optimizer_v2: \n",
      "\n",
      "2025/05/18 13:40:26 INFO dspy.teleprompt.mipro_optimizer_v2: Proposed Instructions for Predictor 2:\n",
      "\n",
      "2025/05/18 13:40:26 INFO dspy.teleprompt.mipro_optimizer_v2: 0: Given the fields `question`, `last_reasoning`, `last_answer`, produce the fields `corrected_answer`.\n",
      "\n",
      "2025/05/18 13:40:26 INFO dspy.teleprompt.mipro_optimizer_v2: 1: Imagine you are a highly trusted financial advisor tasked with solving complex, real-world word problems involving money, time, and quantities. Your goal is to carefully analyze each problem, break it down step-by-step, and generate a precise answer. First, read the question and produce a detailed reasoning process along with an initial answer. Then, critically review your previous reasoning and answer, making corrections if necessary to ensure maximum accuracy. Use your expertise to interpret the problem clearly and avoid mistakes, as your advice could impact important decisions. Carefully follow this multi-pass reasoning approach to deliver the most reliable solution possible.\n",
      "\n",
      "2025/05/18 13:40:26 INFO dspy.teleprompt.mipro_optimizer_v2: 2: Using the provided dataset description, program code, and module details, craft an instruction for a language model that guides it to solve multi-step word problems involving real-world scenarios. The instruction should emphasize understanding the problem, reasoning step-by-step, and producing accurate answers through iterative correction if necessary. The goal is to enable the model to interpret the problems clearly, generate initial solutions, and refine these solutions via self-critique to ensure correctness, aligning with the structured multi-module approach described.\n",
      "\n",
      "2025/05/18 13:40:26 INFO dspy.teleprompt.mipro_optimizer_v2: 3: Create a detailed and comprehensive prompt for a language model that instructs it to solve multi-step word problems involving basic arithmetic in real-world contexts. The prompt should specify that the model receives a question, previous reasoning, and previous answer, and then generates a corrected answer along with a step-by-step reasoning process. Emphasize the importance of logical, clear, and accurate reasoning that reflects real-world understanding, and ensure the instructions highlight the need for the model to revise its initial answer if necessary, providing an improved, well-explained solution. The prompt should be explicit about the format and the purpose of each input and output field, guiding the model to produce reasoning and answers that are easy to follow and verify.\n",
      "\n",
      "2025/05/18 13:40:26 INFO dspy.teleprompt.mipro_optimizer_v2: 4: Given the fields `question`, `last_reasoning`, and `last_answer`, generate the fields `corrected_answer` by critically evaluating and refining the initial answer and reasoning. Use logical, step-by-step analysis to improve accuracy, ensuring the final answer correctly addresses the question based on the reasoning provided.\n",
      "\n",
      "2025/05/18 13:40:26 INFO dspy.teleprompt.mipro_optimizer_v2: 5: Using the provided dataset of multi-step word problems involving real-world scenarios, craft an instruction that guides a language model to analyze a question, generate an initial reasoning process and answer, then iteratively critique and refine that answer through multiple steps. The instruction should emphasize clarity, logical step-by-step thinking, and the importance of self-critique to improve accuracy for practical math problems.\n",
      "\n",
      "2025/05/18 13:40:26 INFO dspy.teleprompt.mipro_optimizer_v2: \n",
      "\n",
      "2025/05/18 13:40:26 INFO dspy.teleprompt.mipro_optimizer_v2: Proposed Instructions for Predictor 3:\n",
      "\n",
      "2025/05/18 13:40:26 INFO dspy.teleprompt.mipro_optimizer_v2: 0: Given the fields `question`, `last_reasoning`, `last_answer`, produce the fields `corrected_answer`.\n",
      "\n",
      "2025/05/18 13:40:26 INFO dspy.teleprompt.mipro_optimizer_v2: 1: You are an experienced elementary school math teacher specializing in word problems involving real-world scenarios such as money, time, and quantities. Your task is to help students understand and solve multi-step math problems by reasoning through the steps clearly and logically. Given a question, along with any previous reasoning and answers, generate a refined, accurate answer by carefully analyzing the problem, checking for errors, and providing a step-by-step explanation. Focus on translating descriptive text into correct quantitative reasoning and ensure your final answer is precise and well-supported. Use your expertise to produce a coherent reasoning process and a correct solution.\n",
      "\n",
      "2025/05/18 13:40:26 INFO dspy.teleprompt.mipro_optimizer_v2: 2: Given a multi-step word problem involving real-world scenarios such as money, time, or quantities, generate a detailed reasoning process that logically breaks down the problem step-by-step, and then provide the final answer as an integer. Ensure your reasoning clearly explains how you arrive at the answer, mimicking human-like step-by-step problem solving.\n",
      "\n",
      "2025/05/18 13:40:26 INFO dspy.teleprompt.mipro_optimizer_v2: 3: You are provided with a question, along with a previous reasoning process and answer. Your task is to carefully review this information and generate an improved reasoning that accurately addresses the question. Based on this refined reasoning, produce a corrected answer that better reflects logical and accurate problem-solving steps. Ensure your response demonstrates clear, step-by-step thinking and logical consistency to arrive at the most accurate solution possible.\n",
      "\n",
      "2025/05/18 13:40:26 INFO dspy.teleprompt.mipro_optimizer_v2: 4: You are tasked with evaluating a given question, along with its previous reasoning and answer, to generate a corrected answer and an improved reasoning explanation. Carefully analyze the initial reasoning and answer to identify any errors or areas for improvement. Use this insight to produce a more accurate and logically sound reasoning process, culminating in a corrected answer. Your response should include two fields: `corrected_answer`, which is an integer representing the revised solution, and `reasoning`, which is a clear, detailed explanation of the step-by-step thought process leading to the corrected answer. Ensure that your reasoning is thorough and helps clarify how the correction was derived, making the process transparent and logically sound.\n",
      "\n",
      "2025/05/18 13:40:26 INFO dspy.teleprompt.mipro_optimizer_v2: 5: Given the question, previous reasoning, and previous answer, analyze the reasoning and answer to identify any errors or inconsistencies. Then, generate a corrected answer that aligns logically with the question and improves upon the initial response. Provide the refined reasoning process and the corrected answer as output.\n",
      "\n",
      "2025/05/18 13:40:26 INFO dspy.teleprompt.mipro_optimizer_v2: \n",
      "\n",
      "2025/05/18 13:40:26 INFO dspy.teleprompt.mipro_optimizer_v2: ==> STEP 3: FINDING OPTIMAL PROMPT PARAMETERS <==\n",
      "2025/05/18 13:40:26 INFO dspy.teleprompt.mipro_optimizer_v2: We will evaluate the program over a series of trials with different combinations of instructions and few-shot examples to find the optimal combination using Bayesian Optimization.\n",
      "\n",
      "2025/05/18 13:40:26 INFO dspy.teleprompt.mipro_optimizer_v2: == Trial 1 / 70 - Full Evaluation of Default Program ==\n"
     ]
    },
    {
     "name": "stdout",
     "output_type": "stream",
     "text": [
      "Average Metric: 6.00 / 7 (85.7%):   3%|▎          | 7/240 [00:03<00:56,  4.09it/s]"
     ]
    },
    {
     "name": "stderr",
     "output_type": "stream",
     "text": [
      "2025/05/18 13:40:30 WARNING dspy.adapters.json_adapter: Failed to use structured output format. Falling back to JSON mode. Error: 'type' object is not iterable\n"
     ]
    },
    {
     "name": "stdout",
     "output_type": "stream",
     "text": [
      "Average Metric: 49.00 / 53 (92.5%):  22%|█▋      | 52/240 [00:09<00:23,  8.13it/s]"
     ]
    },
    {
     "name": "stderr",
     "output_type": "stream",
     "text": [
      "2025/05/18 13:40:36 WARNING dspy.adapters.json_adapter: Failed to use structured output format. Falling back to JSON mode. Error: 'type' object is not iterable\n"
     ]
    },
    {
     "name": "stdout",
     "output_type": "stream",
     "text": [
      "Average Metric: 50.00 / 54 (92.6%):  22%|█▊      | 54/240 [00:09<00:20,  9.11it/s]"
     ]
    },
    {
     "name": "stderr",
     "output_type": "stream",
     "text": [
      "2025/05/18 13:40:36 ERROR dspy.utils.parallelizer: Error for Example({'question': 'Jim collects model cars, and he has 301 models total.  Jim has 4 times as many Buicks as Fords, and 3 more than twice the number of Fords than Chevys.  How many Buicks does Jim have?', 'thoughts': 'Let x represent the number of Chevys\\nFords:3+2x\\nBuicks:4(3+2x)=12+8x\\nTotal:x+3+2x+12+8x=301\\n11x+15=301\\n11x=286\\nx=<<26=26>>26\\nBuicks:12+8(26)=220', 'answer': 220}) (input_keys={'question'}): Both structured output format and JSON mode failed. Please choose a model that supports `response_format` argument. Original error: Expected dict_keys(['reasoning', 'answer']) but got dict_keys(['reasoning']). Set `provide_traceback=True` for traceback.\n"
     ]
    },
    {
     "name": "stdout",
     "output_type": "stream",
     "text": [
      "Average Metric: 95.00 / 101 (94.1%):  42%|██▌   | 102/240 [00:17<00:15,  8.92it/s]"
     ]
    },
    {
     "name": "stderr",
     "output_type": "stream",
     "text": [
      "2025/05/18 13:40:44 WARNING dspy.adapters.json_adapter: Failed to use structured output format. Falling back to JSON mode. Error: 'type' object is not iterable\n"
     ]
    },
    {
     "name": "stdout",
     "output_type": "stream",
     "text": [
      "Average Metric: 220.00 / 239 (92.1%): 100%|█████| 240/240 [00:38<00:00,  6.29it/s]"
     ]
    },
    {
     "name": "stderr",
     "output_type": "stream",
     "text": [
      "2025/05/18 13:41:04 INFO dspy.evaluate.evaluate: Average Metric: 220.0 / 240 (91.7%)\n",
      "2025/05/18 13:41:04 INFO dspy.teleprompt.mipro_optimizer_v2: Default program score: 91.67\n",
      "\n",
      "/opt/anaconda3/envs/ml/lib/python3.12/site-packages/optuna/_experimental.py:31: ExperimentalWarning: Argument ``multivariate`` is an experimental feature. The interface can change in the future.\n",
      "  warnings.warn(\n",
      "2025/05/18 13:41:04 INFO dspy.teleprompt.mipro_optimizer_v2: == Trial 2 / 70 - Minibatch ==\n"
     ]
    },
    {
     "name": "stdout",
     "output_type": "stream",
     "text": [
      "\n",
      "Average Metric: 15.00 / 18 (83.3%):  51%|████▋    | 18/35 [00:06<00:03,  5.39it/s]"
     ]
    },
    {
     "name": "stderr",
     "output_type": "stream",
     "text": [
      "2025/05/18 13:41:11 WARNING dspy.adapters.json_adapter: Failed to use structured output format. Falling back to JSON mode. Error: 'type' object is not iterable\n"
     ]
    },
    {
     "name": "stdout",
     "output_type": "stream",
     "text": [
      "Average Metric: 28.00 / 33 (84.8%):  91%|████████▏| 32/35 [00:10<00:00,  3.54it/s]"
     ]
    },
    {
     "name": "stderr",
     "output_type": "stream",
     "text": [
      "2025/05/18 13:41:16 WARNING dspy.adapters.json_adapter: Failed to use structured output format. Falling back to JSON mode. Error: 'type' object is not iterable\n"
     ]
    },
    {
     "name": "stdout",
     "output_type": "stream",
     "text": [
      "Average Metric: 29.00 / 35 (82.9%): 100%|█████████| 35/35 [00:24<00:00,  1.45it/s]"
     ]
    },
    {
     "name": "stderr",
     "output_type": "stream",
     "text": [
      "2025/05/18 13:41:29 INFO dspy.evaluate.evaluate: Average Metric: 29 / 35 (82.9%)\n",
      "2025/05/18 13:41:29 INFO dspy.teleprompt.mipro_optimizer_v2: Score: 82.86 on minibatch of size 35 with parameters ['Predictor 0: Instruction 1', 'Predictor 1: Instruction 5', 'Predictor 2: Instruction 0', 'Predictor 3: Instruction 4'].\n",
      "2025/05/18 13:41:29 INFO dspy.teleprompt.mipro_optimizer_v2: Minibatch scores so far: [82.86]\n",
      "2025/05/18 13:41:29 INFO dspy.teleprompt.mipro_optimizer_v2: Full eval scores so far: [91.67]\n",
      "2025/05/18 13:41:29 INFO dspy.teleprompt.mipro_optimizer_v2: Best full score so far: 91.67\n",
      "2025/05/18 13:41:29 INFO dspy.teleprompt.mipro_optimizer_v2: =========================================\n",
      "\n",
      "\n",
      "2025/05/18 13:41:29 INFO dspy.teleprompt.mipro_optimizer_v2: == Trial 3 / 70 - Minibatch ==\n"
     ]
    },
    {
     "name": "stdout",
     "output_type": "stream",
     "text": [
      "\n",
      "Average Metric: 29.00 / 35 (82.9%): 100%|█████████| 35/35 [00:11<00:00,  2.99it/s]"
     ]
    },
    {
     "name": "stderr",
     "output_type": "stream",
     "text": [
      "2025/05/18 13:41:40 INFO dspy.evaluate.evaluate: Average Metric: 29 / 35 (82.9%)\n",
      "2025/05/18 13:41:40 INFO dspy.teleprompt.mipro_optimizer_v2: Score: 82.86 on minibatch of size 35 with parameters ['Predictor 0: Instruction 2', 'Predictor 1: Instruction 2', 'Predictor 2: Instruction 0', 'Predictor 3: Instruction 2'].\n",
      "2025/05/18 13:41:40 INFO dspy.teleprompt.mipro_optimizer_v2: Minibatch scores so far: [82.86, 82.86]\n",
      "2025/05/18 13:41:40 INFO dspy.teleprompt.mipro_optimizer_v2: Full eval scores so far: [91.67]\n",
      "2025/05/18 13:41:40 INFO dspy.teleprompt.mipro_optimizer_v2: Best full score so far: 91.67\n",
      "2025/05/18 13:41:40 INFO dspy.teleprompt.mipro_optimizer_v2: =========================================\n",
      "\n",
      "\n",
      "2025/05/18 13:41:40 INFO dspy.teleprompt.mipro_optimizer_v2: == Trial 4 / 70 - Minibatch ==\n"
     ]
    },
    {
     "name": "stdout",
     "output_type": "stream",
     "text": [
      "\n",
      "Average Metric: 32.00 / 35 (91.4%): 100%|█████████| 35/35 [00:08<00:00,  4.22it/s]"
     ]
    },
    {
     "name": "stderr",
     "output_type": "stream",
     "text": [
      "2025/05/18 13:41:49 INFO dspy.evaluate.evaluate: Average Metric: 32 / 35 (91.4%)\n",
      "2025/05/18 13:41:49 INFO dspy.teleprompt.mipro_optimizer_v2: Score: 91.43 on minibatch of size 35 with parameters ['Predictor 0: Instruction 0', 'Predictor 1: Instruction 2', 'Predictor 2: Instruction 4', 'Predictor 3: Instruction 4'].\n",
      "2025/05/18 13:41:49 INFO dspy.teleprompt.mipro_optimizer_v2: Minibatch scores so far: [82.86, 82.86, 91.43]\n",
      "2025/05/18 13:41:49 INFO dspy.teleprompt.mipro_optimizer_v2: Full eval scores so far: [91.67]\n",
      "2025/05/18 13:41:49 INFO dspy.teleprompt.mipro_optimizer_v2: Best full score so far: 91.67\n",
      "2025/05/18 13:41:49 INFO dspy.teleprompt.mipro_optimizer_v2: =========================================\n",
      "\n",
      "\n",
      "2025/05/18 13:41:49 INFO dspy.teleprompt.mipro_optimizer_v2: == Trial 5 / 70 - Minibatch ==\n"
     ]
    },
    {
     "name": "stdout",
     "output_type": "stream",
     "text": [
      "\n",
      "Average Metric: 19.00 / 21 (90.5%):  60%|█████▍   | 21/35 [00:06<00:01,  7.87it/s]"
     ]
    },
    {
     "name": "stderr",
     "output_type": "stream",
     "text": [
      "2025/05/18 13:41:55 WARNING dspy.adapters.json_adapter: Failed to use structured output format. Falling back to JSON mode. Error: 'type' object is not iterable\n"
     ]
    },
    {
     "name": "stdout",
     "output_type": "stream",
     "text": [
      "Average Metric: 31.00 / 35 (88.6%): 100%|█████████| 35/35 [00:27<00:00,  1.28it/s]"
     ]
    },
    {
     "name": "stderr",
     "output_type": "stream",
     "text": [
      "2025/05/18 13:42:16 INFO dspy.evaluate.evaluate: Average Metric: 31 / 35 (88.6%)\n",
      "2025/05/18 13:42:16 INFO dspy.teleprompt.mipro_optimizer_v2: Score: 88.57 on minibatch of size 35 with parameters ['Predictor 0: Instruction 3', 'Predictor 1: Instruction 5', 'Predictor 2: Instruction 2', 'Predictor 3: Instruction 4'].\n",
      "2025/05/18 13:42:16 INFO dspy.teleprompt.mipro_optimizer_v2: Minibatch scores so far: [82.86, 82.86, 91.43, 88.57]\n",
      "2025/05/18 13:42:16 INFO dspy.teleprompt.mipro_optimizer_v2: Full eval scores so far: [91.67]\n",
      "2025/05/18 13:42:16 INFO dspy.teleprompt.mipro_optimizer_v2: Best full score so far: 91.67\n",
      "2025/05/18 13:42:16 INFO dspy.teleprompt.mipro_optimizer_v2: =========================================\n",
      "\n",
      "\n",
      "2025/05/18 13:42:16 INFO dspy.teleprompt.mipro_optimizer_v2: == Trial 6 / 70 - Minibatch ==\n"
     ]
    },
    {
     "name": "stdout",
     "output_type": "stream",
     "text": [
      "\n",
      "Average Metric: 6.00 / 8 (75.0%):  20%|██▍         | 7/35 [00:04<00:12,  2.27it/s]"
     ]
    },
    {
     "name": "stderr",
     "output_type": "stream",
     "text": [
      "2025/05/18 13:42:21 WARNING dspy.adapters.json_adapter: Failed to use structured output format. Falling back to JSON mode. Error: 'type' object is not iterable\n"
     ]
    },
    {
     "name": "stdout",
     "output_type": "stream",
     "text": [
      "Average Metric: 14.00 / 20 (70.0%):  54%|████▉    | 19/35 [00:06<00:01,  8.24it/s]"
     ]
    },
    {
     "name": "stderr",
     "output_type": "stream",
     "text": [
      "2025/05/18 13:42:22 WARNING dspy.adapters.json_adapter: Failed to use structured output format. Falling back to JSON mode. Error: 'type' object is not iterable\n"
     ]
    },
    {
     "name": "stdout",
     "output_type": "stream",
     "text": [
      "Average Metric: 28.00 / 35 (80.0%): 100%|█████████| 35/35 [00:11<00:00,  2.96it/s]"
     ]
    },
    {
     "name": "stderr",
     "output_type": "stream",
     "text": [
      "2025/05/18 13:42:28 INFO dspy.evaluate.evaluate: Average Metric: 28 / 35 (80.0%)\n",
      "2025/05/18 13:42:28 INFO dspy.teleprompt.mipro_optimizer_v2: Score: 80.0 on minibatch of size 35 with parameters ['Predictor 0: Instruction 2', 'Predictor 1: Instruction 0', 'Predictor 2: Instruction 5', 'Predictor 3: Instruction 1'].\n",
      "2025/05/18 13:42:28 INFO dspy.teleprompt.mipro_optimizer_v2: Minibatch scores so far: [82.86, 82.86, 91.43, 88.57, 80.0]\n",
      "2025/05/18 13:42:28 INFO dspy.teleprompt.mipro_optimizer_v2: Full eval scores so far: [91.67]\n",
      "2025/05/18 13:42:28 INFO dspy.teleprompt.mipro_optimizer_v2: Best full score so far: 91.67\n",
      "2025/05/18 13:42:28 INFO dspy.teleprompt.mipro_optimizer_v2: =========================================\n",
      "\n",
      "\n",
      "2025/05/18 13:42:28 INFO dspy.teleprompt.mipro_optimizer_v2: ===== Trial 7 / 70 - Full Evaluation =====\n",
      "2025/05/18 13:42:28 INFO dspy.teleprompt.mipro_optimizer_v2: Doing full eval on next top averaging program (Avg Score: 91.43) from minibatch trials...\n"
     ]
    },
    {
     "name": "stdout",
     "output_type": "stream",
     "text": [
      "\n",
      "Average Metric: 49.00 / 53 (92.5%):  22%|█▊      | 53/240 [00:08<00:14, 13.15it/s]"
     ]
    },
    {
     "name": "stderr",
     "output_type": "stream",
     "text": [
      "2025/05/18 13:42:36 WARNING dspy.adapters.json_adapter: Failed to use structured output format. Falling back to JSON mode. Error: 'type' object is not iterable\n"
     ]
    },
    {
     "name": "stdout",
     "output_type": "stream",
     "text": [
      "Average Metric: 50.00 / 54 (92.6%):  22%|█▊      | 53/240 [00:08<00:14, 13.15it/s]"
     ]
    },
    {
     "name": "stderr",
     "output_type": "stream",
     "text": [
      "2025/05/18 13:42:36 ERROR dspy.utils.parallelizer: Error for Example({'question': 'Jim collects model cars, and he has 301 models total.  Jim has 4 times as many Buicks as Fords, and 3 more than twice the number of Fords than Chevys.  How many Buicks does Jim have?', 'thoughts': 'Let x represent the number of Chevys\\nFords:3+2x\\nBuicks:4(3+2x)=12+8x\\nTotal:x+3+2x+12+8x=301\\n11x+15=301\\n11x=286\\nx=<<26=26>>26\\nBuicks:12+8(26)=220', 'answer': 220}) (input_keys={'question'}): Both structured output format and JSON mode failed. Please choose a model that supports `response_format` argument. Original error: Expected dict_keys(['reasoning', 'answer']) but got dict_keys(['reasoning']). Set `provide_traceback=True` for traceback.\n"
     ]
    },
    {
     "name": "stdout",
     "output_type": "stream",
     "text": [
      "Average Metric: 93.00 / 101 (92.1%):  42%|██▌   | 102/240 [00:15<00:22,  6.18it/s]"
     ]
    },
    {
     "name": "stderr",
     "output_type": "stream",
     "text": [
      "2025/05/18 13:42:43 WARNING dspy.adapters.json_adapter: Failed to use structured output format. Falling back to JSON mode. Error: 'type' object is not iterable\n"
     ]
    },
    {
     "name": "stdout",
     "output_type": "stream",
     "text": [
      "Average Metric: 219.00 / 239 (91.6%): 100%|█████| 240/240 [00:35<00:00,  6.83it/s]"
     ]
    },
    {
     "name": "stderr",
     "output_type": "stream",
     "text": [
      "2025/05/18 13:43:03 INFO dspy.evaluate.evaluate: Average Metric: 219.0 / 240 (91.2%)\n",
      "2025/05/18 13:43:03 INFO dspy.teleprompt.mipro_optimizer_v2: Full eval scores so far: [91.67, 91.25]\n",
      "2025/05/18 13:43:03 INFO dspy.teleprompt.mipro_optimizer_v2: Best full score so far: 91.67\n",
      "2025/05/18 13:43:03 INFO dspy.teleprompt.mipro_optimizer_v2: =======================\n",
      "2025/05/18 13:43:03 INFO dspy.teleprompt.mipro_optimizer_v2: \n",
      "\n",
      "2025/05/18 13:43:03 INFO dspy.teleprompt.mipro_optimizer_v2: == Trial 8 / 70 - Minibatch ==\n"
     ]
    },
    {
     "name": "stdout",
     "output_type": "stream",
     "text": [
      "\n",
      "Average Metric: 28.00 / 35 (80.0%): 100%|█████████| 35/35 [00:15<00:00,  2.21it/s]"
     ]
    },
    {
     "name": "stderr",
     "output_type": "stream",
     "text": [
      "2025/05/18 13:43:19 INFO dspy.evaluate.evaluate: Average Metric: 28 / 35 (80.0%)\n",
      "2025/05/18 13:43:19 INFO dspy.teleprompt.mipro_optimizer_v2: Score: 80.0 on minibatch of size 35 with parameters ['Predictor 0: Instruction 1', 'Predictor 1: Instruction 3', 'Predictor 2: Instruction 3', 'Predictor 3: Instruction 0'].\n",
      "2025/05/18 13:43:19 INFO dspy.teleprompt.mipro_optimizer_v2: Minibatch scores so far: [82.86, 82.86, 91.43, 88.57, 80.0, 80.0]\n",
      "2025/05/18 13:43:19 INFO dspy.teleprompt.mipro_optimizer_v2: Full eval scores so far: [91.67, 91.25]\n",
      "2025/05/18 13:43:19 INFO dspy.teleprompt.mipro_optimizer_v2: Best full score so far: 91.67\n",
      "2025/05/18 13:43:19 INFO dspy.teleprompt.mipro_optimizer_v2: =========================================\n",
      "\n",
      "\n",
      "2025/05/18 13:43:19 INFO dspy.teleprompt.mipro_optimizer_v2: == Trial 9 / 70 - Minibatch ==\n"
     ]
    },
    {
     "name": "stdout",
     "output_type": "stream",
     "text": [
      "\n",
      "Average Metric: 32.00 / 35 (91.4%): 100%|█████████| 35/35 [00:14<00:00,  2.41it/s]"
     ]
    },
    {
     "name": "stderr",
     "output_type": "stream",
     "text": [
      "2025/05/18 13:43:34 INFO dspy.evaluate.evaluate: Average Metric: 32 / 35 (91.4%)\n",
      "2025/05/18 13:43:34 INFO dspy.teleprompt.mipro_optimizer_v2: Score: 91.43 on minibatch of size 35 with parameters ['Predictor 0: Instruction 3', 'Predictor 1: Instruction 4', 'Predictor 2: Instruction 4', 'Predictor 3: Instruction 0'].\n",
      "2025/05/18 13:43:34 INFO dspy.teleprompt.mipro_optimizer_v2: Minibatch scores so far: [82.86, 82.86, 91.43, 88.57, 80.0, 80.0, 91.43]\n",
      "2025/05/18 13:43:34 INFO dspy.teleprompt.mipro_optimizer_v2: Full eval scores so far: [91.67, 91.25]\n",
      "2025/05/18 13:43:34 INFO dspy.teleprompt.mipro_optimizer_v2: Best full score so far: 91.67\n",
      "2025/05/18 13:43:34 INFO dspy.teleprompt.mipro_optimizer_v2: =========================================\n",
      "\n",
      "\n",
      "2025/05/18 13:43:34 INFO dspy.teleprompt.mipro_optimizer_v2: == Trial 10 / 70 - Minibatch ==\n"
     ]
    },
    {
     "name": "stdout",
     "output_type": "stream",
     "text": [
      "\n",
      "Average Metric: 32.00 / 35 (91.4%): 100%|█████████| 35/35 [00:11<00:00,  3.09it/s]"
     ]
    },
    {
     "name": "stderr",
     "output_type": "stream",
     "text": [
      "2025/05/18 13:43:45 INFO dspy.evaluate.evaluate: Average Metric: 32 / 35 (91.4%)\n",
      "2025/05/18 13:43:45 INFO dspy.teleprompt.mipro_optimizer_v2: Score: 91.43 on minibatch of size 35 with parameters ['Predictor 0: Instruction 3', 'Predictor 1: Instruction 3', 'Predictor 2: Instruction 4', 'Predictor 3: Instruction 3'].\n",
      "2025/05/18 13:43:45 INFO dspy.teleprompt.mipro_optimizer_v2: Minibatch scores so far: [82.86, 82.86, 91.43, 88.57, 80.0, 80.0, 91.43, 91.43]\n",
      "2025/05/18 13:43:45 INFO dspy.teleprompt.mipro_optimizer_v2: Full eval scores so far: [91.67, 91.25]\n",
      "2025/05/18 13:43:45 INFO dspy.teleprompt.mipro_optimizer_v2: Best full score so far: 91.67\n",
      "2025/05/18 13:43:45 INFO dspy.teleprompt.mipro_optimizer_v2: ==========================================\n",
      "\n",
      "\n",
      "2025/05/18 13:43:45 INFO dspy.teleprompt.mipro_optimizer_v2: == Trial 11 / 70 - Minibatch ==\n"
     ]
    },
    {
     "name": "stdout",
     "output_type": "stream",
     "text": [
      "\n",
      "Average Metric: 31.00 / 35 (88.6%): 100%|█████████| 35/35 [00:09<00:00,  3.60it/s]"
     ]
    },
    {
     "name": "stderr",
     "output_type": "stream",
     "text": [
      "2025/05/18 13:43:55 INFO dspy.evaluate.evaluate: Average Metric: 31 / 35 (88.6%)\n",
      "2025/05/18 13:43:55 INFO dspy.teleprompt.mipro_optimizer_v2: Score: 88.57 on minibatch of size 35 with parameters ['Predictor 0: Instruction 4', 'Predictor 1: Instruction 0', 'Predictor 2: Instruction 0', 'Predictor 3: Instruction 0'].\n",
      "2025/05/18 13:43:55 INFO dspy.teleprompt.mipro_optimizer_v2: Minibatch scores so far: [82.86, 82.86, 91.43, 88.57, 80.0, 80.0, 91.43, 91.43, 88.57]\n",
      "2025/05/18 13:43:55 INFO dspy.teleprompt.mipro_optimizer_v2: Full eval scores so far: [91.67, 91.25]\n",
      "2025/05/18 13:43:55 INFO dspy.teleprompt.mipro_optimizer_v2: Best full score so far: 91.67\n",
      "2025/05/18 13:43:55 INFO dspy.teleprompt.mipro_optimizer_v2: ==========================================\n",
      "\n",
      "\n",
      "2025/05/18 13:43:55 INFO dspy.teleprompt.mipro_optimizer_v2: == Trial 12 / 70 - Minibatch ==\n"
     ]
    },
    {
     "name": "stdout",
     "output_type": "stream",
     "text": [
      "\n",
      "Average Metric: 34.00 / 35 (97.1%): 100%|█████████| 35/35 [00:04<00:00,  8.31it/s]"
     ]
    },
    {
     "name": "stderr",
     "output_type": "stream",
     "text": [
      "2025/05/18 13:43:59 INFO dspy.evaluate.evaluate: Average Metric: 34 / 35 (97.1%)\n",
      "2025/05/18 13:43:59 INFO dspy.teleprompt.mipro_optimizer_v2: Score: 97.14 on minibatch of size 35 with parameters ['Predictor 0: Instruction 0', 'Predictor 1: Instruction 0', 'Predictor 2: Instruction 2', 'Predictor 3: Instruction 0'].\n",
      "2025/05/18 13:43:59 INFO dspy.teleprompt.mipro_optimizer_v2: Minibatch scores so far: [82.86, 82.86, 91.43, 88.57, 80.0, 80.0, 91.43, 91.43, 88.57, 97.14]\n",
      "2025/05/18 13:43:59 INFO dspy.teleprompt.mipro_optimizer_v2: Full eval scores so far: [91.67, 91.25]\n",
      "2025/05/18 13:43:59 INFO dspy.teleprompt.mipro_optimizer_v2: Best full score so far: 91.67\n",
      "2025/05/18 13:43:59 INFO dspy.teleprompt.mipro_optimizer_v2: ==========================================\n",
      "\n",
      "\n",
      "2025/05/18 13:43:59 INFO dspy.teleprompt.mipro_optimizer_v2: ===== Trial 13 / 70 - Full Evaluation =====\n",
      "2025/05/18 13:43:59 INFO dspy.teleprompt.mipro_optimizer_v2: Doing full eval on next top averaging program (Avg Score: 97.14) from minibatch trials...\n",
      "2025/05/18 13:43:59 WARNING dspy.adapters.json_adapter: Failed to use structured output format. Falling back to JSON mode. Error: 'type' object is not iterable\n"
     ]
    },
    {
     "name": "stdout",
     "output_type": "stream",
     "text": [
      "\n",
      "Average Metric: 50.00 / 53 (94.3%):  22%|█▋      | 52/240 [00:04<00:16, 11.24it/s]"
     ]
    },
    {
     "name": "stderr",
     "output_type": "stream",
     "text": [
      "2025/05/18 13:44:04 WARNING dspy.adapters.json_adapter: Failed to use structured output format. Falling back to JSON mode. Error: 'type' object is not iterable\n"
     ]
    },
    {
     "name": "stdout",
     "output_type": "stream",
     "text": [
      "Average Metric: 51.00 / 54 (94.4%):  22%|█▊      | 54/240 [00:04<00:16, 11.14it/s]"
     ]
    },
    {
     "name": "stderr",
     "output_type": "stream",
     "text": [
      "2025/05/18 13:44:04 ERROR dspy.utils.parallelizer: Error for Example({'question': 'Jim collects model cars, and he has 301 models total.  Jim has 4 times as many Buicks as Fords, and 3 more than twice the number of Fords than Chevys.  How many Buicks does Jim have?', 'thoughts': 'Let x represent the number of Chevys\\nFords:3+2x\\nBuicks:4(3+2x)=12+8x\\nTotal:x+3+2x+12+8x=301\\n11x+15=301\\n11x=286\\nx=<<26=26>>26\\nBuicks:12+8(26)=220', 'answer': 220}) (input_keys={'question'}): Both structured output format and JSON mode failed. Please choose a model that supports `response_format` argument. Original error: Expected dict_keys(['reasoning', 'answer']) but got dict_keys(['reasoning']). Set `provide_traceback=True` for traceback.\n"
     ]
    },
    {
     "name": "stdout",
     "output_type": "stream",
     "text": [
      "Average Metric: 94.00 / 101 (93.1%):  42%|██▌   | 101/240 [00:08<00:14,  9.44it/s]"
     ]
    },
    {
     "name": "stderr",
     "output_type": "stream",
     "text": [
      "2025/05/18 13:44:08 WARNING dspy.adapters.json_adapter: Failed to use structured output format. Falling back to JSON mode. Error: 'type' object is not iterable\n"
     ]
    },
    {
     "name": "stdout",
     "output_type": "stream",
     "text": [
      "Average Metric: 220.00 / 239 (92.1%): 100%|█████| 240/240 [00:19<00:00, 12.11it/s]"
     ]
    },
    {
     "name": "stderr",
     "output_type": "stream",
     "text": [
      "2025/05/18 13:44:19 INFO dspy.evaluate.evaluate: Average Metric: 220.0 / 240 (91.7%)\n",
      "2025/05/18 13:44:19 INFO dspy.teleprompt.mipro_optimizer_v2: Full eval scores so far: [91.67, 91.25, 91.67]\n",
      "2025/05/18 13:44:19 INFO dspy.teleprompt.mipro_optimizer_v2: Best full score so far: 91.67\n",
      "2025/05/18 13:44:19 INFO dspy.teleprompt.mipro_optimizer_v2: =======================\n",
      "2025/05/18 13:44:19 INFO dspy.teleprompt.mipro_optimizer_v2: \n",
      "\n",
      "2025/05/18 13:44:19 INFO dspy.teleprompt.mipro_optimizer_v2: == Trial 14 / 70 - Minibatch ==\n"
     ]
    },
    {
     "name": "stdout",
     "output_type": "stream",
     "text": [
      "\n",
      "Average Metric: 31.00 / 35 (88.6%): 100%|█████████| 35/35 [00:07<00:00,  4.56it/s]"
     ]
    },
    {
     "name": "stderr",
     "output_type": "stream",
     "text": [
      "2025/05/18 13:44:27 INFO dspy.evaluate.evaluate: Average Metric: 31 / 35 (88.6%)\n",
      "2025/05/18 13:44:27 INFO dspy.teleprompt.mipro_optimizer_v2: Score: 88.57 on minibatch of size 35 with parameters ['Predictor 0: Instruction 0', 'Predictor 1: Instruction 1', 'Predictor 2: Instruction 0', 'Predictor 3: Instruction 0'].\n",
      "2025/05/18 13:44:27 INFO dspy.teleprompt.mipro_optimizer_v2: Minibatch scores so far: [82.86, 82.86, 91.43, 88.57, 80.0, 80.0, 91.43, 91.43, 88.57, 97.14, 88.57]\n",
      "2025/05/18 13:44:27 INFO dspy.teleprompt.mipro_optimizer_v2: Full eval scores so far: [91.67, 91.25, 91.67]\n",
      "2025/05/18 13:44:27 INFO dspy.teleprompt.mipro_optimizer_v2: Best full score so far: 91.67\n",
      "2025/05/18 13:44:27 INFO dspy.teleprompt.mipro_optimizer_v2: ==========================================\n",
      "\n",
      "\n",
      "2025/05/18 13:44:27 INFO dspy.teleprompt.mipro_optimizer_v2: == Trial 15 / 70 - Minibatch ==\n",
      "2025/05/18 13:44:27 WARNING dspy.adapters.json_adapter: Failed to use structured output format. Falling back to JSON mode. Error: 'type' object is not iterable\n",
      "2025/05/18 13:44:27 WARNING dspy.adapters.json_adapter: Failed to use structured output format. Falling back to JSON mode. Error: 'type' object is not iterable\n"
     ]
    },
    {
     "name": "stdout",
     "output_type": "stream",
     "text": [
      "\n",
      "Average Metric: 30.00 / 34 (88.2%):  94%|████████▍| 33/35 [00:06<00:00,  5.14it/s]"
     ]
    },
    {
     "name": "stderr",
     "output_type": "stream",
     "text": [
      "2025/05/18 13:44:36 WARNING dspy.adapters.json_adapter: Failed to use structured output format. Falling back to JSON mode. Error: 'type' object is not iterable\n"
     ]
    },
    {
     "name": "stdout",
     "output_type": "stream",
     "text": [
      "Average Metric: 31.00 / 35 (88.6%): 100%|█████████| 35/35 [00:12<00:00,  2.83it/s]"
     ]
    },
    {
     "name": "stderr",
     "output_type": "stream",
     "text": [
      "2025/05/18 13:44:39 INFO dspy.evaluate.evaluate: Average Metric: 31 / 35 (88.6%)\n",
      "2025/05/18 13:44:39 INFO dspy.teleprompt.mipro_optimizer_v2: Score: 88.57 on minibatch of size 35 with parameters ['Predictor 0: Instruction 0', 'Predictor 1: Instruction 0', 'Predictor 2: Instruction 3', 'Predictor 3: Instruction 2'].\n",
      "2025/05/18 13:44:39 INFO dspy.teleprompt.mipro_optimizer_v2: Minibatch scores so far: [82.86, 82.86, 91.43, 88.57, 80.0, 80.0, 91.43, 91.43, 88.57, 97.14, 88.57, 88.57]\n",
      "2025/05/18 13:44:39 INFO dspy.teleprompt.mipro_optimizer_v2: Full eval scores so far: [91.67, 91.25, 91.67]\n",
      "2025/05/18 13:44:39 INFO dspy.teleprompt.mipro_optimizer_v2: Best full score so far: 91.67\n",
      "2025/05/18 13:44:39 INFO dspy.teleprompt.mipro_optimizer_v2: ==========================================\n",
      "\n",
      "\n",
      "2025/05/18 13:44:39 INFO dspy.teleprompt.mipro_optimizer_v2: == Trial 16 / 70 - Minibatch ==\n"
     ]
    },
    {
     "name": "stdout",
     "output_type": "stream",
     "text": [
      "\n",
      "Average Metric: 32.00 / 35 (91.4%): 100%|█████████| 35/35 [00:12<00:00,  2.81it/s]"
     ]
    },
    {
     "name": "stderr",
     "output_type": "stream",
     "text": [
      "2025/05/18 13:44:51 INFO dspy.evaluate.evaluate: Average Metric: 32 / 35 (91.4%)\n",
      "2025/05/18 13:44:51 INFO dspy.teleprompt.mipro_optimizer_v2: Score: 91.43 on minibatch of size 35 with parameters ['Predictor 0: Instruction 5', 'Predictor 1: Instruction 2', 'Predictor 2: Instruction 2', 'Predictor 3: Instruction 1'].\n",
      "2025/05/18 13:44:51 INFO dspy.teleprompt.mipro_optimizer_v2: Minibatch scores so far: [82.86, 82.86, 91.43, 88.57, 80.0, 80.0, 91.43, 91.43, 88.57, 97.14, 88.57, 88.57, 91.43]\n",
      "2025/05/18 13:44:51 INFO dspy.teleprompt.mipro_optimizer_v2: Full eval scores so far: [91.67, 91.25, 91.67]\n",
      "2025/05/18 13:44:51 INFO dspy.teleprompt.mipro_optimizer_v2: Best full score so far: 91.67\n",
      "2025/05/18 13:44:51 INFO dspy.teleprompt.mipro_optimizer_v2: ==========================================\n",
      "\n",
      "\n",
      "2025/05/18 13:44:51 INFO dspy.teleprompt.mipro_optimizer_v2: == Trial 17 / 70 - Minibatch ==\n"
     ]
    },
    {
     "name": "stdout",
     "output_type": "stream",
     "text": [
      "\n",
      "Average Metric: 32.00 / 35 (91.4%): 100%|█████████| 35/35 [00:06<00:00,  5.79it/s]"
     ]
    },
    {
     "name": "stderr",
     "output_type": "stream",
     "text": [
      "2025/05/18 13:44:58 INFO dspy.evaluate.evaluate: Average Metric: 32 / 35 (91.4%)\n",
      "2025/05/18 13:44:58 INFO dspy.teleprompt.mipro_optimizer_v2: Score: 91.43 on minibatch of size 35 with parameters ['Predictor 0: Instruction 0', 'Predictor 1: Instruction 0', 'Predictor 2: Instruction 5', 'Predictor 3: Instruction 3'].\n",
      "2025/05/18 13:44:58 INFO dspy.teleprompt.mipro_optimizer_v2: Minibatch scores so far: [82.86, 82.86, 91.43, 88.57, 80.0, 80.0, 91.43, 91.43, 88.57, 97.14, 88.57, 88.57, 91.43, 91.43]\n",
      "2025/05/18 13:44:58 INFO dspy.teleprompt.mipro_optimizer_v2: Full eval scores so far: [91.67, 91.25, 91.67]\n",
      "2025/05/18 13:44:58 INFO dspy.teleprompt.mipro_optimizer_v2: Best full score so far: 91.67\n",
      "2025/05/18 13:44:58 INFO dspy.teleprompt.mipro_optimizer_v2: ==========================================\n",
      "\n",
      "\n",
      "2025/05/18 13:44:58 INFO dspy.teleprompt.mipro_optimizer_v2: == Trial 18 / 70 - Minibatch ==\n"
     ]
    },
    {
     "name": "stdout",
     "output_type": "stream",
     "text": [
      "\n",
      "Average Metric: 22.00 / 24 (91.7%):  69%|██████▏  | 24/35 [00:08<00:04,  2.21it/s]"
     ]
    },
    {
     "name": "stderr",
     "output_type": "stream",
     "text": [
      "2025/05/18 13:45:06 WARNING dspy.adapters.json_adapter: Failed to use structured output format. Falling back to JSON mode. Error: 'type' object is not iterable\n"
     ]
    },
    {
     "name": "stdout",
     "output_type": "stream",
     "text": [
      "Average Metric: 32.00 / 34 (94.1%):  97%|████████▋| 34/35 [00:13<00:00,  1.45it/s]"
     ]
    },
    {
     "name": "stderr",
     "output_type": "stream",
     "text": [
      "2025/05/18 13:45:16 WARNING dspy.adapters.json_adapter: Failed to use structured output format. Falling back to JSON mode. Error: 'type' object is not iterable\n"
     ]
    },
    {
     "name": "stdout",
     "output_type": "stream",
     "text": [
      "Average Metric: 32.00 / 35 (91.4%): 100%|█████████| 35/35 [00:24<00:00,  1.41it/s]"
     ]
    },
    {
     "name": "stderr",
     "output_type": "stream",
     "text": [
      "2025/05/18 13:45:23 INFO dspy.evaluate.evaluate: Average Metric: 32 / 35 (91.4%)\n",
      "2025/05/18 13:45:23 INFO dspy.teleprompt.mipro_optimizer_v2: Score: 91.43 on minibatch of size 35 with parameters ['Predictor 0: Instruction 4', 'Predictor 1: Instruction 4', 'Predictor 2: Instruction 2', 'Predictor 3: Instruction 3'].\n",
      "2025/05/18 13:45:23 INFO dspy.teleprompt.mipro_optimizer_v2: Minibatch scores so far: [82.86, 82.86, 91.43, 88.57, 80.0, 80.0, 91.43, 91.43, 88.57, 97.14, 88.57, 88.57, 91.43, 91.43, 91.43]\n",
      "2025/05/18 13:45:23 INFO dspy.teleprompt.mipro_optimizer_v2: Full eval scores so far: [91.67, 91.25, 91.67]\n",
      "2025/05/18 13:45:23 INFO dspy.teleprompt.mipro_optimizer_v2: Best full score so far: 91.67\n",
      "2025/05/18 13:45:23 INFO dspy.teleprompt.mipro_optimizer_v2: ==========================================\n",
      "\n",
      "\n",
      "2025/05/18 13:45:23 INFO dspy.teleprompt.mipro_optimizer_v2: ===== Trial 19 / 70 - Full Evaluation =====\n",
      "2025/05/18 13:45:23 INFO dspy.teleprompt.mipro_optimizer_v2: Doing full eval on next top averaging program (Avg Score: 91.43) from minibatch trials...\n"
     ]
    },
    {
     "name": "stdout",
     "output_type": "stream",
     "text": [
      "\n",
      "Average Metric: 18.00 / 19 (94.7%):   8%|▋       | 19/240 [00:05<00:41,  5.37it/s]"
     ]
    },
    {
     "name": "stderr",
     "output_type": "stream",
     "text": [
      "2025/05/18 13:45:28 WARNING dspy.adapters.json_adapter: Failed to use structured output format. Falling back to JSON mode. Error: 'type' object is not iterable\n"
     ]
    },
    {
     "name": "stdout",
     "output_type": "stream",
     "text": [
      "Average Metric: 24.00 / 25 (96.0%):  10%|▊       | 24/240 [00:06<00:31,  6.93it/s]"
     ]
    },
    {
     "name": "stderr",
     "output_type": "stream",
     "text": [
      "2025/05/18 13:45:29 WARNING dspy.adapters.json_adapter: Failed to use structured output format. Falling back to JSON mode. Error: 'type' object is not iterable\n"
     ]
    },
    {
     "name": "stdout",
     "output_type": "stream",
     "text": [
      "Average Metric: 78.00 / 84 (92.9%):  35%|██▊     | 84/240 [00:18<01:09,  2.25it/s]"
     ]
    },
    {
     "name": "stderr",
     "output_type": "stream",
     "text": [
      "2025/05/18 13:45:42 WARNING dspy.adapters.json_adapter: Failed to use structured output format. Falling back to JSON mode. Error: 'type' object is not iterable\n"
     ]
    },
    {
     "name": "stdout",
     "output_type": "stream",
     "text": [
      "Average Metric: 89.00 / 96 (92.7%):  40%|███▏    | 95/240 [00:20<00:30,  4.81it/s]"
     ]
    },
    {
     "name": "stderr",
     "output_type": "stream",
     "text": [
      "2025/05/18 13:45:43 WARNING dspy.adapters.json_adapter: Failed to use structured output format. Falling back to JSON mode. Error: 'type' object is not iterable\n"
     ]
    },
    {
     "name": "stdout",
     "output_type": "stream",
     "text": [
      "Average Metric: 105.00 / 114 (92.1%):  48%|██▍  | 114/240 [00:25<00:27,  4.62it/s]"
     ]
    },
    {
     "name": "stderr",
     "output_type": "stream",
     "text": [
      "2025/05/18 13:45:48 ERROR dspy.utils.parallelizer: Error for Example({'question': 'Jim collects model cars, and he has 301 models total.  Jim has 4 times as many Buicks as Fords, and 3 more than twice the number of Fords than Chevys.  How many Buicks does Jim have?', 'thoughts': 'Let x represent the number of Chevys\\nFords:3+2x\\nBuicks:4(3+2x)=12+8x\\nTotal:x+3+2x+12+8x=301\\n11x+15=301\\n11x=286\\nx=<<26=26>>26\\nBuicks:12+8(26)=220', 'answer': 220}) (input_keys={'question'}): Both structured output format and JSON mode failed. Please choose a model that supports `response_format` argument. Original error: Expected dict_keys(['reasoning', 'answer']) but got dict_keys(['reasoning']). Set `provide_traceback=True` for traceback.\n"
     ]
    },
    {
     "name": "stdout",
     "output_type": "stream",
     "text": [
      "Average Metric: 195.00 / 215 (90.7%):  90%|████▌| 216/240 [00:42<00:04,  5.36it/s]"
     ]
    },
    {
     "name": "stderr",
     "output_type": "stream",
     "text": [
      "2025/05/18 13:46:05 WARNING dspy.adapters.json_adapter: Failed to use structured output format. Falling back to JSON mode. Error: 'type' object is not iterable\n"
     ]
    },
    {
     "name": "stdout",
     "output_type": "stream",
     "text": [
      "Average Metric: 216.00 / 239 (90.4%): 100%|█████| 240/240 [00:48<00:00,  4.98it/s]"
     ]
    },
    {
     "name": "stderr",
     "output_type": "stream",
     "text": [
      "2025/05/18 13:46:11 INFO dspy.evaluate.evaluate: Average Metric: 216.0 / 240 (90.0%)\n",
      "2025/05/18 13:46:11 INFO dspy.teleprompt.mipro_optimizer_v2: Full eval scores so far: [91.67, 91.25, 91.67, 90.0]\n",
      "2025/05/18 13:46:11 INFO dspy.teleprompt.mipro_optimizer_v2: Best full score so far: 91.67\n",
      "2025/05/18 13:46:11 INFO dspy.teleprompt.mipro_optimizer_v2: =======================\n",
      "2025/05/18 13:46:11 INFO dspy.teleprompt.mipro_optimizer_v2: \n",
      "\n",
      "2025/05/18 13:46:11 INFO dspy.teleprompt.mipro_optimizer_v2: == Trial 20 / 70 - Minibatch ==\n"
     ]
    },
    {
     "name": "stdout",
     "output_type": "stream",
     "text": [
      "\n",
      "Average Metric: 19.00 / 19 (100.0%):  51%|████    | 18/35 [00:05<00:02,  7.35it/s]"
     ]
    },
    {
     "name": "stderr",
     "output_type": "stream",
     "text": [
      "2025/05/18 13:46:16 WARNING dspy.adapters.json_adapter: Failed to use structured output format. Falling back to JSON mode. Error: 'type' object is not iterable\n"
     ]
    },
    {
     "name": "stdout",
     "output_type": "stream",
     "text": [
      "Average Metric: 35.00 / 35 (100.0%): 100%|████████| 35/35 [00:12<00:00,  2.78it/s]"
     ]
    },
    {
     "name": "stderr",
     "output_type": "stream",
     "text": [
      "2025/05/18 13:46:23 INFO dspy.evaluate.evaluate: Average Metric: 35 / 35 (100.0%)\n",
      "2025/05/18 13:46:23 INFO dspy.teleprompt.mipro_optimizer_v2: Score: 100.0 on minibatch of size 35 with parameters ['Predictor 0: Instruction 5', 'Predictor 1: Instruction 0', 'Predictor 2: Instruction 1', 'Predictor 3: Instruction 5'].\n",
      "2025/05/18 13:46:23 INFO dspy.teleprompt.mipro_optimizer_v2: Minibatch scores so far: [82.86, 82.86, 91.43, 88.57, 80.0, 80.0, 91.43, 91.43, 88.57, 97.14, 88.57, 88.57, 91.43, 91.43, 91.43, 100.0]\n",
      "2025/05/18 13:46:23 INFO dspy.teleprompt.mipro_optimizer_v2: Full eval scores so far: [91.67, 91.25, 91.67, 90.0]\n",
      "2025/05/18 13:46:23 INFO dspy.teleprompt.mipro_optimizer_v2: Best full score so far: 91.67\n",
      "2025/05/18 13:46:23 INFO dspy.teleprompt.mipro_optimizer_v2: ==========================================\n",
      "\n",
      "\n",
      "2025/05/18 13:46:23 INFO dspy.teleprompt.mipro_optimizer_v2: == Trial 21 / 70 - Minibatch ==\n"
     ]
    },
    {
     "name": "stdout",
     "output_type": "stream",
     "text": [
      "\n",
      "  0%|                                                      | 0/35 [00:00<?, ?it/s]"
     ]
    },
    {
     "name": "stderr",
     "output_type": "stream",
     "text": [
      "2025/05/18 13:46:25 WARNING dspy.adapters.json_adapter: Failed to use structured output format. Falling back to JSON mode. Error: 'type' object is not iterable\n"
     ]
    },
    {
     "name": "stdout",
     "output_type": "stream",
     "text": [
      "Average Metric: 21.00 / 22 (95.5%):  63%|█████▋   | 22/35 [00:07<00:02,  4.88it/s]"
     ]
    },
    {
     "name": "stderr",
     "output_type": "stream",
     "text": [
      "2025/05/18 13:46:31 WARNING dspy.adapters.json_adapter: Failed to use structured output format. Falling back to JSON mode. Error: 'type' object is not iterable\n"
     ]
    },
    {
     "name": "stdout",
     "output_type": "stream",
     "text": [
      "Average Metric: 33.00 / 34 (97.1%):  97%|████████▋| 34/35 [00:10<00:00,  3.10it/s]"
     ]
    },
    {
     "name": "stderr",
     "output_type": "stream",
     "text": [
      "2025/05/18 13:46:38 ERROR dspy.utils.parallelizer: Error for Example({'question': 'An aquarium holds an equal number of clownfish and blowfish. 26 of the blowfish stay in their own tank, and the remaining blowfish swim into a display tank.  An equal number of clownfish join the blowfish in the display tank, but then a third of these clownfish swim back into their own tank.  If the aquarium holds a combined total of 100 fish, how many clownfish are now in the display tank?', 'thoughts': 'There is an equal number of clownfish and blowfish, which means there are 100 fish / 2 = <<100/2=50>>50 blowfish.\\nSince some stay in their tanks, there are 50 blowfish – 26 blowfish = <<50-26=24>>24 blowfish in the display tank.\\nThere were the same amount of clownfish until 24 clownfish / 3 = <<24/3=8>>8 clownfish swam back to their own tank.\\nThis leaves 24 clownfish – 8 clownfish = <<24-8=16>>16 clownfish in the display tank.', 'answer': 16}) (input_keys={'question'}): Both structured output format and JSON mode failed. Please choose a model that supports `response_format` argument. Original error: Expected dict_keys(['reasoning', 'answer']) but got dict_keys(['reasoning']). Set `provide_traceback=True` for traceback.\n"
     ]
    },
    {
     "name": "stdout",
     "output_type": "stream",
     "text": [
      "Average Metric: 33.00 / 34 (97.1%): 100%|█████████| 35/35 [00:14<00:00,  2.36it/s]"
     ]
    },
    {
     "name": "stderr",
     "output_type": "stream",
     "text": [
      "2025/05/18 13:46:38 INFO dspy.evaluate.evaluate: Average Metric: 33.0 / 35 (94.3%)\n",
      "2025/05/18 13:46:38 INFO dspy.teleprompt.mipro_optimizer_v2: Score: 94.29 on minibatch of size 35 with parameters ['Predictor 0: Instruction 5', 'Predictor 1: Instruction 4', 'Predictor 2: Instruction 5', 'Predictor 3: Instruction 5'].\n",
      "2025/05/18 13:46:38 INFO dspy.teleprompt.mipro_optimizer_v2: Minibatch scores so far: [82.86, 82.86, 91.43, 88.57, 80.0, 80.0, 91.43, 91.43, 88.57, 97.14, 88.57, 88.57, 91.43, 91.43, 91.43, 100.0, 94.29]\n",
      "2025/05/18 13:46:38 INFO dspy.teleprompt.mipro_optimizer_v2: Full eval scores so far: [91.67, 91.25, 91.67, 90.0]\n",
      "2025/05/18 13:46:38 INFO dspy.teleprompt.mipro_optimizer_v2: Best full score so far: 91.67\n",
      "2025/05/18 13:46:38 INFO dspy.teleprompt.mipro_optimizer_v2: ==========================================\n",
      "\n",
      "\n",
      "2025/05/18 13:46:38 INFO dspy.teleprompt.mipro_optimizer_v2: == Trial 22 / 70 - Minibatch ==\n",
      "2025/05/18 13:46:38 WARNING dspy.adapters.json_adapter: Failed to use structured output format. Falling back to JSON mode. Error: 'type' object is not iterable\n"
     ]
    },
    {
     "name": "stdout",
     "output_type": "stream",
     "text": [
      "\n",
      "Average Metric: 30.00 / 35 (85.7%): 100%|█████████| 35/35 [00:11<00:00,  3.08it/s]"
     ]
    },
    {
     "name": "stderr",
     "output_type": "stream",
     "text": [
      "2025/05/18 13:46:50 INFO dspy.evaluate.evaluate: Average Metric: 30 / 35 (85.7%)\n",
      "2025/05/18 13:46:50 INFO dspy.teleprompt.mipro_optimizer_v2: Score: 85.71 on minibatch of size 35 with parameters ['Predictor 0: Instruction 5', 'Predictor 1: Instruction 4', 'Predictor 2: Instruction 5', 'Predictor 3: Instruction 5'].\n",
      "2025/05/18 13:46:50 INFO dspy.teleprompt.mipro_optimizer_v2: Minibatch scores so far: [82.86, 82.86, 91.43, 88.57, 80.0, 80.0, 91.43, 91.43, 88.57, 97.14, 88.57, 88.57, 91.43, 91.43, 91.43, 100.0, 94.29, 85.71]\n",
      "2025/05/18 13:46:50 INFO dspy.teleprompt.mipro_optimizer_v2: Full eval scores so far: [91.67, 91.25, 91.67, 90.0]\n",
      "2025/05/18 13:46:50 INFO dspy.teleprompt.mipro_optimizer_v2: Best full score so far: 91.67\n",
      "2025/05/18 13:46:50 INFO dspy.teleprompt.mipro_optimizer_v2: ==========================================\n",
      "\n",
      "\n",
      "2025/05/18 13:46:50 INFO dspy.teleprompt.mipro_optimizer_v2: == Trial 23 / 70 - Minibatch ==\n"
     ]
    },
    {
     "name": "stdout",
     "output_type": "stream",
     "text": [
      "\n",
      "Average Metric: 30.00 / 35 (85.7%): 100%|█████████| 35/35 [00:08<00:00,  4.09it/s]"
     ]
    },
    {
     "name": "stderr",
     "output_type": "stream",
     "text": [
      "2025/05/18 13:46:58 INFO dspy.evaluate.evaluate: Average Metric: 30 / 35 (85.7%)\n",
      "2025/05/18 13:46:58 INFO dspy.teleprompt.mipro_optimizer_v2: Score: 85.71 on minibatch of size 35 with parameters ['Predictor 0: Instruction 5', 'Predictor 1: Instruction 0', 'Predictor 2: Instruction 1', 'Predictor 3: Instruction 5'].\n",
      "2025/05/18 13:46:58 INFO dspy.teleprompt.mipro_optimizer_v2: Minibatch scores so far: [82.86, 82.86, 91.43, 88.57, 80.0, 80.0, 91.43, 91.43, 88.57, 97.14, 88.57, 88.57, 91.43, 91.43, 91.43, 100.0, 94.29, 85.71, 85.71]\n",
      "2025/05/18 13:46:58 INFO dspy.teleprompt.mipro_optimizer_v2: Full eval scores so far: [91.67, 91.25, 91.67, 90.0]\n",
      "2025/05/18 13:46:58 INFO dspy.teleprompt.mipro_optimizer_v2: Best full score so far: 91.67\n",
      "2025/05/18 13:46:58 INFO dspy.teleprompt.mipro_optimizer_v2: ==========================================\n",
      "\n",
      "\n",
      "2025/05/18 13:46:58 INFO dspy.teleprompt.mipro_optimizer_v2: == Trial 24 / 70 - Minibatch ==\n"
     ]
    },
    {
     "name": "stdout",
     "output_type": "stream",
     "text": [
      "\n",
      "Average Metric: 33.00 / 35 (94.3%): 100%|█████████| 35/35 [00:13<00:00,  2.56it/s]"
     ]
    },
    {
     "name": "stderr",
     "output_type": "stream",
     "text": [
      "2025/05/18 13:47:12 INFO dspy.evaluate.evaluate: Average Metric: 33 / 35 (94.3%)\n",
      "2025/05/18 13:47:12 INFO dspy.teleprompt.mipro_optimizer_v2: Score: 94.29 on minibatch of size 35 with parameters ['Predictor 0: Instruction 2', 'Predictor 1: Instruction 4', 'Predictor 2: Instruction 3', 'Predictor 3: Instruction 5'].\n",
      "2025/05/18 13:47:12 INFO dspy.teleprompt.mipro_optimizer_v2: Minibatch scores so far: [82.86, 82.86, 91.43, 88.57, 80.0, 80.0, 91.43, 91.43, 88.57, 97.14, 88.57, 88.57, 91.43, 91.43, 91.43, 100.0, 94.29, 85.71, 85.71, 94.29]\n",
      "2025/05/18 13:47:12 INFO dspy.teleprompt.mipro_optimizer_v2: Full eval scores so far: [91.67, 91.25, 91.67, 90.0]\n",
      "2025/05/18 13:47:12 INFO dspy.teleprompt.mipro_optimizer_v2: Best full score so far: 91.67\n",
      "2025/05/18 13:47:12 INFO dspy.teleprompt.mipro_optimizer_v2: ==========================================\n",
      "\n",
      "\n",
      "2025/05/18 13:47:12 INFO dspy.teleprompt.mipro_optimizer_v2: ===== Trial 25 / 70 - Full Evaluation =====\n",
      "2025/05/18 13:47:12 INFO dspy.teleprompt.mipro_optimizer_v2: Doing full eval on next top averaging program (Avg Score: 94.29) from minibatch trials...\n"
     ]
    },
    {
     "name": "stdout",
     "output_type": "stream",
     "text": [
      "\n",
      "Average Metric: 17.00 / 17 (100.0%):   7%|▍      | 16/240 [00:05<00:39,  5.65it/s]"
     ]
    },
    {
     "name": "stderr",
     "output_type": "stream",
     "text": [
      "2025/05/18 13:47:17 WARNING dspy.adapters.json_adapter: Failed to use structured output format. Falling back to JSON mode. Error: 'type' object is not iterable\n"
     ]
    },
    {
     "name": "stdout",
     "output_type": "stream",
     "text": [
      "Average Metric: 86.00 / 92 (93.5%):  38%|███     | 92/240 [00:19<00:29,  5.02it/s]"
     ]
    },
    {
     "name": "stderr",
     "output_type": "stream",
     "text": [
      "2025/05/18 13:47:31 WARNING dspy.adapters.json_adapter: Failed to use structured output format. Falling back to JSON mode. Error: 'type' object is not iterable\n"
     ]
    },
    {
     "name": "stdout",
     "output_type": "stream",
     "text": [
      "Average Metric: 87.00 / 93 (93.5%):  39%|███     | 93/240 [00:19<00:27,  5.42it/s]"
     ]
    },
    {
     "name": "stderr",
     "output_type": "stream",
     "text": [
      "2025/05/18 13:47:32 WARNING dspy.adapters.json_adapter: Failed to use structured output format. Falling back to JSON mode. Error: 'type' object is not iterable\n"
     ]
    },
    {
     "name": "stdout",
     "output_type": "stream",
     "text": [
      "Average Metric: 90.00 / 97 (92.8%):  40%|███▏    | 97/240 [00:20<00:26,  5.38it/s]"
     ]
    },
    {
     "name": "stderr",
     "output_type": "stream",
     "text": [
      "2025/05/18 13:47:32 WARNING dspy.adapters.json_adapter: Failed to use structured output format. Falling back to JSON mode. Error: 'type' object is not iterable\n"
     ]
    },
    {
     "name": "stdout",
     "output_type": "stream",
     "text": [
      "Average Metric: 175.00 / 196 (89.3%):  81%|████ | 195/240 [00:37<00:05,  8.26it/s]"
     ]
    },
    {
     "name": "stderr",
     "output_type": "stream",
     "text": [
      "2025/05/18 13:47:50 WARNING dspy.adapters.json_adapter: Failed to use structured output format. Falling back to JSON mode. Error: 'type' object is not iterable\n"
     ]
    },
    {
     "name": "stdout",
     "output_type": "stream",
     "text": [
      "Average Metric: 216.00 / 240 (90.0%): 100%|█████| 240/240 [00:47<00:00,  5.04it/s]"
     ]
    },
    {
     "name": "stderr",
     "output_type": "stream",
     "text": [
      "2025/05/18 13:48:00 INFO dspy.evaluate.evaluate: Average Metric: 216 / 240 (90.0%)\n",
      "2025/05/18 13:48:00 INFO dspy.teleprompt.mipro_optimizer_v2: Full eval scores so far: [91.67, 91.25, 91.67, 90.0, 90.0]\n",
      "2025/05/18 13:48:00 INFO dspy.teleprompt.mipro_optimizer_v2: Best full score so far: 91.67\n",
      "2025/05/18 13:48:00 INFO dspy.teleprompt.mipro_optimizer_v2: =======================\n",
      "2025/05/18 13:48:00 INFO dspy.teleprompt.mipro_optimizer_v2: \n",
      "\n",
      "2025/05/18 13:48:00 INFO dspy.teleprompt.mipro_optimizer_v2: == Trial 26 / 70 - Minibatch ==\n"
     ]
    },
    {
     "name": "stdout",
     "output_type": "stream",
     "text": [
      "\n",
      "Average Metric: 34.00 / 35 (97.1%): 100%|█████████| 35/35 [00:08<00:00,  4.19it/s]"
     ]
    },
    {
     "name": "stderr",
     "output_type": "stream",
     "text": [
      "2025/05/18 13:48:08 INFO dspy.evaluate.evaluate: Average Metric: 34 / 35 (97.1%)\n",
      "2025/05/18 13:48:08 INFO dspy.teleprompt.mipro_optimizer_v2: Score: 97.14 on minibatch of size 35 with parameters ['Predictor 0: Instruction 0', 'Predictor 1: Instruction 5', 'Predictor 2: Instruction 5', 'Predictor 3: Instruction 5'].\n",
      "2025/05/18 13:48:08 INFO dspy.teleprompt.mipro_optimizer_v2: Minibatch scores so far: [82.86, 82.86, 91.43, 88.57, 80.0, 80.0, 91.43, 91.43, 88.57, 97.14, 88.57, 88.57, 91.43, 91.43, 91.43, 100.0, 94.29, 85.71, 85.71, 94.29, 97.14]\n",
      "2025/05/18 13:48:08 INFO dspy.teleprompt.mipro_optimizer_v2: Full eval scores so far: [91.67, 91.25, 91.67, 90.0, 90.0]\n",
      "2025/05/18 13:48:08 INFO dspy.teleprompt.mipro_optimizer_v2: Best full score so far: 91.67\n",
      "2025/05/18 13:48:08 INFO dspy.teleprompt.mipro_optimizer_v2: ==========================================\n",
      "\n",
      "\n",
      "2025/05/18 13:48:08 INFO dspy.teleprompt.mipro_optimizer_v2: == Trial 27 / 70 - Minibatch ==\n"
     ]
    },
    {
     "name": "stdout",
     "output_type": "stream",
     "text": [
      "\n",
      "Average Metric: 3.00 / 3 (100.0%):   9%|▉          | 3/35 [00:02<00:28,  1.11it/s]"
     ]
    },
    {
     "name": "stderr",
     "output_type": "stream",
     "text": [
      "2025/05/18 13:48:11 WARNING dspy.adapters.json_adapter: Failed to use structured output format. Falling back to JSON mode. Error: 'type' object is not iterable\n"
     ]
    },
    {
     "name": "stdout",
     "output_type": "stream",
     "text": [
      "Average Metric: 4.00 / 4 (100.0%):   9%|▉          | 3/35 [00:02<00:28,  1.11it/s]"
     ]
    },
    {
     "name": "stderr",
     "output_type": "stream",
     "text": [
      "2025/05/18 13:48:11 ERROR dspy.utils.parallelizer: Error for Example({'question': 'Jim collects model cars, and he has 301 models total.  Jim has 4 times as many Buicks as Fords, and 3 more than twice the number of Fords than Chevys.  How many Buicks does Jim have?', 'thoughts': 'Let x represent the number of Chevys\\nFords:3+2x\\nBuicks:4(3+2x)=12+8x\\nTotal:x+3+2x+12+8x=301\\n11x+15=301\\n11x=286\\nx=<<26=26>>26\\nBuicks:12+8(26)=220', 'answer': 220}) (input_keys={'question'}): Both structured output format and JSON mode failed. Please choose a model that supports `response_format` argument. Original error: Expected dict_keys(['reasoning', 'answer']) but got dict_keys(['reasoning']). Set `provide_traceback=True` for traceback.\n"
     ]
    },
    {
     "name": "stdout",
     "output_type": "stream",
     "text": [
      "Average Metric: 30.00 / 34 (88.2%): 100%|█████████| 35/35 [00:08<00:00,  4.14it/s]"
     ]
    },
    {
     "name": "stderr",
     "output_type": "stream",
     "text": [
      "2025/05/18 13:48:16 INFO dspy.evaluate.evaluate: Average Metric: 30.0 / 35 (85.7%)\n",
      "2025/05/18 13:48:16 INFO dspy.teleprompt.mipro_optimizer_v2: Score: 85.71 on minibatch of size 35 with parameters ['Predictor 0: Instruction 0', 'Predictor 1: Instruction 5', 'Predictor 2: Instruction 5', 'Predictor 3: Instruction 2'].\n",
      "2025/05/18 13:48:16 INFO dspy.teleprompt.mipro_optimizer_v2: Minibatch scores so far: [82.86, 82.86, 91.43, 88.57, 80.0, 80.0, 91.43, 91.43, 88.57, 97.14, 88.57, 88.57, 91.43, 91.43, 91.43, 100.0, 94.29, 85.71, 85.71, 94.29, 97.14, 85.71]\n",
      "2025/05/18 13:48:16 INFO dspy.teleprompt.mipro_optimizer_v2: Full eval scores so far: [91.67, 91.25, 91.67, 90.0, 90.0]\n",
      "2025/05/18 13:48:16 INFO dspy.teleprompt.mipro_optimizer_v2: Best full score so far: 91.67\n",
      "2025/05/18 13:48:16 INFO dspy.teleprompt.mipro_optimizer_v2: ==========================================\n",
      "\n",
      "\n",
      "2025/05/18 13:48:16 INFO dspy.teleprompt.mipro_optimizer_v2: == Trial 28 / 70 - Minibatch ==\n"
     ]
    },
    {
     "name": "stdout",
     "output_type": "stream",
     "text": [
      "\n",
      "Average Metric: 32.00 / 35 (91.4%): 100%|█████████| 35/35 [00:07<00:00,  4.76it/s]"
     ]
    },
    {
     "name": "stderr",
     "output_type": "stream",
     "text": [
      "2025/05/18 13:48:24 INFO dspy.evaluate.evaluate: Average Metric: 32 / 35 (91.4%)\n",
      "2025/05/18 13:48:24 INFO dspy.teleprompt.mipro_optimizer_v2: Score: 91.43 on minibatch of size 35 with parameters ['Predictor 0: Instruction 0', 'Predictor 1: Instruction 5', 'Predictor 2: Instruction 2', 'Predictor 3: Instruction 5'].\n",
      "2025/05/18 13:48:24 INFO dspy.teleprompt.mipro_optimizer_v2: Minibatch scores so far: [82.86, 82.86, 91.43, 88.57, 80.0, 80.0, 91.43, 91.43, 88.57, 97.14, 88.57, 88.57, 91.43, 91.43, 91.43, 100.0, 94.29, 85.71, 85.71, 94.29, 97.14, 85.71, 91.43]\n",
      "2025/05/18 13:48:24 INFO dspy.teleprompt.mipro_optimizer_v2: Full eval scores so far: [91.67, 91.25, 91.67, 90.0, 90.0]\n",
      "2025/05/18 13:48:24 INFO dspy.teleprompt.mipro_optimizer_v2: Best full score so far: 91.67\n",
      "2025/05/18 13:48:24 INFO dspy.teleprompt.mipro_optimizer_v2: ==========================================\n",
      "\n",
      "\n",
      "2025/05/18 13:48:24 INFO dspy.teleprompt.mipro_optimizer_v2: == Trial 29 / 70 - Minibatch ==\n"
     ]
    },
    {
     "name": "stdout",
     "output_type": "stream",
     "text": [
      "\n",
      "Average Metric: 28.00 / 35 (80.0%): 100%|█████████| 35/35 [00:09<00:00,  3.89it/s]"
     ]
    },
    {
     "name": "stderr",
     "output_type": "stream",
     "text": [
      "2025/05/18 13:48:33 INFO dspy.evaluate.evaluate: Average Metric: 28 / 35 (80.0%)\n",
      "2025/05/18 13:48:33 INFO dspy.teleprompt.mipro_optimizer_v2: Score: 80.0 on minibatch of size 35 with parameters ['Predictor 0: Instruction 5', 'Predictor 1: Instruction 5', 'Predictor 2: Instruction 1', 'Predictor 3: Instruction 3'].\n",
      "2025/05/18 13:48:33 INFO dspy.teleprompt.mipro_optimizer_v2: Minibatch scores so far: [82.86, 82.86, 91.43, 88.57, 80.0, 80.0, 91.43, 91.43, 88.57, 97.14, 88.57, 88.57, 91.43, 91.43, 91.43, 100.0, 94.29, 85.71, 85.71, 94.29, 97.14, 85.71, 91.43, 80.0]\n",
      "2025/05/18 13:48:33 INFO dspy.teleprompt.mipro_optimizer_v2: Full eval scores so far: [91.67, 91.25, 91.67, 90.0, 90.0]\n",
      "2025/05/18 13:48:33 INFO dspy.teleprompt.mipro_optimizer_v2: Best full score so far: 91.67\n",
      "2025/05/18 13:48:33 INFO dspy.teleprompt.mipro_optimizer_v2: ==========================================\n",
      "\n",
      "\n",
      "2025/05/18 13:48:33 INFO dspy.teleprompt.mipro_optimizer_v2: == Trial 30 / 70 - Minibatch ==\n"
     ]
    },
    {
     "name": "stdout",
     "output_type": "stream",
     "text": [
      "\n",
      "Average Metric: 33.00 / 35 (94.3%): 100%|█████████| 35/35 [00:12<00:00,  2.70it/s]"
     ]
    },
    {
     "name": "stderr",
     "output_type": "stream",
     "text": [
      "2025/05/18 13:48:46 INFO dspy.evaluate.evaluate: Average Metric: 33 / 35 (94.3%)\n",
      "2025/05/18 13:48:46 INFO dspy.teleprompt.mipro_optimizer_v2: Score: 94.29 on minibatch of size 35 with parameters ['Predictor 0: Instruction 1', 'Predictor 1: Instruction 0', 'Predictor 2: Instruction 1', 'Predictor 3: Instruction 4'].\n",
      "2025/05/18 13:48:46 INFO dspy.teleprompt.mipro_optimizer_v2: Minibatch scores so far: [82.86, 82.86, 91.43, 88.57, 80.0, 80.0, 91.43, 91.43, 88.57, 97.14, 88.57, 88.57, 91.43, 91.43, 91.43, 100.0, 94.29, 85.71, 85.71, 94.29, 97.14, 85.71, 91.43, 80.0, 94.29]\n",
      "2025/05/18 13:48:46 INFO dspy.teleprompt.mipro_optimizer_v2: Full eval scores so far: [91.67, 91.25, 91.67, 90.0, 90.0]\n",
      "2025/05/18 13:48:46 INFO dspy.teleprompt.mipro_optimizer_v2: Best full score so far: 91.67\n",
      "2025/05/18 13:48:46 INFO dspy.teleprompt.mipro_optimizer_v2: ==========================================\n",
      "\n",
      "\n",
      "2025/05/18 13:48:46 INFO dspy.teleprompt.mipro_optimizer_v2: ===== Trial 31 / 70 - Full Evaluation =====\n",
      "2025/05/18 13:48:46 INFO dspy.teleprompt.mipro_optimizer_v2: Doing full eval on next top averaging program (Avg Score: 97.14) from minibatch trials...\n"
     ]
    },
    {
     "name": "stdout",
     "output_type": "stream",
     "text": [
      "\n",
      "Average Metric: 38.00 / 42 (90.5%):  18%|█▍      | 42/240 [00:04<00:12, 15.49it/s]"
     ]
    },
    {
     "name": "stderr",
     "output_type": "stream",
     "text": [
      "2025/05/18 13:48:51 WARNING dspy.adapters.json_adapter: Failed to use structured output format. Falling back to JSON mode. Error: 'type' object is not iterable\n"
     ]
    },
    {
     "name": "stdout",
     "output_type": "stream",
     "text": [
      "Average Metric: 49.00 / 53 (92.5%):  22%|█▊      | 53/240 [00:05<00:14, 12.84it/s]"
     ]
    },
    {
     "name": "stderr",
     "output_type": "stream",
     "text": [
      "2025/05/18 13:48:52 WARNING dspy.adapters.json_adapter: Failed to use structured output format. Falling back to JSON mode. Error: 'type' object is not iterable\n"
     ]
    },
    {
     "name": "stdout",
     "output_type": "stream",
     "text": [
      "Average Metric: 49.00 / 54 (90.7%):  22%|█▊      | 53/240 [00:05<00:14, 12.84it/s]"
     ]
    },
    {
     "name": "stderr",
     "output_type": "stream",
     "text": [
      "2025/05/18 13:48:52 ERROR dspy.utils.parallelizer: Error for Example({'question': 'Jim collects model cars, and he has 301 models total.  Jim has 4 times as many Buicks as Fords, and 3 more than twice the number of Fords than Chevys.  How many Buicks does Jim have?', 'thoughts': 'Let x represent the number of Chevys\\nFords:3+2x\\nBuicks:4(3+2x)=12+8x\\nTotal:x+3+2x+12+8x=301\\n11x+15=301\\n11x=286\\nx=<<26=26>>26\\nBuicks:12+8(26)=220', 'answer': 220}) (input_keys={'question'}): Both structured output format and JSON mode failed. Please choose a model that supports `response_format` argument. Original error: Expected dict_keys(['reasoning', 'answer']) but got dict_keys(['reasoning']). Set `provide_traceback=True` for traceback.\n"
     ]
    },
    {
     "name": "stdout",
     "output_type": "stream",
     "text": [
      "Average Metric: 93.00 / 101 (92.1%):  42%|██▌   | 102/240 [00:11<00:14,  9.60it/s]"
     ]
    },
    {
     "name": "stderr",
     "output_type": "stream",
     "text": [
      "2025/05/18 13:48:58 WARNING dspy.adapters.json_adapter: Failed to use structured output format. Falling back to JSON mode. Error: 'type' object is not iterable\n"
     ]
    },
    {
     "name": "stdout",
     "output_type": "stream",
     "text": [
      "Average Metric: 218.00 / 239 (91.2%): 100%|█████| 240/240 [00:27<00:00,  8.71it/s]"
     ]
    },
    {
     "name": "stderr",
     "output_type": "stream",
     "text": [
      "2025/05/18 13:49:14 INFO dspy.evaluate.evaluate: Average Metric: 218.0 / 240 (90.8%)\n",
      "2025/05/18 13:49:14 INFO dspy.teleprompt.mipro_optimizer_v2: Full eval scores so far: [91.67, 91.25, 91.67, 90.0, 90.0, 90.83]\n",
      "2025/05/18 13:49:14 INFO dspy.teleprompt.mipro_optimizer_v2: Best full score so far: 91.67\n",
      "2025/05/18 13:49:14 INFO dspy.teleprompt.mipro_optimizer_v2: =======================\n",
      "2025/05/18 13:49:14 INFO dspy.teleprompt.mipro_optimizer_v2: \n",
      "\n",
      "2025/05/18 13:49:14 INFO dspy.teleprompt.mipro_optimizer_v2: == Trial 32 / 70 - Minibatch ==\n"
     ]
    },
    {
     "name": "stdout",
     "output_type": "stream",
     "text": [
      "\n",
      "Average Metric: 35.00 / 35 (100.0%): 100%|████████| 35/35 [00:12<00:00,  2.87it/s]"
     ]
    },
    {
     "name": "stderr",
     "output_type": "stream",
     "text": [
      "2025/05/18 13:49:26 INFO dspy.evaluate.evaluate: Average Metric: 35 / 35 (100.0%)\n",
      "2025/05/18 13:49:26 INFO dspy.teleprompt.mipro_optimizer_v2: Score: 100.0 on minibatch of size 35 with parameters ['Predictor 0: Instruction 1', 'Predictor 1: Instruction 1', 'Predictor 2: Instruction 5', 'Predictor 3: Instruction 5'].\n",
      "2025/05/18 13:49:26 INFO dspy.teleprompt.mipro_optimizer_v2: Minibatch scores so far: [82.86, 82.86, 91.43, 88.57, 80.0, 80.0, 91.43, 91.43, 88.57, 97.14, 88.57, 88.57, 91.43, 91.43, 91.43, 100.0, 94.29, 85.71, 85.71, 94.29, 97.14, 85.71, 91.43, 80.0, 94.29, 100.0]\n",
      "2025/05/18 13:49:26 INFO dspy.teleprompt.mipro_optimizer_v2: Full eval scores so far: [91.67, 91.25, 91.67, 90.0, 90.0, 90.83]\n",
      "2025/05/18 13:49:26 INFO dspy.teleprompt.mipro_optimizer_v2: Best full score so far: 91.67\n",
      "2025/05/18 13:49:26 INFO dspy.teleprompt.mipro_optimizer_v2: ==========================================\n",
      "\n",
      "\n",
      "2025/05/18 13:49:26 INFO dspy.teleprompt.mipro_optimizer_v2: == Trial 33 / 70 - Minibatch ==\n"
     ]
    },
    {
     "name": "stdout",
     "output_type": "stream",
     "text": [
      "\n",
      "Average Metric: 33.00 / 35 (94.3%): 100%|█████████| 35/35 [00:08<00:00,  4.03it/s]"
     ]
    },
    {
     "name": "stderr",
     "output_type": "stream",
     "text": [
      "2025/05/18 13:49:35 INFO dspy.evaluate.evaluate: Average Metric: 33 / 35 (94.3%)\n",
      "2025/05/18 13:49:35 INFO dspy.teleprompt.mipro_optimizer_v2: Score: 94.29 on minibatch of size 35 with parameters ['Predictor 0: Instruction 1', 'Predictor 1: Instruction 1', 'Predictor 2: Instruction 5', 'Predictor 3: Instruction 5'].\n",
      "2025/05/18 13:49:35 INFO dspy.teleprompt.mipro_optimizer_v2: Minibatch scores so far: [82.86, 82.86, 91.43, 88.57, 80.0, 80.0, 91.43, 91.43, 88.57, 97.14, 88.57, 88.57, 91.43, 91.43, 91.43, 100.0, 94.29, 85.71, 85.71, 94.29, 97.14, 85.71, 91.43, 80.0, 94.29, 100.0, 94.29]\n",
      "2025/05/18 13:49:35 INFO dspy.teleprompt.mipro_optimizer_v2: Full eval scores so far: [91.67, 91.25, 91.67, 90.0, 90.0, 90.83]\n",
      "2025/05/18 13:49:35 INFO dspy.teleprompt.mipro_optimizer_v2: Best full score so far: 91.67\n",
      "2025/05/18 13:49:35 INFO dspy.teleprompt.mipro_optimizer_v2: ==========================================\n",
      "\n",
      "\n",
      "2025/05/18 13:49:35 INFO dspy.teleprompt.mipro_optimizer_v2: == Trial 34 / 70 - Minibatch ==\n"
     ]
    },
    {
     "name": "stdout",
     "output_type": "stream",
     "text": [
      "\n",
      "Average Metric: 5.00 / 6 (83.3%):  14%|█▋          | 5/35 [00:02<00:11,  2.72it/s]"
     ]
    },
    {
     "name": "stderr",
     "output_type": "stream",
     "text": [
      "2025/05/18 13:49:37 WARNING dspy.adapters.json_adapter: Failed to use structured output format. Falling back to JSON mode. Error: 'type' object is not iterable\n"
     ]
    },
    {
     "name": "stdout",
     "output_type": "stream",
     "text": [
      "Average Metric: 31.00 / 35 (88.6%): 100%|█████████| 35/35 [00:13<00:00,  2.53it/s]"
     ]
    },
    {
     "name": "stderr",
     "output_type": "stream",
     "text": [
      "2025/05/18 13:49:48 INFO dspy.evaluate.evaluate: Average Metric: 31 / 35 (88.6%)\n",
      "2025/05/18 13:49:48 INFO dspy.teleprompt.mipro_optimizer_v2: Score: 88.57 on minibatch of size 35 with parameters ['Predictor 0: Instruction 3', 'Predictor 1: Instruction 3', 'Predictor 2: Instruction 5', 'Predictor 3: Instruction 5'].\n",
      "2025/05/18 13:49:48 INFO dspy.teleprompt.mipro_optimizer_v2: Minibatch scores so far: [82.86, 82.86, 91.43, 88.57, 80.0, 80.0, 91.43, 91.43, 88.57, 97.14, 88.57, 88.57, 91.43, 91.43, 91.43, 100.0, 94.29, 85.71, 85.71, 94.29, 97.14, 85.71, 91.43, 80.0, 94.29, 100.0, 94.29, 88.57]\n",
      "2025/05/18 13:49:48 INFO dspy.teleprompt.mipro_optimizer_v2: Full eval scores so far: [91.67, 91.25, 91.67, 90.0, 90.0, 90.83]\n",
      "2025/05/18 13:49:48 INFO dspy.teleprompt.mipro_optimizer_v2: Best full score so far: 91.67\n",
      "2025/05/18 13:49:48 INFO dspy.teleprompt.mipro_optimizer_v2: ==========================================\n",
      "\n",
      "\n",
      "2025/05/18 13:49:48 INFO dspy.teleprompt.mipro_optimizer_v2: == Trial 35 / 70 - Minibatch ==\n"
     ]
    },
    {
     "name": "stdout",
     "output_type": "stream",
     "text": [
      "\n",
      "Average Metric: 31.00 / 35 (88.6%): 100%|█████████| 35/35 [00:09<00:00,  3.58it/s]"
     ]
    },
    {
     "name": "stderr",
     "output_type": "stream",
     "text": [
      "2025/05/18 13:49:58 INFO dspy.evaluate.evaluate: Average Metric: 31 / 35 (88.6%)\n",
      "2025/05/18 13:49:58 INFO dspy.teleprompt.mipro_optimizer_v2: Score: 88.57 on minibatch of size 35 with parameters ['Predictor 0: Instruction 1', 'Predictor 1: Instruction 0', 'Predictor 2: Instruction 4', 'Predictor 3: Instruction 5'].\n",
      "2025/05/18 13:49:58 INFO dspy.teleprompt.mipro_optimizer_v2: Minibatch scores so far: [82.86, 82.86, 91.43, 88.57, 80.0, 80.0, 91.43, 91.43, 88.57, 97.14, 88.57, 88.57, 91.43, 91.43, 91.43, 100.0, 94.29, 85.71, 85.71, 94.29, 97.14, 85.71, 91.43, 80.0, 94.29, 100.0, 94.29, 88.57, 88.57]\n",
      "2025/05/18 13:49:58 INFO dspy.teleprompt.mipro_optimizer_v2: Full eval scores so far: [91.67, 91.25, 91.67, 90.0, 90.0, 90.83]\n",
      "2025/05/18 13:49:58 INFO dspy.teleprompt.mipro_optimizer_v2: Best full score so far: 91.67\n",
      "2025/05/18 13:49:58 INFO dspy.teleprompt.mipro_optimizer_v2: ==========================================\n",
      "\n",
      "\n",
      "2025/05/18 13:49:58 INFO dspy.teleprompt.mipro_optimizer_v2: == Trial 36 / 70 - Minibatch ==\n"
     ]
    },
    {
     "name": "stdout",
     "output_type": "stream",
     "text": [
      "\n",
      "Average Metric: 32.00 / 35 (91.4%): 100%|█████████| 35/35 [00:07<00:00,  4.84it/s]"
     ]
    },
    {
     "name": "stderr",
     "output_type": "stream",
     "text": [
      "2025/05/18 13:50:05 INFO dspy.evaluate.evaluate: Average Metric: 32 / 35 (91.4%)\n",
      "2025/05/18 13:50:05 INFO dspy.teleprompt.mipro_optimizer_v2: Score: 91.43 on minibatch of size 35 with parameters ['Predictor 0: Instruction 0', 'Predictor 1: Instruction 3', 'Predictor 2: Instruction 1', 'Predictor 3: Instruction 5'].\n",
      "2025/05/18 13:50:05 INFO dspy.teleprompt.mipro_optimizer_v2: Minibatch scores so far: [82.86, 82.86, 91.43, 88.57, 80.0, 80.0, 91.43, 91.43, 88.57, 97.14, 88.57, 88.57, 91.43, 91.43, 91.43, 100.0, 94.29, 85.71, 85.71, 94.29, 97.14, 85.71, 91.43, 80.0, 94.29, 100.0, 94.29, 88.57, 88.57, 91.43]\n",
      "2025/05/18 13:50:05 INFO dspy.teleprompt.mipro_optimizer_v2: Full eval scores so far: [91.67, 91.25, 91.67, 90.0, 90.0, 90.83]\n",
      "2025/05/18 13:50:05 INFO dspy.teleprompt.mipro_optimizer_v2: Best full score so far: 91.67\n",
      "2025/05/18 13:50:05 INFO dspy.teleprompt.mipro_optimizer_v2: ==========================================\n",
      "\n",
      "\n",
      "2025/05/18 13:50:05 INFO dspy.teleprompt.mipro_optimizer_v2: ===== Trial 37 / 70 - Full Evaluation =====\n",
      "2025/05/18 13:50:05 INFO dspy.teleprompt.mipro_optimizer_v2: Doing full eval on next top averaging program (Avg Score: 97.14500000000001) from minibatch trials...\n"
     ]
    },
    {
     "name": "stdout",
     "output_type": "stream",
     "text": [
      "\n",
      "Average Metric: 19.00 / 20 (95.0%):   8%|▋       | 19/240 [00:03<00:33,  6.59it/s]"
     ]
    },
    {
     "name": "stderr",
     "output_type": "stream",
     "text": [
      "2025/05/18 13:50:09 WARNING dspy.adapters.json_adapter: Failed to use structured output format. Falling back to JSON mode. Error: 'type' object is not iterable\n"
     ]
    },
    {
     "name": "stdout",
     "output_type": "stream",
     "text": [
      "Average Metric: 48.00 / 53 (90.6%):  22%|█▋      | 52/240 [00:07<00:37,  5.02it/s]"
     ]
    },
    {
     "name": "stderr",
     "output_type": "stream",
     "text": [
      "2025/05/18 13:50:13 WARNING dspy.adapters.json_adapter: Failed to use structured output format. Falling back to JSON mode. Error: 'type' object is not iterable\n"
     ]
    },
    {
     "name": "stdout",
     "output_type": "stream",
     "text": [
      "Average Metric: 100.00 / 112 (89.3%):  46%|██▎  | 111/240 [00:16<00:19,  6.53it/s]"
     ]
    },
    {
     "name": "stderr",
     "output_type": "stream",
     "text": [
      "2025/05/18 13:50:22 WARNING dspy.adapters.json_adapter: Failed to use structured output format. Falling back to JSON mode. Error: 'type' object is not iterable\n"
     ]
    },
    {
     "name": "stdout",
     "output_type": "stream",
     "text": [
      "Average Metric: 216.00 / 240 (90.0%): 100%|█████| 240/240 [00:36<00:00,  6.57it/s]"
     ]
    },
    {
     "name": "stderr",
     "output_type": "stream",
     "text": [
      "2025/05/18 13:50:42 INFO dspy.evaluate.evaluate: Average Metric: 216 / 240 (90.0%)\n",
      "2025/05/18 13:50:42 INFO dspy.teleprompt.mipro_optimizer_v2: Full eval scores so far: [91.67, 91.25, 91.67, 90.0, 90.0, 90.83, 90.0]\n",
      "2025/05/18 13:50:42 INFO dspy.teleprompt.mipro_optimizer_v2: Best full score so far: 91.67\n",
      "2025/05/18 13:50:42 INFO dspy.teleprompt.mipro_optimizer_v2: =======================\n",
      "2025/05/18 13:50:42 INFO dspy.teleprompt.mipro_optimizer_v2: \n",
      "\n",
      "2025/05/18 13:50:42 INFO dspy.teleprompt.mipro_optimizer_v2: == Trial 38 / 70 - Minibatch ==\n"
     ]
    },
    {
     "name": "stdout",
     "output_type": "stream",
     "text": [
      "\n",
      "Average Metric: 2.00 / 2 (100.0%):   6%|▋          | 2/35 [00:02<00:38,  1.18s/it]"
     ]
    },
    {
     "name": "stderr",
     "output_type": "stream",
     "text": [
      "2025/05/18 13:50:45 WARNING dspy.adapters.json_adapter: Failed to use structured output format. Falling back to JSON mode. Error: 'type' object is not iterable\n"
     ]
    },
    {
     "name": "stdout",
     "output_type": "stream",
     "text": [
      "Average Metric: 28.00 / 33 (84.8%):  94%|████████▍| 33/35 [00:07<00:00,  4.22it/s]"
     ]
    },
    {
     "name": "stderr",
     "output_type": "stream",
     "text": [
      "2025/05/18 13:50:50 WARNING dspy.adapters.json_adapter: Failed to use structured output format. Falling back to JSON mode. Error: 'type' object is not iterable\n"
     ]
    },
    {
     "name": "stdout",
     "output_type": "stream",
     "text": [
      "Average Metric: 30.00 / 35 (85.7%): 100%|█████████| 35/35 [00:10<00:00,  3.26it/s]"
     ]
    },
    {
     "name": "stderr",
     "output_type": "stream",
     "text": [
      "2025/05/18 13:50:53 INFO dspy.evaluate.evaluate: Average Metric: 30 / 35 (85.7%)\n",
      "2025/05/18 13:50:53 INFO dspy.teleprompt.mipro_optimizer_v2: Score: 85.71 on minibatch of size 35 with parameters ['Predictor 0: Instruction 3', 'Predictor 1: Instruction 0', 'Predictor 2: Instruction 2', 'Predictor 3: Instruction 5'].\n",
      "2025/05/18 13:50:53 INFO dspy.teleprompt.mipro_optimizer_v2: Minibatch scores so far: [82.86, 82.86, 91.43, 88.57, 80.0, 80.0, 91.43, 91.43, 88.57, 97.14, 88.57, 88.57, 91.43, 91.43, 91.43, 100.0, 94.29, 85.71, 85.71, 94.29, 97.14, 85.71, 91.43, 80.0, 94.29, 100.0, 94.29, 88.57, 88.57, 91.43, 85.71]\n",
      "2025/05/18 13:50:53 INFO dspy.teleprompt.mipro_optimizer_v2: Full eval scores so far: [91.67, 91.25, 91.67, 90.0, 90.0, 90.83, 90.0]\n",
      "2025/05/18 13:50:53 INFO dspy.teleprompt.mipro_optimizer_v2: Best full score so far: 91.67\n",
      "2025/05/18 13:50:53 INFO dspy.teleprompt.mipro_optimizer_v2: ==========================================\n",
      "\n",
      "\n",
      "2025/05/18 13:50:53 INFO dspy.teleprompt.mipro_optimizer_v2: == Trial 39 / 70 - Minibatch ==\n"
     ]
    },
    {
     "name": "stdout",
     "output_type": "stream",
     "text": [
      "\n",
      "Average Metric: 33.00 / 35 (94.3%): 100%|█████████| 35/35 [00:10<00:00,  3.41it/s]"
     ]
    },
    {
     "name": "stderr",
     "output_type": "stream",
     "text": [
      "2025/05/18 13:51:03 INFO dspy.evaluate.evaluate: Average Metric: 33 / 35 (94.3%)\n",
      "2025/05/18 13:51:03 INFO dspy.teleprompt.mipro_optimizer_v2: Score: 94.29 on minibatch of size 35 with parameters ['Predictor 0: Instruction 4', 'Predictor 1: Instruction 1', 'Predictor 2: Instruction 5', 'Predictor 3: Instruction 1'].\n",
      "2025/05/18 13:51:03 INFO dspy.teleprompt.mipro_optimizer_v2: Minibatch scores so far: [82.86, 82.86, 91.43, 88.57, 80.0, 80.0, 91.43, 91.43, 88.57, 97.14, 88.57, 88.57, 91.43, 91.43, 91.43, 100.0, 94.29, 85.71, 85.71, 94.29, 97.14, 85.71, 91.43, 80.0, 94.29, 100.0, 94.29, 88.57, 88.57, 91.43, 85.71, 94.29]\n",
      "2025/05/18 13:51:03 INFO dspy.teleprompt.mipro_optimizer_v2: Full eval scores so far: [91.67, 91.25, 91.67, 90.0, 90.0, 90.83, 90.0]\n",
      "2025/05/18 13:51:03 INFO dspy.teleprompt.mipro_optimizer_v2: Best full score so far: 91.67\n",
      "2025/05/18 13:51:03 INFO dspy.teleprompt.mipro_optimizer_v2: ==========================================\n",
      "\n",
      "\n",
      "2025/05/18 13:51:03 INFO dspy.teleprompt.mipro_optimizer_v2: == Trial 40 / 70 - Minibatch ==\n",
      "2025/05/18 13:51:03 WARNING dspy.adapters.json_adapter: Failed to use structured output format. Falling back to JSON mode. Error: 'type' object is not iterable\n"
     ]
    },
    {
     "name": "stdout",
     "output_type": "stream",
     "text": [
      "\n",
      "Average Metric: 33.00 / 35 (94.3%): 100%|█████████| 35/35 [00:09<00:00,  3.75it/s]"
     ]
    },
    {
     "name": "stderr",
     "output_type": "stream",
     "text": [
      "2025/05/18 13:51:13 INFO dspy.evaluate.evaluate: Average Metric: 33 / 35 (94.3%)\n",
      "2025/05/18 13:51:13 INFO dspy.teleprompt.mipro_optimizer_v2: Score: 94.29 on minibatch of size 35 with parameters ['Predictor 0: Instruction 5', 'Predictor 1: Instruction 0', 'Predictor 2: Instruction 0', 'Predictor 3: Instruction 1'].\n",
      "2025/05/18 13:51:13 INFO dspy.teleprompt.mipro_optimizer_v2: Minibatch scores so far: [82.86, 82.86, 91.43, 88.57, 80.0, 80.0, 91.43, 91.43, 88.57, 97.14, 88.57, 88.57, 91.43, 91.43, 91.43, 100.0, 94.29, 85.71, 85.71, 94.29, 97.14, 85.71, 91.43, 80.0, 94.29, 100.0, 94.29, 88.57, 88.57, 91.43, 85.71, 94.29, 94.29]\n",
      "2025/05/18 13:51:13 INFO dspy.teleprompt.mipro_optimizer_v2: Full eval scores so far: [91.67, 91.25, 91.67, 90.0, 90.0, 90.83, 90.0]\n",
      "2025/05/18 13:51:13 INFO dspy.teleprompt.mipro_optimizer_v2: Best full score so far: 91.67\n",
      "2025/05/18 13:51:13 INFO dspy.teleprompt.mipro_optimizer_v2: ==========================================\n",
      "\n",
      "\n",
      "2025/05/18 13:51:13 INFO dspy.teleprompt.mipro_optimizer_v2: == Trial 41 / 70 - Minibatch ==\n",
      "2025/05/18 13:51:13 WARNING dspy.adapters.json_adapter: Failed to use structured output format. Falling back to JSON mode. Error: 'type' object is not iterable\n"
     ]
    },
    {
     "name": "stdout",
     "output_type": "stream",
     "text": [
      "\n",
      "Average Metric: 30.00 / 35 (85.7%): 100%|█████████| 35/35 [00:06<00:00,  5.33it/s]"
     ]
    },
    {
     "name": "stderr",
     "output_type": "stream",
     "text": [
      "2025/05/18 13:51:19 INFO dspy.evaluate.evaluate: Average Metric: 30 / 35 (85.7%)\n",
      "2025/05/18 13:51:19 INFO dspy.teleprompt.mipro_optimizer_v2: Score: 85.71 on minibatch of size 35 with parameters ['Predictor 0: Instruction 1', 'Predictor 1: Instruction 1', 'Predictor 2: Instruction 1', 'Predictor 3: Instruction 2'].\n",
      "2025/05/18 13:51:19 INFO dspy.teleprompt.mipro_optimizer_v2: Minibatch scores so far: [82.86, 82.86, 91.43, 88.57, 80.0, 80.0, 91.43, 91.43, 88.57, 97.14, 88.57, 88.57, 91.43, 91.43, 91.43, 100.0, 94.29, 85.71, 85.71, 94.29, 97.14, 85.71, 91.43, 80.0, 94.29, 100.0, 94.29, 88.57, 88.57, 91.43, 85.71, 94.29, 94.29, 85.71]\n",
      "2025/05/18 13:51:19 INFO dspy.teleprompt.mipro_optimizer_v2: Full eval scores so far: [91.67, 91.25, 91.67, 90.0, 90.0, 90.83, 90.0]\n",
      "2025/05/18 13:51:19 INFO dspy.teleprompt.mipro_optimizer_v2: Best full score so far: 91.67\n",
      "2025/05/18 13:51:19 INFO dspy.teleprompt.mipro_optimizer_v2: ==========================================\n",
      "\n",
      "\n",
      "2025/05/18 13:51:19 INFO dspy.teleprompt.mipro_optimizer_v2: == Trial 42 / 70 - Minibatch ==\n"
     ]
    },
    {
     "name": "stdout",
     "output_type": "stream",
     "text": [
      "\n",
      "Average Metric: 5.00 / 5 (100.0%):  11%|█▎         | 4/35 [00:02<00:17,  1.78it/s]"
     ]
    },
    {
     "name": "stderr",
     "output_type": "stream",
     "text": [
      "2025/05/18 13:51:22 WARNING dspy.adapters.json_adapter: Failed to use structured output format. Falling back to JSON mode. Error: 'type' object is not iterable\n"
     ]
    },
    {
     "name": "stdout",
     "output_type": "stream",
     "text": [
      "Average Metric: 7.00 / 7 (100.0%):  17%|█▉         | 6/35 [00:03<00:11,  2.55it/s]"
     ]
    },
    {
     "name": "stderr",
     "output_type": "stream",
     "text": [
      "2025/05/18 13:51:22 WARNING dspy.adapters.json_adapter: Failed to use structured output format. Falling back to JSON mode. Error: 'type' object is not iterable\n"
     ]
    },
    {
     "name": "stdout",
     "output_type": "stream",
     "text": [
      "Average Metric: 31.00 / 35 (88.6%): 100%|█████████| 35/35 [00:10<00:00,  3.43it/s]"
     ]
    },
    {
     "name": "stderr",
     "output_type": "stream",
     "text": [
      "2025/05/18 13:51:29 INFO dspy.evaluate.evaluate: Average Metric: 31 / 35 (88.6%)\n",
      "2025/05/18 13:51:29 INFO dspy.teleprompt.mipro_optimizer_v2: Score: 88.57 on minibatch of size 35 with parameters ['Predictor 0: Instruction 1', 'Predictor 1: Instruction 5', 'Predictor 2: Instruction 5', 'Predictor 3: Instruction 1'].\n",
      "2025/05/18 13:51:29 INFO dspy.teleprompt.mipro_optimizer_v2: Minibatch scores so far: [82.86, 82.86, 91.43, 88.57, 80.0, 80.0, 91.43, 91.43, 88.57, 97.14, 88.57, 88.57, 91.43, 91.43, 91.43, 100.0, 94.29, 85.71, 85.71, 94.29, 97.14, 85.71, 91.43, 80.0, 94.29, 100.0, 94.29, 88.57, 88.57, 91.43, 85.71, 94.29, 94.29, 85.71, 88.57]\n",
      "2025/05/18 13:51:29 INFO dspy.teleprompt.mipro_optimizer_v2: Full eval scores so far: [91.67, 91.25, 91.67, 90.0, 90.0, 90.83, 90.0]\n",
      "2025/05/18 13:51:29 INFO dspy.teleprompt.mipro_optimizer_v2: Best full score so far: 91.67\n",
      "2025/05/18 13:51:29 INFO dspy.teleprompt.mipro_optimizer_v2: ==========================================\n",
      "\n",
      "\n",
      "2025/05/18 13:51:29 INFO dspy.teleprompt.mipro_optimizer_v2: ===== Trial 43 / 70 - Full Evaluation =====\n",
      "2025/05/18 13:51:29 INFO dspy.teleprompt.mipro_optimizer_v2: Doing full eval on next top averaging program (Avg Score: 94.29) from minibatch trials...\n"
     ]
    },
    {
     "name": "stdout",
     "output_type": "stream",
     "text": [
      "\n",
      "Average Metric: 17.00 / 19 (89.5%):   8%|▌       | 18/240 [00:03<00:42,  5.22it/s]"
     ]
    },
    {
     "name": "stderr",
     "output_type": "stream",
     "text": [
      "2025/05/18 13:51:33 WARNING dspy.adapters.json_adapter: Failed to use structured output format. Falling back to JSON mode. Error: 'type' object is not iterable\n"
     ]
    },
    {
     "name": "stdout",
     "output_type": "stream",
     "text": [
      "Average Metric: 50.00 / 53 (94.3%):  22%|█▊      | 53/240 [00:06<00:18, 10.26it/s]"
     ]
    },
    {
     "name": "stderr",
     "output_type": "stream",
     "text": [
      "2025/05/18 13:51:36 WARNING dspy.adapters.json_adapter: Failed to use structured output format. Falling back to JSON mode. Error: 'type' object is not iterable\n"
     ]
    },
    {
     "name": "stdout",
     "output_type": "stream",
     "text": [
      "Average Metric: 93.00 / 102 (91.2%):  42%|██▌   | 102/240 [00:12<00:14,  9.27it/s]"
     ]
    },
    {
     "name": "stderr",
     "output_type": "stream",
     "text": [
      "2025/05/18 13:51:43 WARNING dspy.adapters.json_adapter: Failed to use structured output format. Falling back to JSON mode. Error: 'type' object is not iterable\n"
     ]
    },
    {
     "name": "stdout",
     "output_type": "stream",
     "text": [
      "Average Metric: 183.00 / 205 (89.3%):  85%|████▎| 204/240 [00:26<00:05,  7.16it/s]"
     ]
    },
    {
     "name": "stderr",
     "output_type": "stream",
     "text": [
      "2025/05/18 13:51:56 WARNING dspy.adapters.json_adapter: Failed to use structured output format. Falling back to JSON mode. Error: 'type' object is not iterable\n"
     ]
    },
    {
     "name": "stdout",
     "output_type": "stream",
     "text": [
      "Average Metric: 218.00 / 240 (90.8%): 100%|█████| 240/240 [00:31<00:00,  7.53it/s]"
     ]
    },
    {
     "name": "stderr",
     "output_type": "stream",
     "text": [
      "2025/05/18 13:52:01 INFO dspy.evaluate.evaluate: Average Metric: 218 / 240 (90.8%)\n",
      "2025/05/18 13:52:01 INFO dspy.teleprompt.mipro_optimizer_v2: Full eval scores so far: [91.67, 91.25, 91.67, 90.0, 90.0, 90.83, 90.0, 90.83]\n",
      "2025/05/18 13:52:01 INFO dspy.teleprompt.mipro_optimizer_v2: Best full score so far: 91.67\n",
      "2025/05/18 13:52:01 INFO dspy.teleprompt.mipro_optimizer_v2: =======================\n",
      "2025/05/18 13:52:01 INFO dspy.teleprompt.mipro_optimizer_v2: \n",
      "\n",
      "2025/05/18 13:52:01 INFO dspy.teleprompt.mipro_optimizer_v2: == Trial 44 / 70 - Minibatch ==\n"
     ]
    },
    {
     "name": "stdout",
     "output_type": "stream",
     "text": [
      "\n",
      "  0%|                                                      | 0/35 [00:00<?, ?it/s]"
     ]
    },
    {
     "name": "stderr",
     "output_type": "stream",
     "text": [
      "2025/05/18 13:52:04 WARNING dspy.adapters.json_adapter: Failed to use structured output format. Falling back to JSON mode. Error: 'type' object is not iterable\n"
     ]
    },
    {
     "name": "stdout",
     "output_type": "stream",
     "text": [
      "Average Metric: 32.00 / 35 (91.4%): 100%|█████████| 35/35 [00:11<00:00,  3.13it/s]"
     ]
    },
    {
     "name": "stderr",
     "output_type": "stream",
     "text": [
      "2025/05/18 13:52:13 INFO dspy.evaluate.evaluate: Average Metric: 32 / 35 (91.4%)\n",
      "2025/05/18 13:52:13 INFO dspy.teleprompt.mipro_optimizer_v2: Score: 91.43 on minibatch of size 35 with parameters ['Predictor 0: Instruction 5', 'Predictor 1: Instruction 1', 'Predictor 2: Instruction 2', 'Predictor 3: Instruction 5'].\n",
      "2025/05/18 13:52:13 INFO dspy.teleprompt.mipro_optimizer_v2: Minibatch scores so far: [82.86, 82.86, 91.43, 88.57, 80.0, 80.0, 91.43, 91.43, 88.57, 97.14, 88.57, 88.57, 91.43, 91.43, 91.43, 100.0, 94.29, 85.71, 85.71, 94.29, 97.14, 85.71, 91.43, 80.0, 94.29, 100.0, 94.29, 88.57, 88.57, 91.43, 85.71, 94.29, 94.29, 85.71, 88.57, 91.43]\n",
      "2025/05/18 13:52:13 INFO dspy.teleprompt.mipro_optimizer_v2: Full eval scores so far: [91.67, 91.25, 91.67, 90.0, 90.0, 90.83, 90.0, 90.83]\n",
      "2025/05/18 13:52:13 INFO dspy.teleprompt.mipro_optimizer_v2: Best full score so far: 91.67\n",
      "2025/05/18 13:52:13 INFO dspy.teleprompt.mipro_optimizer_v2: ==========================================\n",
      "\n",
      "\n",
      "2025/05/18 13:52:13 INFO dspy.teleprompt.mipro_optimizer_v2: == Trial 45 / 70 - Minibatch ==\n"
     ]
    },
    {
     "name": "stdout",
     "output_type": "stream",
     "text": [
      "\n",
      "Average Metric: 6.00 / 6 (100.0%):  14%|█▌         | 5/35 [00:03<00:12,  2.43it/s]"
     ]
    },
    {
     "name": "stderr",
     "output_type": "stream",
     "text": [
      "2025/05/18 13:52:16 WARNING dspy.adapters.json_adapter: Failed to use structured output format. Falling back to JSON mode. Error: 'type' object is not iterable\n"
     ]
    },
    {
     "name": "stdout",
     "output_type": "stream",
     "text": [
      "Average Metric: 32.00 / 35 (91.4%): 100%|█████████| 35/35 [00:11<00:00,  2.98it/s]"
     ]
    },
    {
     "name": "stderr",
     "output_type": "stream",
     "text": [
      "2025/05/18 13:52:24 INFO dspy.evaluate.evaluate: Average Metric: 32 / 35 (91.4%)\n",
      "2025/05/18 13:52:24 INFO dspy.teleprompt.mipro_optimizer_v2: Score: 91.43 on minibatch of size 35 with parameters ['Predictor 0: Instruction 1', 'Predictor 1: Instruction 4', 'Predictor 2: Instruction 0', 'Predictor 3: Instruction 5'].\n",
      "2025/05/18 13:52:24 INFO dspy.teleprompt.mipro_optimizer_v2: Minibatch scores so far: [82.86, 82.86, 91.43, 88.57, 80.0, 80.0, 91.43, 91.43, 88.57, 97.14, 88.57, 88.57, 91.43, 91.43, 91.43, 100.0, 94.29, 85.71, 85.71, 94.29, 97.14, 85.71, 91.43, 80.0, 94.29, 100.0, 94.29, 88.57, 88.57, 91.43, 85.71, 94.29, 94.29, 85.71, 88.57, 91.43, 91.43]\n",
      "2025/05/18 13:52:24 INFO dspy.teleprompt.mipro_optimizer_v2: Full eval scores so far: [91.67, 91.25, 91.67, 90.0, 90.0, 90.83, 90.0, 90.83]\n",
      "2025/05/18 13:52:24 INFO dspy.teleprompt.mipro_optimizer_v2: Best full score so far: 91.67\n",
      "2025/05/18 13:52:24 INFO dspy.teleprompt.mipro_optimizer_v2: ==========================================\n",
      "\n",
      "\n",
      "2025/05/18 13:52:24 INFO dspy.teleprompt.mipro_optimizer_v2: == Trial 46 / 70 - Minibatch ==\n",
      "2025/05/18 13:52:24 WARNING dspy.adapters.json_adapter: Failed to use structured output format. Falling back to JSON mode. Error: 'type' object is not iterable\n"
     ]
    },
    {
     "name": "stdout",
     "output_type": "stream",
     "text": [
      "\n",
      "  0%|                                                      | 0/35 [00:00<?, ?it/s]"
     ]
    },
    {
     "name": "stderr",
     "output_type": "stream",
     "text": [
      "2025/05/18 13:52:24 ERROR dspy.utils.parallelizer: Error for Example({'question': 'Jim collects model cars, and he has 301 models total.  Jim has 4 times as many Buicks as Fords, and 3 more than twice the number of Fords than Chevys.  How many Buicks does Jim have?', 'thoughts': 'Let x represent the number of Chevys\\nFords:3+2x\\nBuicks:4(3+2x)=12+8x\\nTotal:x+3+2x+12+8x=301\\n11x+15=301\\n11x=286\\nx=<<26=26>>26\\nBuicks:12+8(26)=220', 'answer': 220}) (input_keys={'question'}): Both structured output format and JSON mode failed. Please choose a model that supports `response_format` argument. Original error: Expected dict_keys(['reasoning', 'answer']) but got dict_keys(['reasoning']). Set `provide_traceback=True` for traceback.\n"
     ]
    },
    {
     "name": "stdout",
     "output_type": "stream",
     "text": [
      "Average Metric: 32.00 / 34 (94.1%): 100%|█████████| 35/35 [00:14<00:00,  2.37it/s]"
     ]
    },
    {
     "name": "stderr",
     "output_type": "stream",
     "text": [
      "2025/05/18 13:52:39 INFO dspy.evaluate.evaluate: Average Metric: 32.0 / 35 (91.4%)\n",
      "2025/05/18 13:52:39 INFO dspy.teleprompt.mipro_optimizer_v2: Score: 91.43 on minibatch of size 35 with parameters ['Predictor 0: Instruction 0', 'Predictor 1: Instruction 4', 'Predictor 2: Instruction 5', 'Predictor 3: Instruction 0'].\n",
      "2025/05/18 13:52:39 INFO dspy.teleprompt.mipro_optimizer_v2: Minibatch scores so far: [82.86, 82.86, 91.43, 88.57, 80.0, 80.0, 91.43, 91.43, 88.57, 97.14, 88.57, 88.57, 91.43, 91.43, 91.43, 100.0, 94.29, 85.71, 85.71, 94.29, 97.14, 85.71, 91.43, 80.0, 94.29, 100.0, 94.29, 88.57, 88.57, 91.43, 85.71, 94.29, 94.29, 85.71, 88.57, 91.43, 91.43, 91.43]\n",
      "2025/05/18 13:52:39 INFO dspy.teleprompt.mipro_optimizer_v2: Full eval scores so far: [91.67, 91.25, 91.67, 90.0, 90.0, 90.83, 90.0, 90.83]\n",
      "2025/05/18 13:52:39 INFO dspy.teleprompt.mipro_optimizer_v2: Best full score so far: 91.67\n",
      "2025/05/18 13:52:39 INFO dspy.teleprompt.mipro_optimizer_v2: ==========================================\n",
      "\n",
      "\n",
      "2025/05/18 13:52:39 INFO dspy.teleprompt.mipro_optimizer_v2: == Trial 47 / 70 - Minibatch ==\n"
     ]
    },
    {
     "name": "stdout",
     "output_type": "stream",
     "text": [
      "\n",
      "Average Metric: 31.00 / 35 (88.6%): 100%|█████████| 35/35 [00:09<00:00,  3.56it/s]"
     ]
    },
    {
     "name": "stderr",
     "output_type": "stream",
     "text": [
      "2025/05/18 13:52:49 INFO dspy.evaluate.evaluate: Average Metric: 31 / 35 (88.6%)\n",
      "2025/05/18 13:52:49 INFO dspy.teleprompt.mipro_optimizer_v2: Score: 88.57 on minibatch of size 35 with parameters ['Predictor 0: Instruction 4', 'Predictor 1: Instruction 4', 'Predictor 2: Instruction 1', 'Predictor 3: Instruction 5'].\n",
      "2025/05/18 13:52:49 INFO dspy.teleprompt.mipro_optimizer_v2: Minibatch scores so far: [82.86, 82.86, 91.43, 88.57, 80.0, 80.0, 91.43, 91.43, 88.57, 97.14, 88.57, 88.57, 91.43, 91.43, 91.43, 100.0, 94.29, 85.71, 85.71, 94.29, 97.14, 85.71, 91.43, 80.0, 94.29, 100.0, 94.29, 88.57, 88.57, 91.43, 85.71, 94.29, 94.29, 85.71, 88.57, 91.43, 91.43, 91.43, 88.57]\n",
      "2025/05/18 13:52:49 INFO dspy.teleprompt.mipro_optimizer_v2: Full eval scores so far: [91.67, 91.25, 91.67, 90.0, 90.0, 90.83, 90.0, 90.83]\n",
      "2025/05/18 13:52:49 INFO dspy.teleprompt.mipro_optimizer_v2: Best full score so far: 91.67\n",
      "2025/05/18 13:52:49 INFO dspy.teleprompt.mipro_optimizer_v2: ==========================================\n",
      "\n",
      "\n",
      "2025/05/18 13:52:49 INFO dspy.teleprompt.mipro_optimizer_v2: == Trial 48 / 70 - Minibatch ==\n"
     ]
    },
    {
     "name": "stdout",
     "output_type": "stream",
     "text": [
      "\n",
      "Average Metric: 31.00 / 35 (88.6%): 100%|█████████| 35/35 [00:07<00:00,  4.46it/s]"
     ]
    },
    {
     "name": "stderr",
     "output_type": "stream",
     "text": [
      "2025/05/18 13:52:57 INFO dspy.evaluate.evaluate: Average Metric: 31 / 35 (88.6%)\n",
      "2025/05/18 13:52:57 INFO dspy.teleprompt.mipro_optimizer_v2: Score: 88.57 on minibatch of size 35 with parameters ['Predictor 0: Instruction 1', 'Predictor 1: Instruction 4', 'Predictor 2: Instruction 5', 'Predictor 3: Instruction 4'].\n",
      "2025/05/18 13:52:57 INFO dspy.teleprompt.mipro_optimizer_v2: Minibatch scores so far: [82.86, 82.86, 91.43, 88.57, 80.0, 80.0, 91.43, 91.43, 88.57, 97.14, 88.57, 88.57, 91.43, 91.43, 91.43, 100.0, 94.29, 85.71, 85.71, 94.29, 97.14, 85.71, 91.43, 80.0, 94.29, 100.0, 94.29, 88.57, 88.57, 91.43, 85.71, 94.29, 94.29, 85.71, 88.57, 91.43, 91.43, 91.43, 88.57, 88.57]\n",
      "2025/05/18 13:52:57 INFO dspy.teleprompt.mipro_optimizer_v2: Full eval scores so far: [91.67, 91.25, 91.67, 90.0, 90.0, 90.83, 90.0, 90.83]\n",
      "2025/05/18 13:52:57 INFO dspy.teleprompt.mipro_optimizer_v2: Best full score so far: 91.67\n",
      "2025/05/18 13:52:57 INFO dspy.teleprompt.mipro_optimizer_v2: ==========================================\n",
      "\n",
      "\n",
      "2025/05/18 13:52:57 INFO dspy.teleprompt.mipro_optimizer_v2: ===== Trial 49 / 70 - Full Evaluation =====\n",
      "2025/05/18 13:52:57 INFO dspy.teleprompt.mipro_optimizer_v2: Doing full eval on next top averaging program (Avg Score: 94.29) from minibatch trials...\n"
     ]
    },
    {
     "name": "stdout",
     "output_type": "stream",
     "text": [
      "\n",
      "Average Metric: 24.00 / 26 (92.3%):  11%|▊       | 26/240 [00:05<00:41,  5.11it/s]"
     ]
    },
    {
     "name": "stderr",
     "output_type": "stream",
     "text": [
      "2025/05/18 13:53:03 WARNING dspy.adapters.json_adapter: Failed to use structured output format. Falling back to JSON mode. Error: 'type' object is not iterable\n"
     ]
    },
    {
     "name": "stdout",
     "output_type": "stream",
     "text": [
      "Average Metric: 35.00 / 39 (89.7%):  16%|█▎      | 39/240 [00:09<00:57,  3.48it/s]"
     ]
    },
    {
     "name": "stderr",
     "output_type": "stream",
     "text": [
      "2025/05/18 13:53:07 WARNING dspy.adapters.json_adapter: Failed to use structured output format. Falling back to JSON mode. Error: 'type' object is not iterable\n"
     ]
    },
    {
     "name": "stdout",
     "output_type": "stream",
     "text": [
      "Average Metric: 57.00 / 62 (91.9%):  26%|██      | 62/240 [00:13<00:36,  4.82it/s]"
     ]
    },
    {
     "name": "stderr",
     "output_type": "stream",
     "text": [
      "2025/05/18 13:53:11 ERROR dspy.utils.parallelizer: Error for Example({'question': 'By the time Anne is two times as old as Emile, Emile will be six times as old as Maude. If Maude will be 8 years old, how old will Anne be?', 'thoughts': \"If Maude's age is 8 by the time Anne's age is four times Emile's age, Emile will be six times as old as Maude, which totals 6*8 = 48 years.\\nIf Emile's age is 48 years old by the time Anne's age is twice her number, Anne will be 2*48 = <<48*2=96>>96 years.\", 'answer': 96}) (input_keys={'question'}): Both structured output format and JSON mode failed. Please choose a model that supports `response_format` argument. Original error: Expected dict_keys(['reasoning', 'answer']) but got dict_keys(['reasoning']). Set `provide_traceback=True` for traceback.\n"
     ]
    },
    {
     "name": "stdout",
     "output_type": "stream",
     "text": [
      "Average Metric: 76.00 / 82 (92.7%):  35%|██▊     | 83/240 [00:18<00:31,  4.95it/s]"
     ]
    },
    {
     "name": "stderr",
     "output_type": "stream",
     "text": [
      "2025/05/18 13:53:16 WARNING dspy.adapters.json_adapter: Failed to use structured output format. Falling back to JSON mode. Error: 'type' object is not iterable\n"
     ]
    },
    {
     "name": "stdout",
     "output_type": "stream",
     "text": [
      "Average Metric: 133.00 / 151 (88.1%):  63%|███▏ | 152/240 [00:38<00:17,  5.02it/s]"
     ]
    },
    {
     "name": "stderr",
     "output_type": "stream",
     "text": [
      "2025/05/18 13:53:36 WARNING dspy.adapters.json_adapter: Failed to use structured output format. Falling back to JSON mode. Error: 'type' object is not iterable\n"
     ]
    },
    {
     "name": "stdout",
     "output_type": "stream",
     "text": [
      "Average Metric: 148.00 / 168 (88.1%):  70%|███▌ | 169/240 [00:44<00:22,  3.19it/s]"
     ]
    },
    {
     "name": "stderr",
     "output_type": "stream",
     "text": [
      "2025/05/18 13:53:41 WARNING dspy.adapters.json_adapter: Failed to use structured output format. Falling back to JSON mode. Error: 'type' object is not iterable\n"
     ]
    },
    {
     "name": "stdout",
     "output_type": "stream",
     "text": [
      "Average Metric: 161.00 / 181 (89.0%):  76%|███▊ | 182/240 [00:47<00:12,  4.58it/s]"
     ]
    },
    {
     "name": "stderr",
     "output_type": "stream",
     "text": [
      "2025/05/18 13:53:45 WARNING dspy.adapters.json_adapter: Failed to use structured output format. Falling back to JSON mode. Error: 'type' object is not iterable\n"
     ]
    },
    {
     "name": "stdout",
     "output_type": "stream",
     "text": [
      "Average Metric: 216.00 / 239 (90.4%): 100%|█████| 240/240 [01:09<00:00,  3.46it/s]"
     ]
    },
    {
     "name": "stderr",
     "output_type": "stream",
     "text": [
      "2025/05/18 13:54:06 INFO dspy.evaluate.evaluate: Average Metric: 216.0 / 240 (90.0%)\n",
      "2025/05/18 13:54:06 INFO dspy.teleprompt.mipro_optimizer_v2: Full eval scores so far: [91.67, 91.25, 91.67, 90.0, 90.0, 90.83, 90.0, 90.83, 90.0]\n",
      "2025/05/18 13:54:06 INFO dspy.teleprompt.mipro_optimizer_v2: Best full score so far: 91.67\n",
      "2025/05/18 13:54:06 INFO dspy.teleprompt.mipro_optimizer_v2: =======================\n",
      "2025/05/18 13:54:06 INFO dspy.teleprompt.mipro_optimizer_v2: \n",
      "\n",
      "2025/05/18 13:54:06 INFO dspy.teleprompt.mipro_optimizer_v2: == Trial 50 / 70 - Minibatch ==\n"
     ]
    },
    {
     "name": "stdout",
     "output_type": "stream",
     "text": [
      "\n",
      "Average Metric: 31.00 / 35 (88.6%): 100%|█████████| 35/35 [00:15<00:00,  2.23it/s]"
     ]
    },
    {
     "name": "stderr",
     "output_type": "stream",
     "text": [
      "2025/05/18 13:54:22 INFO dspy.evaluate.evaluate: Average Metric: 31 / 35 (88.6%)\n",
      "2025/05/18 13:54:22 INFO dspy.teleprompt.mipro_optimizer_v2: Score: 88.57 on minibatch of size 35 with parameters ['Predictor 0: Instruction 5', 'Predictor 1: Instruction 5', 'Predictor 2: Instruction 5', 'Predictor 3: Instruction 4'].\n",
      "2025/05/18 13:54:22 INFO dspy.teleprompt.mipro_optimizer_v2: Minibatch scores so far: [82.86, 82.86, 91.43, 88.57, 80.0, 80.0, 91.43, 91.43, 88.57, 97.14, 88.57, 88.57, 91.43, 91.43, 91.43, 100.0, 94.29, 85.71, 85.71, 94.29, 97.14, 85.71, 91.43, 80.0, 94.29, 100.0, 94.29, 88.57, 88.57, 91.43, 85.71, 94.29, 94.29, 85.71, 88.57, 91.43, 91.43, 91.43, 88.57, 88.57, 88.57]\n",
      "2025/05/18 13:54:22 INFO dspy.teleprompt.mipro_optimizer_v2: Full eval scores so far: [91.67, 91.25, 91.67, 90.0, 90.0, 90.83, 90.0, 90.83, 90.0]\n",
      "2025/05/18 13:54:22 INFO dspy.teleprompt.mipro_optimizer_v2: Best full score so far: 91.67\n",
      "2025/05/18 13:54:22 INFO dspy.teleprompt.mipro_optimizer_v2: ==========================================\n",
      "\n",
      "\n",
      "2025/05/18 13:54:22 INFO dspy.teleprompt.mipro_optimizer_v2: == Trial 51 / 70 - Minibatch ==\n",
      "2025/05/18 13:54:22 WARNING dspy.adapters.json_adapter: Failed to use structured output format. Falling back to JSON mode. Error: 'type' object is not iterable\n"
     ]
    },
    {
     "name": "stdout",
     "output_type": "stream",
     "text": [
      "\n",
      "Average Metric: 2.00 / 2 (100.0%):   3%|▎          | 1/35 [00:04<02:18,  4.08s/it]"
     ]
    },
    {
     "name": "stderr",
     "output_type": "stream",
     "text": [
      "2025/05/18 13:54:26 WARNING dspy.adapters.json_adapter: Failed to use structured output format. Falling back to JSON mode. Error: 'type' object is not iterable\n"
     ]
    },
    {
     "name": "stdout",
     "output_type": "stream",
     "text": [
      "Average Metric: 34.00 / 35 (97.1%): 100%|█████████| 35/35 [00:16<00:00,  2.06it/s]"
     ]
    },
    {
     "name": "stderr",
     "output_type": "stream",
     "text": [
      "2025/05/18 13:54:39 INFO dspy.evaluate.evaluate: Average Metric: 34 / 35 (97.1%)\n",
      "2025/05/18 13:54:39 INFO dspy.teleprompt.mipro_optimizer_v2: Score: 97.14 on minibatch of size 35 with parameters ['Predictor 0: Instruction 2', 'Predictor 1: Instruction 3', 'Predictor 2: Instruction 2', 'Predictor 3: Instruction 0'].\n",
      "2025/05/18 13:54:39 INFO dspy.teleprompt.mipro_optimizer_v2: Minibatch scores so far: [82.86, 82.86, 91.43, 88.57, 80.0, 80.0, 91.43, 91.43, 88.57, 97.14, 88.57, 88.57, 91.43, 91.43, 91.43, 100.0, 94.29, 85.71, 85.71, 94.29, 97.14, 85.71, 91.43, 80.0, 94.29, 100.0, 94.29, 88.57, 88.57, 91.43, 85.71, 94.29, 94.29, 85.71, 88.57, 91.43, 91.43, 91.43, 88.57, 88.57, 88.57, 97.14]\n",
      "2025/05/18 13:54:39 INFO dspy.teleprompt.mipro_optimizer_v2: Full eval scores so far: [91.67, 91.25, 91.67, 90.0, 90.0, 90.83, 90.0, 90.83, 90.0]\n",
      "2025/05/18 13:54:39 INFO dspy.teleprompt.mipro_optimizer_v2: Best full score so far: 91.67\n",
      "2025/05/18 13:54:39 INFO dspy.teleprompt.mipro_optimizer_v2: ==========================================\n",
      "\n",
      "\n",
      "2025/05/18 13:54:39 INFO dspy.teleprompt.mipro_optimizer_v2: == Trial 52 / 70 - Minibatch ==\n"
     ]
    },
    {
     "name": "stdout",
     "output_type": "stream",
     "text": [
      "\n",
      "Average Metric: 30.00 / 34 (88.2%):  97%|████████▋| 34/35 [00:10<00:00,  1.36it/s]"
     ]
    },
    {
     "name": "stderr",
     "output_type": "stream",
     "text": [
      "2025/05/18 13:54:52 WARNING dspy.adapters.json_adapter: Failed to use structured output format. Falling back to JSON mode. Error: 'type' object is not iterable\n"
     ]
    },
    {
     "name": "stdout",
     "output_type": "stream",
     "text": [
      "Average Metric: 30.00 / 35 (85.7%): 100%|█████████| 35/35 [00:19<00:00,  1.81it/s]"
     ]
    },
    {
     "name": "stderr",
     "output_type": "stream",
     "text": [
      "2025/05/18 13:54:59 INFO dspy.evaluate.evaluate: Average Metric: 30 / 35 (85.7%)\n",
      "2025/05/18 13:54:59 INFO dspy.teleprompt.mipro_optimizer_v2: Score: 85.71 on minibatch of size 35 with parameters ['Predictor 0: Instruction 2', 'Predictor 1: Instruction 3', 'Predictor 2: Instruction 1', 'Predictor 3: Instruction 0'].\n",
      "2025/05/18 13:54:59 INFO dspy.teleprompt.mipro_optimizer_v2: Minibatch scores so far: [82.86, 82.86, 91.43, 88.57, 80.0, 80.0, 91.43, 91.43, 88.57, 97.14, 88.57, 88.57, 91.43, 91.43, 91.43, 100.0, 94.29, 85.71, 85.71, 94.29, 97.14, 85.71, 91.43, 80.0, 94.29, 100.0, 94.29, 88.57, 88.57, 91.43, 85.71, 94.29, 94.29, 85.71, 88.57, 91.43, 91.43, 91.43, 88.57, 88.57, 88.57, 97.14, 85.71]\n",
      "2025/05/18 13:54:59 INFO dspy.teleprompt.mipro_optimizer_v2: Full eval scores so far: [91.67, 91.25, 91.67, 90.0, 90.0, 90.83, 90.0, 90.83, 90.0]\n",
      "2025/05/18 13:54:59 INFO dspy.teleprompt.mipro_optimizer_v2: Best full score so far: 91.67\n",
      "2025/05/18 13:54:59 INFO dspy.teleprompt.mipro_optimizer_v2: ==========================================\n",
      "\n",
      "\n",
      "2025/05/18 13:54:59 INFO dspy.teleprompt.mipro_optimizer_v2: == Trial 53 / 70 - Minibatch ==\n",
      "2025/05/18 13:54:59 WARNING dspy.adapters.json_adapter: Failed to use structured output format. Falling back to JSON mode. Error: 'type' object is not iterable\n"
     ]
    },
    {
     "name": "stdout",
     "output_type": "stream",
     "text": [
      "\n",
      "Average Metric: 7.00 / 7 (100.0%):  20%|██▏        | 7/35 [00:04<00:12,  2.17it/s]"
     ]
    },
    {
     "name": "stderr",
     "output_type": "stream",
     "text": [
      "2025/05/18 13:55:03 WARNING dspy.adapters.json_adapter: Failed to use structured output format. Falling back to JSON mode. Error: 'type' object is not iterable\n"
     ]
    },
    {
     "name": "stdout",
     "output_type": "stream",
     "text": [
      "Average Metric: 30.00 / 35 (85.7%): 100%|█████████| 35/35 [00:14<00:00,  2.42it/s]"
     ]
    },
    {
     "name": "stderr",
     "output_type": "stream",
     "text": [
      "2025/05/18 13:55:13 INFO dspy.evaluate.evaluate: Average Metric: 30 / 35 (85.7%)\n",
      "2025/05/18 13:55:13 INFO dspy.teleprompt.mipro_optimizer_v2: Score: 85.71 on minibatch of size 35 with parameters ['Predictor 0: Instruction 2', 'Predictor 1: Instruction 3', 'Predictor 2: Instruction 2', 'Predictor 3: Instruction 3'].\n",
      "2025/05/18 13:55:13 INFO dspy.teleprompt.mipro_optimizer_v2: Minibatch scores so far: [82.86, 82.86, 91.43, 88.57, 80.0, 80.0, 91.43, 91.43, 88.57, 97.14, 88.57, 88.57, 91.43, 91.43, 91.43, 100.0, 94.29, 85.71, 85.71, 94.29, 97.14, 85.71, 91.43, 80.0, 94.29, 100.0, 94.29, 88.57, 88.57, 91.43, 85.71, 94.29, 94.29, 85.71, 88.57, 91.43, 91.43, 91.43, 88.57, 88.57, 88.57, 97.14, 85.71, 85.71]\n",
      "2025/05/18 13:55:13 INFO dspy.teleprompt.mipro_optimizer_v2: Full eval scores so far: [91.67, 91.25, 91.67, 90.0, 90.0, 90.83, 90.0, 90.83, 90.0]\n",
      "2025/05/18 13:55:13 INFO dspy.teleprompt.mipro_optimizer_v2: Best full score so far: 91.67\n",
      "2025/05/18 13:55:13 INFO dspy.teleprompt.mipro_optimizer_v2: ==========================================\n",
      "\n",
      "\n",
      "2025/05/18 13:55:13 INFO dspy.teleprompt.mipro_optimizer_v2: == Trial 54 / 70 - Minibatch ==\n",
      "2025/05/18 13:55:13 WARNING dspy.adapters.json_adapter: Failed to use structured output format. Falling back to JSON mode. Error: 'type' object is not iterable\n"
     ]
    },
    {
     "name": "stdout",
     "output_type": "stream",
     "text": [
      "\n",
      "Average Metric: 30.00 / 35 (85.7%): 100%|█████████| 35/35 [00:12<00:00,  2.77it/s]"
     ]
    },
    {
     "name": "stderr",
     "output_type": "stream",
     "text": [
      "2025/05/18 13:55:26 INFO dspy.evaluate.evaluate: Average Metric: 30 / 35 (85.7%)\n",
      "2025/05/18 13:55:26 INFO dspy.teleprompt.mipro_optimizer_v2: Score: 85.71 on minibatch of size 35 with parameters ['Predictor 0: Instruction 2', 'Predictor 1: Instruction 3', 'Predictor 2: Instruction 2', 'Predictor 3: Instruction 0'].\n",
      "2025/05/18 13:55:26 INFO dspy.teleprompt.mipro_optimizer_v2: Minibatch scores so far: [82.86, 82.86, 91.43, 88.57, 80.0, 80.0, 91.43, 91.43, 88.57, 97.14, 88.57, 88.57, 91.43, 91.43, 91.43, 100.0, 94.29, 85.71, 85.71, 94.29, 97.14, 85.71, 91.43, 80.0, 94.29, 100.0, 94.29, 88.57, 88.57, 91.43, 85.71, 94.29, 94.29, 85.71, 88.57, 91.43, 91.43, 91.43, 88.57, 88.57, 88.57, 97.14, 85.71, 85.71, 85.71]\n",
      "2025/05/18 13:55:26 INFO dspy.teleprompt.mipro_optimizer_v2: Full eval scores so far: [91.67, 91.25, 91.67, 90.0, 90.0, 90.83, 90.0, 90.83, 90.0]\n",
      "2025/05/18 13:55:26 INFO dspy.teleprompt.mipro_optimizer_v2: Best full score so far: 91.67\n",
      "2025/05/18 13:55:26 INFO dspy.teleprompt.mipro_optimizer_v2: ==========================================\n",
      "\n",
      "\n",
      "2025/05/18 13:55:26 INFO dspy.teleprompt.mipro_optimizer_v2: ===== Trial 55 / 70 - Full Evaluation =====\n",
      "2025/05/18 13:55:26 INFO dspy.teleprompt.mipro_optimizer_v2: Doing full eval on next top averaging program (Avg Score: 94.29) from minibatch trials...\n",
      "2025/05/18 13:55:26 WARNING dspy.adapters.json_adapter: Failed to use structured output format. Falling back to JSON mode. Error: 'type' object is not iterable\n"
     ]
    },
    {
     "name": "stdout",
     "output_type": "stream",
     "text": [
      "\n",
      "Average Metric: 19.00 / 19 (100.0%):   8%|▌      | 18/240 [00:03<00:36,  6.11it/s]"
     ]
    },
    {
     "name": "stderr",
     "output_type": "stream",
     "text": [
      "2025/05/18 13:55:30 WARNING dspy.adapters.json_adapter: Failed to use structured output format. Falling back to JSON mode. Error: 'type' object is not iterable\n"
     ]
    },
    {
     "name": "stdout",
     "output_type": "stream",
     "text": [
      "Average Metric: 21.00 / 21 (100.0%):   8%|▌      | 20/240 [00:03<00:36,  6.11it/s]"
     ]
    },
    {
     "name": "stderr",
     "output_type": "stream",
     "text": [
      "2025/05/18 13:55:30 ERROR dspy.utils.parallelizer: Error for Example({'question': 'An aquarium holds an equal number of clownfish and blowfish. 26 of the blowfish stay in their own tank, and the remaining blowfish swim into a display tank.  An equal number of clownfish join the blowfish in the display tank, but then a third of these clownfish swim back into their own tank.  If the aquarium holds a combined total of 100 fish, how many clownfish are now in the display tank?', 'thoughts': 'There is an equal number of clownfish and blowfish, which means there are 100 fish / 2 = <<100/2=50>>50 blowfish.\\nSince some stay in their tanks, there are 50 blowfish – 26 blowfish = <<50-26=24>>24 blowfish in the display tank.\\nThere were the same amount of clownfish until 24 clownfish / 3 = <<24/3=8>>8 clownfish swam back to their own tank.\\nThis leaves 24 clownfish – 8 clownfish = <<24-8=16>>16 clownfish in the display tank.', 'answer': 16}) (input_keys={'question'}): Both structured output format and JSON mode failed. Please choose a model that supports `response_format` argument. Original error: Expected dict_keys(['reasoning', 'answer']) but got dict_keys(['reasoning']). Set `provide_traceback=True` for traceback.\n"
     ]
    },
    {
     "name": "stdout",
     "output_type": "stream",
     "text": [
      "Average Metric: 72.00 / 75 (96.0%):  31%|██▌     | 75/240 [00:11<00:21,  7.82it/s]"
     ]
    },
    {
     "name": "stderr",
     "output_type": "stream",
     "text": [
      "2025/05/18 13:55:38 WARNING dspy.adapters.json_adapter: Failed to use structured output format. Falling back to JSON mode. Error: 'type' object is not iterable\n"
     ]
    },
    {
     "name": "stdout",
     "output_type": "stream",
     "text": [
      "Average Metric: 148.00 / 164 (90.2%):  69%|███▍ | 165/240 [00:29<00:17,  4.36it/s]"
     ]
    },
    {
     "name": "stderr",
     "output_type": "stream",
     "text": [
      "2025/05/18 13:55:55 WARNING dspy.adapters.json_adapter: Failed to use structured output format. Falling back to JSON mode. Error: 'type' object is not iterable\n"
     ]
    },
    {
     "name": "stdout",
     "output_type": "stream",
     "text": [
      "Average Metric: 180.00 / 197 (91.4%):  82%|████▏| 198/240 [00:35<00:07,  5.40it/s]"
     ]
    },
    {
     "name": "stderr",
     "output_type": "stream",
     "text": [
      "2025/05/18 13:56:02 WARNING dspy.adapters.json_adapter: Failed to use structured output format. Falling back to JSON mode. Error: 'type' object is not iterable\n"
     ]
    },
    {
     "name": "stdout",
     "output_type": "stream",
     "text": [
      "Average Metric: 218.00 / 239 (91.2%): 100%|█████| 240/240 [00:46<00:00,  5.20it/s]"
     ]
    },
    {
     "name": "stderr",
     "output_type": "stream",
     "text": [
      "2025/05/18 13:56:12 INFO dspy.evaluate.evaluate: Average Metric: 218.0 / 240 (90.8%)\n",
      "2025/05/18 13:56:12 INFO dspy.teleprompt.mipro_optimizer_v2: Full eval scores so far: [91.67, 91.25, 91.67, 90.0, 90.0, 90.83, 90.0, 90.83, 90.0, 90.83]\n",
      "2025/05/18 13:56:12 INFO dspy.teleprompt.mipro_optimizer_v2: Best full score so far: 91.67\n",
      "2025/05/18 13:56:12 INFO dspy.teleprompt.mipro_optimizer_v2: ========================\n",
      "2025/05/18 13:56:12 INFO dspy.teleprompt.mipro_optimizer_v2: \n",
      "\n",
      "2025/05/18 13:56:12 INFO dspy.teleprompt.mipro_optimizer_v2: == Trial 56 / 70 - Minibatch ==\n"
     ]
    },
    {
     "name": "stdout",
     "output_type": "stream",
     "text": [
      "\n",
      "Average Metric: 4.00 / 4 (100.0%):  11%|█▎         | 4/35 [00:01<00:14,  2.09it/s]"
     ]
    },
    {
     "name": "stderr",
     "output_type": "stream",
     "text": [
      "2025/05/18 13:56:14 WARNING dspy.adapters.json_adapter: Failed to use structured output format. Falling back to JSON mode. Error: 'type' object is not iterable\n"
     ]
    },
    {
     "name": "stdout",
     "output_type": "stream",
     "text": [
      "Average Metric: 10.00 / 10 (100.0%):  29%|██▎     | 10/35 [00:02<00:03,  7.37it/s]"
     ]
    },
    {
     "name": "stderr",
     "output_type": "stream",
     "text": [
      "2025/05/18 13:56:15 WARNING dspy.adapters.json_adapter: Failed to use structured output format. Falling back to JSON mode. Error: 'type' object is not iterable\n"
     ]
    },
    {
     "name": "stdout",
     "output_type": "stream",
     "text": [
      "Average Metric: 11.00 / 11 (100.0%):  29%|██▎     | 10/35 [00:02<00:03,  7.37it/s]"
     ]
    },
    {
     "name": "stderr",
     "output_type": "stream",
     "text": [
      "2025/05/18 13:56:15 ERROR dspy.utils.parallelizer: Error for Example({'question': 'Jim collects model cars, and he has 301 models total.  Jim has 4 times as many Buicks as Fords, and 3 more than twice the number of Fords than Chevys.  How many Buicks does Jim have?', 'thoughts': 'Let x represent the number of Chevys\\nFords:3+2x\\nBuicks:4(3+2x)=12+8x\\nTotal:x+3+2x+12+8x=301\\n11x+15=301\\n11x=286\\nx=<<26=26>>26\\nBuicks:12+8(26)=220', 'answer': 220}) (input_keys={'question'}): Both structured output format and JSON mode failed. Please choose a model that supports `response_format` argument. Original error: Expected dict_keys(['reasoning', 'answer']) but got dict_keys(['reasoning']). Set `provide_traceback=True` for traceback.\n"
     ]
    },
    {
     "name": "stdout",
     "output_type": "stream",
     "text": [
      "Average Metric: 32.00 / 33 (97.0%):  97%|████████▋| 34/35 [00:05<00:00,  6.60it/s]"
     ]
    },
    {
     "name": "stderr",
     "output_type": "stream",
     "text": [
      "2025/05/18 13:56:22 WARNING dspy.adapters.json_adapter: Failed to use structured output format. Falling back to JSON mode. Error: 'type' object is not iterable\n"
     ]
    },
    {
     "name": "stdout",
     "output_type": "stream",
     "text": [
      "Average Metric: 33.00 / 34 (97.1%): 100%|█████████| 35/35 [00:15<00:00,  2.24it/s]"
     ]
    },
    {
     "name": "stderr",
     "output_type": "stream",
     "text": [
      "2025/05/18 13:56:28 INFO dspy.evaluate.evaluate: Average Metric: 33.0 / 35 (94.3%)\n",
      "2025/05/18 13:56:28 INFO dspy.teleprompt.mipro_optimizer_v2: Score: 94.29 on minibatch of size 35 with parameters ['Predictor 0: Instruction 0', 'Predictor 1: Instruction 0', 'Predictor 2: Instruction 1', 'Predictor 3: Instruction 0'].\n",
      "2025/05/18 13:56:28 INFO dspy.teleprompt.mipro_optimizer_v2: Minibatch scores so far: [82.86, 82.86, 91.43, 88.57, 80.0, 80.0, 91.43, 91.43, 88.57, 97.14, 88.57, 88.57, 91.43, 91.43, 91.43, 100.0, 94.29, 85.71, 85.71, 94.29, 97.14, 85.71, 91.43, 80.0, 94.29, 100.0, 94.29, 88.57, 88.57, 91.43, 85.71, 94.29, 94.29, 85.71, 88.57, 91.43, 91.43, 91.43, 88.57, 88.57, 88.57, 97.14, 85.71, 85.71, 85.71, 94.29]\n",
      "2025/05/18 13:56:28 INFO dspy.teleprompt.mipro_optimizer_v2: Full eval scores so far: [91.67, 91.25, 91.67, 90.0, 90.0, 90.83, 90.0, 90.83, 90.0, 90.83]\n",
      "2025/05/18 13:56:28 INFO dspy.teleprompt.mipro_optimizer_v2: Best full score so far: 91.67\n",
      "2025/05/18 13:56:28 INFO dspy.teleprompt.mipro_optimizer_v2: ==========================================\n",
      "\n",
      "\n",
      "2025/05/18 13:56:28 INFO dspy.teleprompt.mipro_optimizer_v2: == Trial 57 / 70 - Minibatch ==\n",
      "2025/05/18 13:56:28 WARNING dspy.adapters.json_adapter: Failed to use structured output format. Falling back to JSON mode. Error: 'type' object is not iterable\n",
      "2025/05/18 13:56:28 WARNING dspy.adapters.json_adapter: Failed to use structured output format. Falling back to JSON mode. Error: 'type' object is not iterable\n"
     ]
    },
    {
     "name": "stdout",
     "output_type": "stream",
     "text": [
      "\n",
      "Average Metric: 6.00 / 8 (75.0%):  20%|██▍         | 7/35 [00:03<00:05,  4.80it/s]"
     ]
    },
    {
     "name": "stderr",
     "output_type": "stream",
     "text": [
      "2025/05/18 13:56:31 WARNING dspy.adapters.json_adapter: Failed to use structured output format. Falling back to JSON mode. Error: 'type' object is not iterable\n"
     ]
    },
    {
     "name": "stdout",
     "output_type": "stream",
     "text": [
      "Average Metric: 31.00 / 35 (88.6%): 100%|█████████| 35/35 [00:09<00:00,  3.62it/s]"
     ]
    },
    {
     "name": "stderr",
     "output_type": "stream",
     "text": [
      "2025/05/18 13:56:37 INFO dspy.evaluate.evaluate: Average Metric: 31 / 35 (88.6%)\n",
      "2025/05/18 13:56:37 INFO dspy.teleprompt.mipro_optimizer_v2: Score: 88.57 on minibatch of size 35 with parameters ['Predictor 0: Instruction 5', 'Predictor 1: Instruction 0', 'Predictor 2: Instruction 2', 'Predictor 3: Instruction 4'].\n",
      "2025/05/18 13:56:37 INFO dspy.teleprompt.mipro_optimizer_v2: Minibatch scores so far: [82.86, 82.86, 91.43, 88.57, 80.0, 80.0, 91.43, 91.43, 88.57, 97.14, 88.57, 88.57, 91.43, 91.43, 91.43, 100.0, 94.29, 85.71, 85.71, 94.29, 97.14, 85.71, 91.43, 80.0, 94.29, 100.0, 94.29, 88.57, 88.57, 91.43, 85.71, 94.29, 94.29, 85.71, 88.57, 91.43, 91.43, 91.43, 88.57, 88.57, 88.57, 97.14, 85.71, 85.71, 85.71, 94.29, 88.57]\n",
      "2025/05/18 13:56:37 INFO dspy.teleprompt.mipro_optimizer_v2: Full eval scores so far: [91.67, 91.25, 91.67, 90.0, 90.0, 90.83, 90.0, 90.83, 90.0, 90.83]\n",
      "2025/05/18 13:56:37 INFO dspy.teleprompt.mipro_optimizer_v2: Best full score so far: 91.67\n",
      "2025/05/18 13:56:37 INFO dspy.teleprompt.mipro_optimizer_v2: ==========================================\n",
      "\n",
      "\n",
      "2025/05/18 13:56:37 INFO dspy.teleprompt.mipro_optimizer_v2: == Trial 58 / 70 - Minibatch ==\n",
      "2025/05/18 13:56:37 WARNING dspy.adapters.json_adapter: Failed to use structured output format. Falling back to JSON mode. Error: 'type' object is not iterable\n"
     ]
    },
    {
     "name": "stdout",
     "output_type": "stream",
     "text": [
      "\n",
      "Average Metric: 32.00 / 35 (91.4%): 100%|█████████| 35/35 [00:16<00:00,  2.15it/s]"
     ]
    },
    {
     "name": "stderr",
     "output_type": "stream",
     "text": [
      "2025/05/18 13:56:54 INFO dspy.evaluate.evaluate: Average Metric: 32 / 35 (91.4%)\n",
      "2025/05/18 13:56:54 INFO dspy.teleprompt.mipro_optimizer_v2: Score: 91.43 on minibatch of size 35 with parameters ['Predictor 0: Instruction 4', 'Predictor 1: Instruction 5', 'Predictor 2: Instruction 0', 'Predictor 3: Instruction 5'].\n",
      "2025/05/18 13:56:54 INFO dspy.teleprompt.mipro_optimizer_v2: Minibatch scores so far: [82.86, 82.86, 91.43, 88.57, 80.0, 80.0, 91.43, 91.43, 88.57, 97.14, 88.57, 88.57, 91.43, 91.43, 91.43, 100.0, 94.29, 85.71, 85.71, 94.29, 97.14, 85.71, 91.43, 80.0, 94.29, 100.0, 94.29, 88.57, 88.57, 91.43, 85.71, 94.29, 94.29, 85.71, 88.57, 91.43, 91.43, 91.43, 88.57, 88.57, 88.57, 97.14, 85.71, 85.71, 85.71, 94.29, 88.57, 91.43]\n",
      "2025/05/18 13:56:54 INFO dspy.teleprompt.mipro_optimizer_v2: Full eval scores so far: [91.67, 91.25, 91.67, 90.0, 90.0, 90.83, 90.0, 90.83, 90.0, 90.83]\n",
      "2025/05/18 13:56:54 INFO dspy.teleprompt.mipro_optimizer_v2: Best full score so far: 91.67\n",
      "2025/05/18 13:56:54 INFO dspy.teleprompt.mipro_optimizer_v2: ==========================================\n",
      "\n",
      "\n",
      "2025/05/18 13:56:54 INFO dspy.teleprompt.mipro_optimizer_v2: == Trial 59 / 70 - Minibatch ==\n",
      "2025/05/18 13:56:54 WARNING dspy.adapters.json_adapter: Failed to use structured output format. Falling back to JSON mode. Error: 'type' object is not iterable\n"
     ]
    },
    {
     "name": "stdout",
     "output_type": "stream",
     "text": [
      "\n",
      "Average Metric: 30.00 / 35 (85.7%): 100%|█████████| 35/35 [00:10<00:00,  3.44it/s]"
     ]
    },
    {
     "name": "stderr",
     "output_type": "stream",
     "text": [
      "2025/05/18 13:57:04 INFO dspy.evaluate.evaluate: Average Metric: 30 / 35 (85.7%)\n",
      "2025/05/18 13:57:04 INFO dspy.teleprompt.mipro_optimizer_v2: Score: 85.71 on minibatch of size 35 with parameters ['Predictor 0: Instruction 5', 'Predictor 1: Instruction 1', 'Predictor 2: Instruction 5', 'Predictor 3: Instruction 2'].\n",
      "2025/05/18 13:57:04 INFO dspy.teleprompt.mipro_optimizer_v2: Minibatch scores so far: [82.86, 82.86, 91.43, 88.57, 80.0, 80.0, 91.43, 91.43, 88.57, 97.14, 88.57, 88.57, 91.43, 91.43, 91.43, 100.0, 94.29, 85.71, 85.71, 94.29, 97.14, 85.71, 91.43, 80.0, 94.29, 100.0, 94.29, 88.57, 88.57, 91.43, 85.71, 94.29, 94.29, 85.71, 88.57, 91.43, 91.43, 91.43, 88.57, 88.57, 88.57, 97.14, 85.71, 85.71, 85.71, 94.29, 88.57, 91.43, 85.71]\n",
      "2025/05/18 13:57:04 INFO dspy.teleprompt.mipro_optimizer_v2: Full eval scores so far: [91.67, 91.25, 91.67, 90.0, 90.0, 90.83, 90.0, 90.83, 90.0, 90.83]\n",
      "2025/05/18 13:57:04 INFO dspy.teleprompt.mipro_optimizer_v2: Best full score so far: 91.67\n",
      "2025/05/18 13:57:04 INFO dspy.teleprompt.mipro_optimizer_v2: ==========================================\n",
      "\n",
      "\n",
      "2025/05/18 13:57:04 INFO dspy.teleprompt.mipro_optimizer_v2: == Trial 60 / 70 - Minibatch ==\n"
     ]
    },
    {
     "name": "stdout",
     "output_type": "stream",
     "text": [
      "\n"
     ]
    },
    {
     "name": "stderr",
     "output_type": "stream",
     "text": [
      "2025/05/18 13:57:04 WARNING dspy.adapters.json_adapter: Failed to use structured output format. Falling back to JSON mode. Error: 'type' object is not iterable\n"
     ]
    },
    {
     "name": "stdout",
     "output_type": "stream",
     "text": [
      "Average Metric: 5.00 / 5 (100.0%):  11%|█▏        | 4/35 [00:00<00:00, 210.23it/s]"
     ]
    },
    {
     "name": "stderr",
     "output_type": "stream",
     "text": [
      "2025/05/18 13:57:04 ERROR dspy.utils.parallelizer: Error for Example({'question': 'Jim collects model cars, and he has 301 models total.  Jim has 4 times as many Buicks as Fords, and 3 more than twice the number of Fords than Chevys.  How many Buicks does Jim have?', 'thoughts': 'Let x represent the number of Chevys\\nFords:3+2x\\nBuicks:4(3+2x)=12+8x\\nTotal:x+3+2x+12+8x=301\\n11x+15=301\\n11x=286\\nx=<<26=26>>26\\nBuicks:12+8(26)=220', 'answer': 220}) (input_keys={'question'}): Both structured output format and JSON mode failed. Please choose a model that supports `response_format` argument. Original error: Expected dict_keys(['reasoning', 'answer']) but got dict_keys(['reasoning']). Set `provide_traceback=True` for traceback.\n"
     ]
    },
    {
     "name": "stdout",
     "output_type": "stream",
     "text": [
      "Average Metric: 30.00 / 34 (88.2%): 100%|█████████| 35/35 [00:06<00:00,  5.45it/s]"
     ]
    },
    {
     "name": "stderr",
     "output_type": "stream",
     "text": [
      "2025/05/18 13:57:10 INFO dspy.evaluate.evaluate: Average Metric: 30.0 / 35 (85.7%)\n",
      "2025/05/18 13:57:10 INFO dspy.teleprompt.mipro_optimizer_v2: Score: 85.71 on minibatch of size 35 with parameters ['Predictor 0: Instruction 0', 'Predictor 1: Instruction 2', 'Predictor 2: Instruction 2', 'Predictor 3: Instruction 0'].\n",
      "2025/05/18 13:57:10 INFO dspy.teleprompt.mipro_optimizer_v2: Minibatch scores so far: [82.86, 82.86, 91.43, 88.57, 80.0, 80.0, 91.43, 91.43, 88.57, 97.14, 88.57, 88.57, 91.43, 91.43, 91.43, 100.0, 94.29, 85.71, 85.71, 94.29, 97.14, 85.71, 91.43, 80.0, 94.29, 100.0, 94.29, 88.57, 88.57, 91.43, 85.71, 94.29, 94.29, 85.71, 88.57, 91.43, 91.43, 91.43, 88.57, 88.57, 88.57, 97.14, 85.71, 85.71, 85.71, 94.29, 88.57, 91.43, 85.71, 85.71]\n",
      "2025/05/18 13:57:10 INFO dspy.teleprompt.mipro_optimizer_v2: Full eval scores so far: [91.67, 91.25, 91.67, 90.0, 90.0, 90.83, 90.0, 90.83, 90.0, 90.83]\n",
      "2025/05/18 13:57:10 INFO dspy.teleprompt.mipro_optimizer_v2: Best full score so far: 91.67\n",
      "2025/05/18 13:57:10 INFO dspy.teleprompt.mipro_optimizer_v2: ==========================================\n",
      "\n",
      "\n",
      "2025/05/18 13:57:10 INFO dspy.teleprompt.mipro_optimizer_v2: ===== Trial 61 / 70 - Full Evaluation =====\n",
      "2025/05/18 13:57:10 INFO dspy.teleprompt.mipro_optimizer_v2: Doing full eval on next top averaging program (Avg Score: 94.29) from minibatch trials...\n",
      "2025/05/18 13:57:10 WARNING dspy.adapters.json_adapter: Failed to use structured output format. Falling back to JSON mode. Error: 'type' object is not iterable\n",
      "2025/05/18 13:57:10 WARNING dspy.adapters.json_adapter: Failed to use structured output format. Falling back to JSON mode. Error: 'type' object is not iterable\n"
     ]
    },
    {
     "name": "stdout",
     "output_type": "stream",
     "text": [
      "\n",
      "Average Metric: 49.00 / 53 (92.5%):  22%|█▊      | 53/240 [00:05<00:15, 12.20it/s]"
     ]
    },
    {
     "name": "stderr",
     "output_type": "stream",
     "text": [
      "2025/05/18 13:57:16 WARNING dspy.adapters.json_adapter: Failed to use structured output format. Falling back to JSON mode. Error: 'type' object is not iterable\n"
     ]
    },
    {
     "name": "stdout",
     "output_type": "stream",
     "text": [
      "Average Metric: 50.00 / 54 (92.6%):  22%|█▊      | 53/240 [00:05<00:15, 12.20it/s]"
     ]
    },
    {
     "name": "stderr",
     "output_type": "stream",
     "text": [
      "2025/05/18 13:57:16 ERROR dspy.utils.parallelizer: Error for Example({'question': 'Jim collects model cars, and he has 301 models total.  Jim has 4 times as many Buicks as Fords, and 3 more than twice the number of Fords than Chevys.  How many Buicks does Jim have?', 'thoughts': 'Let x represent the number of Chevys\\nFords:3+2x\\nBuicks:4(3+2x)=12+8x\\nTotal:x+3+2x+12+8x=301\\n11x+15=301\\n11x=286\\nx=<<26=26>>26\\nBuicks:12+8(26)=220', 'answer': 220}) (input_keys={'question'}): Both structured output format and JSON mode failed. Please choose a model that supports `response_format` argument. Original error: Expected dict_keys(['reasoning', 'answer']) but got dict_keys(['reasoning']). Set `provide_traceback=True` for traceback.\n"
     ]
    },
    {
     "name": "stdout",
     "output_type": "stream",
     "text": [
      "Average Metric: 96.00 / 102 (94.1%):  42%|██▌   | 102/240 [00:11<00:20,  6.84it/s]"
     ]
    },
    {
     "name": "stderr",
     "output_type": "stream",
     "text": [
      "2025/05/18 13:57:22 WARNING dspy.adapters.json_adapter: Failed to use structured output format. Falling back to JSON mode. Error: 'type' object is not iterable\n"
     ]
    },
    {
     "name": "stdout",
     "output_type": "stream",
     "text": [
      "Average Metric: 221.00 / 239 (92.5%): 100%|█████| 240/240 [00:28<00:00,  8.38it/s]"
     ]
    },
    {
     "name": "stderr",
     "output_type": "stream",
     "text": [
      "2025/05/18 13:57:39 INFO dspy.evaluate.evaluate: Average Metric: 221.0 / 240 (92.1%)\n",
      "2025/05/18 13:57:39 INFO dspy.teleprompt.mipro_optimizer_v2: \u001b[92mNew best full eval score!\u001b[0m Score: 92.08\n",
      "2025/05/18 13:57:39 INFO dspy.teleprompt.mipro_optimizer_v2: Full eval scores so far: [91.67, 91.25, 91.67, 90.0, 90.0, 90.83, 90.0, 90.83, 90.0, 90.83, 92.08]\n",
      "2025/05/18 13:57:39 INFO dspy.teleprompt.mipro_optimizer_v2: Best full score so far: 92.08\n",
      "2025/05/18 13:57:39 INFO dspy.teleprompt.mipro_optimizer_v2: ========================\n",
      "2025/05/18 13:57:39 INFO dspy.teleprompt.mipro_optimizer_v2: \n",
      "\n",
      "2025/05/18 13:57:39 INFO dspy.teleprompt.mipro_optimizer_v2: == Trial 62 / 70 - Minibatch ==\n"
     ]
    },
    {
     "name": "stdout",
     "output_type": "stream",
     "text": [
      "\n",
      "Average Metric: 1.00 / 1 (100.0%):   3%|▎          | 1/35 [00:02<01:29,  2.63s/it]"
     ]
    },
    {
     "name": "stderr",
     "output_type": "stream",
     "text": [
      "2025/05/18 13:57:42 WARNING dspy.adapters.json_adapter: Failed to use structured output format. Falling back to JSON mode. Error: 'type' object is not iterable\n"
     ]
    },
    {
     "name": "stdout",
     "output_type": "stream",
     "text": [
      "Average Metric: 14.00 / 15 (93.3%):  43%|███▊     | 15/35 [00:05<00:03,  5.81it/s]"
     ]
    },
    {
     "name": "stderr",
     "output_type": "stream",
     "text": [
      "2025/05/18 13:57:44 WARNING dspy.adapters.json_adapter: Failed to use structured output format. Falling back to JSON mode. Error: 'type' object is not iterable\n"
     ]
    },
    {
     "name": "stdout",
     "output_type": "stream",
     "text": [
      "Average Metric: 33.00 / 35 (94.3%): 100%|█████████| 35/35 [00:10<00:00,  3.35it/s]"
     ]
    },
    {
     "name": "stderr",
     "output_type": "stream",
     "text": [
      "2025/05/18 13:57:50 INFO dspy.evaluate.evaluate: Average Metric: 33 / 35 (94.3%)\n",
      "2025/05/18 13:57:50 INFO dspy.teleprompt.mipro_optimizer_v2: Score: 94.29 on minibatch of size 35 with parameters ['Predictor 0: Instruction 5', 'Predictor 1: Instruction 4', 'Predictor 2: Instruction 4', 'Predictor 3: Instruction 5'].\n",
      "2025/05/18 13:57:50 INFO dspy.teleprompt.mipro_optimizer_v2: Minibatch scores so far: [82.86, 82.86, 91.43, 88.57, 80.0, 80.0, 91.43, 91.43, 88.57, 97.14, 88.57, 88.57, 91.43, 91.43, 91.43, 100.0, 94.29, 85.71, 85.71, 94.29, 97.14, 85.71, 91.43, 80.0, 94.29, 100.0, 94.29, 88.57, 88.57, 91.43, 85.71, 94.29, 94.29, 85.71, 88.57, 91.43, 91.43, 91.43, 88.57, 88.57, 88.57, 97.14, 85.71, 85.71, 85.71, 94.29, 88.57, 91.43, 85.71, 85.71, 94.29]\n",
      "2025/05/18 13:57:50 INFO dspy.teleprompt.mipro_optimizer_v2: Full eval scores so far: [91.67, 91.25, 91.67, 90.0, 90.0, 90.83, 90.0, 90.83, 90.0, 90.83, 92.08]\n",
      "2025/05/18 13:57:50 INFO dspy.teleprompt.mipro_optimizer_v2: Best full score so far: 92.08\n",
      "2025/05/18 13:57:50 INFO dspy.teleprompt.mipro_optimizer_v2: ==========================================\n",
      "\n",
      "\n",
      "2025/05/18 13:57:50 INFO dspy.teleprompt.mipro_optimizer_v2: == Trial 63 / 70 - Minibatch ==\n",
      "2025/05/18 13:57:50 WARNING dspy.adapters.json_adapter: Failed to use structured output format. Falling back to JSON mode. Error: 'type' object is not iterable\n"
     ]
    },
    {
     "name": "stdout",
     "output_type": "stream",
     "text": [
      "\n",
      "Average Metric: 30.00 / 35 (85.7%): 100%|█████████| 35/35 [00:11<00:00,  3.06it/s]"
     ]
    },
    {
     "name": "stderr",
     "output_type": "stream",
     "text": [
      "2025/05/18 13:58:01 INFO dspy.evaluate.evaluate: Average Metric: 30 / 35 (85.7%)\n",
      "2025/05/18 13:58:01 INFO dspy.teleprompt.mipro_optimizer_v2: Score: 85.71 on minibatch of size 35 with parameters ['Predictor 0: Instruction 2', 'Predictor 1: Instruction 0', 'Predictor 2: Instruction 3', 'Predictor 3: Instruction 0'].\n",
      "2025/05/18 13:58:01 INFO dspy.teleprompt.mipro_optimizer_v2: Minibatch scores so far: [82.86, 82.86, 91.43, 88.57, 80.0, 80.0, 91.43, 91.43, 88.57, 97.14, 88.57, 88.57, 91.43, 91.43, 91.43, 100.0, 94.29, 85.71, 85.71, 94.29, 97.14, 85.71, 91.43, 80.0, 94.29, 100.0, 94.29, 88.57, 88.57, 91.43, 85.71, 94.29, 94.29, 85.71, 88.57, 91.43, 91.43, 91.43, 88.57, 88.57, 88.57, 97.14, 85.71, 85.71, 85.71, 94.29, 88.57, 91.43, 85.71, 85.71, 94.29, 85.71]\n",
      "2025/05/18 13:58:01 INFO dspy.teleprompt.mipro_optimizer_v2: Full eval scores so far: [91.67, 91.25, 91.67, 90.0, 90.0, 90.83, 90.0, 90.83, 90.0, 90.83, 92.08]\n",
      "2025/05/18 13:58:01 INFO dspy.teleprompt.mipro_optimizer_v2: Best full score so far: 92.08\n",
      "2025/05/18 13:58:01 INFO dspy.teleprompt.mipro_optimizer_v2: ==========================================\n",
      "\n",
      "\n",
      "2025/05/18 13:58:01 INFO dspy.teleprompt.mipro_optimizer_v2: == Trial 64 / 70 - Minibatch ==\n"
     ]
    },
    {
     "name": "stdout",
     "output_type": "stream",
     "text": [
      "\n",
      "Average Metric: 32.00 / 35 (91.4%): 100%|█████████| 35/35 [00:12<00:00,  2.87it/s]"
     ]
    },
    {
     "name": "stderr",
     "output_type": "stream",
     "text": [
      "2025/05/18 13:58:13 INFO dspy.evaluate.evaluate: Average Metric: 32 / 35 (91.4%)\n",
      "2025/05/18 13:58:13 INFO dspy.teleprompt.mipro_optimizer_v2: Score: 91.43 on minibatch of size 35 with parameters ['Predictor 0: Instruction 2', 'Predictor 1: Instruction 5', 'Predictor 2: Instruction 1', 'Predictor 3: Instruction 5'].\n",
      "2025/05/18 13:58:13 INFO dspy.teleprompt.mipro_optimizer_v2: Minibatch scores so far: [82.86, 82.86, 91.43, 88.57, 80.0, 80.0, 91.43, 91.43, 88.57, 97.14, 88.57, 88.57, 91.43, 91.43, 91.43, 100.0, 94.29, 85.71, 85.71, 94.29, 97.14, 85.71, 91.43, 80.0, 94.29, 100.0, 94.29, 88.57, 88.57, 91.43, 85.71, 94.29, 94.29, 85.71, 88.57, 91.43, 91.43, 91.43, 88.57, 88.57, 88.57, 97.14, 85.71, 85.71, 85.71, 94.29, 88.57, 91.43, 85.71, 85.71, 94.29, 85.71, 91.43]\n",
      "2025/05/18 13:58:13 INFO dspy.teleprompt.mipro_optimizer_v2: Full eval scores so far: [91.67, 91.25, 91.67, 90.0, 90.0, 90.83, 90.0, 90.83, 90.0, 90.83, 92.08]\n",
      "2025/05/18 13:58:13 INFO dspy.teleprompt.mipro_optimizer_v2: Best full score so far: 92.08\n",
      "2025/05/18 13:58:13 INFO dspy.teleprompt.mipro_optimizer_v2: ==========================================\n",
      "\n",
      "\n",
      "2025/05/18 13:58:13 INFO dspy.teleprompt.mipro_optimizer_v2: == Trial 65 / 70 - Minibatch ==\n"
     ]
    },
    {
     "name": "stdout",
     "output_type": "stream",
     "text": [
      "\n",
      "Average Metric: 27.00 / 35 (77.1%): 100%|█████████| 35/35 [00:07<00:00,  4.91it/s]"
     ]
    },
    {
     "name": "stderr",
     "output_type": "stream",
     "text": [
      "2025/05/18 13:58:21 INFO dspy.evaluate.evaluate: Average Metric: 27 / 35 (77.1%)\n",
      "2025/05/18 13:58:21 INFO dspy.teleprompt.mipro_optimizer_v2: Score: 77.14 on minibatch of size 35 with parameters ['Predictor 0: Instruction 5', 'Predictor 1: Instruction 0', 'Predictor 2: Instruction 3', 'Predictor 3: Instruction 5'].\n",
      "2025/05/18 13:58:21 INFO dspy.teleprompt.mipro_optimizer_v2: Minibatch scores so far: [82.86, 82.86, 91.43, 88.57, 80.0, 80.0, 91.43, 91.43, 88.57, 97.14, 88.57, 88.57, 91.43, 91.43, 91.43, 100.0, 94.29, 85.71, 85.71, 94.29, 97.14, 85.71, 91.43, 80.0, 94.29, 100.0, 94.29, 88.57, 88.57, 91.43, 85.71, 94.29, 94.29, 85.71, 88.57, 91.43, 91.43, 91.43, 88.57, 88.57, 88.57, 97.14, 85.71, 85.71, 85.71, 94.29, 88.57, 91.43, 85.71, 85.71, 94.29, 85.71, 91.43, 77.14]\n",
      "2025/05/18 13:58:21 INFO dspy.teleprompt.mipro_optimizer_v2: Full eval scores so far: [91.67, 91.25, 91.67, 90.0, 90.0, 90.83, 90.0, 90.83, 90.0, 90.83, 92.08]\n",
      "2025/05/18 13:58:21 INFO dspy.teleprompt.mipro_optimizer_v2: Best full score so far: 92.08\n",
      "2025/05/18 13:58:21 INFO dspy.teleprompt.mipro_optimizer_v2: ==========================================\n",
      "\n",
      "\n",
      "2025/05/18 13:58:21 INFO dspy.teleprompt.mipro_optimizer_v2: == Trial 66 / 70 - Minibatch ==\n",
      "2025/05/18 13:58:21 WARNING dspy.adapters.json_adapter: Failed to use structured output format. Falling back to JSON mode. Error: 'type' object is not iterable\n",
      "2025/05/18 13:58:21 WARNING dspy.adapters.json_adapter: Failed to use structured output format. Falling back to JSON mode. Error: 'type' object is not iterable\n"
     ]
    },
    {
     "name": "stdout",
     "output_type": "stream",
     "text": [
      "\n",
      "Average Metric: 29.00 / 35 (82.9%): 100%|█████████| 35/35 [00:11<00:00,  3.14it/s]"
     ]
    },
    {
     "name": "stderr",
     "output_type": "stream",
     "text": [
      "2025/05/18 13:58:32 INFO dspy.evaluate.evaluate: Average Metric: 29 / 35 (82.9%)\n",
      "2025/05/18 13:58:32 INFO dspy.teleprompt.mipro_optimizer_v2: Score: 82.86 on minibatch of size 35 with parameters ['Predictor 0: Instruction 2', 'Predictor 1: Instruction 4', 'Predictor 2: Instruction 5', 'Predictor 3: Instruction 5'].\n",
      "2025/05/18 13:58:32 INFO dspy.teleprompt.mipro_optimizer_v2: Minibatch scores so far: [82.86, 82.86, 91.43, 88.57, 80.0, 80.0, 91.43, 91.43, 88.57, 97.14, 88.57, 88.57, 91.43, 91.43, 91.43, 100.0, 94.29, 85.71, 85.71, 94.29, 97.14, 85.71, 91.43, 80.0, 94.29, 100.0, 94.29, 88.57, 88.57, 91.43, 85.71, 94.29, 94.29, 85.71, 88.57, 91.43, 91.43, 91.43, 88.57, 88.57, 88.57, 97.14, 85.71, 85.71, 85.71, 94.29, 88.57, 91.43, 85.71, 85.71, 94.29, 85.71, 91.43, 77.14, 82.86]\n",
      "2025/05/18 13:58:32 INFO dspy.teleprompt.mipro_optimizer_v2: Full eval scores so far: [91.67, 91.25, 91.67, 90.0, 90.0, 90.83, 90.0, 90.83, 90.0, 90.83, 92.08]\n",
      "2025/05/18 13:58:32 INFO dspy.teleprompt.mipro_optimizer_v2: Best full score so far: 92.08\n",
      "2025/05/18 13:58:32 INFO dspy.teleprompt.mipro_optimizer_v2: ==========================================\n",
      "\n",
      "\n",
      "2025/05/18 13:58:32 INFO dspy.teleprompt.mipro_optimizer_v2: ===== Trial 67 / 70 - Full Evaluation =====\n",
      "2025/05/18 13:58:32 INFO dspy.teleprompt.mipro_optimizer_v2: Doing full eval on next top averaging program (Avg Score: 94.29) from minibatch trials...\n",
      "2025/05/18 13:58:32 WARNING dspy.adapters.json_adapter: Failed to use structured output format. Falling back to JSON mode. Error: 'type' object is not iterable\n"
     ]
    },
    {
     "name": "stdout",
     "output_type": "stream",
     "text": [
      "\n",
      "Average Metric: 18.00 / 19 (94.7%):   8%|▋       | 19/240 [00:04<00:46,  4.79it/s]"
     ]
    },
    {
     "name": "stderr",
     "output_type": "stream",
     "text": [
      "2025/05/18 13:58:36 WARNING dspy.adapters.json_adapter: Failed to use structured output format. Falling back to JSON mode. Error: 'type' object is not iterable\n"
     ]
    },
    {
     "name": "stdout",
     "output_type": "stream",
     "text": [
      "Average Metric: 19.00 / 20 (95.0%):   8%|▋       | 19/240 [00:04<00:46,  4.79it/s]"
     ]
    },
    {
     "name": "stderr",
     "output_type": "stream",
     "text": [
      "2025/05/18 13:58:36 ERROR dspy.utils.parallelizer: Error for Example({'question': 'An aquarium holds an equal number of clownfish and blowfish. 26 of the blowfish stay in their own tank, and the remaining blowfish swim into a display tank.  An equal number of clownfish join the blowfish in the display tank, but then a third of these clownfish swim back into their own tank.  If the aquarium holds a combined total of 100 fish, how many clownfish are now in the display tank?', 'thoughts': 'There is an equal number of clownfish and blowfish, which means there are 100 fish / 2 = <<100/2=50>>50 blowfish.\\nSince some stay in their tanks, there are 50 blowfish – 26 blowfish = <<50-26=24>>24 blowfish in the display tank.\\nThere were the same amount of clownfish until 24 clownfish / 3 = <<24/3=8>>8 clownfish swam back to their own tank.\\nThis leaves 24 clownfish – 8 clownfish = <<24-8=16>>16 clownfish in the display tank.', 'answer': 16}) (input_keys={'question'}): Both structured output format and JSON mode failed. Please choose a model that supports `response_format` argument. Original error: Expected dict_keys(['reasoning', 'answer']) but got dict_keys(['reasoning']). Set `provide_traceback=True` for traceback.\n"
     ]
    },
    {
     "name": "stdout",
     "output_type": "stream",
     "text": [
      "Average Metric: 97.00 / 101 (96.0%):  42%|██▌   | 102/240 [00:16<00:11, 12.53it/s]"
     ]
    },
    {
     "name": "stderr",
     "output_type": "stream",
     "text": [
      "2025/05/18 13:58:49 WARNING dspy.adapters.json_adapter: Failed to use structured output format. Falling back to JSON mode. Error: 'type' object is not iterable\n"
     ]
    },
    {
     "name": "stdout",
     "output_type": "stream",
     "text": [
      "Average Metric: 218.00 / 239 (91.2%): 100%|█████| 240/240 [00:35<00:00,  6.68it/s]"
     ]
    },
    {
     "name": "stderr",
     "output_type": "stream",
     "text": [
      "2025/05/18 13:59:08 INFO dspy.evaluate.evaluate: Average Metric: 218.0 / 240 (90.8%)\n",
      "2025/05/18 13:59:08 INFO dspy.teleprompt.mipro_optimizer_v2: Full eval scores so far: [91.67, 91.25, 91.67, 90.0, 90.0, 90.83, 90.0, 90.83, 90.0, 90.83, 92.08, 90.83]\n",
      "2025/05/18 13:59:08 INFO dspy.teleprompt.mipro_optimizer_v2: Best full score so far: 92.08\n",
      "2025/05/18 13:59:08 INFO dspy.teleprompt.mipro_optimizer_v2: ========================\n",
      "2025/05/18 13:59:08 INFO dspy.teleprompt.mipro_optimizer_v2: \n",
      "\n",
      "2025/05/18 13:59:08 INFO dspy.teleprompt.mipro_optimizer_v2: == Trial 68 / 70 - Minibatch ==\n"
     ]
    },
    {
     "name": "stdout",
     "output_type": "stream",
     "text": [
      "\n",
      "Average Metric: 18.00 / 21 (85.7%):  60%|█████▍   | 21/35 [00:04<00:01,  7.50it/s]"
     ]
    },
    {
     "name": "stderr",
     "output_type": "stream",
     "text": [
      "2025/05/18 13:59:13 WARNING dspy.adapters.json_adapter: Failed to use structured output format. Falling back to JSON mode. Error: 'type' object is not iterable\n"
     ]
    },
    {
     "name": "stdout",
     "output_type": "stream",
     "text": [
      "Average Metric: 30.00 / 35 (85.7%): 100%|█████████| 35/35 [00:07<00:00,  4.47it/s]"
     ]
    },
    {
     "name": "stderr",
     "output_type": "stream",
     "text": [
      "2025/05/18 13:59:16 INFO dspy.evaluate.evaluate: Average Metric: 30 / 35 (85.7%)\n",
      "2025/05/18 13:59:16 INFO dspy.teleprompt.mipro_optimizer_v2: Score: 85.71 on minibatch of size 35 with parameters ['Predictor 0: Instruction 2', 'Predictor 1: Instruction 0', 'Predictor 2: Instruction 2', 'Predictor 3: Instruction 2'].\n",
      "2025/05/18 13:59:16 INFO dspy.teleprompt.mipro_optimizer_v2: Minibatch scores so far: [82.86, 82.86, 91.43, 88.57, 80.0, 80.0, 91.43, 91.43, 88.57, 97.14, 88.57, 88.57, 91.43, 91.43, 91.43, 100.0, 94.29, 85.71, 85.71, 94.29, 97.14, 85.71, 91.43, 80.0, 94.29, 100.0, 94.29, 88.57, 88.57, 91.43, 85.71, 94.29, 94.29, 85.71, 88.57, 91.43, 91.43, 91.43, 88.57, 88.57, 88.57, 97.14, 85.71, 85.71, 85.71, 94.29, 88.57, 91.43, 85.71, 85.71, 94.29, 85.71, 91.43, 77.14, 82.86, 85.71]\n",
      "2025/05/18 13:59:16 INFO dspy.teleprompt.mipro_optimizer_v2: Full eval scores so far: [91.67, 91.25, 91.67, 90.0, 90.0, 90.83, 90.0, 90.83, 90.0, 90.83, 92.08, 90.83]\n",
      "2025/05/18 13:59:16 INFO dspy.teleprompt.mipro_optimizer_v2: Best full score so far: 92.08\n",
      "2025/05/18 13:59:16 INFO dspy.teleprompt.mipro_optimizer_v2: ==========================================\n",
      "\n",
      "\n",
      "2025/05/18 13:59:16 INFO dspy.teleprompt.mipro_optimizer_v2: == Trial 69 / 70 - Minibatch ==\n"
     ]
    },
    {
     "name": "stdout",
     "output_type": "stream",
     "text": [
      "\n",
      "Average Metric: 32.00 / 35 (91.4%): 100%|█████████| 35/35 [00:06<00:00,  5.22it/s]"
     ]
    },
    {
     "name": "stderr",
     "output_type": "stream",
     "text": [
      "2025/05/18 13:59:22 INFO dspy.evaluate.evaluate: Average Metric: 32 / 35 (91.4%)\n",
      "2025/05/18 13:59:22 INFO dspy.teleprompt.mipro_optimizer_v2: Score: 91.43 on minibatch of size 35 with parameters ['Predictor 0: Instruction 5', 'Predictor 1: Instruction 0', 'Predictor 2: Instruction 5', 'Predictor 3: Instruction 0'].\n",
      "2025/05/18 13:59:22 INFO dspy.teleprompt.mipro_optimizer_v2: Minibatch scores so far: [82.86, 82.86, 91.43, 88.57, 80.0, 80.0, 91.43, 91.43, 88.57, 97.14, 88.57, 88.57, 91.43, 91.43, 91.43, 100.0, 94.29, 85.71, 85.71, 94.29, 97.14, 85.71, 91.43, 80.0, 94.29, 100.0, 94.29, 88.57, 88.57, 91.43, 85.71, 94.29, 94.29, 85.71, 88.57, 91.43, 91.43, 91.43, 88.57, 88.57, 88.57, 97.14, 85.71, 85.71, 85.71, 94.29, 88.57, 91.43, 85.71, 85.71, 94.29, 85.71, 91.43, 77.14, 82.86, 85.71, 91.43]\n",
      "2025/05/18 13:59:22 INFO dspy.teleprompt.mipro_optimizer_v2: Full eval scores so far: [91.67, 91.25, 91.67, 90.0, 90.0, 90.83, 90.0, 90.83, 90.0, 90.83, 92.08, 90.83]\n",
      "2025/05/18 13:59:22 INFO dspy.teleprompt.mipro_optimizer_v2: Best full score so far: 92.08\n",
      "2025/05/18 13:59:22 INFO dspy.teleprompt.mipro_optimizer_v2: ==========================================\n",
      "\n",
      "\n",
      "2025/05/18 13:59:22 INFO dspy.teleprompt.mipro_optimizer_v2: ===== Trial 70 / 70 - Full Evaluation =====\n",
      "2025/05/18 13:59:22 INFO dspy.teleprompt.mipro_optimizer_v2: Doing full eval on next top averaging program (Avg Score: 92.85499999999999) from minibatch trials...\n",
      "2025/05/18 13:59:23 WARNING dspy.adapters.json_adapter: Failed to use structured output format. Falling back to JSON mode. Error: 'type' object is not iterable\n"
     ]
    },
    {
     "name": "stdout",
     "output_type": "stream",
     "text": [
      "\n",
      "Average Metric: 15.00 / 18 (83.3%):   7%|▌       | 17/240 [00:02<00:33,  6.75it/s]"
     ]
    },
    {
     "name": "stderr",
     "output_type": "stream",
     "text": [
      "2025/05/18 13:59:25 WARNING dspy.adapters.json_adapter: Failed to use structured output format. Falling back to JSON mode. Error: 'type' object is not iterable\n"
     ]
    },
    {
     "name": "stdout",
     "output_type": "stream",
     "text": [
      "Average Metric: 18.00 / 21 (85.7%):   8%|▋       | 20/240 [00:02<00:32,  6.75it/s]"
     ]
    },
    {
     "name": "stderr",
     "output_type": "stream",
     "text": [
      "2025/05/18 13:59:25 ERROR dspy.utils.parallelizer: Error for Example({'question': 'An aquarium holds an equal number of clownfish and blowfish. 26 of the blowfish stay in their own tank, and the remaining blowfish swim into a display tank.  An equal number of clownfish join the blowfish in the display tank, but then a third of these clownfish swim back into their own tank.  If the aquarium holds a combined total of 100 fish, how many clownfish are now in the display tank?', 'thoughts': 'There is an equal number of clownfish and blowfish, which means there are 100 fish / 2 = <<100/2=50>>50 blowfish.\\nSince some stay in their tanks, there are 50 blowfish – 26 blowfish = <<50-26=24>>24 blowfish in the display tank.\\nThere were the same amount of clownfish until 24 clownfish / 3 = <<24/3=8>>8 clownfish swam back to their own tank.\\nThis leaves 24 clownfish – 8 clownfish = <<24-8=16>>16 clownfish in the display tank.', 'answer': 16}) (input_keys={'question'}): Both structured output format and JSON mode failed. Please choose a model that supports `response_format` argument. Original error: Expected dict_keys(['reasoning', 'answer']) but got dict_keys(['reasoning']). Set `provide_traceback=True` for traceback.\n"
     ]
    },
    {
     "name": "stdout",
     "output_type": "stream",
     "text": [
      "Average Metric: 71.00 / 75 (94.7%):  31%|██▌     | 75/240 [00:05<00:06, 26.47it/s]"
     ]
    },
    {
     "name": "stderr",
     "output_type": "stream",
     "text": [
      "2025/05/18 13:59:28 WARNING dspy.adapters.json_adapter: Failed to use structured output format. Falling back to JSON mode. Error: 'type' object is not iterable\n"
     ]
    },
    {
     "name": "stdout",
     "output_type": "stream",
     "text": [
      "Average Metric: 75.00 / 80 (93.8%):  34%|██▋     | 81/240 [00:06<00:12, 12.61it/s]"
     ]
    },
    {
     "name": "stderr",
     "output_type": "stream",
     "text": [
      "2025/05/18 13:59:29 WARNING dspy.adapters.json_adapter: Failed to use structured output format. Falling back to JSON mode. Error: 'type' object is not iterable\n"
     ]
    },
    {
     "name": "stdout",
     "output_type": "stream",
     "text": [
      "Average Metric: 131.00 / 147 (89.1%):  61%|███  | 147/240 [00:12<00:08, 11.19it/s]"
     ]
    },
    {
     "name": "stderr",
     "output_type": "stream",
     "text": [
      "2025/05/18 13:59:35 WARNING dspy.adapters.json_adapter: Failed to use structured output format. Falling back to JSON mode. Error: 'type' object is not iterable\n"
     ]
    },
    {
     "name": "stdout",
     "output_type": "stream",
     "text": [
      "Average Metric: 174.00 / 193 (90.2%):  80%|████ | 193/240 [00:15<00:03, 14.31it/s]"
     ]
    },
    {
     "name": "stderr",
     "output_type": "stream",
     "text": [
      "2025/05/18 13:59:39 WARNING dspy.adapters.json_adapter: Failed to use structured output format. Falling back to JSON mode. Error: 'type' object is not iterable\n"
     ]
    },
    {
     "name": "stdout",
     "output_type": "stream",
     "text": [
      "Average Metric: 216.00 / 239 (90.4%): 100%|█████| 240/240 [00:20<00:00, 11.55it/s]"
     ]
    },
    {
     "name": "stderr",
     "output_type": "stream",
     "text": [
      "2025/05/18 13:59:43 INFO dspy.evaluate.evaluate: Average Metric: 216.0 / 240 (90.0%)\n",
      "2025/05/18 13:59:43 INFO dspy.teleprompt.mipro_optimizer_v2: Full eval scores so far: [91.67, 91.25, 91.67, 90.0, 90.0, 90.83, 90.0, 90.83, 90.0, 90.83, 92.08, 90.83, 90.0]\n",
      "2025/05/18 13:59:43 INFO dspy.teleprompt.mipro_optimizer_v2: Best full score so far: 92.08\n",
      "2025/05/18 13:59:43 INFO dspy.teleprompt.mipro_optimizer_v2: ========================\n",
      "2025/05/18 13:59:43 INFO dspy.teleprompt.mipro_optimizer_v2: \n",
      "\n",
      "2025/05/18 13:59:43 INFO dspy.teleprompt.mipro_optimizer_v2: Returning best identified program with score 92.08!\n"
     ]
    },
    {
     "name": "stdout",
     "output_type": "stream",
     "text": [
      "\n"
     ]
    }
   ],
   "source": [
    "tp = dspy.MIPROv2(metric=match, auto=\"medium\", num_threads=24)  # use fewer threads if your rate limit is small\n",
    "\n",
    "optimized_rag = tp.compile(Solver(), trainset=trainset,\n",
    "                           max_bootstrapped_demos=0, max_labeled_demos=0,\n",
    "                           requires_permission_to_run=False)"
   ]
  },
  {
   "cell_type": "code",
   "execution_count": 40,
   "id": "dd2ba73a-2fae-4f4f-b7c4-a15a80a711ab",
   "metadata": {
    "scrolled": true
   },
   "outputs": [
    {
     "name": "stdout",
     "output_type": "stream",
     "text": [
      "Average Metric: 36.00 / 37 (97.3%):  18%|█▍      | 37/200 [00:05<00:25,  6.33it/s]"
     ]
    },
    {
     "name": "stderr",
     "output_type": "stream",
     "text": [
      "2025/05/18 13:59:49 WARNING dspy.adapters.json_adapter: Failed to use structured output format. Falling back to JSON mode. Error: 'type' object is not iterable\n"
     ]
    },
    {
     "name": "stdout",
     "output_type": "stream",
     "text": [
      "Average Metric: 71.00 / 75 (94.7%):  38%|███     | 75/200 [00:08<00:10, 12.30it/s]"
     ]
    },
    {
     "name": "stderr",
     "output_type": "stream",
     "text": [
      "2025/05/18 13:59:52 WARNING dspy.adapters.json_adapter: Failed to use structured output format. Falling back to JSON mode. Error: 'type' object is not iterable\n"
     ]
    },
    {
     "name": "stdout",
     "output_type": "stream",
     "text": [
      "Average Metric: 72.00 / 76 (94.7%):  38%|███     | 75/200 [00:08<00:10, 12.30it/s]"
     ]
    },
    {
     "name": "stderr",
     "output_type": "stream",
     "text": [
      "2025/05/18 13:59:52 ERROR dspy.utils.parallelizer: Error for Example({'question': \"Sam works at the Widget Factory, assembling Widgets. He can assemble 1 widget every 10 minutes. Jack from the loading dock can help assemble widgets when he doesn't have anything else to do. When he helps, they put together 2 complete widgets every 15 minutes. Recently the factory hired Tony to help assemble widgets. Being new to the job, he doesn't work as fast as Sam or Jack. Yesterday Sam worked for 6 hours before he had to leave work early for a dentist appointment. Jack was able to help out for 4 hours before he had to go back to the loading dock to unload a new shipment of widget materials. Tony worked the entire 8-hour shift. At the end of the day, they had completed 68 widgets. How long does it take Tony to assemble a Widget, in minutes?\", 'thoughts': 'Sam completes a widget every 10 minutes.\\nWhen Jack helps they finish 2 in 15 minutes. Sam has finished 1 widget and has begun working on another one, and Jack finishes the second one at 15 minutes. So it takes Jack 15 minutes to complete a widget.\\nSam worked for 6 hours yesterday, so he was able to complete 6 hours * 60 minutes per hour / 10 minutes per widget = <<6*60/10=36>>36 widgets.\\nJack worked for 4 hours, so he was able to complete 4 hours * 60 minutes per hour / 15 minutes per widget = <<4*60/15=16>>16 widgets.\\nSam, Jack, and Tony were able to complete 68 widgets together. So of those, Tony personally completed 68 widgets - 36 widgets - 16 widgets = <<68-36-16=16>>16 widgets.\\nIt took Tony 8 hours to complete those 16 widgets, so he takes 8 hours * 60 minutes per hour / 16 widgets = <<8*60/16=30>>30 minutes per widget.', 'answer': 30}) (input_keys={'question'}): Both structured output format and JSON mode failed. Please choose a model that supports `response_format` argument. Original error: Expected dict_keys(['reasoning', 'answer']) but got dict_keys(['reasoning']). Set `provide_traceback=True` for traceback.\n"
     ]
    },
    {
     "name": "stdout",
     "output_type": "stream",
     "text": [
      "Average Metric: 115.00 / 126 (91.3%):  64%|███▏ | 127/200 [00:13<00:06, 10.99it/s]"
     ]
    },
    {
     "name": "stderr",
     "output_type": "stream",
     "text": [
      "2025/05/18 13:59:57 WARNING dspy.adapters.json_adapter: Failed to use structured output format. Falling back to JSON mode. Error: 'type' object is not iterable\n"
     ]
    },
    {
     "name": "stdout",
     "output_type": "stream",
     "text": [
      "Average Metric: 175.00 / 198 (88.4%):  99%|████▉| 198/200 [00:22<00:00,  9.96it/s]"
     ]
    },
    {
     "name": "stderr",
     "output_type": "stream",
     "text": [
      "2025/05/18 14:00:07 WARNING dspy.adapters.json_adapter: Failed to use structured output format. Falling back to JSON mode. Error: 'type' object is not iterable\n"
     ]
    },
    {
     "name": "stdout",
     "output_type": "stream",
     "text": [
      "Average Metric: 175.00 / 199 (87.9%): 100%|█████| 200/200 [00:26<00:00,  7.55it/s]"
     ]
    },
    {
     "name": "stderr",
     "output_type": "stream",
     "text": [
      "2025/05/18 14:00:10 INFO dspy.evaluate.evaluate: Average Metric: 175.0 / 200 (87.5%)\n"
     ]
    },
    {
     "name": "stdout",
     "output_type": "stream",
     "text": [
      "\n"
     ]
    },
    {
     "data": {
      "text/html": [
       "<div>\n",
       "<style scoped>\n",
       "    .dataframe tbody tr th:only-of-type {\n",
       "        vertical-align: middle;\n",
       "    }\n",
       "\n",
       "    .dataframe tbody tr th {\n",
       "        vertical-align: top;\n",
       "    }\n",
       "\n",
       "    .dataframe thead th {\n",
       "        text-align: right;\n",
       "    }\n",
       "</style>\n",
       "<table border=\"1\" class=\"dataframe\">\n",
       "  <thead>\n",
       "    <tr style=\"text-align: right;\">\n",
       "      <th></th>\n",
       "      <th>question</th>\n",
       "      <th>thoughts</th>\n",
       "      <th>example_answer</th>\n",
       "      <th>reasoning</th>\n",
       "      <th>pred_answer</th>\n",
       "      <th>match</th>\n",
       "      <th>answer</th>\n",
       "    </tr>\n",
       "  </thead>\n",
       "  <tbody>\n",
       "    <tr>\n",
       "      <th>0</th>\n",
       "      <td>It costs $.10 to print one page. Jenny wants to print 7 copies of ...</td>\n",
       "      <td>Jenny needs to print 7*25= &lt;&lt;7*25=175&gt;&gt;175 pages. This will cost 1...</td>\n",
       "      <td>12.0</td>\n",
       "      <td>First, calculate the cost to print 7 copies of a 25-page essay. Ea...</td>\n",
       "      <td>12.0</td>\n",
       "      <td>✔️ [True]</td>\n",
       "      <td>NaN</td>\n",
       "    </tr>\n",
       "    <tr>\n",
       "      <th>1</th>\n",
       "      <td>240 sixth-grade students were asked about the number of novels the...</td>\n",
       "      <td>1/6 * 240 students = &lt;&lt;1/6*240=40&gt;&gt;40 students. So 40 students rea...</td>\n",
       "      <td>16.0</td>\n",
       "      <td>First, find the number of students in each category based on the g...</td>\n",
       "      <td>16.0</td>\n",
       "      <td>✔️ [True]</td>\n",
       "      <td>NaN</td>\n",
       "    </tr>\n",
       "  </tbody>\n",
       "</table>\n",
       "</div>"
      ],
      "text/plain": [
       "                                                                question  \\\n",
       "0  It costs $.10 to print one page. Jenny wants to print 7 copies of ...   \n",
       "1  240 sixth-grade students were asked about the number of novels the...   \n",
       "\n",
       "                                                                thoughts  \\\n",
       "0  Jenny needs to print 7*25= <<7*25=175>>175 pages. This will cost 1...   \n",
       "1  1/6 * 240 students = <<1/6*240=40>>40 students. So 40 students rea...   \n",
       "\n",
       "   example_answer  \\\n",
       "0            12.0   \n",
       "1            16.0   \n",
       "\n",
       "                                                               reasoning  \\\n",
       "0  First, calculate the cost to print 7 copies of a 25-page essay. Ea...   \n",
       "1  First, find the number of students in each category based on the g...   \n",
       "\n",
       "   pred_answer      match  answer  \n",
       "0         12.0  ✔️ [True]     NaN  \n",
       "1         16.0  ✔️ [True]     NaN  "
      ]
     },
     "metadata": {},
     "output_type": "display_data"
    },
    {
     "data": {
      "text/html": [
       "\n",
       "            <div style='\n",
       "                text-align: center;\n",
       "                font-size: 16px;\n",
       "                font-weight: bold;\n",
       "                color: #555;\n",
       "                margin: 10px 0;'>\n",
       "                ... 198 more rows not displayed ...\n",
       "            </div>\n",
       "            "
      ],
      "text/plain": [
       "<IPython.core.display.HTML object>"
      ]
     },
     "metadata": {},
     "output_type": "display_data"
    },
    {
     "data": {
      "text/plain": [
       "87.5"
      ]
     },
     "execution_count": 40,
     "metadata": {},
     "output_type": "execute_result"
    }
   ],
   "source": [
    "evaluate(optimized_rag)"
   ]
  },
  {
   "cell_type": "code",
   "execution_count": 41,
   "id": "8ee029bb-6f2f-4ac9-aec7-629dbce7676c",
   "metadata": {},
   "outputs": [
    {
     "data": {
      "text/plain": [
       "Prediction(\n",
       "    reasoning='Natalia sold 48 clips in April. In May, she sold half as many clips, which is 48 divided by 2, resulting in 24 clips. To find the total number of clips sold in April and May, add the clips sold in both months: 48 + 24 = 72. ==> Natalia sold 48 clips in April. In May, she sold half as many clips, which is 48 divided by 2, resulting in 24 clips. To find the total number of clips sold in April and May, add the clips sold in both months: 48 + 24 = 72. ==> Natalia sold 48 clips in April. In May, she sold half as many clips, which is 48 divided by 2, resulting in 24 clips. To find the total number of clips sold in April and May, add the clips sold in both months: 48 + 24 = 72. ==> Natalia sold 48 clips in April. In May, she sold half as many clips, which is 48 divided by 2, resulting in 24 clips. To find the total number of clips sold in April and May, add the clips sold in both months: 48 + 24 = 72. The calculation is correct, and the total is 72 clips.',\n",
       "    answer=72\n",
       ")"
      ]
     },
     "execution_count": 41,
     "metadata": {},
     "output_type": "execute_result"
    }
   ],
   "source": [
    "optimized_rag(**data[0].inputs())"
   ]
  },
  {
   "cell_type": "code",
   "execution_count": 42,
   "id": "a09352b1-d71f-4b92-b393-523a09a997fa",
   "metadata": {},
   "outputs": [
    {
     "name": "stdout",
     "output_type": "stream",
     "text": [
      "\n",
      "\n",
      "\n",
      "\n",
      "\u001b[34m[2025-05-18T14:00:12.984661]\u001b[0m\n",
      "\n",
      "\u001b[31mSystem message:\u001b[0m\n",
      "\n",
      "Your input fields are:\n",
      "1. `question` (str)\n",
      "2. `last_reasoning` (str)\n",
      "3. `last_answer` (str)\n",
      "Your output fields are:\n",
      "1. `reasoning` (str)\n",
      "2. `corrected_answer` (int)\n",
      "All interactions will be structured in the following way, with the appropriate values filled in.\n",
      "\n",
      "[[ ## question ## ]]\n",
      "{question}\n",
      "\n",
      "[[ ## last_reasoning ## ]]\n",
      "{last_reasoning}\n",
      "\n",
      "[[ ## last_answer ## ]]\n",
      "{last_answer}\n",
      "\n",
      "[[ ## reasoning ## ]]\n",
      "{reasoning}\n",
      "\n",
      "[[ ## corrected_answer ## ]]\n",
      "{corrected_answer}        # note: the value you produce must be a single int value\n",
      "\n",
      "[[ ## completed ## ]]\n",
      "In adhering to this structure, your objective is: \n",
      "        Given the fields `question`, `last_reasoning`, `last_answer`, produce the fields `corrected_answer`.\n",
      "\n",
      "\n",
      "\u001b[31mUser message:\u001b[0m\n",
      "\n",
      "[[ ## question ## ]]\n",
      "Natalia sold clips to 48 of her friends in April, and then she sold half as many clips in May. How many clips did Natalia sell altogether in April and May?\n",
      "\n",
      "[[ ## last_reasoning ## ]]\n",
      "Natalia sold 48 clips in April. In May, she sold half as many clips, which is 48 divided by 2, resulting in 24 clips. To find the total number of clips sold in April and May, add the clips sold in both months: 48 + 24 = 72. ==> Natalia sold 48 clips in April. In May, she sold half as many clips, which is 48 divided by 2, resulting in 24 clips. To find the total number of clips sold in April and May, add the clips sold in both months: 48 + 24 = 72. ==> Natalia sold 48 clips in April. In May, she sold half as many clips, which is 48 divided by 2, resulting in 24 clips. To find the total number of clips sold in April and May, add the clips sold in both months: 48 + 24 = 72.\n",
      "\n",
      "[[ ## last_answer ## ]]\n",
      "72\n",
      "\n",
      "Respond with the corresponding output fields, starting with the field `[[ ## reasoning ## ]]`, then `[[ ## corrected_answer ## ]]` (must be formatted as a valid Python int), and then ending with the marker for `[[ ## completed ## ]]`.\n",
      "\n",
      "\n",
      "\u001b[31mResponse:\u001b[0m\n",
      "\n",
      "\u001b[32m[[ ## reasoning ## ]]\n",
      "Natalia sold 48 clips in April. In May, she sold half as many clips, which is 48 divided by 2, resulting in 24 clips. To find the total number of clips sold in April and May, add the clips sold in both months: 48 + 24 = 72. The calculation is correct, and the total is 72 clips.\n",
      "\n",
      "[[ ## corrected_answer ## ]]\n",
      "72\n",
      "\n",
      "[[ ## completed ## ]]\u001b[0m\n",
      "\n",
      "\n",
      "\n",
      "\n",
      "\n"
     ]
    }
   ],
   "source": [
    "dspy.inspect_history(n=1)\n"
   ]
  },
  {
   "cell_type": "code",
   "execution_count": null,
   "id": "6d5982ac-044f-4d18-aae0-a75a9523e4a2",
   "metadata": {},
   "outputs": [],
   "source": []
  }
 ],
 "metadata": {
  "kernelspec": {
   "display_name": "ml",
   "language": "python",
   "name": "ml"
  },
  "language_info": {
   "codemirror_mode": {
    "name": "ipython",
    "version": 3
   },
   "file_extension": ".py",
   "mimetype": "text/x-python",
   "name": "python",
   "nbconvert_exporter": "python",
   "pygments_lexer": "ipython3",
   "version": "3.12.3"
  }
 },
 "nbformat": 4,
 "nbformat_minor": 5
}
