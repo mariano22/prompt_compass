{
 "cells": [
  {
   "cell_type": "code",
   "execution_count": 1,
   "id": "acdbc4ff-f15d-4624-a10d-c66a52a8e77e",
   "metadata": {},
   "outputs": [],
   "source": [
    "%load_ext autoreload\n",
    "%autoreload 2"
   ]
  },
  {
   "cell_type": "code",
   "execution_count": 2,
   "id": "7e2e2051-d14e-4260-9ff3-65916beec379",
   "metadata": {},
   "outputs": [],
   "source": [
    "import random\n",
    "import json\n",
    "import asyncio\n",
    "import re\n",
    "from typing import List\n",
    "\n",
    "import pandas as pd\n",
    "from collections import defaultdict\n",
    "from datasets import load_dataset\n",
    "from tqdm.asyncio import tqdm_asyncio\n",
    "import pickle\n",
    "from langdetect import detect\n",
    "from tenacity import retry, wait_exponential, stop_after_attempt, retry_if_exception_type\n",
    "\n",
    "from predictors import *\n",
    "from llm import *\n",
    "from prompts import *\n",
    "from tools import *\n",
    "from evaluations import *\n",
    "from parsers import *\n",
    "from math_method import *\n",
    "from math_solver import *\n",
    "\n",
    "BIG_MODEL = \"gpt-4.1\"\n",
    "MEDIUM_MODEL = \"gpt-4.1-mini\"\n",
    "SMALL_MODEL = \"gpt-4.1-nano\"\n",
    "\n",
    "MODELS = [SMALL_MODEL, MEDIUM_MODEL, BIG_MODEL]\n"
   ]
  },
  {
   "cell_type": "code",
   "execution_count": 3,
   "id": "4422f349-9cde-437a-8902-b5e46334c401",
   "metadata": {},
   "outputs": [],
   "source": [
    "dataset = load_dataset(\"gsm8k\", \"main\")\n",
    "training, validation = build_datasets(dataset, 1000, 0.7)"
   ]
  },
  {
   "cell_type": "code",
   "execution_count": 4,
   "id": "2df3e645-e7ff-4797-b37f-da08436c027d",
   "metadata": {},
   "outputs": [
    {
     "data": {
      "text/plain": [
       "'Tobias is buying a new pair of shoes that costs $95. He has been saving up his money each month for the past three months. He gets a $5 allowance a month. He also mows lawns and shovels driveways. He charges $15 to mow a lawn and $7 to shovel. After buying the shoes, he has $15 in change. If he mows 4 lawns, how many driveways did he shovel?'"
      ]
     },
     "execution_count": 4,
     "metadata": {},
     "output_type": "execute_result"
    }
   ],
   "source": [
    "idx = 11\n",
    "question = training[idx]['question']\n",
    "question"
   ]
  },
  {
   "cell_type": "code",
   "execution_count": 5,
   "id": "9559f784-2086-4077-af65-7e37d354bf67",
   "metadata": {},
   "outputs": [
    {
     "data": {
      "text/plain": [
       "{'question': 'Tobias is buying a new pair of shoes that costs $95. He has been saving up his money each month for the past three months. He gets a $5 allowance a month. He also mows lawns and shovels driveways. He charges $15 to mow a lawn and $7 to shovel. After buying the shoes, he has $15 in change. If he mows 4 lawns, how many driveways did he shovel?',\n",
       " 'thoughts': 'He saved up $110 total because 95 + 15 = <<95+15=110>>110\\nHe saved $15 from his allowance because 3 x 5 = <<3*5=15>>15\\nHe earned $60 mowing lawns because 4 x 15 = <<4*15=60>>60\\nHe earned $35 shoveling driveways because 110 - 60 - 15 = <<110-60-15=35>>35\\nHe shoveled 5 driveways because 35 / 7 = <<35/7=5>>5',\n",
       " 'answer': '5'}"
      ]
     },
     "execution_count": 5,
     "metadata": {},
     "output_type": "execute_result"
    }
   ],
   "source": [
    "training[idx]"
   ]
  },
  {
   "cell_type": "code",
   "execution_count": 5,
   "id": "951d0670-1b20-4bb4-9487-ea214b80682b",
   "metadata": {},
   "outputs": [],
   "source": [
    "\n",
    "openai_client = openai.AsyncOpenAI()\n",
    "\n",
    "def pm(m):\n",
    "    print(f\"ROLE: {m['role']}\\nCONTENT:\\n{m['content']}\")\n",
    "    print(\"====== PRINT SEP ======\")\n",
    "    \n",
    "def pms(ms):\n",
    "    for m in ms:\n",
    "        pm(m)\n",
    "\n",
    "async def chat(messages, model, verbose):\n",
    "    if verbose:\n",
    "        pm(messages[-1])\n",
    "    response = await openai_client.chat.completions.create(\n",
    "                model=model,\n",
    "                messages=messages,\n",
    "                temperature=0,\n",
    "            )\n",
    "    res = { 'content': response.choices[0].message.content, 'role': response.choices[0].message.role }\n",
    "    if verbose:\n",
    "        pm(res)\n",
    "    return res\n"
   ]
  },
  {
   "cell_type": "code",
   "execution_count": 6,
   "id": "0f2903a9-24e8-4031-b54b-452cd40d5528",
   "metadata": {},
   "outputs": [
    {
     "name": "stderr",
     "output_type": "stream",
     "text": [
      "  2%|▋                                          | 5/300 [00:10<10:25,  2.12s/it]\n"
     ]
    },
    {
     "ename": "CancelledError",
     "evalue": "",
     "output_type": "error",
     "traceback": [
      "\u001b[0;31m---------------------------------------------------------------------------\u001b[0m",
      "\u001b[0;31mCancelledError\u001b[0m                            Traceback (most recent call last)",
      "Cell \u001b[0;32mIn[6], line 10\u001b[0m\n\u001b[1;32m      7\u001b[0m         solution \u001b[38;5;241m=\u001b[39m \u001b[38;5;28;01mNone\u001b[39;00m\n\u001b[1;32m      8\u001b[0m     \u001b[38;5;28;01mreturn\u001b[39;00m {\u001b[38;5;124m'\u001b[39m\u001b[38;5;124mpredicted\u001b[39m\u001b[38;5;124m'\u001b[39m: solution, \u001b[38;5;124m\"\u001b[39m\u001b[38;5;124mresponse\u001b[39m\u001b[38;5;124m\"\u001b[39m: \u001b[38;5;28;01mTrue\u001b[39;00m, \u001b[38;5;124m'\u001b[39m\u001b[38;5;124msystem\u001b[39m\u001b[38;5;124m'\u001b[39m: system}\n\u001b[0;32m---> 10\u001b[0m result \u001b[38;5;241m=\u001b[39m \u001b[38;5;28;01mawait\u001b[39;00m evaluate(validation, solve_question, \u001b[38;5;124m'\u001b[39m\u001b[38;5;124msmartest\u001b[39m\u001b[38;5;124m'\u001b[39m)\n",
      "File \u001b[0;32m~/Desktop/prompt_compass/evaluations.py:22\u001b[0m, in \u001b[0;36mevaluate\u001b[0;34m(test_set, predict_fn, tag, max_concurrent_requests)\u001b[0m\n\u001b[1;32m     20\u001b[0m results \u001b[38;5;241m=\u001b[39m []\n\u001b[1;32m     21\u001b[0m \u001b[38;5;28;01mfor\u001b[39;00m f \u001b[38;5;129;01min\u001b[39;00m tqdm_asyncio\u001b[38;5;241m.\u001b[39mas_completed(tasks):\n\u001b[0;32m---> 22\u001b[0m     result \u001b[38;5;241m=\u001b[39m \u001b[38;5;28;01mawait\u001b[39;00m f\n\u001b[1;32m     23\u001b[0m     results\u001b[38;5;241m.\u001b[39mappend(result)\n\u001b[1;32m     24\u001b[0m \u001b[38;5;28;01mreturn\u001b[39;00m {\n\u001b[1;32m     25\u001b[0m     \u001b[38;5;124m'\u001b[39m\u001b[38;5;124mtag\u001b[39m\u001b[38;5;124m'\u001b[39m: tag,\n\u001b[1;32m     26\u001b[0m     \u001b[38;5;124m'\u001b[39m\u001b[38;5;124mresults\u001b[39m\u001b[38;5;124m'\u001b[39m: results,\n\u001b[1;32m     27\u001b[0m }\n",
      "File \u001b[0;32m/opt/anaconda3/envs/ml/lib/python3.12/asyncio/tasks.py:627\u001b[0m, in \u001b[0;36mas_completed.<locals>._wait_for_one\u001b[0;34m()\u001b[0m\n\u001b[1;32m    626\u001b[0m \u001b[38;5;28;01masync\u001b[39;00m \u001b[38;5;28;01mdef\u001b[39;00m \u001b[38;5;21m_wait_for_one\u001b[39m():\n\u001b[0;32m--> 627\u001b[0m     f \u001b[38;5;241m=\u001b[39m \u001b[38;5;28;01mawait\u001b[39;00m done\u001b[38;5;241m.\u001b[39mget()\n\u001b[1;32m    628\u001b[0m     \u001b[38;5;28;01mif\u001b[39;00m f \u001b[38;5;129;01mis\u001b[39;00m \u001b[38;5;28;01mNone\u001b[39;00m:\n\u001b[1;32m    629\u001b[0m         \u001b[38;5;66;03m# Dummy value from _on_timeout().\u001b[39;00m\n\u001b[1;32m    630\u001b[0m         \u001b[38;5;28;01mraise\u001b[39;00m exceptions\u001b[38;5;241m.\u001b[39mTimeoutError\n",
      "File \u001b[0;32m/opt/anaconda3/envs/ml/lib/python3.12/asyncio/queues.py:158\u001b[0m, in \u001b[0;36mQueue.get\u001b[0;34m(self)\u001b[0m\n\u001b[1;32m    156\u001b[0m \u001b[38;5;28mself\u001b[39m\u001b[38;5;241m.\u001b[39m_getters\u001b[38;5;241m.\u001b[39mappend(getter)\n\u001b[1;32m    157\u001b[0m \u001b[38;5;28;01mtry\u001b[39;00m:\n\u001b[0;32m--> 158\u001b[0m     \u001b[38;5;28;01mawait\u001b[39;00m getter\n\u001b[1;32m    159\u001b[0m \u001b[38;5;28;01mexcept\u001b[39;00m:\n\u001b[1;32m    160\u001b[0m     getter\u001b[38;5;241m.\u001b[39mcancel()  \u001b[38;5;66;03m# Just in case getter is not done yet.\u001b[39;00m\n",
      "\u001b[0;31mCancelledError\u001b[0m: "
     ]
    }
   ],
   "source": [
    "async def solve_question(question):\n",
    "    fn_llm = partial(chat, model=SMALL_MODEL, verbose=False)\n",
    "    system = await create_method_agent(question, fn_llm)\n",
    "    if system is not None:\n",
    "        solution = await solve_method_agent(system, fn_llm)\n",
    "    else:\n",
    "        solution = None\n",
    "    return {'predicted': solution, \"response\": True, 'system': system}\n",
    "\n",
    "result = await evaluate(validation, solve_question, 'smartest')"
   ]
  },
  {
   "cell_type": "code",
   "execution_count": null,
   "id": "e98e1704-f38e-4862-8865-bf5b4750d70e",
   "metadata": {},
   "outputs": [],
   "source": [
    "calculate_pass_rate(result['results'])"
   ]
  },
  {
   "cell_type": "code",
   "execution_count": 31,
   "id": "b5fa5878-cb5b-4589-b9e5-10856225da1c",
   "metadata": {},
   "outputs": [
    {
     "data": {
      "text/plain": [
       "{'api_error': False,\n",
       " 'format_error': False,\n",
       " 'pass': False,\n",
       " 'predicted': 1,\n",
       " 'response': True,\n",
       " 'system': ProblemModel(quantity_name=['number_of_rows', 'seats_per_row', 'cost_per_seat', 'discount_rate', 'total_seats', 'total_cost_before_discount', 'total_discount', 'total_amount_to_pay'], equations=['total_seats = number_of_rows * seats_per_row', 'total_cost_before_discount = total_seats * cost_per_seat', 'total_discount = (total_seats / 10) * (10 * cost_per_seat * discount_rate)', 'total_amount_to_pay = total_cost_before_discount - total_discount'], answer='total_amount_to_pay'),\n",
       " 'question': 'A school is adding 5 rows of seats to the auditorium. Each row has 8 seats and each seat costs $30. A parent, being a seat manufacturer, offered a 10% discount on each group of 10 seats purchased. How much will the school pay for the new seats?',\n",
       " 'thoughts': 'Ten seats amount to $30 x 10 = $<<30*10=300>>300.\\nSo there is $300 x 10/100 = $<<300*10/100=30>>30 discount for each 10 seats purchased.\\nThus, the total cost for every 10 seats is $300 - $30 = $<<300-30=270>>270.\\nThe school is going to buy 5 x 8 = <<5*8=40>>40 seats.\\nThis means that the school is going to buy 40/10 = <<40/10=4>>4 sets of 10 seats.\\nTherefore, the school will pay a total of $270 x 4 = $<<270*4=1080>>1080 for the new seats',\n",
       " 'answer': '1080'}"
      ]
     },
     "execution_count": 31,
     "metadata": {},
     "output_type": "execute_result"
    }
   ],
   "source": [
    "for r in result['results']:\n",
    "    if not r['pass']:\n",
    "        break\n",
    "r"
   ]
  },
  {
   "cell_type": "code",
   "execution_count": 28,
   "id": "1510cc08-388b-4ff2-88db-e085d4b094d4",
   "metadata": {},
   "outputs": [
    {
     "name": "stdout",
     "output_type": "stream",
     "text": [
      "ROLE: user\n",
      "CONTENT:\n",
      "\n",
      "You are a Python expert with experience in numerical optimization.\n",
      "Given a JSON describing a system of equations, you must write Python code that builds and solves the system using SciPy.\n",
      "The system of equations in JSON format contains three keys:\n",
      "- \"quantity_name\": a list of str with the system's variables.\n",
      "- \"equations\": a list of str with the equations of the system.\n",
      "- \"answer\": the system variable that must be calculated to solve the problem.\n",
      "Equations are not necessarily linear.\n",
      "\n",
      "You must produce Python code. You can reason before coding.\n",
      "1. Use this interface to solve the system:\n",
      "```python\n",
      "from scipy.optimize import root\n",
      "sol = root(system_fn, initial_guess, method='hybr')\n",
      "```\n",
      "\n",
      "2. Inside system_fn(vars):\n",
      "  2.a. Interpret vars as a list of floats.\n",
      "  2.b. Unpack the variables in the same order as given in \"quantity_name\".\n",
      "2.c. Return a list of residuals (i.e., lhs - rhs) for each equation, in any order, but of the same length as vars.\n",
      "\n",
      "3. Your initial guess should be [1.0] * len(quantity_name).\n",
      "\n",
      "4. At the end, you can create a dictionary mapping variable names to calculated values.You can do this by doing zip(quantity_name, sol.x).\n",
      "\n",
      "5. The answer is the value of the variable specified in the \"answer\" key of the system, rounded to the nearest integer.\n",
      "Return the answer. Do not print anything. Do not write a main section.\n",
      "\n",
      "<example_of_input>\n",
      "{\n",
      "  \"quantity_name\": [\n",
      "    \"cost_shoes\",\n",
      "    \"monthly_allowance\",\n",
      "    \"months_saving\",\n",
      "    \"charge_per_lawn\",\n",
      "    \"charge_per_driveway\",\n",
      "    \"lawns_mowed\",\n",
      "    \"driveways_shoveled\",\n",
      "    \"money_left\",\n",
      "    \"total_money\"\n",
      "  ],\n",
      "  \"equations\": [\n",
      "    \"total_money = (monthly_allowance * months_saving) + (charge_per_lawn * lawns_mowed) + (charge_per_driveway * driveways_shoveled)\",\n",
      "    \"total_money = cost_shoes + money_left\",\n",
      "    \"cost_shoes = 95\",\n",
      "    \"monthly_allowance = 5\",\n",
      "    \"months_saving = 3\",\n",
      "    \"charge_per_lawn = 15\",\n",
      "    \"charge_per_driveway = 7\",\n",
      "    \"money_left = 15\",\n",
      "    \"lawns_mowed = 4\"\n",
      "  ],\n",
      "  \"answer\": \"driveways_shoveled\"\n",
      "}\n",
      "</example_of_input>\n",
      "\n",
      "<example_of_output>\n",
      "\n",
      "```python\n",
      "from scipy.optimize import root\n",
      "\n",
      "# Define the system function\n",
      "def system_fn(vars):\n",
      "    (\n",
      "        cost_shoes,\n",
      "        monthly_allowance,\n",
      "        months_saving,\n",
      "        charge_per_lawn,\n",
      "        charge_per_driveway,\n",
      "        lawns_mowed,\n",
      "        driveways_shoveled,\n",
      "        money_left,\n",
      "        total_money\n",
      "    ) = vars\n",
      "\n",
      "    return [\n",
      "        total_money - (\n",
      "            (monthly_allowance * months_saving) +\n",
      "            (charge_per_lawn * lawns_mowed) +\n",
      "            (charge_per_driveway * driveways_shoveled)\n",
      "        ),\n",
      "        total_money - (cost_shoes + money_left),\n",
      "        cost_shoes - 95,\n",
      "        monthly_allowance - 5,\n",
      "        months_saving - 3,\n",
      "        charge_per_lawn - 15,\n",
      "        charge_per_driveway - 7,\n",
      "        money_left - 15,\n",
      "        lawns_mowed - 4\n",
      "    ]\n",
      "\n",
      "def solve():\n",
      "    # Initial guess: one per variable\n",
      "    initial_guess = [1.0] * 9\n",
      "    \n",
      "    # Solve the system\n",
      "    sol = root(system_fn, initial_guess, method='hybr')\n",
      "    \n",
      "    # Variables list\n",
      "    quantity_name = [\n",
      "        \"cost_shoes\",\n",
      "        \"monthly_allowance\",\n",
      "        \"months_saving\",\n",
      "        \"charge_per_lawn\",\n",
      "        \"charge_per_driveway\",\n",
      "        \"lawns_mowed\",\n",
      "        \"driveways_shoveled\",\n",
      "        \"money_left\",\n",
      "        \"total_money\"\n",
      "    ]\n",
      "    \n",
      "    # Build result dictionary\n",
      "    solution = {name: val for name, val in zip(quantity_name, sol.x)}\n",
      "    \n",
      "    return round(solution[\"driveways_shoveled\"])\n",
      "```\n",
      "\n",
      "</example_of_output>\n",
      "\n",
      "<input_system>\n",
      "{\n",
      "  \"quantity_name\": [\n",
      "    \"number_of_goats\",\n",
      "    \"number_of_cows\",\n",
      "    \"number_of_chickens\"\n",
      "  ],\n",
      "  \"equations\": [\n",
      "    \"number_of_goats = 4 * number_of_cows\",\n",
      "    \"number_of_goats = 2 * number_of_chickens\",\n",
      "    \"number_of_cows = 9\"\n",
      "  ],\n",
      "  \"answer\": \"number_of_chickens\"\n",
      "}\n",
      "</input_system>\n",
      "\n",
      "Remember to enclose the code using Markdown code block formatting (```python <your-code-here> ```).\n",
      "\n",
      "====== PRINT SEP ======\n",
      "ROLE: assistant\n",
      "CONTENT:\n",
      "```python\n",
      "from scipy.optimize import root\n",
      "\n",
      "def system_fn(vars):\n",
      "    number_of_goats, number_of_cows, number_of_chickens = vars\n",
      "    return [\n",
      "        number_of_goats - 4 * number_of_cows,\n",
      "        number_of_goats - 2 * number_of_chickens,\n",
      "        number_of_cows - 9\n",
      "    ]\n",
      "\n",
      "initial_guess = [1.0, 1.0, 1.0]\n",
      "\n",
      "sol = root(system_fn, initial_guess, method='hybr')\n",
      "\n",
      "quantity_name = [\n",
      "    \"number_of_goats\",\n",
      "    \"number_of_cows\",\n",
      "    \"number_of_chickens\"\n",
      "]\n",
      "\n",
      "solution = {name: val for name, val in zip(quantity_name, sol.x)}\n",
      "\n",
      "# The answer is the number of chickens, rounded to the nearest integer\n",
      "round(solution[\"number_of_chickens\"])\n",
      "```\n",
      "====== PRINT SEP ======\n",
      "ROLE: user\n",
      "CONTENT:\n",
      "An error occurred while parsing the response. Please reformulate your previous response, taking into account the following error message:\n",
      "Error executing solve() in the produced python code\n",
      "<exception_executing_code>\n",
      "name 'solve' is not defined\n",
      "</exception_executing_code>\n",
      " First reason about the possible causes of the error. Then, reformulate the output.\n",
      "====== PRINT SEP ======\n",
      "ROLE: assistant\n",
      "CONTENT:\n",
      "The error indicates that the code attempts to execute a function named `solve()`, but such a function is not defined in the provided code. To fix this, I should define a `solve()` function that encapsulates the entire process: setting up the system, solving it, and returning the answer. \n",
      "\n",
      "In the previous code, I directly executed the solving process outside of a function, which is not aligned with the expected structure. The correct approach is to define a `solve()` function that, when called, performs all steps and returns the final answer.\n",
      "\n",
      "Here's the corrected approach:\n",
      "- Define a `solve()` function.\n",
      "- Inside `solve()`, define the system function, initial guess, solve the system, and extract the answer.\n",
      "- Return the rounded value of the answer variable.\n",
      "\n",
      "Now, I will reformulate the code accordingly.\n",
      "\n",
      "```python\n",
      "def solve():\n",
      "    from scipy.optimize import root\n",
      "\n",
      "    def system_fn(vars):\n",
      "        number_of_goats, number_of_cows, number_of_chickens = vars\n",
      "        return [\n",
      "            number_of_goats - 4 * number_of_cows,\n",
      "            number_of_goats - 2 * number_of_chickens,\n",
      "            number_of_cows - 9\n",
      "        ]\n",
      "\n",
      "    initial_guess = [1.0, 1.0, 1.0]\n",
      "\n",
      "    sol = root(system_fn, initial_guess, method='hybr')\n",
      "\n",
      "    quantity_name = [\n",
      "        \"number_of_goats\",\n",
      "        \"number_of_cows\",\n",
      "        \"number_of_chickens\"\n",
      "    ]\n",
      "\n",
      "    solution = {name: val for name, val in zip(quantity_name, sol.x)}\n",
      "\n",
      "    # The answer is the number of chickens, rounded to the nearest integer\n",
      "    return round(solution[\"number_of_chickens\"])\n",
      "```\n",
      "\n",
      "This structure ensures that calling `solve()` will execute the system solving process and return the desired result.\n",
      "====== PRINT SEP ======\n"
     ]
    },
    {
     "data": {
      "text/plain": [
       "18"
      ]
     },
     "execution_count": 28,
     "metadata": {},
     "output_type": "execute_result"
    }
   ],
   "source": [
    "fn_llm = partial(chat, model=SMALL_MODEL, verbose=True)\n",
    "await solve_method_agent(r['system'], fn_llm)"
   ]
  },
  {
   "cell_type": "code",
   "execution_count": null,
   "id": "2e934233-8be2-45ca-8733-d789c8808775",
   "metadata": {},
   "outputs": [],
   "source": []
  },
  {
   "cell_type": "code",
   "execution_count": 4,
   "id": "c4429e58-d74f-429c-b91f-13c31c18486e",
   "metadata": {},
   "outputs": [],
   "source": [
    "\n",
    "from openai import OpenAI\n",
    "\n",
    "# Initialize the OpenAI client with OpenRouter settings\n",
    "\n"
   ]
  },
  {
   "cell_type": "code",
   "execution_count": null,
   "id": "bfdfafa4-8600-4d0e-938b-5f7d1b665a28",
   "metadata": {},
   "outputs": [],
   "source": []
  },
  {
   "cell_type": "code",
   "execution_count": 7,
   "id": "5d290d08-5721-4ace-8d0c-b3f6a4b49e02",
   "metadata": {},
   "outputs": [],
   "source": [
    "prompt_template_brainstorming = \"\"\"\n",
    "You are an expert at solving math word problems.\n",
    "Your goal is to think step by step, writing as many deductions as possible, to provide valuable insights to find the answer.\n",
    "I will provide your insights to an expert who will analyze its correctness and output the final answer.\n",
    "Write as many deductions as you can.\n",
    "\n",
    "{question}\n",
    "\"\"\"\n",
    "\n",
    "def make_prompt_brainstorming(question):\n",
    "    return prompt_template_brainstorming.format(question = question)\n",
    "    \n"
   ]
  },
  {
   "cell_type": "code",
   "execution_count": 12,
   "id": "1318867c-e473-4520-a55f-e4dc2aa2a90a",
   "metadata": {},
   "outputs": [
    {
     "data": {
      "text/plain": [
       "{'response': '5',\n",
       " 'predicted': 5,\n",
       " 'brainstorm': 'Tobias saved $5 each month for three months, totaling $15. He earned $60 from mowing 4 lawns and $35 from shoveling driveways. Together, his savings and earnings amount to $110, which covers the $95 cost of the shoes with $15 remaining. Therefore, he shoveled 5 driveways.\\n\\n**Answer:** Tobias shoveled \\\\boxed{5} driveways.'}"
      ]
     },
     "execution_count": 12,
     "metadata": {},
     "output_type": "execute_result"
    }
   ],
   "source": [
    "prompt_template_guess = \"\"\"\n",
    "You are an expert at solving math word problems.\n",
    "Given a question, provide a solution as a numerical value only.\n",
    "You will also be provided with the reasoning produced by a student. The reasoning can help you find the answer to the problem. But read it thoroughly with the question in mind; there is no guarantee that the reasoning is correct.\n",
    "\n",
    "<question>\n",
    "{question}\n",
    "</question>\n",
    "\n",
    "<resoning>\n",
    "{reasoning}\n",
    "</resoning>\n",
    "\n",
    "Return the numerical value only. No characters, no reasoning. Only an integer.\n",
    "\"\"\"\n",
    "\n",
    "def make_prompt_guess(question, reasoning):\n",
    "    return prompt_template_guess.format(question = question, reasoning = reasoning)\n",
    "\n",
    "from openai import AsyncOpenAI\n",
    "\n",
    "\n",
    "ooclient = AsyncOpenAI(\n",
    "    api_key='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',  # Ensure your API key is set as an environment variable\n",
    "    base_url=\"https://openrouter.ai/api/v1\"\n",
    ")\n",
    "\n",
    "async def llama_llm(messages):\n",
    "    # Define the conversation\n",
    "    response = await ooclient.chat.completions.create(\n",
    "        model=\"deepseek/deepseek-r1-distill-llama-8b\",  # Replace with your chosen model\n",
    "        messages=messages,\n",
    "        temperature=0.3,\n",
    "    )\n",
    "    return {'content': response.choices[0].message.content}\n",
    "\n",
    "async def predict_brainstorming(question, model_small, model_big):\n",
    "    fn_llm_small = partial(chat, model=model_small, verbose=False)\n",
    "    prompt_1 = make_prompt_brainstorming(question)\n",
    "    response_1 = await llama_llm([{'role': 'user', 'content': prompt_1}])\n",
    "    #response_1 = await fn_llm_small([{'role': 'user', 'content': prompt_1}])\n",
    "    brainstorming = response_1['content']\n",
    "\n",
    "    fn_llm_big = partial(chat, model=model_big, verbose=False)\n",
    "    prompt_2 = make_prompt_guess(question, brainstorming)\n",
    "    response_2 = await fn_llm_big([{'role': 'user', 'content': prompt_2}])\n",
    "    final_guess = response_2['content']\n",
    "    return {'response':final_guess, 'predicted': parse_int(final_guess), 'brainstorm':brainstorming}\n",
    "\n",
    "r=await predict_brainstorming(question, SMALL_MODEL, SMALL_MODEL)\n",
    "r"
   ]
  },
  {
   "cell_type": "code",
   "execution_count": null,
   "id": "8a3369e8-b294-4e19-ab1c-a9dde223a86a",
   "metadata": {},
   "outputs": [],
   "source": []
  },
  {
   "cell_type": "code",
   "execution_count": 35,
   "id": "7a53e762-da3a-4243-9461-ed87d5966ee6",
   "metadata": {},
   "outputs": [],
   "source": [
    "predict_fn = partial(predict_brainstorming, model1=SMALL_MODEL, model2=SMALL_MODEL)"
   ]
  },
  {
   "cell_type": "code",
   "execution_count": 36,
   "id": "09bfcc72-2f8a-4470-bc39-b997bc2ead1e",
   "metadata": {},
   "outputs": [
    {
     "name": "stderr",
     "output_type": "stream",
     "text": [
      "100%|█████████████████████████████████████████| 300/300 [02:04<00:00,  2.41it/s]\n"
     ]
    }
   ],
   "source": [
    "results = await evaluate(validation, predict_fn, 'ss')"
   ]
  },
  {
   "cell_type": "code",
   "execution_count": 37,
   "id": "32e46b2f-a7a3-4fec-b383-07f940fd3704",
   "metadata": {},
   "outputs": [
    {
     "data": {
      "text/plain": [
       "{'pass_rate': 93.0, 'format_error_rate': 0.0, 'api_error_rate': 0.0}"
      ]
     },
     "execution_count": 37,
     "metadata": {},
     "output_type": "execute_result"
    }
   ],
   "source": [
    "calculate_pass_rate(results['results'])"
   ]
  },
  {
   "cell_type": "code",
   "execution_count": 13,
   "id": "54b96273-de1d-45d7-84dd-644240cdd5d4",
   "metadata": {},
   "outputs": [],
   "source": [
    "predict_fn2 = partial(predict_brainstorming, model_small=SMALL_MODEL, model_big=SMALL_MODEL)"
   ]
  },
  {
   "cell_type": "code",
   "execution_count": 14,
   "id": "97ddf9eb-3540-44dd-93f0-229eb6d2d1e5",
   "metadata": {},
   "outputs": [
    {
     "name": "stderr",
     "output_type": "stream",
     "text": [
      "100%|█████████████████████████████████████████| 300/300 [06:18<00:00,  1.26s/it]\n"
     ]
    }
   ],
   "source": [
    "results2 = await evaluate(validation, predict_fn2, 'ss')"
   ]
  },
  {
   "cell_type": "code",
   "execution_count": 15,
   "id": "e6ad21a0-01c3-49e7-9731-a2fd10bc5365",
   "metadata": {},
   "outputs": [
    {
     "data": {
      "text/plain": [
       "{'pass_rate': 73.33333333333333,\n",
       " 'format_error_rate': 0.0,\n",
       " 'api_error_rate': 0.0}"
      ]
     },
     "execution_count": 15,
     "metadata": {},
     "output_type": "execute_result"
    }
   ],
   "source": [
    "calculate_pass_rate(results2['results'])"
   ]
  },
  {
   "cell_type": "code",
   "execution_count": null,
   "id": "e67b3007-ffca-451f-bdd3-781ffb89e156",
   "metadata": {},
   "outputs": [],
   "source": [
    "# Deepsek+Big: 83.666\n",
    "# Deepsek+Small: 73.333\n",
    "# Mixstral+Big: "
   ]
  },
  {
   "cell_type": "code",
   "execution_count": 16,
   "id": "eae38927-b69f-4aac-9274-8d5a61aaf6f1",
   "metadata": {},
   "outputs": [
    {
     "data": {
      "text/plain": [
       "300"
      ]
     },
     "execution_count": 16,
     "metadata": {},
     "output_type": "execute_result"
    }
   ],
   "source": [
    "len(results2['results'])"
   ]
  },
  {
   "cell_type": "code",
   "execution_count": null,
   "id": "28bdedfb-e791-4f19-bde2-e4061230f4b1",
   "metadata": {},
   "outputs": [],
   "source": []
  }
 ],
 "metadata": {
  "kernelspec": {
   "display_name": "ml",
   "language": "python",
   "name": "ml"
  },
  "language_info": {
   "codemirror_mode": {
    "name": "ipython",
    "version": 3
   },
   "file_extension": ".py",
   "mimetype": "text/x-python",
   "name": "python",
   "nbconvert_exporter": "python",
   "pygments_lexer": "ipython3",
   "version": "3.12.3"
  }
 },
 "nbformat": 4,
 "nbformat_minor": 5
}
