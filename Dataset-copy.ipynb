{
 "cells": [
  {
   "cell_type": "code",
   "execution_count": 1,
   "id": "0d1ff8df",
   "metadata": {},
   "outputs": [],
   "source": [
    "%load_ext autoreload\n",
    "%autoreload 2\n",
    "\n",
    "import random\n",
    "import json\n",
    "import asyncio\n",
    "\n",
    "import pandas as pd\n",
    "from datasets import load_dataset\n",
    "from tqdm.asyncio import tqdm_asyncio\n",
    "\n",
    "from predictors import *\n",
    "from llm import *\n",
    "from prompts import *\n",
    "from tools import *\n",
    "from evaluations import *\n",
    "\n",
    "BIG_MODEL = \"gpt-4.1\"\n",
    "MEDIUM_MODEL = \"gpt-4.1-mini\"\n",
    "SMALL_MODEL = \"gpt-4.1-nano\""
   ]
  },
  {
   "cell_type": "code",
   "execution_count": 2,
   "id": "a2ca4d42-e68e-46b4-b12c-dd0e1e92817f",
   "metadata": {},
   "outputs": [
    {
     "data": {
      "text/plain": [
       "Dataset({\n",
       "    features: ['id', 'question', 'chain', 'result', 'result_float', 'equation', 'expression'],\n",
       "    num_rows: 1040\n",
       "})"
      ]
     },
     "execution_count": 2,
     "metadata": {},
     "output_type": "execute_result"
    }
   ],
   "source": [
    "validation2 = load_dataset(\"MU-NLPC/Calc-mawps\", \"default\", split='validation')\n",
    "validation2"
   ]
  },
  {
   "cell_type": "code",
   "execution_count": 26,
   "id": "bae7b4c0-bf13-455f-8d12-350df40d2360",
   "metadata": {},
   "outputs": [
    {
     "data": {
      "text/plain": [
       "Dataset({\n",
       "    features: ['Question', 'Equation', 'Answer', 'Numbers'],\n",
       "    num_rows: 1772\n",
       "})"
      ]
     },
     "execution_count": 26,
     "metadata": {},
     "output_type": "execute_result"
    }
   ],
   "source": [
    "v = load_dataset(\"mwpt5/MAWPS\", split='train')\n",
    "v"
   ]
  },
  {
   "cell_type": "code",
   "execution_count": 31,
   "id": "ec55bbdd-b42b-4275-b2df-33e1b0857bc9",
   "metadata": {},
   "outputs": [],
   "source": [
    "import math\n",
    "def is_integer(x):\n",
    "    return  math.modf(x)[0] < 0.0000001"
   ]
  },
  {
   "cell_type": "code",
   "execution_count": 30,
   "id": "f0775811-4578-419e-8fd6-768323a46a32",
   "metadata": {},
   "outputs": [
    {
     "data": {
      "application/vnd.jupyter.widget-view+json": {
       "model_id": "eee4b6420adb4d11a169841e9ffe8f31",
       "version_major": 2,
       "version_minor": 0
      },
      "text/plain": [
       "Filter:   0%|          | 0/1772 [00:00<?, ? examples/s]"
      ]
     },
     "metadata": {},
     "output_type": "display_data"
    },
    {
     "ename": "NameError",
     "evalue": "name 'math' is not defined",
     "output_type": "error",
     "traceback": [
      "\u001b[0;31m---------------------------------------------------------------------------\u001b[0m",
      "\u001b[0;31mNameError\u001b[0m                                 Traceback (most recent call last)",
      "Cell \u001b[0;32mIn[30], line 1\u001b[0m\n\u001b[0;32m----> 1\u001b[0m v \u001b[38;5;241m=\u001b[39m \u001b[43mv\u001b[49m\u001b[38;5;241;43m.\u001b[39;49m\u001b[43mfilter\u001b[49m\u001b[43m(\u001b[49m\u001b[38;5;28;43;01mlambda\u001b[39;49;00m\u001b[43m \u001b[49m\u001b[43mx\u001b[49m\u001b[43m:\u001b[49m\u001b[43m \u001b[49m\u001b[43mis_integer\u001b[49m\u001b[43m(\u001b[49m\u001b[43mx\u001b[49m\u001b[43m[\u001b[49m\u001b[38;5;124;43m'\u001b[39;49m\u001b[38;5;124;43mAnswer\u001b[39;49m\u001b[38;5;124;43m'\u001b[39;49m\u001b[43m]\u001b[49m\u001b[43m)\u001b[49m\u001b[43m \u001b[49m\u001b[43m)\u001b[49m\n\u001b[1;32m      2\u001b[0m \u001b[38;5;28mlen\u001b[39m(v)\n",
      "File \u001b[0;32m/opt/anaconda3/envs/ml/lib/python3.12/site-packages/datasets/arrow_dataset.py:560\u001b[0m, in \u001b[0;36mtransmit_format.<locals>.wrapper\u001b[0;34m(*args, **kwargs)\u001b[0m\n\u001b[1;32m    553\u001b[0m self_format \u001b[38;5;241m=\u001b[39m {\n\u001b[1;32m    554\u001b[0m     \u001b[38;5;124m\"\u001b[39m\u001b[38;5;124mtype\u001b[39m\u001b[38;5;124m\"\u001b[39m: \u001b[38;5;28mself\u001b[39m\u001b[38;5;241m.\u001b[39m_format_type,\n\u001b[1;32m    555\u001b[0m     \u001b[38;5;124m\"\u001b[39m\u001b[38;5;124mformat_kwargs\u001b[39m\u001b[38;5;124m\"\u001b[39m: \u001b[38;5;28mself\u001b[39m\u001b[38;5;241m.\u001b[39m_format_kwargs,\n\u001b[1;32m    556\u001b[0m     \u001b[38;5;124m\"\u001b[39m\u001b[38;5;124mcolumns\u001b[39m\u001b[38;5;124m\"\u001b[39m: \u001b[38;5;28mself\u001b[39m\u001b[38;5;241m.\u001b[39m_format_columns,\n\u001b[1;32m    557\u001b[0m     \u001b[38;5;124m\"\u001b[39m\u001b[38;5;124moutput_all_columns\u001b[39m\u001b[38;5;124m\"\u001b[39m: \u001b[38;5;28mself\u001b[39m\u001b[38;5;241m.\u001b[39m_output_all_columns,\n\u001b[1;32m    558\u001b[0m }\n\u001b[1;32m    559\u001b[0m \u001b[38;5;66;03m# apply actual function\u001b[39;00m\n\u001b[0;32m--> 560\u001b[0m out: Union[\u001b[38;5;124m\"\u001b[39m\u001b[38;5;124mDataset\u001b[39m\u001b[38;5;124m\"\u001b[39m, \u001b[38;5;124m\"\u001b[39m\u001b[38;5;124mDatasetDict\u001b[39m\u001b[38;5;124m\"\u001b[39m] \u001b[38;5;241m=\u001b[39m \u001b[43mfunc\u001b[49m\u001b[43m(\u001b[49m\u001b[38;5;28;43mself\u001b[39;49m\u001b[43m,\u001b[49m\u001b[43m \u001b[49m\u001b[38;5;241;43m*\u001b[39;49m\u001b[43margs\u001b[49m\u001b[43m,\u001b[49m\u001b[43m \u001b[49m\u001b[38;5;241;43m*\u001b[39;49m\u001b[38;5;241;43m*\u001b[39;49m\u001b[43mkwargs\u001b[49m\u001b[43m)\u001b[49m\n\u001b[1;32m    561\u001b[0m datasets: List[\u001b[38;5;124m\"\u001b[39m\u001b[38;5;124mDataset\u001b[39m\u001b[38;5;124m\"\u001b[39m] \u001b[38;5;241m=\u001b[39m \u001b[38;5;28mlist\u001b[39m(out\u001b[38;5;241m.\u001b[39mvalues()) \u001b[38;5;28;01mif\u001b[39;00m \u001b[38;5;28misinstance\u001b[39m(out, \u001b[38;5;28mdict\u001b[39m) \u001b[38;5;28;01melse\u001b[39;00m [out]\n\u001b[1;32m    562\u001b[0m \u001b[38;5;66;03m# re-apply format to the output\u001b[39;00m\n",
      "File \u001b[0;32m/opt/anaconda3/envs/ml/lib/python3.12/site-packages/datasets/fingerprint.py:442\u001b[0m, in \u001b[0;36mfingerprint_transform.<locals>._fingerprint.<locals>.wrapper\u001b[0;34m(*args, **kwargs)\u001b[0m\n\u001b[1;32m    438\u001b[0m             validate_fingerprint(kwargs[fingerprint_name])\n\u001b[1;32m    440\u001b[0m \u001b[38;5;66;03m# Call actual function\u001b[39;00m\n\u001b[0;32m--> 442\u001b[0m out \u001b[38;5;241m=\u001b[39m \u001b[43mfunc\u001b[49m\u001b[43m(\u001b[49m\u001b[43mdataset\u001b[49m\u001b[43m,\u001b[49m\u001b[43m \u001b[49m\u001b[38;5;241;43m*\u001b[39;49m\u001b[43margs\u001b[49m\u001b[43m,\u001b[49m\u001b[43m \u001b[49m\u001b[38;5;241;43m*\u001b[39;49m\u001b[38;5;241;43m*\u001b[39;49m\u001b[43mkwargs\u001b[49m\u001b[43m)\u001b[49m\n\u001b[1;32m    444\u001b[0m \u001b[38;5;66;03m# Update fingerprint of in-place transforms + update in-place history of transforms\u001b[39;00m\n\u001b[1;32m    446\u001b[0m \u001b[38;5;28;01mif\u001b[39;00m inplace:  \u001b[38;5;66;03m# update after calling func so that the fingerprint doesn't change if the function fails\u001b[39;00m\n",
      "File \u001b[0;32m/opt/anaconda3/envs/ml/lib/python3.12/site-packages/datasets/arrow_dataset.py:3670\u001b[0m, in \u001b[0;36mDataset.filter\u001b[0;34m(self, function, with_indices, with_rank, input_columns, batched, batch_size, keep_in_memory, load_from_cache_file, cache_file_name, writer_batch_size, fn_kwargs, num_proc, suffix_template, new_fingerprint, desc)\u001b[0m\n\u001b[1;32m   3667\u001b[0m \u001b[38;5;28;01mif\u001b[39;00m \u001b[38;5;28mlen\u001b[39m(\u001b[38;5;28mself\u001b[39m) \u001b[38;5;241m==\u001b[39m \u001b[38;5;241m0\u001b[39m:\n\u001b[1;32m   3668\u001b[0m     \u001b[38;5;28;01mreturn\u001b[39;00m \u001b[38;5;28mself\u001b[39m\n\u001b[0;32m-> 3670\u001b[0m indices \u001b[38;5;241m=\u001b[39m \u001b[38;5;28;43mself\u001b[39;49m\u001b[38;5;241;43m.\u001b[39;49m\u001b[43mmap\u001b[49m\u001b[43m(\u001b[49m\n\u001b[1;32m   3671\u001b[0m \u001b[43m    \u001b[49m\u001b[43mfunction\u001b[49m\u001b[38;5;241;43m=\u001b[39;49m\u001b[43mpartial\u001b[49m\u001b[43m(\u001b[49m\n\u001b[1;32m   3672\u001b[0m \u001b[43m        \u001b[49m\u001b[43mget_indices_from_mask_function\u001b[49m\u001b[43m,\u001b[49m\n\u001b[1;32m   3673\u001b[0m \u001b[43m        \u001b[49m\u001b[43mfunction\u001b[49m\u001b[43m,\u001b[49m\n\u001b[1;32m   3674\u001b[0m \u001b[43m        \u001b[49m\u001b[43mbatched\u001b[49m\u001b[43m,\u001b[49m\n\u001b[1;32m   3675\u001b[0m \u001b[43m        \u001b[49m\u001b[43mwith_indices\u001b[49m\u001b[43m,\u001b[49m\n\u001b[1;32m   3676\u001b[0m \u001b[43m        \u001b[49m\u001b[43mwith_rank\u001b[49m\u001b[43m,\u001b[49m\n\u001b[1;32m   3677\u001b[0m \u001b[43m        \u001b[49m\u001b[43minput_columns\u001b[49m\u001b[43m,\u001b[49m\n\u001b[1;32m   3678\u001b[0m \u001b[43m        \u001b[49m\u001b[38;5;28;43mself\u001b[39;49m\u001b[38;5;241;43m.\u001b[39;49m\u001b[43m_indices\u001b[49m\u001b[43m,\u001b[49m\n\u001b[1;32m   3679\u001b[0m \u001b[43m    \u001b[49m\u001b[43m)\u001b[49m\u001b[43m,\u001b[49m\n\u001b[1;32m   3680\u001b[0m \u001b[43m    \u001b[49m\u001b[43mwith_indices\u001b[49m\u001b[38;5;241;43m=\u001b[39;49m\u001b[38;5;28;43;01mTrue\u001b[39;49;00m\u001b[43m,\u001b[49m\n\u001b[1;32m   3681\u001b[0m \u001b[43m    \u001b[49m\u001b[43mwith_rank\u001b[49m\u001b[38;5;241;43m=\u001b[39;49m\u001b[38;5;28;43;01mTrue\u001b[39;49;00m\u001b[43m,\u001b[49m\n\u001b[1;32m   3682\u001b[0m \u001b[43m    \u001b[49m\u001b[43mfeatures\u001b[49m\u001b[38;5;241;43m=\u001b[39;49m\u001b[43mFeatures\u001b[49m\u001b[43m(\u001b[49m\u001b[43m{\u001b[49m\u001b[38;5;124;43m\"\u001b[39;49m\u001b[38;5;124;43mindices\u001b[39;49m\u001b[38;5;124;43m\"\u001b[39;49m\u001b[43m:\u001b[49m\u001b[43m \u001b[49m\u001b[43mValue\u001b[49m\u001b[43m(\u001b[49m\u001b[38;5;124;43m\"\u001b[39;49m\u001b[38;5;124;43muint64\u001b[39;49m\u001b[38;5;124;43m\"\u001b[39;49m\u001b[43m)\u001b[49m\u001b[43m}\u001b[49m\u001b[43m)\u001b[49m\u001b[43m,\u001b[49m\n\u001b[1;32m   3683\u001b[0m \u001b[43m    \u001b[49m\u001b[43mbatched\u001b[49m\u001b[38;5;241;43m=\u001b[39;49m\u001b[38;5;28;43;01mTrue\u001b[39;49;00m\u001b[43m,\u001b[49m\n\u001b[1;32m   3684\u001b[0m \u001b[43m    \u001b[49m\u001b[43mbatch_size\u001b[49m\u001b[38;5;241;43m=\u001b[39;49m\u001b[43mbatch_size\u001b[49m\u001b[43m,\u001b[49m\n\u001b[1;32m   3685\u001b[0m \u001b[43m    \u001b[49m\u001b[43mremove_columns\u001b[49m\u001b[38;5;241;43m=\u001b[39;49m\u001b[38;5;28;43mself\u001b[39;49m\u001b[38;5;241;43m.\u001b[39;49m\u001b[43mcolumn_names\u001b[49m\u001b[43m,\u001b[49m\n\u001b[1;32m   3686\u001b[0m \u001b[43m    \u001b[49m\u001b[43mkeep_in_memory\u001b[49m\u001b[38;5;241;43m=\u001b[39;49m\u001b[43mkeep_in_memory\u001b[49m\u001b[43m,\u001b[49m\n\u001b[1;32m   3687\u001b[0m \u001b[43m    \u001b[49m\u001b[43mload_from_cache_file\u001b[49m\u001b[38;5;241;43m=\u001b[39;49m\u001b[43mload_from_cache_file\u001b[49m\u001b[43m,\u001b[49m\n\u001b[1;32m   3688\u001b[0m \u001b[43m    \u001b[49m\u001b[43mcache_file_name\u001b[49m\u001b[38;5;241;43m=\u001b[39;49m\u001b[43mcache_file_name\u001b[49m\u001b[43m,\u001b[49m\n\u001b[1;32m   3689\u001b[0m \u001b[43m    \u001b[49m\u001b[43mwriter_batch_size\u001b[49m\u001b[38;5;241;43m=\u001b[39;49m\u001b[43mwriter_batch_size\u001b[49m\u001b[43m,\u001b[49m\n\u001b[1;32m   3690\u001b[0m \u001b[43m    \u001b[49m\u001b[43mfn_kwargs\u001b[49m\u001b[38;5;241;43m=\u001b[39;49m\u001b[43mfn_kwargs\u001b[49m\u001b[43m,\u001b[49m\n\u001b[1;32m   3691\u001b[0m \u001b[43m    \u001b[49m\u001b[43mnum_proc\u001b[49m\u001b[38;5;241;43m=\u001b[39;49m\u001b[43mnum_proc\u001b[49m\u001b[43m,\u001b[49m\n\u001b[1;32m   3692\u001b[0m \u001b[43m    \u001b[49m\u001b[43msuffix_template\u001b[49m\u001b[38;5;241;43m=\u001b[39;49m\u001b[43msuffix_template\u001b[49m\u001b[43m,\u001b[49m\n\u001b[1;32m   3693\u001b[0m \u001b[43m    \u001b[49m\u001b[43mnew_fingerprint\u001b[49m\u001b[38;5;241;43m=\u001b[39;49m\u001b[43mnew_fingerprint\u001b[49m\u001b[43m,\u001b[49m\n\u001b[1;32m   3694\u001b[0m \u001b[43m    \u001b[49m\u001b[43minput_columns\u001b[49m\u001b[38;5;241;43m=\u001b[39;49m\u001b[43minput_columns\u001b[49m\u001b[43m,\u001b[49m\n\u001b[1;32m   3695\u001b[0m \u001b[43m    \u001b[49m\u001b[43mdesc\u001b[49m\u001b[38;5;241;43m=\u001b[39;49m\u001b[43mdesc\u001b[49m\u001b[43m \u001b[49m\u001b[38;5;129;43;01mor\u001b[39;49;00m\u001b[43m \u001b[49m\u001b[38;5;124;43m\"\u001b[39;49m\u001b[38;5;124;43mFilter\u001b[39;49m\u001b[38;5;124;43m\"\u001b[39;49m\u001b[43m,\u001b[49m\n\u001b[1;32m   3696\u001b[0m \u001b[43m\u001b[49m\u001b[43m)\u001b[49m\n\u001b[1;32m   3697\u001b[0m new_dataset \u001b[38;5;241m=\u001b[39m copy\u001b[38;5;241m.\u001b[39mdeepcopy(\u001b[38;5;28mself\u001b[39m)\n\u001b[1;32m   3698\u001b[0m new_dataset\u001b[38;5;241m.\u001b[39m_indices \u001b[38;5;241m=\u001b[39m indices\u001b[38;5;241m.\u001b[39mdata\n",
      "File \u001b[0;32m/opt/anaconda3/envs/ml/lib/python3.12/site-packages/datasets/arrow_dataset.py:560\u001b[0m, in \u001b[0;36mtransmit_format.<locals>.wrapper\u001b[0;34m(*args, **kwargs)\u001b[0m\n\u001b[1;32m    553\u001b[0m self_format \u001b[38;5;241m=\u001b[39m {\n\u001b[1;32m    554\u001b[0m     \u001b[38;5;124m\"\u001b[39m\u001b[38;5;124mtype\u001b[39m\u001b[38;5;124m\"\u001b[39m: \u001b[38;5;28mself\u001b[39m\u001b[38;5;241m.\u001b[39m_format_type,\n\u001b[1;32m    555\u001b[0m     \u001b[38;5;124m\"\u001b[39m\u001b[38;5;124mformat_kwargs\u001b[39m\u001b[38;5;124m\"\u001b[39m: \u001b[38;5;28mself\u001b[39m\u001b[38;5;241m.\u001b[39m_format_kwargs,\n\u001b[1;32m    556\u001b[0m     \u001b[38;5;124m\"\u001b[39m\u001b[38;5;124mcolumns\u001b[39m\u001b[38;5;124m\"\u001b[39m: \u001b[38;5;28mself\u001b[39m\u001b[38;5;241m.\u001b[39m_format_columns,\n\u001b[1;32m    557\u001b[0m     \u001b[38;5;124m\"\u001b[39m\u001b[38;5;124moutput_all_columns\u001b[39m\u001b[38;5;124m\"\u001b[39m: \u001b[38;5;28mself\u001b[39m\u001b[38;5;241m.\u001b[39m_output_all_columns,\n\u001b[1;32m    558\u001b[0m }\n\u001b[1;32m    559\u001b[0m \u001b[38;5;66;03m# apply actual function\u001b[39;00m\n\u001b[0;32m--> 560\u001b[0m out: Union[\u001b[38;5;124m\"\u001b[39m\u001b[38;5;124mDataset\u001b[39m\u001b[38;5;124m\"\u001b[39m, \u001b[38;5;124m\"\u001b[39m\u001b[38;5;124mDatasetDict\u001b[39m\u001b[38;5;124m\"\u001b[39m] \u001b[38;5;241m=\u001b[39m \u001b[43mfunc\u001b[49m\u001b[43m(\u001b[49m\u001b[38;5;28;43mself\u001b[39;49m\u001b[43m,\u001b[49m\u001b[43m \u001b[49m\u001b[38;5;241;43m*\u001b[39;49m\u001b[43margs\u001b[49m\u001b[43m,\u001b[49m\u001b[43m \u001b[49m\u001b[38;5;241;43m*\u001b[39;49m\u001b[38;5;241;43m*\u001b[39;49m\u001b[43mkwargs\u001b[49m\u001b[43m)\u001b[49m\n\u001b[1;32m    561\u001b[0m datasets: List[\u001b[38;5;124m\"\u001b[39m\u001b[38;5;124mDataset\u001b[39m\u001b[38;5;124m\"\u001b[39m] \u001b[38;5;241m=\u001b[39m \u001b[38;5;28mlist\u001b[39m(out\u001b[38;5;241m.\u001b[39mvalues()) \u001b[38;5;28;01mif\u001b[39;00m \u001b[38;5;28misinstance\u001b[39m(out, \u001b[38;5;28mdict\u001b[39m) \u001b[38;5;28;01melse\u001b[39;00m [out]\n\u001b[1;32m    562\u001b[0m \u001b[38;5;66;03m# re-apply format to the output\u001b[39;00m\n",
      "File \u001b[0;32m/opt/anaconda3/envs/ml/lib/python3.12/site-packages/datasets/arrow_dataset.py:3055\u001b[0m, in \u001b[0;36mDataset.map\u001b[0;34m(self, function, with_indices, with_rank, input_columns, batched, batch_size, drop_last_batch, remove_columns, keep_in_memory, load_from_cache_file, cache_file_name, writer_batch_size, features, disable_nullable, fn_kwargs, num_proc, suffix_template, new_fingerprint, desc)\u001b[0m\n\u001b[1;32m   3049\u001b[0m \u001b[38;5;28;01mif\u001b[39;00m transformed_dataset \u001b[38;5;129;01mis\u001b[39;00m \u001b[38;5;28;01mNone\u001b[39;00m:\n\u001b[1;32m   3050\u001b[0m     \u001b[38;5;28;01mwith\u001b[39;00m hf_tqdm(\n\u001b[1;32m   3051\u001b[0m         unit\u001b[38;5;241m=\u001b[39m\u001b[38;5;124m\"\u001b[39m\u001b[38;5;124m examples\u001b[39m\u001b[38;5;124m\"\u001b[39m,\n\u001b[1;32m   3052\u001b[0m         total\u001b[38;5;241m=\u001b[39mpbar_total,\n\u001b[1;32m   3053\u001b[0m         desc\u001b[38;5;241m=\u001b[39mdesc \u001b[38;5;129;01mor\u001b[39;00m \u001b[38;5;124m\"\u001b[39m\u001b[38;5;124mMap\u001b[39m\u001b[38;5;124m\"\u001b[39m,\n\u001b[1;32m   3054\u001b[0m     ) \u001b[38;5;28;01mas\u001b[39;00m pbar:\n\u001b[0;32m-> 3055\u001b[0m \u001b[43m        \u001b[49m\u001b[38;5;28;43;01mfor\u001b[39;49;00m\u001b[43m \u001b[49m\u001b[43mrank\u001b[49m\u001b[43m,\u001b[49m\u001b[43m \u001b[49m\u001b[43mdone\u001b[49m\u001b[43m,\u001b[49m\u001b[43m \u001b[49m\u001b[43mcontent\u001b[49m\u001b[43m \u001b[49m\u001b[38;5;129;43;01min\u001b[39;49;00m\u001b[43m \u001b[49m\u001b[43mDataset\u001b[49m\u001b[38;5;241;43m.\u001b[39;49m\u001b[43m_map_single\u001b[49m\u001b[43m(\u001b[49m\u001b[38;5;241;43m*\u001b[39;49m\u001b[38;5;241;43m*\u001b[39;49m\u001b[43mdataset_kwargs\u001b[49m\u001b[43m)\u001b[49m\u001b[43m:\u001b[49m\n\u001b[1;32m   3056\u001b[0m \u001b[43m            \u001b[49m\u001b[38;5;28;43;01mif\u001b[39;49;00m\u001b[43m \u001b[49m\u001b[43mdone\u001b[49m\u001b[43m:\u001b[49m\n\u001b[1;32m   3057\u001b[0m \u001b[43m                \u001b[49m\u001b[43mshards_done\u001b[49m\u001b[43m \u001b[49m\u001b[38;5;241;43m+\u001b[39;49m\u001b[38;5;241;43m=\u001b[39;49m\u001b[43m \u001b[49m\u001b[38;5;241;43m1\u001b[39;49m\n",
      "File \u001b[0;32m/opt/anaconda3/envs/ml/lib/python3.12/site-packages/datasets/arrow_dataset.py:3458\u001b[0m, in \u001b[0;36mDataset._map_single\u001b[0;34m(shard, function, with_indices, with_rank, input_columns, batched, batch_size, drop_last_batch, remove_columns, keep_in_memory, cache_file_name, writer_batch_size, features, disable_nullable, fn_kwargs, new_fingerprint, rank, offset)\u001b[0m\n\u001b[1;32m   3454\u001b[0m indices \u001b[38;5;241m=\u001b[39m \u001b[38;5;28mlist\u001b[39m(\n\u001b[1;32m   3455\u001b[0m     \u001b[38;5;28mrange\u001b[39m(\u001b[38;5;241m*\u001b[39m(\u001b[38;5;28mslice\u001b[39m(i, i \u001b[38;5;241m+\u001b[39m batch_size)\u001b[38;5;241m.\u001b[39mindices(shard\u001b[38;5;241m.\u001b[39mnum_rows)))\n\u001b[1;32m   3456\u001b[0m )  \u001b[38;5;66;03m# Something simpler?\u001b[39;00m\n\u001b[1;32m   3457\u001b[0m \u001b[38;5;28;01mtry\u001b[39;00m:\n\u001b[0;32m-> 3458\u001b[0m     batch \u001b[38;5;241m=\u001b[39m \u001b[43mapply_function_on_filtered_inputs\u001b[49m\u001b[43m(\u001b[49m\n\u001b[1;32m   3459\u001b[0m \u001b[43m        \u001b[49m\u001b[43mbatch\u001b[49m\u001b[43m,\u001b[49m\n\u001b[1;32m   3460\u001b[0m \u001b[43m        \u001b[49m\u001b[43mindices\u001b[49m\u001b[43m,\u001b[49m\n\u001b[1;32m   3461\u001b[0m \u001b[43m        \u001b[49m\u001b[43mcheck_same_num_examples\u001b[49m\u001b[38;5;241;43m=\u001b[39;49m\u001b[38;5;28;43mlen\u001b[39;49m\u001b[43m(\u001b[49m\u001b[43mshard\u001b[49m\u001b[38;5;241;43m.\u001b[39;49m\u001b[43mlist_indexes\u001b[49m\u001b[43m(\u001b[49m\u001b[43m)\u001b[49m\u001b[43m)\u001b[49m\u001b[43m \u001b[49m\u001b[38;5;241;43m>\u001b[39;49m\u001b[43m \u001b[49m\u001b[38;5;241;43m0\u001b[39;49m\u001b[43m,\u001b[49m\n\u001b[1;32m   3462\u001b[0m \u001b[43m        \u001b[49m\u001b[43moffset\u001b[49m\u001b[38;5;241;43m=\u001b[39;49m\u001b[43moffset\u001b[49m\u001b[43m,\u001b[49m\n\u001b[1;32m   3463\u001b[0m \u001b[43m    \u001b[49m\u001b[43m)\u001b[49m\n\u001b[1;32m   3464\u001b[0m \u001b[38;5;28;01mexcept\u001b[39;00m NumExamplesMismatchError:\n\u001b[1;32m   3465\u001b[0m     \u001b[38;5;28;01mraise\u001b[39;00m DatasetTransformationNotAllowedError(\n\u001b[1;32m   3466\u001b[0m         \u001b[38;5;124m\"\u001b[39m\u001b[38;5;124mUsing `.map` in batched mode on a dataset with attached indexes is allowed only if it doesn\u001b[39m\u001b[38;5;124m'\u001b[39m\u001b[38;5;124mt create or remove existing examples. You can first run `.drop_index() to remove your index and then re-add it.\u001b[39m\u001b[38;5;124m\"\u001b[39m\n\u001b[1;32m   3467\u001b[0m     ) \u001b[38;5;28;01mfrom\u001b[39;00m \u001b[38;5;28;01mNone\u001b[39;00m\n",
      "File \u001b[0;32m/opt/anaconda3/envs/ml/lib/python3.12/site-packages/datasets/arrow_dataset.py:3320\u001b[0m, in \u001b[0;36mDataset._map_single.<locals>.apply_function_on_filtered_inputs\u001b[0;34m(pa_inputs, indices, check_same_num_examples, offset)\u001b[0m\n\u001b[1;32m   3318\u001b[0m \u001b[38;5;28;01mif\u001b[39;00m with_rank:\n\u001b[1;32m   3319\u001b[0m     additional_args \u001b[38;5;241m+\u001b[39m\u001b[38;5;241m=\u001b[39m (rank,)\n\u001b[0;32m-> 3320\u001b[0m processed_inputs \u001b[38;5;241m=\u001b[39m \u001b[43mfunction\u001b[49m\u001b[43m(\u001b[49m\u001b[38;5;241;43m*\u001b[39;49m\u001b[43mfn_args\u001b[49m\u001b[43m,\u001b[49m\u001b[43m \u001b[49m\u001b[38;5;241;43m*\u001b[39;49m\u001b[43madditional_args\u001b[49m\u001b[43m,\u001b[49m\u001b[43m \u001b[49m\u001b[38;5;241;43m*\u001b[39;49m\u001b[38;5;241;43m*\u001b[39;49m\u001b[43mfn_kwargs\u001b[49m\u001b[43m)\u001b[49m\n\u001b[1;32m   3321\u001b[0m \u001b[38;5;28;01mif\u001b[39;00m \u001b[38;5;28misinstance\u001b[39m(processed_inputs, LazyDict):\n\u001b[1;32m   3322\u001b[0m     processed_inputs \u001b[38;5;241m=\u001b[39m {\n\u001b[1;32m   3323\u001b[0m         k: v \u001b[38;5;28;01mfor\u001b[39;00m k, v \u001b[38;5;129;01min\u001b[39;00m processed_inputs\u001b[38;5;241m.\u001b[39mdata\u001b[38;5;241m.\u001b[39mitems() \u001b[38;5;28;01mif\u001b[39;00m k \u001b[38;5;129;01mnot\u001b[39;00m \u001b[38;5;129;01min\u001b[39;00m processed_inputs\u001b[38;5;241m.\u001b[39mkeys_to_format\n\u001b[1;32m   3324\u001b[0m     }\n",
      "File \u001b[0;32m/opt/anaconda3/envs/ml/lib/python3.12/site-packages/datasets/arrow_dataset.py:6309\u001b[0m, in \u001b[0;36mget_indices_from_mask_function\u001b[0;34m(function, batched, with_indices, with_rank, input_columns, indices_mapping, *args, **fn_kwargs)\u001b[0m\n\u001b[1;32m   6307\u001b[0m         \u001b[38;5;28;01mif\u001b[39;00m with_rank:\n\u001b[1;32m   6308\u001b[0m             additional_args \u001b[38;5;241m+\u001b[39m\u001b[38;5;241m=\u001b[39m (rank,)\n\u001b[0;32m-> 6309\u001b[0m         mask\u001b[38;5;241m.\u001b[39mappend(\u001b[43mfunction\u001b[49m\u001b[43m(\u001b[49m\u001b[43mexample\u001b[49m\u001b[43m,\u001b[49m\u001b[43m \u001b[49m\u001b[38;5;241;43m*\u001b[39;49m\u001b[43madditional_args\u001b[49m\u001b[43m,\u001b[49m\u001b[43m \u001b[49m\u001b[38;5;241;43m*\u001b[39;49m\u001b[38;5;241;43m*\u001b[39;49m\u001b[43mfn_kwargs\u001b[49m\u001b[43m)\u001b[49m)\n\u001b[1;32m   6310\u001b[0m \u001b[38;5;28;01melse\u001b[39;00m:\n\u001b[1;32m   6311\u001b[0m     \u001b[38;5;66;03m# inputs is a list of columns\u001b[39;00m\n\u001b[1;32m   6312\u001b[0m     columns: List[List] \u001b[38;5;241m=\u001b[39m inputs\n",
      "Cell \u001b[0;32mIn[30], line 1\u001b[0m, in \u001b[0;36m<lambda>\u001b[0;34m(x)\u001b[0m\n\u001b[0;32m----> 1\u001b[0m v \u001b[38;5;241m=\u001b[39m v\u001b[38;5;241m.\u001b[39mfilter(\u001b[38;5;28;01mlambda\u001b[39;00m x: \u001b[43mis_integer\u001b[49m\u001b[43m(\u001b[49m\u001b[43mx\u001b[49m\u001b[43m[\u001b[49m\u001b[38;5;124;43m'\u001b[39;49m\u001b[38;5;124;43mAnswer\u001b[39;49m\u001b[38;5;124;43m'\u001b[39;49m\u001b[43m]\u001b[49m\u001b[43m)\u001b[49m )\n\u001b[1;32m      2\u001b[0m \u001b[38;5;28mlen\u001b[39m(v)\n",
      "Cell \u001b[0;32mIn[29], line 2\u001b[0m, in \u001b[0;36mis_integer\u001b[0;34m(x)\u001b[0m\n\u001b[1;32m      1\u001b[0m \u001b[38;5;28;01mdef\u001b[39;00m \u001b[38;5;21mis_integer\u001b[39m(x):\n\u001b[0;32m----> 2\u001b[0m     \u001b[38;5;28;01mreturn\u001b[39;00m  \u001b[43mmath\u001b[49m\u001b[38;5;241m.\u001b[39mmodf(x)[\u001b[38;5;241m0\u001b[39m] \u001b[38;5;241m<\u001b[39m \u001b[38;5;241m0.0000001\u001b[39m\n",
      "\u001b[0;31mNameError\u001b[0m: name 'math' is not defined"
     ]
    }
   ],
   "source": [
    "v = v.filter(lambda x: is_integer(x['Answer']) )\n",
    "len(v)"
   ]
  },
  {
   "cell_type": "code",
   "execution_count": 32,
   "id": "24f43818-2c87-45a6-b420-3a85c585ba04",
   "metadata": {},
   "outputs": [
    {
     "data": {
      "application/vnd.jupyter.widget-view+json": {
       "model_id": "a1d38da442d64e9bbe7157f2610560a7",
       "version_major": 2,
       "version_minor": 0
      },
      "text/plain": [
       "Filter:   0%|          | 0/1772 [00:00<?, ? examples/s]"
      ]
     },
     "metadata": {},
     "output_type": "display_data"
    },
    {
     "data": {
      "text/plain": [
       "1574"
      ]
     },
     "execution_count": 32,
     "metadata": {},
     "output_type": "execute_result"
    }
   ],
   "source": [
    "v = v.filter(lambda x: is_integer(x['Answer']) and all(is_integer(float(number)) for number in x['Numbers'].split()))\n",
    "len(v)"
   ]
  },
  {
   "cell_type": "code",
   "execution_count": 28,
   "id": "a66a333a-5e4e-44d2-ac89-68bbadf71bdd",
   "metadata": {},
   "outputs": [
    {
     "data": {
      "text/plain": [
       "{'Question': 'Mary is baking a cake . The recipe wants N_00 cups of flour . She already put in N_01 cups . How many cups does she need to add ?',\n",
       " 'Equation': 'N_00 - N_01',\n",
       " 'Answer': 6.0,\n",
       " 'Numbers': '8.0 2.0'}"
      ]
     },
     "execution_count": 28,
     "metadata": {},
     "output_type": "execute_result"
    }
   ],
   "source": [
    "v[0]"
   ]
  },
  {
   "cell_type": "code",
   "execution_count": 34,
   "id": "338e494d-d674-4dd3-90c6-418f97e80a4d",
   "metadata": {},
   "outputs": [
    {
     "data": {
      "application/vnd.jupyter.widget-view+json": {
       "model_id": "0622207460b449d2a6e493dc5c0d5b79",
       "version_major": 2,
       "version_minor": 0
      },
      "text/plain": [
       "Map:   0%|          | 0/1574 [00:00<?, ? examples/s]"
      ]
     },
     "metadata": {},
     "output_type": "display_data"
    },
    {
     "data": {
      "application/vnd.jupyter.widget-view+json": {
       "model_id": "daf70ca175aa45b4b7f0395adad97cee",
       "version_major": 2,
       "version_minor": 0
      },
      "text/plain": [
       "Map:   0%|          | 0/1574 [00:00<?, ? examples/s]"
      ]
     },
     "metadata": {},
     "output_type": "display_data"
    },
    {
     "data": {
      "application/vnd.jupyter.widget-view+json": {
       "model_id": "e82850029aae401fa8278229a69fefeb",
       "version_major": 2,
       "version_minor": 0
      },
      "text/plain": [
       "Casting the dataset:   0%|          | 0/1574 [00:00<?, ? examples/s]"
      ]
     },
     "metadata": {},
     "output_type": "display_data"
    },
    {
     "data": {
      "text/plain": [
       "{'Question': 'Mary is baking a cake . The recipe wants N_00 cups of flour . She already put in N_01 cups . How many cups does she need to add ?',\n",
       " 'Equation': 'N_00 - N_01',\n",
       " 'Answer': 6.0,\n",
       " 'Numbers': '8.0 2.0',\n",
       " 'answer': '6',\n",
       " 'question': 'Mary is baking a cake . The recipe wants 8 cups of flour . She already put in 2 cups . How many cups does she need to add ?'}"
      ]
     },
     "execution_count": 34,
     "metadata": {},
     "output_type": "execute_result"
    }
   ],
   "source": [
    "# Step 1: parse numbers into a list\n",
    "from datasets import Features, Value\n",
    "\n",
    "import re\n",
    "# Step 2: replace N_00, N_01, ... with actual values\n",
    "def instantiate_equation(equation, numbers):\n",
    "    def replacer(match):\n",
    "        idx = int(match.group(1))\n",
    "        return str(numbers[idx])\n",
    "    return re.sub(r'N_(\\d+)', replacer, equation)\n",
    "    \n",
    "def make_question(question, numbers):\n",
    "    numbers = list(map(lambda x: int(round(float(x))), numbers.split()))\n",
    "    return instantiate_equation(question, numbers)\n",
    "    \n",
    "\n",
    "v = v.map(lambda example: {\"answer\": str(round(example[\"Answer\"]))})\n",
    "v = v.map(lambda example: {\"question\": make_question(example[\"Question\"], example[\"Numbers\"])})\n",
    "v = v.cast_column(\"answer\", Value(\"string\"))\n",
    "v[0]"
   ]
  },
  {
   "cell_type": "code",
   "execution_count": 3,
   "id": "8a6dd2dd-07f8-4ed2-a4c4-823dd29a793f",
   "metadata": {},
   "outputs": [
    {
     "data": {
      "text/plain": [
       "731"
      ]
     },
     "execution_count": 3,
     "metadata": {},
     "output_type": "execute_result"
    }
   ],
   "source": [
    "import math\n",
    "validation2 = validation2.filter(lambda x: math.modf(x['result_float'])[0] < 0.00000001)\n",
    "len(validation2)"
   ]
  },
  {
   "cell_type": "code",
   "execution_count": 39,
   "id": "3d394a43-3173-4921-8154-d9ee88431ef6",
   "metadata": {},
   "outputs": [
    {
     "data": {
      "text/plain": [
       "731"
      ]
     },
     "execution_count": 39,
     "metadata": {},
     "output_type": "execute_result"
    }
   ],
   "source": [
    "1040-309"
   ]
  },
  {
   "cell_type": "code",
   "execution_count": null,
   "id": "2115ce2c-e819-4b85-bc97-12d934ea8ae6",
   "metadata": {},
   "outputs": [],
   "source": [
    "non_integer = 0\n",
    "for x in validation2:\n",
    "    c = math.modf(x['result_float'])[0]\n",
    "    if c>0.00000001:\n",
    "        print(x['result_float'],c)\n",
    "        non_integer+=1\n",
    "non_integer, len(validation2)"
   ]
  },
  {
   "cell_type": "code",
   "execution_count": 2,
   "id": "06960a84",
   "metadata": {},
   "outputs": [],
   "source": [
    "dataset = load_dataset(\"gsm8k\", \"main\")"
   ]
  },
  {
   "cell_type": "code",
   "execution_count": 3,
   "id": "b3582b72-ee72-4d64-bb6b-eeb02bc00a5b",
   "metadata": {},
   "outputs": [],
   "source": [
    "training, validation = build_datasets(dataset, 1000, 0.7)"
   ]
  },
  {
   "cell_type": "code",
   "execution_count": 3,
   "id": "c5534ca2-4a94-4c77-a5fb-181aa51da4f9",
   "metadata": {},
   "outputs": [],
   "source": [
    "training, validation = build_datasets(dataset, len(dataset['train']), 0.7)"
   ]
  },
  {
   "cell_type": "code",
   "execution_count": 82,
   "id": "5a334ed1-6acb-49ee-82b5-06bcae00136e",
   "metadata": {},
   "outputs": [
    {
     "data": {
      "text/plain": [
       "1500"
      ]
     },
     "execution_count": 82,
     "metadata": {},
     "output_type": "execute_result"
    }
   ],
   "source": [
    "training, validation = build_datasets(dataset, 1500, 0.7)\n",
    "len(training)+len(validation)"
   ]
  },
  {
   "cell_type": "code",
   "execution_count": 4,
   "id": "da01a9ac-c527-4bda-a6db-a772b39a53f1",
   "metadata": {},
   "outputs": [
    {
     "data": {
      "application/vnd.jupyter.widget-view+json": {
       "model_id": "56f6946ff34c450e950b1c5a69f09357",
       "version_major": 2,
       "version_minor": 0
      },
      "text/plain": [
       "Map:   0%|          | 0/731 [00:00<?, ? examples/s]"
      ]
     },
     "metadata": {},
     "output_type": "display_data"
    },
    {
     "data": {
      "application/vnd.jupyter.widget-view+json": {
       "model_id": "79c9e6c29c1742e7b9763f66fac16e28",
       "version_major": 2,
       "version_minor": 0
      },
      "text/plain": [
       "Casting the dataset:   0%|          | 0/731 [00:00<?, ? examples/s]"
      ]
     },
     "metadata": {},
     "output_type": "display_data"
    },
    {
     "data": {
      "text/plain": [
       "{'id': 'mawps__qA0gWJatQEeMzvOw',\n",
       " 'question': 'A painter needed to paint 12 rooms in a building. Each room takes 7 hours to paint. If he already painted 5 rooms, how much longer will he take to paint the rest?',\n",
       " 'chain': '<gadget id=\"calculator\">12 - 5</gadget>\\n<output>7</output>\\n\\n<gadget id=\"calculator\">7 * 7</gadget>\\n<output>49</output>\\n\\n<result>49</result>',\n",
       " 'result': '49',\n",
       " 'result_float': 49.0,\n",
       " 'equation': 'x=(7.0*(12.0-5.0))',\n",
       " 'expression': '(7.0*(12.0-5.0))',\n",
       " 'answer': '49'}"
      ]
     },
     "execution_count": 4,
     "metadata": {},
     "output_type": "execute_result"
    }
   ],
   "source": [
    "from datasets import Features, Value\n",
    "\n",
    "validation2 = validation2.map(lambda example: {\"answer\": str(round(example[\"result_float\"]))})\n",
    "validation2 = validation2.cast_column(\"answer\", Value(\"string\"))\n",
    "\n",
    "validation2[0]"
   ]
  },
  {
   "cell_type": "code",
   "execution_count": null,
   "id": "0b015e89-006a-411b-af54-9e30ecb91189",
   "metadata": {},
   "outputs": [],
   "source": [
    "len(training)"
   ]
  },
  {
   "cell_type": "code",
   "execution_count": 65,
   "id": "420d7468-4d6b-42ae-9175-256a24f1f3c9",
   "metadata": {},
   "outputs": [
    {
     "data": {
      "text/plain": [
       "600"
      ]
     },
     "execution_count": 65,
     "metadata": {},
     "output_type": "execute_result"
    }
   ],
   "source": [
    "len(new_validation)"
   ]
  },
  {
   "cell_type": "code",
   "execution_count": 70,
   "id": "34d3cd09-f994-4f35-8861-cf45d802f971",
   "metadata": {},
   "outputs": [
    {
     "name": "stderr",
     "output_type": "stream",
     "text": [
      "100%|████████████████████████████████████████| 300/300 [00:21<00:00, 13.64it/s]\n"
     ]
    },
    {
     "data": {
      "text/plain": [
       "{'pass_rate': 98.0, 'format_error_rate': 0.0, 'api_error_rate': 0.0}"
      ]
     },
     "execution_count": 70,
     "metadata": {},
     "output_type": "execute_result"
    }
   ],
   "source": [
    "cfg = configure(BIG_MODEL, 'predict_naive')\n",
    "results = await evaluate(list(v)[:300], *cfg, max_concurrent_requests=10)\n",
    "calculate_pass_rate(results['results'])"
   ]
  },
  {
   "cell_type": "code",
   "execution_count": 68,
   "id": "39640116-7c0f-49df-b824-a6ae294049bf",
   "metadata": {},
   "outputs": [
    {
     "name": "stderr",
     "output_type": "stream",
     "text": [
      "100%|████████████████████████████████████████| 300/300 [00:23<00:00, 13.01it/s]\n"
     ]
    },
    {
     "data": {
      "text/plain": [
       "{'pass_rate': 59.333333333333336,\n",
       " 'format_error_rate': 0.0,\n",
       " 'api_error_rate': 0.0}"
      ]
     },
     "execution_count": 68,
     "metadata": {},
     "output_type": "execute_result"
    }
   ],
   "source": [
    "cfg = configure(BIG_MODEL, 'predict_naive')\n",
    "results = await evaluate(validation, *cfg, max_concurrent_requests=10)\n",
    "calculate_pass_rate(results['results'])"
   ]
  },
  {
   "cell_type": "code",
   "execution_count": 35,
   "id": "a7b32a8d-5526-4fe7-a875-3ae975ad8fd5",
   "metadata": {},
   "outputs": [
    {
     "name": "stderr",
     "output_type": "stream",
     "text": [
      "100%|█████████████████████████████████████████| 300/300 [00:27<00:00, 10.78it/s]\n"
     ]
    }
   ],
   "source": [
    "\n",
    "from openai import AsyncOpenAI\n",
    "\n",
    "\n",
    "ooclient = AsyncOpenAI(\n",
    "    api_key='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',  # Ensure your API key is set as an environment variable\n",
    "    base_url=\"https://openrouter.ai/api/v1\"\n",
    ")\n",
    "\n",
    "async def llama_llm(messages):\n",
    "    # Define the conversation\n",
    "    response = await ooclient.chat.completions.create(\n",
    "        model=\"deepseek/deepseek-r1-distill-llama-8b\",  # Replace with your chosen model\n",
    "        messages=messages,\n",
    "        temperature=0,\n",
    "    )\n",
    "    return response.choices[0].message.content\n",
    "    \n",
    "async def predict_naive_llama(question):\n",
    "    prompt = make_naive_prompt(question)\n",
    "    result = await call_llm(prompt, llama_llm)\n",
    "    final_result = post_processing(prompt, result)\n",
    "    return final_result\n",
    "\n",
    "\n",
    "results = await evaluate(list(v)[:300], predict_naive_llama, 'llama', max_concurrent_requests=10)"
   ]
  },
  {
   "cell_type": "code",
   "execution_count": 36,
   "id": "8fc5eadc-2d30-4ee7-9445-514d9d3a2f25",
   "metadata": {},
   "outputs": [
    {
     "data": {
      "text/plain": [
       "'¡Hola! ¿En qué puedo ayudarte?'"
      ]
     },
     "execution_count": 36,
     "metadata": {},
     "output_type": "execute_result"
    }
   ],
   "source": [
    "await llama_llm([{'role':'user', 'content':'hola'}])"
   ]
  },
  {
   "cell_type": "code",
   "execution_count": 37,
   "id": "fc4ec08a-13a6-4052-ad0d-b23f71dcdef9",
   "metadata": {},
   "outputs": [
    {
     "data": {
      "text/plain": [
       "{'pass_rate': 97.0, 'format_error_rate': 0.0, 'api_error_rate': 0.0}"
      ]
     },
     "execution_count": 37,
     "metadata": {},
     "output_type": "execute_result"
    }
   ],
   "source": [
    "calculate_pass_rate(results['results'])"
   ]
  },
  {
   "cell_type": "code",
   "execution_count": 11,
   "id": "ab950795-a1ab-4338-91b6-b5fdb99c7fbf",
   "metadata": {},
   "outputs": [
    {
     "data": {
      "text/plain": [
       "{'api_error': False,\n",
       " 'format_error': False,\n",
       " 'pass': False,\n",
       " 'prompt': '\\nYou are an expert at solving math word problems. Given a question, provide a solution as a numerical value only. \\nReturn the numerical value only.\\n\\n<question>\\nBob is tilling a plot of his garden. The plot is 110 feet wide by 120 feet long. His tiller digs a swath two feet wide, and he can till 1 foot of ground in about 2 seconds. How long will it take him to till this plot of land, in minutes?\\n</question>\\n\\nReturn the numerical value only. No characters, no reasoning. Only an integer.\\n',\n",
       " 'response': '660',\n",
       " 'predicted': 660,\n",
       " 'predicted_thoughts': None,\n",
       " 'question': 'Bob is tilling a plot of his garden. The plot is 110 feet wide by 120 feet long. His tiller digs a swath two feet wide, and he can till 1 foot of ground in about 2 seconds. How long will it take him to till this plot of land, in minutes?',\n",
       " 'thoughts': \"If Bob goes along the side that's 120 feet long, he will till 110 / 2 = 55 rows.\\nEach of these rows are 120 feet long, so he will push the tiller a total of 120 * 55 = <<120*55=6600>>6,600 feet.\\nHe tills 1 linear foot of ground every 2 seconds, so it will take him 2 * 6,600 = 13,200 seconds to till this plot\\n13,200 seconds is 13,2000 / 60 = <<13200/60=220>>220 minutes\",\n",
       " 'answer': '220'}"
      ]
     },
     "execution_count": 11,
     "metadata": {},
     "output_type": "execute_result"
    }
   ],
   "source": [
    "results['results'][4]"
   ]
  },
  {
   "cell_type": "markdown",
   "id": "0e5cc2ee-614e-4d0e-8de4-b2798480d915",
   "metadata": {},
   "source": [
    "MU-NLPC/Calc-mawps\n",
    "Small model: 95.07\n",
    "Medium model: 89.60\n",
    "Big model: 87.96\n",
    "\n",
    "mwpt5/MAWPS\n",
    "Small model: 84.56\n",
    "Medium model: 97.14\n",
    "Big model: 98.15\n",
    "\n",
    "mwpt5/MAWPS + gsm8k\n",
    "Big model: 79.16 (constatado analiticamente)"
   ]
  },
  {
   "cell_type": "code",
   "execution_count": 64,
   "id": "e5aa8990-f3ae-4ac9-a3a6-4143c4ef6190",
   "metadata": {},
   "outputs": [],
   "source": [
    "new_validation = list(v)[:300]+validation"
   ]
  },
  {
   "cell_type": "code",
   "execution_count": 51,
   "id": "b1c4f5f9-1989-4d6b-9616-5771e719795a",
   "metadata": {},
   "outputs": [
    {
     "data": {
      "text/plain": [
       "{'api_error': False,\n",
       " 'format_error': False,\n",
       " 'pass': False,\n",
       " 'prompt': '\\nYou are an expert at solving math word problems. Given a question, provide a solution as a numerical value only. \\nReturn the numerical value only.\\n\\n<question>\\nTheresa has 32 crayons . Janice has 12 crayons . She shares 13 with Nancy . How many crayons will Theresa have ?\\n</question>\\n',\n",
       " 'response': '32',\n",
       " 'predicted': 32,\n",
       " 'predicted_thoughts': None,\n",
       " 'Question': 'Theresa has N_00 crayons . Janice has N_01 crayons . She shares N_02 with Nancy . How many crayons will Theresa have ?',\n",
       " 'Equation': 'N_00 - N_02',\n",
       " 'Answer': 19.0,\n",
       " 'Numbers': '32.0 12.0 13.0',\n",
       " 'answer': '19',\n",
       " 'question': 'Theresa has 32 crayons . Janice has 12 crayons . She shares 13 with Nancy . How many crayons will Theresa have ?'}"
      ]
     },
     "execution_count": 51,
     "metadata": {},
     "output_type": "execute_result"
    }
   ],
   "source": [
    "wrong = []\n",
    "for i,x in enumerate(results['results']):\n",
    "    if not x['pass']:\n",
    "        wrong.append(i)\n",
    "results['results'][wrong[4]]"
   ]
  },
  {
   "cell_type": "code",
   "execution_count": 73,
   "id": "c473abe9-2b80-4df6-abcc-6a4fab3b7c6c",
   "metadata": {},
   "outputs": [
    {
     "data": {
      "text/plain": [
       "700"
      ]
     },
     "execution_count": 73,
     "metadata": {},
     "output_type": "execute_result"
    }
   ],
   "source": [
    "len(ds['train'])"
   ]
  },
  {
   "cell_type": "code",
   "execution_count": 77,
   "id": "6628bd3e-a512-4c77-ac74-4733323cc385",
   "metadata": {},
   "outputs": [
    {
     "data": {
      "text/plain": [
       "0.30001338150675766"
      ]
     },
     "execution_count": 77,
     "metadata": {},
     "output_type": "execute_result"
    }
   ],
   "source": [
    "2242/(2242+5231)"
   ]
  },
  {
   "cell_type": "code",
   "execution_count": 83,
   "id": "f16ee89e-3913-4cdb-90a4-fd4632b6daee",
   "metadata": {},
   "outputs": [
    {
     "data": {
      "text/plain": [
       "1574"
      ]
     },
     "execution_count": 83,
     "metadata": {},
     "output_type": "execute_result"
    }
   ],
   "source": [
    "len(v)"
   ]
  },
  {
   "cell_type": "code",
   "execution_count": 78,
   "id": "2a80015c-0451-40b8-815d-0b8b552ee96a",
   "metadata": {},
   "outputs": [
    {
     "data": {
      "text/plain": [
       "1101"
      ]
     },
     "execution_count": 78,
     "metadata": {},
     "output_type": "execute_result"
    }
   ],
   "source": [
    "lv = len(v)\n",
    "lt = int(lv*0.7)\n",
    "lt"
   ]
  },
  {
   "cell_type": "code",
   "execution_count": 85,
   "id": "6c7f249d-43f7-44f4-8c6b-ee032dd7f32a",
   "metadata": {},
   "outputs": [
    {
     "data": {
      "text/plain": [
       "(1050, 450)"
      ]
     },
     "execution_count": 85,
     "metadata": {},
     "output_type": "execute_result"
    }
   ],
   "source": [
    "ds = {\n",
    "    'train': training,\n",
    "    'valid': validation,\n",
    "}\n",
    "len(ds['train']), len(ds['valid'])"
   ]
  },
  {
   "cell_type": "code",
   "execution_count": 86,
   "id": "097df023-5ffa-4e96-a84a-05925f00d9d7",
   "metadata": {},
   "outputs": [
    {
     "data": {
      "text/plain": [
       "(2151, 923)"
      ]
     },
     "execution_count": 86,
     "metadata": {},
     "output_type": "execute_result"
    }
   ],
   "source": [
    "ds = {\n",
    "    'train': training+list(v)[:lt],\n",
    "    'valid': validation+list(v)[lt:],\n",
    "}\n",
    "len(ds['train']), len(ds['valid'])"
   ]
  },
  {
   "cell_type": "code",
   "execution_count": 87,
   "id": "11a6e677-97d5-49db-a3b3-ed5b04d4b15f",
   "metadata": {},
   "outputs": [
    {
     "name": "stderr",
     "output_type": "stream",
     "text": [
      "  7%|██▊                                    | 156/2151 [00:10<02:11, 15.22it/s]"
     ]
    },
    {
     "name": "stdout",
     "output_type": "stream",
     "text": [
      "Exception: invalid literal for int() with base 10: '4 0'\n"
     ]
    },
    {
     "name": "stderr",
     "output_type": "stream",
     "text": [
      " 17%|██████▋                                | 366/2151 [00:25<01:42, 17.50it/s]"
     ]
    },
    {
     "name": "stdout",
     "output_type": "stream",
     "text": [
      "Exception: invalid literal for int() with base 10: '- Total contribution from students'\n"
     ]
    },
    {
     "name": "stderr",
     "output_type": "stream",
     "text": [
      " 34%|█████████████▍                         | 739/2151 [00:45<01:14, 18.94it/s]"
     ]
    },
    {
     "name": "stdout",
     "output_type": "stream",
     "text": [
      "Exception: invalid literal for int() with base 10: '£12'\n"
     ]
    },
    {
     "name": "stderr",
     "output_type": "stream",
     "text": [
      " 38%|██████████████▉                        | 824/2151 [00:50<01:05, 20.21it/s]"
     ]
    },
    {
     "name": "stdout",
     "output_type": "stream",
     "text": [
      "Exception: invalid literal for int() with base 10: '- Cookies'\n"
     ]
    },
    {
     "name": "stderr",
     "output_type": "stream",
     "text": [
      " 48%|██████████████████▎                   | 1038/2151 [01:06<01:05, 16.96it/s]"
     ]
    },
    {
     "name": "stdout",
     "output_type": "stream",
     "text": [
      "Exception: invalid literal for int() with base 10: '- Mika initially had 20 stickers'\n"
     ]
    },
    {
     "name": "stderr",
     "output_type": "stream",
     "text": [
      " 49%|██████████████████▋                   | 1061/2151 [01:09<02:51,  6.36it/s]"
     ]
    },
    {
     "name": "stdout",
     "output_type": "stream",
     "text": [
      "Exception: invalid literal for int() with base 10: '9 0'\n"
     ]
    },
    {
     "name": "stderr",
     "output_type": "stream",
     "text": [
      " 79%|██████████████████████████████▏       | 1707/2151 [01:47<00:26, 16.75it/s]"
     ]
    },
    {
     "name": "stdout",
     "output_type": "stream",
     "text": [
      "Exception: invalid literal for int() with base 10: '4 million'\n"
     ]
    },
    {
     "name": "stderr",
     "output_type": "stream",
     "text": [
      " 87%|█████████████████████████████████▏    | 1878/2151 [02:00<00:26, 10.39it/s]"
     ]
    },
    {
     "name": "stdout",
     "output_type": "stream",
     "text": [
      "Exception: invalid literal for int() with base 10: '- Weasels'\n"
     ]
    },
    {
     "name": "stderr",
     "output_type": "stream",
     "text": [
      " 92%|██████████████████████████████████▊   | 1971/2151 [02:07<00:14, 12.49it/s]"
     ]
    },
    {
     "name": "stdout",
     "output_type": "stream",
     "text": [
      "Exception: invalid literal for int() with base 10: '- Total tickets'\n"
     ]
    },
    {
     "name": "stderr",
     "output_type": "stream",
     "text": [
      "100%|██████████████████████████████████████| 2151/2151 [02:20<00:00, 15.33it/s]\n",
      "  3%|█▎                                      | 68/2151 [00:05<02:08, 16.21it/s]"
     ]
    },
    {
     "name": "stdout",
     "output_type": "stream",
     "text": [
      "Exception: invalid literal for int() with base 10: '5 cases and 0 extra boxes'\n"
     ]
    },
    {
     "name": "stderr",
     "output_type": "stream",
     "text": [
      " 18%|███████▏                               | 396/2151 [00:30<01:41, 17.29it/s]"
     ]
    },
    {
     "name": "stdout",
     "output_type": "stream",
     "text": [
      "Exception: invalid literal for int() with base 10: '2 cases and 0 extra boxes'\n"
     ]
    },
    {
     "name": "stderr",
     "output_type": "stream",
     "text": [
      " 36%|█████████████▉                         | 768/2151 [00:57<01:21, 16.99it/s]"
     ]
    },
    {
     "name": "stdout",
     "output_type": "stream",
     "text": [
      "Exception: invalid literal for int() with base 10: '4 boxes 0 gumballs'\n"
     ]
    },
    {
     "name": "stderr",
     "output_type": "stream",
     "text": [
      " 51%|███████████████████▍                  | 1103/2151 [01:22<01:09, 15.18it/s]"
     ]
    },
    {
     "name": "stdout",
     "output_type": "stream",
     "text": [
      "Exception: invalid literal for int() with base 10: '9 0'\n"
     ]
    },
    {
     "name": "stderr",
     "output_type": "stream",
     "text": [
      " 65%|████████████████████████▊             | 1407/2151 [01:44<01:02, 11.97it/s]"
     ]
    },
    {
     "name": "stdout",
     "output_type": "stream",
     "text": [
      "Exception: invalid literal for int() with base 10: '1 case plus 0 boxes'\n"
     ]
    },
    {
     "name": "stderr",
     "output_type": "stream",
     "text": [
      " 85%|████████████████████████████████▏     | 1823/2151 [02:14<00:22, 14.91it/s]"
     ]
    },
    {
     "name": "stdout",
     "output_type": "stream",
     "text": [
      "Exception: invalid literal for int() with base 10: '68 bolts and 39 nuts'\n"
     ]
    },
    {
     "name": "stderr",
     "output_type": "stream",
     "text": [
      "100%|██████████████████████████████████████| 2151/2151 [02:38<00:00, 13.56it/s]\n",
      "  3%|█▏                                      | 67/2151 [00:05<03:13, 10.76it/s]"
     ]
    },
    {
     "name": "stdout",
     "output_type": "stream",
     "text": [
      "Exception: invalid literal for int() with base 10: '4 0'\n"
     ]
    },
    {
     "name": "stderr",
     "output_type": "stream",
     "text": [
      " 40%|███████████████▌                       | 857/2151 [01:08<01:58, 10.93it/s]"
     ]
    },
    {
     "name": "stdout",
     "output_type": "stream",
     "text": [
      "Exception: invalid literal for int() with base 10: '£11'\n"
     ]
    },
    {
     "name": "stderr",
     "output_type": "stream",
     "text": [
      " 76%|████████████████████████████▊         | 1629/2151 [02:06<00:33, 15.78it/s]"
     ]
    },
    {
     "name": "stdout",
     "output_type": "stream",
     "text": [
      "Exception: invalid literal for int() with base 10: ' ninety-three'\n"
     ]
    },
    {
     "name": "stderr",
     "output_type": "stream",
     "text": [
      " 82%|███████████████████████████████▏      | 1762/2151 [02:15<00:28, 13.50it/s]"
     ]
    },
    {
     "name": "stdout",
     "output_type": "stream",
     "text": [
      "Exception: invalid literal for int() with base 10: '4 million'\n"
     ]
    },
    {
     "name": "stderr",
     "output_type": "stream",
     "text": [
      " 94%|███████████████████████████████████▋  | 2017/2151 [02:34<00:08, 15.49it/s]"
     ]
    },
    {
     "name": "stdout",
     "output_type": "stream",
     "text": [
      "Exception: invalid literal for int() with base 10: '35%'\n"
     ]
    },
    {
     "name": "stderr",
     "output_type": "stream",
     "text": [
      "100%|██████████████████████████████████████| 2151/2151 [02:44<00:00, 13.04it/s]\n",
      " 16%|██████▏                                 | 144/923 [00:07<00:44, 17.59it/s]"
     ]
    },
    {
     "name": "stdout",
     "output_type": "stream",
     "text": [
      "Exception: invalid literal for int() with base 10: '24 * 0'\n"
     ]
    },
    {
     "name": "stderr",
     "output_type": "stream",
     "text": [
      " 28%|███████████▏                            | 259/923 [00:14<00:48, 13.64it/s]"
     ]
    },
    {
     "name": "stdout",
     "output_type": "stream",
     "text": [
      "Exception: invalid literal for int() with base 10: '37 2 2'\n"
     ]
    },
    {
     "name": "stderr",
     "output_type": "stream",
     "text": [
      " 43%|█████████████████▏                      | 398/923 [00:22<00:28, 18.75it/s]"
     ]
    },
    {
     "name": "stdout",
     "output_type": "stream",
     "text": [
      "Exception: invalid literal for int() with base 10: ' 4 hours'\n"
     ]
    },
    {
     "name": "stderr",
     "output_type": "stream",
     "text": [
      " 91%|████████████████████████████████████▍   | 841/923 [00:49<00:03, 21.78it/s]"
     ]
    },
    {
     "name": "stdout",
     "output_type": "stream",
     "text": [
      "Exception: invalid literal for int() with base 10: 'orn 3 miles/day for 3 years (from age 13 to 16)'\n"
     ]
    },
    {
     "name": "stderr",
     "output_type": "stream",
     "text": [
      "100%|████████████████████████████████████████| 923/923 [00:53<00:00, 17.10it/s]\n",
      " 40%|████████████████                        | 370/923 [00:27<00:35, 15.71it/s]"
     ]
    },
    {
     "name": "stdout",
     "output_type": "stream",
     "text": [
      "Exception: invalid literal for int() with base 10: '3 cases and 0 extra boxes'\n"
     ]
    },
    {
     "name": "stderr",
     "output_type": "stream",
     "text": [
      "100%|████████████████████████████████████████| 923/923 [01:07<00:00, 13.68it/s]\n",
      " 14%|█████▊                                  | 133/923 [00:10<00:57, 13.78it/s]"
     ]
    },
    {
     "name": "stdout",
     "output_type": "stream",
     "text": [
      "Exception: invalid literal for int() with base 10: '90%'\n"
     ]
    },
    {
     "name": "stderr",
     "output_type": "stream",
     "text": [
      "100%|████████████████████████████████████████| 923/923 [01:13<00:00, 12.60it/s]\n"
     ]
    }
   ],
   "source": [
    "all_results = []\n",
    "for ds_name in ds.keys():\n",
    "    for model in [SMALL_MODEL, MEDIUM_MODEL, BIG_MODEL]:\n",
    "        cfg = configure(model, 'predict_naive')\n",
    "        results = await evaluate(ds[ds_name], *cfg, max_concurrent_requests=10)\n",
    "        \n",
    "        results['metrics'] = calculate_pass_rate(results['results'])\n",
    "        results['model'] = model\n",
    "        results['dataset'] = ds_name\n",
    "        all_results.append(results.copy())"
   ]
  },
  {
   "cell_type": "code",
   "execution_count": 90,
   "id": "a2450e76-6d58-4f95-8eb0-a1b2751f3d65",
   "metadata": {},
   "outputs": [
    {
     "data": {
      "text/html": [
       "<div>\n",
       "<style scoped>\n",
       "    .dataframe tbody tr th:only-of-type {\n",
       "        vertical-align: middle;\n",
       "    }\n",
       "\n",
       "    .dataframe tbody tr th {\n",
       "        vertical-align: top;\n",
       "    }\n",
       "\n",
       "    .dataframe thead th {\n",
       "        text-align: right;\n",
       "    }\n",
       "</style>\n",
       "<table border=\"1\" class=\"dataframe\">\n",
       "  <thead>\n",
       "    <tr style=\"text-align: right;\">\n",
       "      <th></th>\n",
       "      <th>pass_rate</th>\n",
       "      <th>format_error_rate</th>\n",
       "      <th>api_error_rate</th>\n",
       "      <th>model</th>\n",
       "      <th>dataset</th>\n",
       "    </tr>\n",
       "  </thead>\n",
       "  <tbody>\n",
       "    <tr>\n",
       "      <th>0</th>\n",
       "      <td>56.578336</td>\n",
       "      <td>0.418410</td>\n",
       "      <td>0.0</td>\n",
       "      <td>gpt-4.1-nano</td>\n",
       "      <td>train</td>\n",
       "    </tr>\n",
       "    <tr>\n",
       "      <th>1</th>\n",
       "      <td>73.733147</td>\n",
       "      <td>0.278940</td>\n",
       "      <td>0.0</td>\n",
       "      <td>gpt-4.1-mini</td>\n",
       "      <td>train</td>\n",
       "    </tr>\n",
       "    <tr>\n",
       "      <th>2</th>\n",
       "      <td>77.684798</td>\n",
       "      <td>0.232450</td>\n",
       "      <td>0.0</td>\n",
       "      <td>gpt-4.1</td>\n",
       "      <td>train</td>\n",
       "    </tr>\n",
       "    <tr>\n",
       "      <th>3</th>\n",
       "      <td>57.204767</td>\n",
       "      <td>0.433369</td>\n",
       "      <td>0.0</td>\n",
       "      <td>gpt-4.1-nano</td>\n",
       "      <td>valid</td>\n",
       "    </tr>\n",
       "    <tr>\n",
       "      <th>4</th>\n",
       "      <td>74.214518</td>\n",
       "      <td>0.108342</td>\n",
       "      <td>0.0</td>\n",
       "      <td>gpt-4.1-mini</td>\n",
       "      <td>valid</td>\n",
       "    </tr>\n",
       "    <tr>\n",
       "      <th>5</th>\n",
       "      <td>78.981582</td>\n",
       "      <td>0.108342</td>\n",
       "      <td>0.0</td>\n",
       "      <td>gpt-4.1</td>\n",
       "      <td>valid</td>\n",
       "    </tr>\n",
       "  </tbody>\n",
       "</table>\n",
       "</div>"
      ],
      "text/plain": [
       "   pass_rate  format_error_rate  api_error_rate         model dataset\n",
       "0  56.578336           0.418410             0.0  gpt-4.1-nano   train\n",
       "1  73.733147           0.278940             0.0  gpt-4.1-mini   train\n",
       "2  77.684798           0.232450             0.0       gpt-4.1   train\n",
       "3  57.204767           0.433369             0.0  gpt-4.1-nano   valid\n",
       "4  74.214518           0.108342             0.0  gpt-4.1-mini   valid\n",
       "5  78.981582           0.108342             0.0       gpt-4.1   valid"
      ]
     },
     "execution_count": 90,
     "metadata": {},
     "output_type": "execute_result"
    }
   ],
   "source": [
    "rows = [\n",
    "    {\n",
    "        **r['metrics'],\n",
    "        'model': r['model'],\n",
    "        'dataset': r['dataset']\n",
    "    }\n",
    "    for r in all_results\n",
    "]\n",
    "\n",
    "df_metrics = pd.DataFrame(rows)\n",
    "df_metrics"
   ]
  },
  {
   "cell_type": "code",
   "execution_count": 89,
   "id": "0792666f-62b5-4325-9a9d-57c29de3a9c0",
   "metadata": {},
   "outputs": [],
   "source": [
    "import pickle\n",
    "with open('./data/mixture_dataset_naive.pkl', 'wb') as f:\n",
    "    pickle.dump(all_results, f)"
   ]
  },
  {
   "cell_type": "code",
   "execution_count": null,
   "id": "65b59668-a6fb-4bfe-817b-08c36ac0fa59",
   "metadata": {},
   "outputs": [],
   "source": [
    "with open('./data/mixture_dataset_naive.pkl', 'rb') as f:\n",
    "    all_results = pickle.load(f)"
   ]
  },
  {
   "cell_type": "code",
   "execution_count": 92,
   "id": "b7d22589-857f-4bcb-aeff-7b977f1d058a",
   "metadata": {},
   "outputs": [],
   "source": [
    "from collections import defaultdict\n",
    "\n",
    "rows = defaultdict(dict)\n",
    "for r in all_results:\n",
    "    ds_name = r['dataset']\n",
    "    model_name = r['model']\n",
    "\n",
    "    for item in r['results']:\n",
    "        question = item['question']\n",
    "        result = item['pass']\n",
    "        rows[question]['dataset'] = ds_name\n",
    "        rows[question][model_name] = result"
   ]
  },
  {
   "cell_type": "code",
   "execution_count": 94,
   "id": "1f9c7de9-6786-4900-888d-a44e6d6c84b9",
   "metadata": {},
   "outputs": [
    {
     "data": {
      "text/html": [
       "<div>\n",
       "<style scoped>\n",
       "    .dataframe tbody tr th:only-of-type {\n",
       "        vertical-align: middle;\n",
       "    }\n",
       "\n",
       "    .dataframe tbody tr th {\n",
       "        vertical-align: top;\n",
       "    }\n",
       "\n",
       "    .dataframe thead th {\n",
       "        text-align: right;\n",
       "    }\n",
       "</style>\n",
       "<table border=\"1\" class=\"dataframe\">\n",
       "  <thead>\n",
       "    <tr style=\"text-align: right;\">\n",
       "      <th></th>\n",
       "      <th>question</th>\n",
       "      <th>dataset</th>\n",
       "      <th>gpt-4.1-nano</th>\n",
       "      <th>gpt-4.1-mini</th>\n",
       "      <th>gpt-4.1</th>\n",
       "    </tr>\n",
       "  </thead>\n",
       "  <tbody>\n",
       "    <tr>\n",
       "      <th>0</th>\n",
       "      <td>Tyler had 15 dogs . Each dog had 5 puppies . H...</td>\n",
       "      <td>train</td>\n",
       "      <td>True</td>\n",
       "      <td>True</td>\n",
       "      <td>True</td>\n",
       "    </tr>\n",
       "    <tr>\n",
       "      <th>1</th>\n",
       "      <td>Steven wants to split a collection of cards in...</td>\n",
       "      <td>train</td>\n",
       "      <td>True</td>\n",
       "      <td>True</td>\n",
       "      <td>True</td>\n",
       "    </tr>\n",
       "    <tr>\n",
       "      <th>2</th>\n",
       "      <td>Katie had 85 files on her computer . She delet...</td>\n",
       "      <td>train</td>\n",
       "      <td>True</td>\n",
       "      <td>True</td>\n",
       "      <td>True</td>\n",
       "    </tr>\n",
       "    <tr>\n",
       "      <th>3</th>\n",
       "      <td>Luna's monthly food budget is equal to 60% of ...</td>\n",
       "      <td>train</td>\n",
       "      <td>False</td>\n",
       "      <td>False</td>\n",
       "      <td>False</td>\n",
       "    </tr>\n",
       "    <tr>\n",
       "      <th>4</th>\n",
       "      <td>James buys 3 dirt bikes for $150 each and 4 of...</td>\n",
       "      <td>train</td>\n",
       "      <td>False</td>\n",
       "      <td>False</td>\n",
       "      <td>False</td>\n",
       "    </tr>\n",
       "    <tr>\n",
       "      <th>...</th>\n",
       "      <td>...</td>\n",
       "      <td>...</td>\n",
       "      <td>...</td>\n",
       "      <td>...</td>\n",
       "      <td>...</td>\n",
       "    </tr>\n",
       "    <tr>\n",
       "      <th>3041</th>\n",
       "      <td>Mike had 34 peaches at his roadside fruit dish...</td>\n",
       "      <td>valid</td>\n",
       "      <td>True</td>\n",
       "      <td>True</td>\n",
       "      <td>True</td>\n",
       "    </tr>\n",
       "    <tr>\n",
       "      <th>3042</th>\n",
       "      <td>Of 96 oranges, half were ripe. If 1/4 of the r...</td>\n",
       "      <td>valid</td>\n",
       "      <td>False</td>\n",
       "      <td>False</td>\n",
       "      <td>False</td>\n",
       "    </tr>\n",
       "    <tr>\n",
       "      <th>3043</th>\n",
       "      <td>Tim had 50 cents . He paid 45 cents for a cand...</td>\n",
       "      <td>valid</td>\n",
       "      <td>True</td>\n",
       "      <td>True</td>\n",
       "      <td>True</td>\n",
       "    </tr>\n",
       "    <tr>\n",
       "      <th>3044</th>\n",
       "      <td>On Sunday Alice bought 4 pints of strawberry i...</td>\n",
       "      <td>valid</td>\n",
       "      <td>True</td>\n",
       "      <td>False</td>\n",
       "      <td>False</td>\n",
       "    </tr>\n",
       "    <tr>\n",
       "      <th>3045</th>\n",
       "      <td>Jesse starts with 78 pencils . He gives 44 to ...</td>\n",
       "      <td>valid</td>\n",
       "      <td>True</td>\n",
       "      <td>True</td>\n",
       "      <td>True</td>\n",
       "    </tr>\n",
       "  </tbody>\n",
       "</table>\n",
       "<p>3046 rows × 5 columns</p>\n",
       "</div>"
      ],
      "text/plain": [
       "                                               question dataset  gpt-4.1-nano  \\\n",
       "0     Tyler had 15 dogs . Each dog had 5 puppies . H...   train          True   \n",
       "1     Steven wants to split a collection of cards in...   train          True   \n",
       "2     Katie had 85 files on her computer . She delet...   train          True   \n",
       "3     Luna's monthly food budget is equal to 60% of ...   train         False   \n",
       "4     James buys 3 dirt bikes for $150 each and 4 of...   train         False   \n",
       "...                                                 ...     ...           ...   \n",
       "3041  Mike had 34 peaches at his roadside fruit dish...   valid          True   \n",
       "3042  Of 96 oranges, half were ripe. If 1/4 of the r...   valid         False   \n",
       "3043  Tim had 50 cents . He paid 45 cents for a cand...   valid          True   \n",
       "3044  On Sunday Alice bought 4 pints of strawberry i...   valid          True   \n",
       "3045  Jesse starts with 78 pencils . He gives 44 to ...   valid          True   \n",
       "\n",
       "      gpt-4.1-mini  gpt-4.1  \n",
       "0             True     True  \n",
       "1             True     True  \n",
       "2             True     True  \n",
       "3            False    False  \n",
       "4            False    False  \n",
       "...            ...      ...  \n",
       "3041          True     True  \n",
       "3042         False    False  \n",
       "3043          True     True  \n",
       "3044         False    False  \n",
       "3045          True     True  \n",
       "\n",
       "[3046 rows x 5 columns]"
      ]
     },
     "execution_count": 94,
     "metadata": {},
     "output_type": "execute_result"
    }
   ],
   "source": [
    "MODELS = [SMALL_MODEL, MEDIUM_MODEL, BIG_MODEL]\n",
    "\n",
    "results_df = pd.DataFrame([\n",
    "    (question, rows[question]['dataset'], \n",
    "        *[rows[question][model] for model in MODELS])\n",
    "    for question in rows.keys()],\n",
    "    columns=['question', 'dataset', *MODELS]\n",
    ")\n",
    "results_df"
   ]
  },
  {
   "cell_type": "code",
   "execution_count": 95,
   "id": "ff639006-d0ef-4697-9888-303be5689740",
   "metadata": {},
   "outputs": [],
   "source": [
    "results_df.to_csv('./data/dataset_mixture_train.csv', index=False)"
   ]
  },
  {
   "cell_type": "code",
   "execution_count": null,
   "id": "13315816-9f7f-4379-9c2e-b047a3e6846d",
   "metadata": {},
   "outputs": [],
   "source": []
  }
 ],
 "metadata": {
  "kernelspec": {
   "display_name": "Python 3 (ipykernel)",
   "language": "python",
   "name": "python3"
  },
  "language_info": {
   "codemirror_mode": {
    "name": "ipython",
    "version": 3
   },
   "file_extension": ".py",
   "mimetype": "text/x-python",
   "name": "python",
   "nbconvert_exporter": "python",
   "pygments_lexer": "ipython3",
   "version": "3.12.3"
  }
 },
 "nbformat": 4,
 "nbformat_minor": 5
}
