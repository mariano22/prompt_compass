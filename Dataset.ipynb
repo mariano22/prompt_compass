{
 "cells": [
  {
   "cell_type": "code",
   "execution_count": 2,
   "id": "0d1ff8df",
   "metadata": {},
   "outputs": [],
   "source": [
    "import random\n",
    "import json\n",
    "import asyncio\n",
    "\n",
    "import pandas as pd\n",
    "from collections import defaultdict\n",
    "from datasets import load_dataset\n",
    "from tqdm.asyncio import tqdm_asyncio\n",
    "import pickle\n",
    "\n",
    "from predictors import *\n",
    "from llm import *\n",
    "from prompts import *\n",
    "from tools import *\n",
    "from evaluations import *\n",
    "\n",
    "BIG_MODEL = \"gpt-4.1\"\n",
    "MEDIUM_MODEL = \"gpt-4.1-mini\"\n",
    "SMALL_MODEL = \"gpt-4.1-nano\"\n",
    "\n",
    "MODELS = [SMALL_MODEL, MEDIUM_MODEL, BIG_MODEL]"
   ]
  },
  {
   "cell_type": "code",
   "execution_count": null,
   "id": "291952d7-5d8d-4cbf-b381-3e31ef85d4de",
   "metadata": {},
   "outputs": [],
   "source": [
    "dataset = load_dataset(\"gsm8k\", \"main\")"
   ]
  },
  {
   "cell_type": "code",
   "execution_count": 3,
   "id": "06960a84",
   "metadata": {},
   "outputs": [
    {
     "data": {
      "application/vnd.jupyter.widget-view+json": {
       "model_id": "464dc60386494181993ed58ca79a4bfb",
       "version_major": 2,
       "version_minor": 0
      },
      "text/plain": [
       "README.md:   0%|          | 0.00/7.44k [00:00<?, ?B/s]"
      ]
     },
     "metadata": {},
     "output_type": "display_data"
    },
    {
     "data": {
      "application/vnd.jupyter.widget-view+json": {
       "model_id": "a6dd0f65b57f4f56bdd42e1d80c9b72f",
       "version_major": 2,
       "version_minor": 0
      },
      "text/plain": [
       "math_qa.py:   0%|          | 0.00/3.25k [00:00<?, ?B/s]"
      ]
     },
     "metadata": {},
     "output_type": "display_data"
    },
    {
     "name": "stdin",
     "output_type": "stream",
     "text": [
      "The repository for allenai/math_qa contains custom code which must be executed to correctly load the dataset. You can inspect the repository content at https://hf.co/datasets/allenai/math_qa.\n",
      "You can avoid this prompt in future by passing the argument `trust_remote_code=True`.\n",
      "\n",
      "Do you wish to run the custom code? [y/N]  y\n"
     ]
    },
    {
     "data": {
      "application/vnd.jupyter.widget-view+json": {
       "model_id": "6609180f18c94864983e615b97692f3f",
       "version_major": 2,
       "version_minor": 0
      },
      "text/plain": [
       "Downloading data:   0%|          | 0.00/7.30M [00:00<?, ?B/s]"
      ]
     },
     "metadata": {},
     "output_type": "display_data"
    },
    {
     "data": {
      "application/vnd.jupyter.widget-view+json": {
       "model_id": "c034a0230a694db1bd93b4d889e8b8f3",
       "version_major": 2,
       "version_minor": 0
      },
      "text/plain": [
       "Generating train split:   0%|          | 0/29837 [00:00<?, ? examples/s]"
      ]
     },
     "metadata": {},
     "output_type": "display_data"
    },
    {
     "data": {
      "application/vnd.jupyter.widget-view+json": {
       "model_id": "86d9af9ee9e34ce796b9e86888a0600f",
       "version_major": 2,
       "version_minor": 0
      },
      "text/plain": [
       "Generating test split:   0%|          | 0/2985 [00:00<?, ? examples/s]"
      ]
     },
     "metadata": {},
     "output_type": "display_data"
    },
    {
     "data": {
      "application/vnd.jupyter.widget-view+json": {
       "model_id": "8f699c4173cc40faab0ac7f025a458f0",
       "version_major": 2,
       "version_minor": 0
      },
      "text/plain": [
       "Generating validation split:   0%|          | 0/4475 [00:00<?, ? examples/s]"
      ]
     },
     "metadata": {},
     "output_type": "display_data"
    }
   ],
   "source": [
    "dataset2 = load_dataset(\"allenai/math_qa\")"
   ]
  },
  {
   "cell_type": "code",
   "execution_count": 5,
   "id": "008102ed-8254-4f4b-ae54-95e257f224ea",
   "metadata": {},
   "outputs": [
    {
     "data": {
      "text/plain": [
       "Dataset({\n",
       "    features: ['Problem', 'Rationale', 'options', 'correct', 'annotated_formula', 'linear_formula', 'category'],\n",
       "    num_rows: 29837\n",
       "})"
      ]
     },
     "execution_count": 5,
     "metadata": {},
     "output_type": "execute_result"
    }
   ],
   "source": [
    "dataset2['train']"
   ]
  },
  {
   "cell_type": "code",
   "execution_count": 7,
   "id": "9fcd330d-aefa-4af4-8ed5-1f7d4461943b",
   "metadata": {},
   "outputs": [
    {
     "data": {
      "text/plain": [
       "\"the banker ' s gain of a certain sum due 3 years hence at 10 % per annum is rs . 36 . what is the present worth ?\""
      ]
     },
     "execution_count": 7,
     "metadata": {},
     "output_type": "execute_result"
    }
   ],
   "source": [
    "dataset2['train'][0]['Problem']"
   ]
  },
  {
   "cell_type": "code",
   "execution_count": 14,
   "id": "05946201-bd3d-4791-a632-ab62151c265e",
   "metadata": {},
   "outputs": [
    {
     "data": {
      "text/plain": [
       "'a ) rs . 400 , b ) rs . 300 , c ) rs . 500 , d ) rs . 350 , e ) none of these'"
      ]
     },
     "execution_count": 14,
     "metadata": {},
     "output_type": "execute_result"
    }
   ],
   "source": [
    "dataset2['train'][0]['options']"
   ]
  },
  {
   "cell_type": "code",
   "execution_count": 6,
   "id": "c5534ca2-4a94-4c77-a5fb-181aa51da4f9",
   "metadata": {},
   "outputs": [],
   "source": [
    "training, validation = build_datasets(dataset, len(dataset['train']), 0.7)"
   ]
  },
  {
   "cell_type": "code",
   "execution_count": 3,
   "id": "5a334ed1-6acb-49ee-82b5-06bcae00136e",
   "metadata": {},
   "outputs": [],
   "source": [
    "training, validation = build_datasets(dataset, 1000, 0.7)"
   ]
  },
  {
   "cell_type": "code",
   "execution_count": 7,
   "id": "6c7f249d-43f7-44f4-8c6b-ee032dd7f32a",
   "metadata": {},
   "outputs": [],
   "source": [
    "ds = {\n",
    "    'train': training,\n",
    "    'valid': validation,\n",
    "}"
   ]
  },
  {
   "cell_type": "code",
   "execution_count": 10,
   "id": "11a6e677-97d5-49db-a3b3-ed5b04d4b15f",
   "metadata": {},
   "outputs": [
    {
     "name": "stderr",
     "output_type": "stream",
     "text": [
      "  1%|▎                                        | 43/5231 [00:02<03:30, 24.63it/s]"
     ]
    },
    {
     "name": "stdout",
     "output_type": "stream",
     "text": [
      "Exception: invalid literal for int() with base 10: \"- Liam's total savings over 2 years\"\n"
     ]
    },
    {
     "name": "stderr",
     "output_type": "stream",
     "text": [
      "  3%|█▎                                      | 173/5231 [00:08<03:31, 23.89it/s]"
     ]
    },
    {
     "name": "stdout",
     "output_type": "stream",
     "text": [
      "Exception: invalid literal for int() with base 10: '2985 - (2985/3 + 2985/3 - 177)'\n"
     ]
    },
    {
     "name": "stderr",
     "output_type": "stream",
     "text": [
      "  4%|█▌                                      | 212/5231 [00:09<03:58, 21.00it/s]"
     ]
    },
    {
     "name": "stdout",
     "output_type": "stream",
     "text": [
      "Exception: invalid literal for int() with base 10: '174 minutes'\n"
     ]
    },
    {
     "name": "stderr",
     "output_type": "stream",
     "text": [
      "  7%|██▊                                     | 362/5231 [00:16<02:59, 27.14it/s]"
     ]
    },
    {
     "name": "stdout",
     "output_type": "stream",
     "text": [
      "Exception: invalid literal for int() with base 10: ' 20  \\n20 * 0'\n"
     ]
    },
    {
     "name": "stderr",
     "output_type": "stream",
     "text": [
      " 10%|███▉                                    | 507/5231 [00:23<03:59, 19.72it/s]"
     ]
    },
    {
     "name": "stdout",
     "output_type": "stream",
     "text": [
      "Exception: invalid literal for int() with base 10: '5200 - 4640'\n"
     ]
    },
    {
     "name": "stderr",
     "output_type": "stream",
     "text": [
      " 16%|██████▍                                 | 848/5231 [00:38<02:34, 28.29it/s]"
     ]
    },
    {
     "name": "stdout",
     "output_type": "stream",
     "text": [
      "Exception: invalid literal for int() with base 10: '100 + 300 + 410'\n"
     ]
    },
    {
     "name": "stderr",
     "output_type": "stream",
     "text": [
      " 21%|████████▏                              | 1090/5231 [00:48<03:14, 21.30it/s]"
     ]
    },
    {
     "name": "stdout",
     "output_type": "stream",
     "text": [
      "Exception: invalid literal for int() with base 10: \" 881\\n\\nConner's total after day two\"\n"
     ]
    },
    {
     "name": "stderr",
     "output_type": "stream",
     "text": [
      " 22%|████████▌                              | 1143/5231 [00:51<03:12, 21.25it/s]"
     ]
    },
    {
     "name": "stdout",
     "output_type": "stream",
     "text": [
      "Exception: invalid literal for int() with base 10: '840 meters'\n"
     ]
    },
    {
     "name": "stderr",
     "output_type": "stream",
     "text": [
      " 23%|████████▉                              | 1198/5231 [00:54<03:30, 19.19it/s]"
     ]
    },
    {
     "name": "stdout",
     "output_type": "stream",
     "text": [
      "Exception: invalid literal for int() with base 10: '£12'\n"
     ]
    },
    {
     "name": "stderr",
     "output_type": "stream",
     "text": [
      " 25%|█████████▌                             | 1287/5231 [00:59<03:43, 17.65it/s]"
     ]
    },
    {
     "name": "stdout",
     "output_type": "stream",
     "text": [
      "Exception: invalid literal for int() with base 10: ' 144 (total apples initially)\\n\\nSusan gave out half'\n"
     ]
    },
    {
     "name": "stderr",
     "output_type": "stream",
     "text": [
      " 25%|█████████▋                             | 1302/5231 [00:59<02:59, 21.87it/s]"
     ]
    },
    {
     "name": "stdout",
     "output_type": "stream",
     "text": [
      "Exception: invalid literal for int() with base 10: '- Total tickets'\n"
     ]
    },
    {
     "name": "stderr",
     "output_type": "stream",
     "text": [
      " 32%|████████████▋                          | 1694/5231 [01:17<02:58, 19.80it/s]"
     ]
    },
    {
     "name": "stdout",
     "output_type": "stream",
     "text": [
      "Exception: invalid literal for int() with base 10: '2 p'\n"
     ]
    },
    {
     "name": "stderr",
     "output_type": "stream",
     "text": [
      " 33%|█████████████                          | 1745/5231 [01:20<02:46, 20.93it/s]"
     ]
    },
    {
     "name": "stdout",
     "output_type": "stream",
     "text": [
      "Exception: invalid literal for int() with base 10: '100 * 0'\n"
     ]
    },
    {
     "name": "stderr",
     "output_type": "stream",
     "text": [
      " 41%|████████████████▏                      | 2164/5231 [01:39<02:33, 20.04it/s]"
     ]
    },
    {
     "name": "stdout",
     "output_type": "stream",
     "text": [
      "Exception: invalid literal for int() with base 10: '220 210'\n"
     ]
    },
    {
     "name": "stderr",
     "output_type": "stream",
     "text": [
      " 43%|████████████████▋                      | 2240/5231 [01:43<02:31, 19.74it/s]"
     ]
    },
    {
     "name": "stdout",
     "output_type": "stream",
     "text": [
      "Exception: invalid literal for int() with base 10: '250 days'\n"
     ]
    },
    {
     "name": "stderr",
     "output_type": "stream",
     "text": [
      " 45%|█████████████████▍                     | 2337/5231 [01:47<02:12, 21.84it/s]"
     ]
    },
    {
     "name": "stdout",
     "output_type": "stream",
     "text": [
      "Exception: invalid literal for int() with base 10: ' 3 pizzas'\n"
     ]
    },
    {
     "name": "stderr",
     "output_type": "stream",
     "text": [
      " 49%|███████████████████▎                   | 2588/5231 [02:00<02:46, 15.87it/s]"
     ]
    },
    {
     "name": "stdout",
     "output_type": "stream",
     "text": [
      "Exception: invalid literal for int() with base 10: '- Cost of latte per day'\n"
     ]
    },
    {
     "name": "stderr",
     "output_type": "stream",
     "text": [
      " 50%|███████████████████▎                   | 2595/5231 [02:00<01:53, 23.15it/s]"
     ]
    },
    {
     "name": "stdout",
     "output_type": "stream",
     "text": [
      "Exception: invalid literal for int() with base 10: '7 * 0'\n"
     ]
    },
    {
     "name": "stderr",
     "output_type": "stream",
     "text": [
      " 54%|█████████████████████                  | 2825/5231 [02:11<01:52, 21.42it/s]"
     ]
    },
    {
     "name": "stdout",
     "output_type": "stream",
     "text": [
      "Exception: invalid literal for int() with base 10: '- Weasels'\n"
     ]
    },
    {
     "name": "stderr",
     "output_type": "stream",
     "text": [
      " 57%|██████████████████████▏                | 2969/5231 [02:18<01:47, 21.10it/s]"
     ]
    },
    {
     "name": "stdout",
     "output_type": "stream",
     "text": [
      "Exception: invalid literal for int() with base 10: '1/3'\n"
     ]
    },
    {
     "name": "stderr",
     "output_type": "stream",
     "text": [
      " 60%|███████████████████████▍               | 3152/5231 [02:27<01:44, 19.87it/s]"
     ]
    },
    {
     "name": "stdout",
     "output_type": "stream",
     "text": [
      "Exception: invalid literal for int() with base 10: ' 30 (candy bars sold on the 6th day)  \\nSequence'\n"
     ]
    },
    {
     "name": "stderr",
     "output_type": "stream",
     "text": [
      " 62%|████████████████████████▏              | 3249/5231 [02:32<01:42, 19.30it/s]"
     ]
    },
    {
     "name": "stdout",
     "output_type": "stream",
     "text": [
      "Exception: invalid literal for int() with base 10: '- Cookies'\n"
     ]
    },
    {
     "name": "stderr",
     "output_type": "stream",
     "text": [
      " 65%|█████████████████████████▏             | 3378/5231 [02:39<01:31, 20.23it/s]"
     ]
    },
    {
     "name": "stdout",
     "output_type": "stream",
     "text": [
      "Exception: invalid literal for int() with base 10: '20 * 1'\n"
     ]
    },
    {
     "name": "stderr",
     "output_type": "stream",
     "text": [
      " 66%|█████████████████████████▋             | 3447/5231 [02:42<01:56, 15.32it/s]"
     ]
    },
    {
     "name": "stdout",
     "output_type": "stream",
     "text": [
      "Exception: invalid literal for int() with base 10: '- Total money from trees'\n"
     ]
    },
    {
     "name": "stderr",
     "output_type": "stream",
     "text": [
      " 66%|█████████████████████████▉             | 3471/5231 [02:44<01:40, 17.50it/s]"
     ]
    },
    {
     "name": "stdout",
     "output_type": "stream",
     "text": [
      "Exception: invalid literal for int() with base 10: '3000 + 17 + (2 * M + 10)'\n"
     ]
    },
    {
     "name": "stderr",
     "output_type": "stream",
     "text": [
      " 71%|███████████████████████████▌           | 3692/5231 [02:55<01:17, 19.75it/s]"
     ]
    },
    {
     "name": "stdout",
     "output_type": "stream",
     "text": [
      "Exception: invalid literal for int() with base 10: '€72'\n"
     ]
    },
    {
     "name": "stderr",
     "output_type": "stream",
     "text": [
      " 72%|████████████████████████████           | 3767/5231 [02:59<01:16, 19.16it/s]"
     ]
    },
    {
     "name": "stdout",
     "output_type": "stream",
     "text": [
      "Exception: invalid literal for int() with base 10: '- Week 1'\n"
     ]
    },
    {
     "name": "stderr",
     "output_type": "stream",
     "text": [
      " 74%|█████████████████████████████          | 3892/5231 [03:06<01:08, 19.44it/s]"
     ]
    },
    {
     "name": "stdout",
     "output_type": "stream",
     "text": [
      "Exception: invalid literal for int() with base 10: '- Total contribution from students'\n"
     ]
    },
    {
     "name": "stderr",
     "output_type": "stream",
     "text": [
      " 83%|████████████████████████████████▍      | 4345/5231 [03:26<00:40, 21.73it/s]"
     ]
    },
    {
     "name": "stdout",
     "output_type": "stream",
     "text": [
      "Exception: invalid literal for int() with base 10: 'June has 30 days with 8 weekend days so 22 weekdays'\n"
     ]
    },
    {
     "name": "stderr",
     "output_type": "stream",
     "text": [
      " 87%|██████████████████████████████████     | 4577/5231 [03:38<00:30, 21.36it/s]"
     ]
    },
    {
     "name": "stdout",
     "output_type": "stream",
     "text": [
      "Exception: invalid literal for int() with base 10: '19 * 1 + 11 * 0'\n"
     ]
    },
    {
     "name": "stderr",
     "output_type": "stream",
     "text": [
      " 92%|███████████████████████████████████▉   | 4813/5231 [03:49<00:20, 20.42it/s]"
     ]
    },
    {
     "name": "stdout",
     "output_type": "stream",
     "text": [
      "Exception: invalid literal for int() with base 10: '- Cost of dolls'\n"
     ]
    },
    {
     "name": "stderr",
     "output_type": "stream",
     "text": [
      " 95%|█████████████████████████████████████▏ | 4989/5231 [03:58<00:14, 17.01it/s]"
     ]
    },
    {
     "name": "stdout",
     "output_type": "stream",
     "text": [
      "Exception: invalid literal for int() with base 10: '- Athletes leaving'\n"
     ]
    },
    {
     "name": "stderr",
     "output_type": "stream",
     "text": [
      " 96%|█████████████████████████████████████▍ | 5024/5231 [04:00<00:10, 20.34it/s]"
     ]
    },
    {
     "name": "stdout",
     "output_type": "stream",
     "text": [
      "Exception: invalid literal for int() with base 10: '\\\\30'\n"
     ]
    },
    {
     "name": "stderr",
     "output_type": "stream",
     "text": [
      " 97%|█████████████████████████████████████▊ | 5065/5231 [04:02<00:07, 21.13it/s]"
     ]
    },
    {
     "name": "stdout",
     "output_type": "stream",
     "text": [
      "Exception: invalid literal for int() with base 10: '143 + 25 + (7 + 7)'\n"
     ]
    },
    {
     "name": "stderr",
     "output_type": "stream",
     "text": [
      " 97%|█████████████████████████████████████▉ | 5088/5231 [04:03<00:06, 22.49it/s]"
     ]
    },
    {
     "name": "stdout",
     "output_type": "stream",
     "text": [
      "Exception: invalid literal for int() with base 10: '4 million'\n"
     ]
    },
    {
     "name": "stderr",
     "output_type": "stream",
     "text": [
      " 98%|██████████████████████████████████████▏| 5128/5231 [04:05<00:05, 17.65it/s]"
     ]
    },
    {
     "name": "stdout",
     "output_type": "stream",
     "text": [
      "Exception: invalid literal for int() with base 10: '\\\\15'\n"
     ]
    },
    {
     "name": "stderr",
     "output_type": "stream",
     "text": [
      "100%|███████████████████████████████████████| 5231/5231 [04:10<00:00, 20.86it/s]\n",
      "  1%|▎                                        | 47/5231 [00:02<04:40, 18.45it/s]"
     ]
    },
    {
     "name": "stdout",
     "output_type": "stream",
     "text": [
      "Exception: invalid literal for int() with base 10: '200 seconds'\n"
     ]
    },
    {
     "name": "stderr",
     "output_type": "stream",
     "text": [
      "  9%|███▌                                    | 474/5231 [00:26<04:50, 16.38it/s]"
     ]
    },
    {
     "name": "stdout",
     "output_type": "stream",
     "text": [
      "Exception: invalid literal for int() with base 10: '400 minutes'\n"
     ]
    },
    {
     "name": "stderr",
     "output_type": "stream",
     "text": [
      " 25%|█████████▋                             | 1296/5231 [02:11<03:15, 20.15it/s]"
     ]
    },
    {
     "name": "stdout",
     "output_type": "stream",
     "text": [
      "Exception: invalid literal for int() with base 10: '68 bolts and 39 nuts'\n"
     ]
    },
    {
     "name": "stderr",
     "output_type": "stream",
     "text": [
      " 28%|███████████                            | 1482/5231 [02:21<03:45, 16.65it/s]"
     ]
    },
    {
     "name": "stdout",
     "output_type": "stream",
     "text": [
      "Exception: invalid literal for int() with base 10: '720/20'\n"
     ]
    },
    {
     "name": "stderr",
     "output_type": "stream",
     "text": [
      " 38%|██████████████▊                        | 1990/5231 [02:51<02:56, 18.32it/s]"
     ]
    },
    {
     "name": "stdout",
     "output_type": "stream",
     "text": [
      "Exception: invalid literal for int() with base 10: '11/12'\n"
     ]
    },
    {
     "name": "stderr",
     "output_type": "stream",
     "text": [
      " 47%|██████████████████▍                    | 2467/5231 [03:17<02:35, 17.75it/s]"
     ]
    },
    {
     "name": "stdout",
     "output_type": "stream",
     "text": [
      "Exception: invalid literal for int() with base 10: '11\\n\\nExplanation'\n"
     ]
    },
    {
     "name": "stderr",
     "output_type": "stream",
     "text": [
      " 52%|████████████████████▎                  | 2721/5231 [03:32<02:35, 16.12it/s]"
     ]
    },
    {
     "name": "stdout",
     "output_type": "stream",
     "text": [
      "Exception: invalid literal for int() with base 10: '5 hours'\n"
     ]
    },
    {
     "name": "stderr",
     "output_type": "stream",
     "text": [
      " 65%|█████████████████████████▍             | 3416/5231 [04:15<01:56, 15.57it/s]"
     ]
    },
    {
     "name": "stdout",
     "output_type": "stream",
     "text": [
      "Exception: invalid literal for int() with base 10: '434 ounces'\n"
     ]
    },
    {
     "name": "stderr",
     "output_type": "stream",
     "text": [
      " 79%|██████████████████████████████▊        | 4140/5231 [04:57<01:02, 17.44it/s]"
     ]
    },
    {
     "name": "stdout",
     "output_type": "stream",
     "text": [
      "Exception: invalid literal for int() with base 10: '11 10'\n"
     ]
    },
    {
     "name": "stderr",
     "output_type": "stream",
     "text": [
      " 88%|██████████████████████████████████▏    | 4582/5231 [05:23<00:36, 17.85it/s]"
     ]
    },
    {
     "name": "stdout",
     "output_type": "stream",
     "text": [
      "Exception: invalid literal for int() with base 10: '121\\n\\nExplanation'\n"
     ]
    },
    {
     "name": "stderr",
     "output_type": "stream",
     "text": [
      "100%|███████████████████████████████████████| 5231/5231 [06:01<00:00, 14.49it/s]\n",
      " 24%|█████████▍                             | 1263/5231 [01:17<03:25, 19.27it/s]"
     ]
    },
    {
     "name": "stdout",
     "output_type": "stream",
     "text": [
      "Exception: invalid literal for int() with base 10: '£11'\n"
     ]
    },
    {
     "name": "stderr",
     "output_type": "stream",
     "text": [
      " 53%|████████████████████▊                  | 2796/5231 [02:54<02:14, 18.04it/s]"
     ]
    },
    {
     "name": "stdout",
     "output_type": "stream",
     "text": [
      "Exception: invalid literal for int() with base 10: '600 1200 1000'\n"
     ]
    },
    {
     "name": "stderr",
     "output_type": "stream",
     "text": [
      " 78%|██████████████████████████████▍        | 4079/5231 [04:15<01:16, 15.04it/s]"
     ]
    },
    {
     "name": "stdout",
     "output_type": "stream",
     "text": [
      "Exception: invalid literal for int() with base 10: '11/24'\n"
     ]
    },
    {
     "name": "stderr",
     "output_type": "stream",
     "text": [
      " 78%|██████████████████████████████▌        | 4097/5231 [04:16<01:00, 18.68it/s]"
     ]
    },
    {
     "name": "stdout",
     "output_type": "stream",
     "text": [
      "Exception: invalid literal for int() with base 10: '15%'\n"
     ]
    },
    {
     "name": "stderr",
     "output_type": "stream",
     "text": [
      " 93%|████████████████████████████████████▍  | 4890/5231 [05:07<00:21, 15.72it/s]"
     ]
    },
    {
     "name": "stdout",
     "output_type": "stream",
     "text": [
      "Exception: invalid literal for int() with base 10: 'William by 2 books'\n"
     ]
    },
    {
     "name": "stderr",
     "output_type": "stream",
     "text": [
      " 94%|████████████████████████████████████▌  | 4898/5231 [05:07<00:20, 16.50it/s]"
     ]
    },
    {
     "name": "stdout",
     "output_type": "stream",
     "text": [
      "Exception: invalid literal for int() with base 10: ' ninety-one'\n"
     ]
    },
    {
     "name": "stderr",
     "output_type": "stream",
     "text": [
      "100%|███████████████████████████████████████| 5231/5231 [05:29<00:00, 15.88it/s]\n",
      " 15%|██████▏                                 | 346/2242 [00:17<01:11, 26.53it/s]"
     ]
    },
    {
     "name": "stdout",
     "output_type": "stream",
     "text": [
      "Exception: invalid literal for int() with base 10: '55%'\n"
     ]
    },
    {
     "name": "stderr",
     "output_type": "stream",
     "text": [
      " 18%|███████▏                                | 406/2242 [00:20<01:36, 18.95it/s]"
     ]
    },
    {
     "name": "stdout",
     "output_type": "stream",
     "text": [
      "Exception: invalid literal for int() with base 10: '(7'\n"
     ]
    },
    {
     "name": "stderr",
     "output_type": "stream",
     "text": [
      " 24%|█████████▊                              | 547/2242 [00:27<01:48, 15.61it/s]"
     ]
    },
    {
     "name": "stdout",
     "output_type": "stream",
     "text": [
      "Exception: invalid literal for int() with base 10: 'orn 3 miles/day for 3 years (from age 13 to 16)'\n"
     ]
    },
    {
     "name": "stderr",
     "output_type": "stream",
     "text": [
      " 40%|███████████████▉                        | 896/2242 [00:43<00:59, 22.56it/s]"
     ]
    },
    {
     "name": "stdout",
     "output_type": "stream",
     "text": [
      "Exception: invalid literal for int() with base 10: ' 4 dollars'\n"
     ]
    },
    {
     "name": "stderr",
     "output_type": "stream",
     "text": [
      " 43%|█████████████████▎                      | 967/2242 [00:46<00:48, 26.38it/s]"
     ]
    },
    {
     "name": "stdout",
     "output_type": "stream",
     "text": [
      "Exception: invalid literal for int() with base 10: '- In the morning she sells 3 dozen cookies'\n",
      "Exception: invalid literal for int() with base 10: '6 pm'\n"
     ]
    },
    {
     "name": "stderr",
     "output_type": "stream",
     "text": [
      " 55%|█████████████████████▎                 | 1223/2242 [00:58<00:47, 21.39it/s]"
     ]
    },
    {
     "name": "stdout",
     "output_type": "stream",
     "text": [
      "Exception: invalid literal for int() with base 10: '3/12'\n"
     ]
    },
    {
     "name": "stderr",
     "output_type": "stream",
     "text": [
      " 55%|█████████████████████▌                 | 1242/2242 [01:00<00:56, 17.60it/s]"
     ]
    },
    {
     "name": "stdout",
     "output_type": "stream",
     "text": [
      "Exception: invalid literal for int() with base 10: '30%'\n"
     ]
    },
    {
     "name": "stderr",
     "output_type": "stream",
     "text": [
      " 59%|██████████████████████▊                | 1314/2242 [01:03<00:55, 16.79it/s]"
     ]
    },
    {
     "name": "stdout",
     "output_type": "stream",
     "text": [
      "Exception: invalid literal for int() with base 10: '83 - (27 + 37)'\n"
     ]
    },
    {
     "name": "stderr",
     "output_type": "stream",
     "text": [
      " 66%|█████████████████████████▌             | 1473/2242 [01:12<00:43, 17.68it/s]"
     ]
    },
    {
     "name": "stdout",
     "output_type": "stream",
     "text": [
      "Exception: invalid literal for int() with base 10: '24 * 0'\n"
     ]
    },
    {
     "name": "stderr",
     "output_type": "stream",
     "text": [
      " 74%|████████████████████████████▊          | 1659/2242 [01:22<00:33, 17.44it/s]"
     ]
    },
    {
     "name": "stdout",
     "output_type": "stream",
     "text": [
      "Exception: invalid literal for int() with base 10: \"- Puppies' total weight\"\n"
     ]
    },
    {
     "name": "stderr",
     "output_type": "stream",
     "text": [
      " 80%|███████████████████████████████▎       | 1800/2242 [01:30<00:22, 19.28it/s]"
     ]
    },
    {
     "name": "stdout",
     "output_type": "stream",
     "text": [
      "Exception: invalid literal for int() with base 10: '150 + (2 * uncle) + 10 + (mum - 5) + 6 + (uncle + 1)'\n"
     ]
    },
    {
     "name": "stderr",
     "output_type": "stream",
     "text": [
      " 84%|████████████████████████████████▋      | 1882/2242 [01:34<00:16, 21.47it/s]"
     ]
    },
    {
     "name": "stdout",
     "output_type": "stream",
     "text": [
      "Exception: invalid literal for int() with base 10: '26 + (3 * 26) + (0'\n"
     ]
    },
    {
     "name": "stderr",
     "output_type": "stream",
     "text": [
      " 90%|██████████████████████████████████▉    | 2010/2242 [01:41<00:09, 23.94it/s]"
     ]
    },
    {
     "name": "stdout",
     "output_type": "stream",
     "text": [
      "Exception: invalid literal for int() with base 10: '174 square feet'\n"
     ]
    },
    {
     "name": "stderr",
     "output_type": "stream",
     "text": [
      "100%|███████████████████████████████████████| 2242/2242 [01:54<00:00, 19.58it/s]\n",
      " 12%|████▊                                   | 272/2242 [00:16<01:38, 19.96it/s]"
     ]
    },
    {
     "name": "stdout",
     "output_type": "stream",
     "text": [
      "Exception: invalid literal for int() with base 10: '95%'\n"
     ]
    },
    {
     "name": "stderr",
     "output_type": "stream",
     "text": [
      " 21%|████████▌                               | 482/2242 [00:31<01:32, 18.96it/s]"
     ]
    },
    {
     "name": "stdout",
     "output_type": "stream",
     "text": [
      "Exception: invalid literal for int() with base 10: '17%'\n"
     ]
    },
    {
     "name": "stderr",
     "output_type": "stream",
     "text": [
      " 47%|██████████████████▍                    | 1063/2242 [01:12<01:22, 14.23it/s]"
     ]
    },
    {
     "name": "stdout",
     "output_type": "stream",
     "text": [
      "Exception: invalid literal for int() with base 10: '7 pm'\n"
     ]
    },
    {
     "name": "stderr",
     "output_type": "stream",
     "text": [
      " 50%|███████████████████▋                   | 1132/2242 [01:16<01:21, 13.69it/s]"
     ]
    },
    {
     "name": "stdout",
     "output_type": "stream",
     "text": [
      "Exception: invalid literal for int() with base 10: '14\\n\\nExplanation'\n"
     ]
    },
    {
     "name": "stderr",
     "output_type": "stream",
     "text": [
      " 56%|█████████████████████▊                 | 1257/2242 [01:24<01:00, 16.28it/s]"
     ]
    },
    {
     "name": "stdout",
     "output_type": "stream",
     "text": [
      "Exception: invalid literal for int() with base 10: '20%'\n"
     ]
    },
    {
     "name": "stderr",
     "output_type": "stream",
     "text": [
      "100%|███████████████████████████████████████| 2242/2242 [02:33<00:00, 14.61it/s]\n",
      " 21%|████████▏                               | 461/2242 [00:32<01:33, 18.97it/s]"
     ]
    },
    {
     "name": "stdout",
     "output_type": "stream",
     "text": [
      "Exception: invalid literal for int() with base 10: '90%'\n"
     ]
    },
    {
     "name": "stderr",
     "output_type": "stream",
     "text": [
      " 45%|█████████████████▍                     | 1005/2242 [01:09<01:07, 18.34it/s]"
     ]
    },
    {
     "name": "stdout",
     "output_type": "stream",
     "text": [
      "Exception: invalid literal for int() with base 10: '7 pm'\n"
     ]
    },
    {
     "name": "stderr",
     "output_type": "stream",
     "text": [
      " 66%|█████████████████████████▌             | 1469/2242 [01:39<00:48, 15.93it/s]"
     ]
    },
    {
     "name": "stdout",
     "output_type": "stream",
     "text": [
      "Exception: invalid literal for int() with base 10: '17%'\n"
     ]
    },
    {
     "name": "stderr",
     "output_type": "stream",
     "text": [
      " 72%|████████████████████████████▏          | 1623/2242 [01:49<00:39, 15.71it/s]"
     ]
    },
    {
     "name": "stdout",
     "output_type": "stream",
     "text": [
      "Exception: invalid literal for int() with base 10: '95%'\n"
     ]
    },
    {
     "name": "stderr",
     "output_type": "stream",
     "text": [
      "100%|███████████████████████████████████████| 2242/2242 [02:28<00:00, 15.08it/s]\n"
     ]
    }
   ],
   "source": [
    "all_results = []\n",
    "for ds_name in ds.keys():\n",
    "    for model in [SMALL_MODEL, MEDIUM_MODEL, BIG_MODEL]:\n",
    "        cfg = configure(model, 'predict_naive')\n",
    "        results = await evaluate(ds[ds_name], *cfg, max_concurrent_requests=10)\n",
    "        \n",
    "        results['metrics'] = calculate_pass_rate(results['results'])\n",
    "        results['model'] = model\n",
    "        results['dataset'] = ds_name\n",
    "        all_results.append(results.copy())"
   ]
  },
  {
   "cell_type": "code",
   "execution_count": 14,
   "id": "a2450e76-6d58-4f95-8eb0-a1b2751f3d65",
   "metadata": {},
   "outputs": [
    {
     "data": {
      "text/html": [
       "<div>\n",
       "<style scoped>\n",
       "    .dataframe tbody tr th:only-of-type {\n",
       "        vertical-align: middle;\n",
       "    }\n",
       "\n",
       "    .dataframe tbody tr th {\n",
       "        vertical-align: top;\n",
       "    }\n",
       "\n",
       "    .dataframe thead th {\n",
       "        text-align: right;\n",
       "    }\n",
       "</style>\n",
       "<table border=\"1\" class=\"dataframe\">\n",
       "  <thead>\n",
       "    <tr style=\"text-align: right;\">\n",
       "      <th></th>\n",
       "      <th>pass_rate</th>\n",
       "      <th>format_error_rate</th>\n",
       "      <th>api_error_rate</th>\n",
       "      <th>model</th>\n",
       "      <th>dataset</th>\n",
       "    </tr>\n",
       "  </thead>\n",
       "  <tbody>\n",
       "    <tr>\n",
       "      <th>0</th>\n",
       "      <td>27.738482</td>\n",
       "      <td>0.688205</td>\n",
       "      <td>0.0</td>\n",
       "      <td>gpt-4.1-nano</td>\n",
       "      <td>train</td>\n",
       "    </tr>\n",
       "    <tr>\n",
       "      <th>1</th>\n",
       "      <td>47.505257</td>\n",
       "      <td>0.191168</td>\n",
       "      <td>0.0</td>\n",
       "      <td>gpt-4.1-mini</td>\n",
       "      <td>train</td>\n",
       "    </tr>\n",
       "    <tr>\n",
       "      <th>2</th>\n",
       "      <td>56.012235</td>\n",
       "      <td>0.114701</td>\n",
       "      <td>0.0</td>\n",
       "      <td>gpt-4.1</td>\n",
       "      <td>train</td>\n",
       "    </tr>\n",
       "    <tr>\n",
       "      <th>3</th>\n",
       "      <td>26.494202</td>\n",
       "      <td>0.624442</td>\n",
       "      <td>0.0</td>\n",
       "      <td>gpt-4.1-nano</td>\n",
       "      <td>valid</td>\n",
       "    </tr>\n",
       "    <tr>\n",
       "      <th>4</th>\n",
       "      <td>46.833185</td>\n",
       "      <td>0.223015</td>\n",
       "      <td>0.0</td>\n",
       "      <td>gpt-4.1-mini</td>\n",
       "      <td>valid</td>\n",
       "    </tr>\n",
       "    <tr>\n",
       "      <th>5</th>\n",
       "      <td>57.270294</td>\n",
       "      <td>0.178412</td>\n",
       "      <td>0.0</td>\n",
       "      <td>gpt-4.1</td>\n",
       "      <td>valid</td>\n",
       "    </tr>\n",
       "  </tbody>\n",
       "</table>\n",
       "</div>"
      ],
      "text/plain": [
       "   pass_rate  format_error_rate  api_error_rate         model dataset\n",
       "0  27.738482           0.688205             0.0  gpt-4.1-nano   train\n",
       "1  47.505257           0.191168             0.0  gpt-4.1-mini   train\n",
       "2  56.012235           0.114701             0.0       gpt-4.1   train\n",
       "3  26.494202           0.624442             0.0  gpt-4.1-nano   valid\n",
       "4  46.833185           0.223015             0.0  gpt-4.1-mini   valid\n",
       "5  57.270294           0.178412             0.0       gpt-4.1   valid"
      ]
     },
     "execution_count": 14,
     "metadata": {},
     "output_type": "execute_result"
    }
   ],
   "source": [
    "rows = [\n",
    "    {\n",
    "        **r['metrics'],\n",
    "        'model': r['model'],\n",
    "        'dataset': r['dataset']\n",
    "    }\n",
    "    for r in all_results\n",
    "]\n",
    "\n",
    "df_metrics = pd.DataFrame(rows)\n",
    "df_metrics"
   ]
  },
  {
   "cell_type": "code",
   "execution_count": 16,
   "id": "0792666f-62b5-4325-9a9d-57c29de3a9c0",
   "metadata": {},
   "outputs": [],
   "source": [
    "with open('./data/all_results_full_naive.pkl', 'wb') as f:\n",
    "    pickle.dump(all_results, f)"
   ]
  },
  {
   "cell_type": "code",
   "execution_count": null,
   "id": "65b59668-a6fb-4bfe-817b-08c36ac0fa59",
   "metadata": {},
   "outputs": [],
   "source": [
    "with open('./data/all_results_full_naive.pkl', 'rb') as f:\n",
    "    all_results = pickle.load(f)"
   ]
  },
  {
   "cell_type": "code",
   "execution_count": 18,
   "id": "95ada281-e04f-4378-89f0-1add17839079",
   "metadata": {},
   "outputs": [],
   "source": [
    "rows = defaultdict(dict)\n",
    "for r in all_results:\n",
    "    ds_name = r['dataset']\n",
    "    model_name = r['model']\n",
    "\n",
    "    for item in r['results']:\n",
    "        question = item['question']\n",
    "        result = item['pass']\n",
    "        rows[question]['dataset'] = ds_name\n",
    "        rows[question][model_name] = result"
   ]
  },
  {
   "cell_type": "code",
   "execution_count": 22,
   "id": "0d8daa7c-1341-4a5d-b0ec-ec91c5e463f5",
   "metadata": {},
   "outputs": [
    {
     "data": {
      "text/html": [
       "<div>\n",
       "<style scoped>\n",
       "    .dataframe tbody tr th:only-of-type {\n",
       "        vertical-align: middle;\n",
       "    }\n",
       "\n",
       "    .dataframe tbody tr th {\n",
       "        vertical-align: top;\n",
       "    }\n",
       "\n",
       "    .dataframe thead th {\n",
       "        text-align: right;\n",
       "    }\n",
       "</style>\n",
       "<table border=\"1\" class=\"dataframe\">\n",
       "  <thead>\n",
       "    <tr style=\"text-align: right;\">\n",
       "      <th></th>\n",
       "      <th>question</th>\n",
       "      <th>dataset</th>\n",
       "      <th>gpt-4.1-nano</th>\n",
       "      <th>gpt-4.1-mini</th>\n",
       "      <th>gpt-4.1</th>\n",
       "    </tr>\n",
       "  </thead>\n",
       "  <tbody>\n",
       "    <tr>\n",
       "      <th>0</th>\n",
       "      <td>Luke is planning a trip to London and wants to...</td>\n",
       "      <td>train</td>\n",
       "      <td>False</td>\n",
       "      <td>False</td>\n",
       "      <td>False</td>\n",
       "    </tr>\n",
       "    <tr>\n",
       "      <th>1</th>\n",
       "      <td>5/8 of shoppers at All Goods Available store p...</td>\n",
       "      <td>train</td>\n",
       "      <td>False</td>\n",
       "      <td>True</td>\n",
       "      <td>True</td>\n",
       "    </tr>\n",
       "    <tr>\n",
       "      <th>2</th>\n",
       "      <td>Rhonda, Sally, and Diane are members of their ...</td>\n",
       "      <td>train</td>\n",
       "      <td>False</td>\n",
       "      <td>False</td>\n",
       "      <td>False</td>\n",
       "    </tr>\n",
       "    <tr>\n",
       "      <th>3</th>\n",
       "      <td>Jim and his Cousin are out at a restaurant. Th...</td>\n",
       "      <td>train</td>\n",
       "      <td>False</td>\n",
       "      <td>False</td>\n",
       "      <td>False</td>\n",
       "    </tr>\n",
       "    <tr>\n",
       "      <th>4</th>\n",
       "      <td>Snap, Crackle, and Pop spend $150 on cereal in...</td>\n",
       "      <td>train</td>\n",
       "      <td>False</td>\n",
       "      <td>False</td>\n",
       "      <td>True</td>\n",
       "    </tr>\n",
       "    <tr>\n",
       "      <th>...</th>\n",
       "      <td>...</td>\n",
       "      <td>...</td>\n",
       "      <td>...</td>\n",
       "      <td>...</td>\n",
       "      <td>...</td>\n",
       "    </tr>\n",
       "    <tr>\n",
       "      <th>7468</th>\n",
       "      <td>Cynthia harvested 67 potatoes from her garden....</td>\n",
       "      <td>valid</td>\n",
       "      <td>False</td>\n",
       "      <td>False</td>\n",
       "      <td>False</td>\n",
       "    </tr>\n",
       "    <tr>\n",
       "      <th>7469</th>\n",
       "      <td>James works for 240 minutes. He takes a water ...</td>\n",
       "      <td>valid</td>\n",
       "      <td>False</td>\n",
       "      <td>True</td>\n",
       "      <td>True</td>\n",
       "    </tr>\n",
       "    <tr>\n",
       "      <th>7470</th>\n",
       "      <td>A school bus traveled for 42 minutes at a spee...</td>\n",
       "      <td>valid</td>\n",
       "      <td>True</td>\n",
       "      <td>True</td>\n",
       "      <td>True</td>\n",
       "    </tr>\n",
       "    <tr>\n",
       "      <th>7471</th>\n",
       "      <td>Barney can perform 45 sit-ups in one minute. C...</td>\n",
       "      <td>valid</td>\n",
       "      <td>False</td>\n",
       "      <td>False</td>\n",
       "      <td>False</td>\n",
       "    </tr>\n",
       "    <tr>\n",
       "      <th>7472</th>\n",
       "      <td>Two hedgehogs found three baskets, each with 9...</td>\n",
       "      <td>valid</td>\n",
       "      <td>False</td>\n",
       "      <td>False</td>\n",
       "      <td>False</td>\n",
       "    </tr>\n",
       "  </tbody>\n",
       "</table>\n",
       "<p>7473 rows × 5 columns</p>\n",
       "</div>"
      ],
      "text/plain": [
       "                                               question dataset  gpt-4.1-nano  \\\n",
       "0     Luke is planning a trip to London and wants to...   train         False   \n",
       "1     5/8 of shoppers at All Goods Available store p...   train         False   \n",
       "2     Rhonda, Sally, and Diane are members of their ...   train         False   \n",
       "3     Jim and his Cousin are out at a restaurant. Th...   train         False   \n",
       "4     Snap, Crackle, and Pop spend $150 on cereal in...   train         False   \n",
       "...                                                 ...     ...           ...   \n",
       "7468  Cynthia harvested 67 potatoes from her garden....   valid         False   \n",
       "7469  James works for 240 minutes. He takes a water ...   valid         False   \n",
       "7470  A school bus traveled for 42 minutes at a spee...   valid          True   \n",
       "7471  Barney can perform 45 sit-ups in one minute. C...   valid         False   \n",
       "7472  Two hedgehogs found three baskets, each with 9...   valid         False   \n",
       "\n",
       "      gpt-4.1-mini  gpt-4.1  \n",
       "0            False    False  \n",
       "1             True     True  \n",
       "2            False    False  \n",
       "3            False    False  \n",
       "4            False     True  \n",
       "...            ...      ...  \n",
       "7468         False    False  \n",
       "7469          True     True  \n",
       "7470          True     True  \n",
       "7471         False    False  \n",
       "7472         False    False  \n",
       "\n",
       "[7473 rows x 5 columns]"
      ]
     },
     "execution_count": 22,
     "metadata": {},
     "output_type": "execute_result"
    }
   ],
   "source": [
    "results_df = pd.DataFrame([\n",
    "    (question, rows[question]['dataset'], \n",
    "        *[rows[question][model] for model in MODELS])\n",
    "    for question in rows.keys()],\n",
    "    columns=['question', 'dataset', *MODELS]\n",
    ")\n",
    "results_df"
   ]
  },
  {
   "cell_type": "code",
   "execution_count": 23,
   "id": "8b447286-64f3-4b0c-9946-53805b913c2a",
   "metadata": {},
   "outputs": [],
   "source": [
    "results_df.to_csv('./data/dataset_train.csv', index=False)"
   ]
  },
  {
   "cell_type": "code",
   "execution_count": null,
   "id": "5e1a6e7c-a359-443a-9ea5-c0bf0a5069fd",
   "metadata": {},
   "outputs": [],
   "source": []
  }
 ],
 "metadata": {
  "kernelspec": {
   "display_name": "Python 3 (ipykernel)",
   "language": "python",
   "name": "python3"
  },
  "language_info": {
   "codemirror_mode": {
    "name": "ipython",
    "version": 3
   },
   "file_extension": ".py",
   "mimetype": "text/x-python",
   "name": "python",
   "nbconvert_exporter": "python",
   "pygments_lexer": "ipython3",
   "version": "3.12.3"
  }
 },
 "nbformat": 4,
 "nbformat_minor": 5
}
